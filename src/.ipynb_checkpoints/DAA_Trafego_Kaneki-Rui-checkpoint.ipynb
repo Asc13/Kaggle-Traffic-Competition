{
 "cells": [
  {
   "cell_type": "code",
   "execution_count": 1,
   "metadata": {
    "id": "IxwvSJ_F_YFj"
   },
   "outputs": [],
   "source": [
    "import numpy as np\n",
    "import pandas as pd\n",
    "import seaborn as sns\n",
    "import re\n",
    "from datetime import *\n",
    "from sklearn.feature_selection import SelectKBest\n",
    "import matplotlib.pyplot as plt\n",
    "from sklearn.experimental import enable_halving_search_cv\n",
    "from sklearn.model_selection import HalvingGridSearchCV, train_test_split, GridSearchCV\n",
    "from sklearn.ensemble import RandomForestClassifier\n",
    "from sklearn.linear_model import *\n",
    "from sklearn.tree import *\n",
    "from sklearn.metrics import *\n",
    "from sklearn.svm import *\n",
    "from sklearn.feature_selection import chi2\n",
    "from sklearn.preprocessing import StandardScaler\n",
    "from sklearn.preprocessing import MinMaxScaler\n",
    "from sklearn import preprocessing\n",
    "from scipy.stats import chi2_contingency\n",
    "import tensorflow.keras.utils \n",
    "import tensorflow as tf\n",
    "from tensorflow.keras.constraints import MaxNorm\n",
    "from tensorflow.keras.optimizers import *\n",
    "from tensorflow.keras.models import Sequential\n",
    "from tensorflow.keras.layers import Dense, Dropout, BatchNormalization\n",
    "from tensorflow.keras.wrappers.scikit_learn import KerasClassifier\n",
    "from sklearn.model_selection import KFold\n",
    "#from xgboost.sklearn import XGBClassifier"
   ]
  },
  {
   "cell_type": "code",
   "execution_count": 2,
   "metadata": {
    "colab": {
     "base_uri": "https://localhost:8080/",
     "height": 313
    },
    "id": "G1WpdlfV_hxH",
    "outputId": "31ad661e-9844-4ca6-99dd-1a6e8cb0b51e"
   },
   "outputs": [
    {
     "data": {
      "text/html": [
       "<div>\n",
       "<style scoped>\n",
       "    .dataframe tbody tr th:only-of-type {\n",
       "        vertical-align: middle;\n",
       "    }\n",
       "\n",
       "    .dataframe tbody tr th {\n",
       "        vertical-align: top;\n",
       "    }\n",
       "\n",
       "    .dataframe thead th {\n",
       "        text-align: right;\n",
       "    }\n",
       "</style>\n",
       "<table border=\"1\" class=\"dataframe\">\n",
       "  <thead>\n",
       "    <tr style=\"text-align: right;\">\n",
       "      <th></th>\n",
       "      <th>city_name</th>\n",
       "      <th>record_date</th>\n",
       "      <th>AVERAGE_SPEED_DIFF</th>\n",
       "      <th>AVERAGE_FREE_FLOW_SPEED</th>\n",
       "      <th>AVERAGE_TIME_DIFF</th>\n",
       "      <th>AVERAGE_FREE_FLOW_TIME</th>\n",
       "      <th>LUMINOSITY</th>\n",
       "      <th>AVERAGE_TEMPERATURE</th>\n",
       "      <th>AVERAGE_ATMOSP_PRESSURE</th>\n",
       "      <th>AVERAGE_HUMIDITY</th>\n",
       "      <th>AVERAGE_WIND_SPEED</th>\n",
       "      <th>AVERAGE_CLOUDINESS</th>\n",
       "      <th>AVERAGE_PRECIPITATION</th>\n",
       "      <th>AVERAGE_RAIN</th>\n",
       "    </tr>\n",
       "  </thead>\n",
       "  <tbody>\n",
       "    <tr>\n",
       "      <th>0</th>\n",
       "      <td>Porto</td>\n",
       "      <td>2019-08-29 07:00:00</td>\n",
       "      <td>Medium</td>\n",
       "      <td>41.5</td>\n",
       "      <td>11.5</td>\n",
       "      <td>71.4</td>\n",
       "      <td>LIGHT</td>\n",
       "      <td>15.0</td>\n",
       "      <td>1019.0</td>\n",
       "      <td>100.0</td>\n",
       "      <td>3.0</td>\n",
       "      <td>NaN</td>\n",
       "      <td>0.0</td>\n",
       "      <td>NaN</td>\n",
       "    </tr>\n",
       "    <tr>\n",
       "      <th>1</th>\n",
       "      <td>Porto</td>\n",
       "      <td>2018-08-10 14:00:00</td>\n",
       "      <td>High</td>\n",
       "      <td>41.7</td>\n",
       "      <td>48.3</td>\n",
       "      <td>87.4</td>\n",
       "      <td>LIGHT</td>\n",
       "      <td>21.0</td>\n",
       "      <td>1021.0</td>\n",
       "      <td>53.0</td>\n",
       "      <td>5.0</td>\n",
       "      <td>c�u claro</td>\n",
       "      <td>0.0</td>\n",
       "      <td>NaN</td>\n",
       "    </tr>\n",
       "    <tr>\n",
       "      <th>2</th>\n",
       "      <td>Porto</td>\n",
       "      <td>2019-09-01 16:00:00</td>\n",
       "      <td>High</td>\n",
       "      <td>38.6</td>\n",
       "      <td>38.4</td>\n",
       "      <td>85.2</td>\n",
       "      <td>LIGHT</td>\n",
       "      <td>26.0</td>\n",
       "      <td>1014.0</td>\n",
       "      <td>61.0</td>\n",
       "      <td>4.0</td>\n",
       "      <td>NaN</td>\n",
       "      <td>0.0</td>\n",
       "      <td>NaN</td>\n",
       "    </tr>\n",
       "    <tr>\n",
       "      <th>3</th>\n",
       "      <td>Porto</td>\n",
       "      <td>2019-02-26 11:00:00</td>\n",
       "      <td>High</td>\n",
       "      <td>37.4</td>\n",
       "      <td>61.0</td>\n",
       "      <td>94.1</td>\n",
       "      <td>LIGHT</td>\n",
       "      <td>18.0</td>\n",
       "      <td>1025.0</td>\n",
       "      <td>48.0</td>\n",
       "      <td>4.0</td>\n",
       "      <td>c�u claro</td>\n",
       "      <td>0.0</td>\n",
       "      <td>NaN</td>\n",
       "    </tr>\n",
       "    <tr>\n",
       "      <th>4</th>\n",
       "      <td>Porto</td>\n",
       "      <td>2019-06-06 12:00:00</td>\n",
       "      <td>Medium</td>\n",
       "      <td>41.6</td>\n",
       "      <td>50.4</td>\n",
       "      <td>77.0</td>\n",
       "      <td>LIGHT</td>\n",
       "      <td>15.0</td>\n",
       "      <td>1008.0</td>\n",
       "      <td>82.0</td>\n",
       "      <td>10.0</td>\n",
       "      <td>NaN</td>\n",
       "      <td>0.0</td>\n",
       "      <td>NaN</td>\n",
       "    </tr>\n",
       "  </tbody>\n",
       "</table>\n",
       "</div>"
      ],
      "text/plain": [
       "  city_name          record_date AVERAGE_SPEED_DIFF  AVERAGE_FREE_FLOW_SPEED  \\\n",
       "0     Porto  2019-08-29 07:00:00             Medium                     41.5   \n",
       "1     Porto  2018-08-10 14:00:00               High                     41.7   \n",
       "2     Porto  2019-09-01 16:00:00               High                     38.6   \n",
       "3     Porto  2019-02-26 11:00:00               High                     37.4   \n",
       "4     Porto  2019-06-06 12:00:00             Medium                     41.6   \n",
       "\n",
       "   AVERAGE_TIME_DIFF  AVERAGE_FREE_FLOW_TIME LUMINOSITY  AVERAGE_TEMPERATURE  \\\n",
       "0               11.5                    71.4      LIGHT                 15.0   \n",
       "1               48.3                    87.4      LIGHT                 21.0   \n",
       "2               38.4                    85.2      LIGHT                 26.0   \n",
       "3               61.0                    94.1      LIGHT                 18.0   \n",
       "4               50.4                    77.0      LIGHT                 15.0   \n",
       "\n",
       "   AVERAGE_ATMOSP_PRESSURE  AVERAGE_HUMIDITY  AVERAGE_WIND_SPEED  \\\n",
       "0                   1019.0             100.0                 3.0   \n",
       "1                   1021.0              53.0                 5.0   \n",
       "2                   1014.0              61.0                 4.0   \n",
       "3                   1025.0              48.0                 4.0   \n",
       "4                   1008.0              82.0                10.0   \n",
       "\n",
       "  AVERAGE_CLOUDINESS  AVERAGE_PRECIPITATION AVERAGE_RAIN  \n",
       "0                NaN                    0.0          NaN  \n",
       "1          c�u claro                    0.0          NaN  \n",
       "2                NaN                    0.0          NaN  \n",
       "3          c�u claro                    0.0          NaN  \n",
       "4                NaN                    0.0          NaN  "
      ]
     },
     "execution_count": 2,
     "metadata": {},
     "output_type": "execute_result"
    }
   ],
   "source": [
    "df_training = pd.read_csv('../datasets/training_data.csv')\n",
    "df_training.head()"
   ]
  },
  {
   "cell_type": "markdown",
   "metadata": {},
   "source": [
    "# $\\textbf{Integração de dados de estado do tempo}$"
   ]
  },
  {
   "cell_type": "code",
   "execution_count": 14,
   "metadata": {},
   "outputs": [],
   "source": [
    "df_weather = pd.read_csv('../datasets/Weather.csv')"
   ]
  },
  {
   "cell_type": "code",
   "execution_count": 15,
   "metadata": {},
   "outputs": [
    {
     "name": "stdout",
     "output_type": "stream",
     "text": [
      "datetime      0.000000\n",
      "temp          0.000000\n",
      "feelslike     0.000000\n",
      "dew           0.000000\n",
      "humidity      0.000000\n",
      "precip        5.428082\n",
      "windspeed     0.000000\n",
      "winddir       0.028539\n",
      "cloudcover    0.005708\n",
      "visibility    0.028539\n",
      "uvindex       0.000000\n",
      "conditions    0.000000\n",
      "dtype: float64\n"
     ]
    }
   ],
   "source": [
    "df_weather = df_weather.drop(['name', 'windgust', 'snow', 'precipprob', 'icon', 'snowdepth', 'sealevelpressure', 'preciptype', 'solarradiation', 'solarenergy', 'severerisk', 'stations'], axis = 1)\n",
    "\n",
    "#Percentagem de missing values\n",
    "print(df_weather.isna().sum()*100/len(df_weather))"
   ]
  },
  {
   "cell_type": "code",
   "execution_count": 16,
   "metadata": {},
   "outputs": [
    {
     "data": {
      "text/html": [
       "<div>\n",
       "<style scoped>\n",
       "    .dataframe tbody tr th:only-of-type {\n",
       "        vertical-align: middle;\n",
       "    }\n",
       "\n",
       "    .dataframe tbody tr th {\n",
       "        vertical-align: top;\n",
       "    }\n",
       "\n",
       "    .dataframe thead th {\n",
       "        text-align: right;\n",
       "    }\n",
       "</style>\n",
       "<table border=\"1\" class=\"dataframe\">\n",
       "  <thead>\n",
       "    <tr style=\"text-align: right;\">\n",
       "      <th></th>\n",
       "      <th>datetime</th>\n",
       "      <th>temp</th>\n",
       "      <th>feelslike</th>\n",
       "      <th>dew</th>\n",
       "      <th>humidity</th>\n",
       "      <th>precip</th>\n",
       "      <th>windspeed</th>\n",
       "      <th>winddir</th>\n",
       "      <th>cloudcover</th>\n",
       "      <th>visibility</th>\n",
       "      <th>uvindex</th>\n",
       "      <th>conditions</th>\n",
       "    </tr>\n",
       "  </thead>\n",
       "  <tbody>\n",
       "    <tr>\n",
       "      <th>0</th>\n",
       "      <td>2018-01-01T00:00:00</td>\n",
       "      <td>9.6</td>\n",
       "      <td>8.3</td>\n",
       "      <td>8.6</td>\n",
       "      <td>93.41</td>\n",
       "      <td>0.0</td>\n",
       "      <td>9.0</td>\n",
       "      <td>202.0</td>\n",
       "      <td>44.3</td>\n",
       "      <td>9.8</td>\n",
       "      <td>0</td>\n",
       "      <td>Partially cloudy</td>\n",
       "    </tr>\n",
       "    <tr>\n",
       "      <th>1</th>\n",
       "      <td>2018-01-01T01:00:00</td>\n",
       "      <td>8.7</td>\n",
       "      <td>7.1</td>\n",
       "      <td>7.7</td>\n",
       "      <td>92.92</td>\n",
       "      <td>0.0</td>\n",
       "      <td>10.4</td>\n",
       "      <td>128.0</td>\n",
       "      <td>46.2</td>\n",
       "      <td>8.9</td>\n",
       "      <td>0</td>\n",
       "      <td>Partially cloudy</td>\n",
       "    </tr>\n",
       "    <tr>\n",
       "      <th>2</th>\n",
       "      <td>2018-01-01T02:00:00</td>\n",
       "      <td>8.7</td>\n",
       "      <td>6.8</td>\n",
       "      <td>7.7</td>\n",
       "      <td>93.50</td>\n",
       "      <td>0.0</td>\n",
       "      <td>12.0</td>\n",
       "      <td>120.0</td>\n",
       "      <td>46.2</td>\n",
       "      <td>9.8</td>\n",
       "      <td>0</td>\n",
       "      <td>Partially cloudy</td>\n",
       "    </tr>\n",
       "    <tr>\n",
       "      <th>3</th>\n",
       "      <td>2018-01-01T03:00:00</td>\n",
       "      <td>7.8</td>\n",
       "      <td>5.9</td>\n",
       "      <td>6.9</td>\n",
       "      <td>93.92</td>\n",
       "      <td>0.0</td>\n",
       "      <td>10.9</td>\n",
       "      <td>133.0</td>\n",
       "      <td>79.9</td>\n",
       "      <td>9.9</td>\n",
       "      <td>0</td>\n",
       "      <td>Partially cloudy</td>\n",
       "    </tr>\n",
       "    <tr>\n",
       "      <th>4</th>\n",
       "      <td>2018-01-01T04:00:00</td>\n",
       "      <td>9.6</td>\n",
       "      <td>7.5</td>\n",
       "      <td>8.6</td>\n",
       "      <td>93.67</td>\n",
       "      <td>0.0</td>\n",
       "      <td>14.1</td>\n",
       "      <td>185.0</td>\n",
       "      <td>81.8</td>\n",
       "      <td>8.1</td>\n",
       "      <td>0</td>\n",
       "      <td>Partially cloudy</td>\n",
       "    </tr>\n",
       "    <tr>\n",
       "      <th>...</th>\n",
       "      <td>...</td>\n",
       "      <td>...</td>\n",
       "      <td>...</td>\n",
       "      <td>...</td>\n",
       "      <td>...</td>\n",
       "      <td>...</td>\n",
       "      <td>...</td>\n",
       "      <td>...</td>\n",
       "      <td>...</td>\n",
       "      <td>...</td>\n",
       "      <td>...</td>\n",
       "      <td>...</td>\n",
       "    </tr>\n",
       "    <tr>\n",
       "      <th>17515</th>\n",
       "      <td>2019-12-31T19:00:00</td>\n",
       "      <td>7.1</td>\n",
       "      <td>7.1</td>\n",
       "      <td>7.0</td>\n",
       "      <td>99.46</td>\n",
       "      <td>0.0</td>\n",
       "      <td>1.8</td>\n",
       "      <td>346.0</td>\n",
       "      <td>0.0</td>\n",
       "      <td>5.0</td>\n",
       "      <td>0</td>\n",
       "      <td>Clear</td>\n",
       "    </tr>\n",
       "    <tr>\n",
       "      <th>17516</th>\n",
       "      <td>2019-12-31T20:00:00</td>\n",
       "      <td>6.1</td>\n",
       "      <td>6.1</td>\n",
       "      <td>6.0</td>\n",
       "      <td>99.28</td>\n",
       "      <td>0.0</td>\n",
       "      <td>3.5</td>\n",
       "      <td>343.0</td>\n",
       "      <td>26.2</td>\n",
       "      <td>4.0</td>\n",
       "      <td>0</td>\n",
       "      <td>Partially cloudy</td>\n",
       "    </tr>\n",
       "    <tr>\n",
       "      <th>17517</th>\n",
       "      <td>2019-12-31T21:00:00</td>\n",
       "      <td>6.0</td>\n",
       "      <td>6.0</td>\n",
       "      <td>6.0</td>\n",
       "      <td>99.57</td>\n",
       "      <td>0.0</td>\n",
       "      <td>3.5</td>\n",
       "      <td>55.0</td>\n",
       "      <td>26.2</td>\n",
       "      <td>2.0</td>\n",
       "      <td>0</td>\n",
       "      <td>Partially cloudy</td>\n",
       "    </tr>\n",
       "    <tr>\n",
       "      <th>17518</th>\n",
       "      <td>2019-12-31T22:00:00</td>\n",
       "      <td>6.0</td>\n",
       "      <td>6.0</td>\n",
       "      <td>6.0</td>\n",
       "      <td>99.71</td>\n",
       "      <td>0.0</td>\n",
       "      <td>0.0</td>\n",
       "      <td>360.0</td>\n",
       "      <td>34.5</td>\n",
       "      <td>5.0</td>\n",
       "      <td>0</td>\n",
       "      <td>Partially cloudy</td>\n",
       "    </tr>\n",
       "    <tr>\n",
       "      <th>17519</th>\n",
       "      <td>2019-12-31T23:00:00</td>\n",
       "      <td>6.0</td>\n",
       "      <td>3.7</td>\n",
       "      <td>5.1</td>\n",
       "      <td>93.60</td>\n",
       "      <td>0.0</td>\n",
       "      <td>10.9</td>\n",
       "      <td>108.0</td>\n",
       "      <td>34.5</td>\n",
       "      <td>5.0</td>\n",
       "      <td>0</td>\n",
       "      <td>Partially cloudy</td>\n",
       "    </tr>\n",
       "  </tbody>\n",
       "</table>\n",
       "<p>17520 rows × 12 columns</p>\n",
       "</div>"
      ],
      "text/plain": [
       "                  datetime  temp  feelslike  dew  humidity  precip  windspeed  \\\n",
       "0      2018-01-01T00:00:00   9.6        8.3  8.6     93.41     0.0        9.0   \n",
       "1      2018-01-01T01:00:00   8.7        7.1  7.7     92.92     0.0       10.4   \n",
       "2      2018-01-01T02:00:00   8.7        6.8  7.7     93.50     0.0       12.0   \n",
       "3      2018-01-01T03:00:00   7.8        5.9  6.9     93.92     0.0       10.9   \n",
       "4      2018-01-01T04:00:00   9.6        7.5  8.6     93.67     0.0       14.1   \n",
       "...                    ...   ...        ...  ...       ...     ...        ...   \n",
       "17515  2019-12-31T19:00:00   7.1        7.1  7.0     99.46     0.0        1.8   \n",
       "17516  2019-12-31T20:00:00   6.1        6.1  6.0     99.28     0.0        3.5   \n",
       "17517  2019-12-31T21:00:00   6.0        6.0  6.0     99.57     0.0        3.5   \n",
       "17518  2019-12-31T22:00:00   6.0        6.0  6.0     99.71     0.0        0.0   \n",
       "17519  2019-12-31T23:00:00   6.0        3.7  5.1     93.60     0.0       10.9   \n",
       "\n",
       "       winddir  cloudcover  visibility  uvindex        conditions  \n",
       "0        202.0        44.3         9.8        0  Partially cloudy  \n",
       "1        128.0        46.2         8.9        0  Partially cloudy  \n",
       "2        120.0        46.2         9.8        0  Partially cloudy  \n",
       "3        133.0        79.9         9.9        0  Partially cloudy  \n",
       "4        185.0        81.8         8.1        0  Partially cloudy  \n",
       "...        ...         ...         ...      ...               ...  \n",
       "17515    346.0         0.0         5.0        0             Clear  \n",
       "17516    343.0        26.2         4.0        0  Partially cloudy  \n",
       "17517     55.0        26.2         2.0        0  Partially cloudy  \n",
       "17518    360.0        34.5         5.0        0  Partially cloudy  \n",
       "17519    108.0        34.5         5.0        0  Partially cloudy  \n",
       "\n",
       "[17520 rows x 12 columns]"
      ]
     },
     "execution_count": 16,
     "metadata": {},
     "output_type": "execute_result"
    }
   ],
   "source": [
    "df_weather.fillna(0)"
   ]
  },
  {
   "cell_type": "markdown",
   "metadata": {},
   "source": [
    "# $\\textbf{Conjugação com o Dataset do tráfego}$"
   ]
  },
  {
   "cell_type": "code",
   "execution_count": 21,
   "metadata": {},
   "outputs": [
    {
     "ename": "AttributeError",
     "evalue": "type object 'datetime.datetime' has no attribute 'fromisoformat'",
     "output_type": "error",
     "traceback": [
      "\u001b[0;31m---------------------------------------------------------------------------\u001b[0m",
      "\u001b[0;31mAttributeError\u001b[0m                            Traceback (most recent call last)",
      "\u001b[0;32m<ipython-input-21-87637322b3e7>\u001b[0m in \u001b[0;36m<module>\u001b[0;34m\u001b[0m\n\u001b[1;32m      1\u001b[0m \u001b[0;32mfor\u001b[0m \u001b[0mindex\u001b[0m\u001b[0;34m,\u001b[0m \u001b[0mvalues\u001b[0m \u001b[0;32min\u001b[0m \u001b[0mdf_weather\u001b[0m\u001b[0;34m.\u001b[0m\u001b[0miterrows\u001b[0m\u001b[0;34m(\u001b[0m\u001b[0;34m)\u001b[0m\u001b[0;34m:\u001b[0m\u001b[0;34m\u001b[0m\u001b[0;34m\u001b[0m\u001b[0m\n\u001b[0;32m----> 2\u001b[0;31m     \u001b[0mdf_weather\u001b[0m\u001b[0;34m.\u001b[0m\u001b[0mloc\u001b[0m\u001b[0;34m[\u001b[0m\u001b[0mdf_weather\u001b[0m\u001b[0;34m.\u001b[0m\u001b[0mindex\u001b[0m\u001b[0;34m[\u001b[0m\u001b[0mindex\u001b[0m\u001b[0;34m]\u001b[0m\u001b[0;34m,\u001b[0m \u001b[0;34m'datetime'\u001b[0m\u001b[0;34m]\u001b[0m \u001b[0;34m=\u001b[0m \u001b[0mdatetime\u001b[0m\u001b[0;34m.\u001b[0m\u001b[0mfromisoformat\u001b[0m\u001b[0;34m(\u001b[0m\u001b[0mvalues\u001b[0m\u001b[0;34m[\u001b[0m\u001b[0;34m'datetime'\u001b[0m\u001b[0;34m]\u001b[0m\u001b[0;34m[\u001b[0m\u001b[0;34m:\u001b[0m\u001b[0;34m-\u001b[0m\u001b[0;36m3\u001b[0m\u001b[0;34m]\u001b[0m\u001b[0;34m)\u001b[0m\u001b[0;34m.\u001b[0m\u001b[0mstrftime\u001b[0m\u001b[0;34m(\u001b[0m\u001b[0;34m'%Y-%m-%d %H:%M:%S'\u001b[0m\u001b[0;34m)\u001b[0m\u001b[0;34m\u001b[0m\u001b[0;34m\u001b[0m\u001b[0m\n\u001b[0m\u001b[1;32m      3\u001b[0m \u001b[0;34m\u001b[0m\u001b[0m\n",
      "\u001b[0;31mAttributeError\u001b[0m: type object 'datetime.datetime' has no attribute 'fromisoformat'"
     ]
    }
   ],
   "source": [
    "for index, values in df_weather.iterrows():\n",
    "    df_weather.loc[df_weather.index[index], 'datetime'] = datetime.fromisoformat(values['datetime'][:-3]).strftime('%Y-%m-%d %H:%M:%S')\n",
    "   "
   ]
  },
  {
   "cell_type": "code",
   "execution_count": 10,
   "metadata": {},
   "outputs": [
    {
     "ename": "KeyboardInterrupt",
     "evalue": "",
     "output_type": "error",
     "traceback": [
      "\u001b[0;31m---------------------------------------------------------------------------\u001b[0m",
      "\u001b[0;31mKeyboardInterrupt\u001b[0m                         Traceback (most recent call last)",
      "\u001b[0;32m<ipython-input-10-62e0742f66e5>\u001b[0m in \u001b[0;36m<module>\u001b[0;34m\u001b[0m\n\u001b[1;32m      5\u001b[0m     \u001b[0mi\u001b[0m \u001b[0;34m=\u001b[0m \u001b[0mdf_training\u001b[0m\u001b[0;34m.\u001b[0m\u001b[0mloc\u001b[0m\u001b[0;34m[\u001b[0m\u001b[0mdf_training\u001b[0m\u001b[0;34m[\u001b[0m\u001b[0;34m'record_date'\u001b[0m\u001b[0;34m]\u001b[0m \u001b[0;34m==\u001b[0m \u001b[0mvalues\u001b[0m\u001b[0;34m[\u001b[0m\u001b[0;34m'datetime'\u001b[0m\u001b[0;34m]\u001b[0m\u001b[0;34m]\u001b[0m\u001b[0;34m.\u001b[0m\u001b[0mindex\u001b[0m\u001b[0;34m\u001b[0m\u001b[0;34m\u001b[0m\u001b[0m\n\u001b[1;32m      6\u001b[0m     \u001b[0;32mfor\u001b[0m \u001b[0mcol\u001b[0m \u001b[0;32min\u001b[0m \u001b[0mcols\u001b[0m\u001b[0;34m:\u001b[0m\u001b[0;34m\u001b[0m\u001b[0;34m\u001b[0m\u001b[0m\n\u001b[0;32m----> 7\u001b[0;31m         \u001b[0mdf_training\u001b[0m\u001b[0;34m.\u001b[0m\u001b[0mloc\u001b[0m\u001b[0;34m[\u001b[0m\u001b[0mdf_training\u001b[0m\u001b[0;34m.\u001b[0m\u001b[0mindex\u001b[0m\u001b[0;34m[\u001b[0m\u001b[0mi\u001b[0m\u001b[0;34m]\u001b[0m\u001b[0;34m,\u001b[0m \u001b[0mcol\u001b[0m\u001b[0;34m]\u001b[0m \u001b[0;34m=\u001b[0m \u001b[0mvalues\u001b[0m\u001b[0;34m[\u001b[0m\u001b[0mcol\u001b[0m\u001b[0;34m]\u001b[0m\u001b[0;34m\u001b[0m\u001b[0;34m\u001b[0m\u001b[0m\n\u001b[0m",
      "\u001b[0;32m~/anaconda3/envs/daa/lib/python3.6/site-packages/pandas/core/indexing.py\u001b[0m in \u001b[0;36m__setitem__\u001b[0;34m(self, key, value)\u001b[0m\n\u001b[1;32m    664\u001b[0m         \u001b[0;32melse\u001b[0m\u001b[0;34m:\u001b[0m\u001b[0;34m\u001b[0m\u001b[0;34m\u001b[0m\u001b[0m\n\u001b[1;32m    665\u001b[0m             \u001b[0mkey\u001b[0m \u001b[0;34m=\u001b[0m \u001b[0mcom\u001b[0m\u001b[0;34m.\u001b[0m\u001b[0mapply_if_callable\u001b[0m\u001b[0;34m(\u001b[0m\u001b[0mkey\u001b[0m\u001b[0;34m,\u001b[0m \u001b[0mself\u001b[0m\u001b[0;34m.\u001b[0m\u001b[0mobj\u001b[0m\u001b[0;34m)\u001b[0m\u001b[0;34m\u001b[0m\u001b[0;34m\u001b[0m\u001b[0m\n\u001b[0;32m--> 666\u001b[0;31m         \u001b[0mindexer\u001b[0m \u001b[0;34m=\u001b[0m \u001b[0mself\u001b[0m\u001b[0;34m.\u001b[0m\u001b[0m_get_setitem_indexer\u001b[0m\u001b[0;34m(\u001b[0m\u001b[0mkey\u001b[0m\u001b[0;34m)\u001b[0m\u001b[0;34m\u001b[0m\u001b[0;34m\u001b[0m\u001b[0m\n\u001b[0m\u001b[1;32m    667\u001b[0m         \u001b[0mself\u001b[0m\u001b[0;34m.\u001b[0m\u001b[0m_has_valid_setitem_indexer\u001b[0m\u001b[0;34m(\u001b[0m\u001b[0mkey\u001b[0m\u001b[0;34m)\u001b[0m\u001b[0;34m\u001b[0m\u001b[0;34m\u001b[0m\u001b[0m\n\u001b[1;32m    668\u001b[0m \u001b[0;34m\u001b[0m\u001b[0m\n",
      "\u001b[0;32m~/anaconda3/envs/daa/lib/python3.6/site-packages/pandas/core/indexing.py\u001b[0m in \u001b[0;36m_get_setitem_indexer\u001b[0;34m(self, key)\u001b[0m\n\u001b[1;32m    607\u001b[0m         \u001b[0;32mif\u001b[0m \u001b[0misinstance\u001b[0m\u001b[0;34m(\u001b[0m\u001b[0mkey\u001b[0m\u001b[0;34m,\u001b[0m \u001b[0mtuple\u001b[0m\u001b[0;34m)\u001b[0m\u001b[0;34m:\u001b[0m\u001b[0;34m\u001b[0m\u001b[0;34m\u001b[0m\u001b[0m\n\u001b[1;32m    608\u001b[0m             \u001b[0;32mtry\u001b[0m\u001b[0;34m:\u001b[0m\u001b[0;34m\u001b[0m\u001b[0;34m\u001b[0m\u001b[0m\n\u001b[0;32m--> 609\u001b[0;31m                 \u001b[0;32mreturn\u001b[0m \u001b[0mself\u001b[0m\u001b[0;34m.\u001b[0m\u001b[0m_convert_tuple\u001b[0m\u001b[0;34m(\u001b[0m\u001b[0mkey\u001b[0m\u001b[0;34m,\u001b[0m \u001b[0mis_setter\u001b[0m\u001b[0;34m=\u001b[0m\u001b[0;32mTrue\u001b[0m\u001b[0;34m)\u001b[0m\u001b[0;34m\u001b[0m\u001b[0;34m\u001b[0m\u001b[0m\n\u001b[0m\u001b[1;32m    610\u001b[0m             \u001b[0;32mexcept\u001b[0m \u001b[0mIndexingError\u001b[0m\u001b[0;34m:\u001b[0m\u001b[0;34m\u001b[0m\u001b[0;34m\u001b[0m\u001b[0m\n\u001b[1;32m    611\u001b[0m                 \u001b[0;32mpass\u001b[0m\u001b[0;34m\u001b[0m\u001b[0;34m\u001b[0m\u001b[0m\n",
      "\u001b[0;32m~/anaconda3/envs/daa/lib/python3.6/site-packages/pandas/core/indexing.py\u001b[0m in \u001b[0;36m_convert_tuple\u001b[0;34m(self, key, is_setter)\u001b[0m\n\u001b[1;32m    732\u001b[0m                 \u001b[0;32mif\u001b[0m \u001b[0mi\u001b[0m \u001b[0;34m>=\u001b[0m \u001b[0mself\u001b[0m\u001b[0;34m.\u001b[0m\u001b[0mndim\u001b[0m\u001b[0;34m:\u001b[0m\u001b[0;34m\u001b[0m\u001b[0;34m\u001b[0m\u001b[0m\n\u001b[1;32m    733\u001b[0m                     \u001b[0;32mraise\u001b[0m \u001b[0mIndexingError\u001b[0m\u001b[0;34m(\u001b[0m\u001b[0;34m\"Too many indexers\"\u001b[0m\u001b[0;34m)\u001b[0m\u001b[0;34m\u001b[0m\u001b[0;34m\u001b[0m\u001b[0m\n\u001b[0;32m--> 734\u001b[0;31m                 \u001b[0midx\u001b[0m \u001b[0;34m=\u001b[0m \u001b[0mself\u001b[0m\u001b[0;34m.\u001b[0m\u001b[0m_convert_to_indexer\u001b[0m\u001b[0;34m(\u001b[0m\u001b[0mk\u001b[0m\u001b[0;34m,\u001b[0m \u001b[0maxis\u001b[0m\u001b[0;34m=\u001b[0m\u001b[0mi\u001b[0m\u001b[0;34m,\u001b[0m \u001b[0mis_setter\u001b[0m\u001b[0;34m=\u001b[0m\u001b[0mis_setter\u001b[0m\u001b[0;34m)\u001b[0m\u001b[0;34m\u001b[0m\u001b[0;34m\u001b[0m\u001b[0m\n\u001b[0m\u001b[1;32m    735\u001b[0m                 \u001b[0mkeyidx\u001b[0m\u001b[0;34m.\u001b[0m\u001b[0mappend\u001b[0m\u001b[0;34m(\u001b[0m\u001b[0midx\u001b[0m\u001b[0;34m)\u001b[0m\u001b[0;34m\u001b[0m\u001b[0;34m\u001b[0m\u001b[0m\n\u001b[1;32m    736\u001b[0m         \u001b[0;32mreturn\u001b[0m \u001b[0mtuple\u001b[0m\u001b[0;34m(\u001b[0m\u001b[0mkeyidx\u001b[0m\u001b[0;34m)\u001b[0m\u001b[0;34m\u001b[0m\u001b[0;34m\u001b[0m\u001b[0m\n",
      "\u001b[0;32m~/anaconda3/envs/daa/lib/python3.6/site-packages/pandas/core/indexing.py\u001b[0m in \u001b[0;36m_convert_to_indexer\u001b[0;34m(self, key, axis, is_setter)\u001b[0m\n\u001b[1;32m   1196\u001b[0m             \u001b[0;32melse\u001b[0m\u001b[0;34m:\u001b[0m\u001b[0;34m\u001b[0m\u001b[0;34m\u001b[0m\u001b[0m\n\u001b[1;32m   1197\u001b[0m                 \u001b[0;31m# When setting, missing keys are not allowed, even with .loc:\u001b[0m\u001b[0;34m\u001b[0m\u001b[0;34m\u001b[0m\u001b[0;34m\u001b[0m\u001b[0m\n\u001b[0;32m-> 1198\u001b[0;31m                 \u001b[0;32mreturn\u001b[0m \u001b[0mself\u001b[0m\u001b[0;34m.\u001b[0m\u001b[0m_get_listlike_indexer\u001b[0m\u001b[0;34m(\u001b[0m\u001b[0mkey\u001b[0m\u001b[0;34m,\u001b[0m \u001b[0maxis\u001b[0m\u001b[0;34m,\u001b[0m \u001b[0mraise_missing\u001b[0m\u001b[0;34m=\u001b[0m\u001b[0;32mTrue\u001b[0m\u001b[0;34m)\u001b[0m\u001b[0;34m[\u001b[0m\u001b[0;36m1\u001b[0m\u001b[0;34m]\u001b[0m\u001b[0;34m\u001b[0m\u001b[0;34m\u001b[0m\u001b[0m\n\u001b[0m\u001b[1;32m   1199\u001b[0m         \u001b[0;32melse\u001b[0m\u001b[0;34m:\u001b[0m\u001b[0;34m\u001b[0m\u001b[0;34m\u001b[0m\u001b[0m\n\u001b[1;32m   1200\u001b[0m             \u001b[0;32mtry\u001b[0m\u001b[0;34m:\u001b[0m\u001b[0;34m\u001b[0m\u001b[0;34m\u001b[0m\u001b[0m\n",
      "\u001b[0;32m~/anaconda3/envs/daa/lib/python3.6/site-packages/pandas/core/indexing.py\u001b[0m in \u001b[0;36m_get_listlike_indexer\u001b[0;34m(self, key, axis, raise_missing)\u001b[0m\n\u001b[1;32m   1247\u001b[0m \u001b[0;34m\u001b[0m\u001b[0m\n\u001b[1;32m   1248\u001b[0m         \u001b[0;32mif\u001b[0m \u001b[0max\u001b[0m\u001b[0;34m.\u001b[0m\u001b[0mis_unique\u001b[0m \u001b[0;32mand\u001b[0m \u001b[0;32mnot\u001b[0m \u001b[0mgetattr\u001b[0m\u001b[0;34m(\u001b[0m\u001b[0max\u001b[0m\u001b[0;34m,\u001b[0m \u001b[0;34m\"is_overlapping\"\u001b[0m\u001b[0;34m,\u001b[0m \u001b[0;32mFalse\u001b[0m\u001b[0;34m)\u001b[0m\u001b[0;34m:\u001b[0m\u001b[0;34m\u001b[0m\u001b[0;34m\u001b[0m\u001b[0m\n\u001b[0;32m-> 1249\u001b[0;31m             \u001b[0mindexer\u001b[0m \u001b[0;34m=\u001b[0m \u001b[0max\u001b[0m\u001b[0;34m.\u001b[0m\u001b[0mget_indexer_for\u001b[0m\u001b[0;34m(\u001b[0m\u001b[0mkeyarr\u001b[0m\u001b[0;34m)\u001b[0m\u001b[0;34m\u001b[0m\u001b[0;34m\u001b[0m\u001b[0m\n\u001b[0m\u001b[1;32m   1250\u001b[0m             \u001b[0mkeyarr\u001b[0m \u001b[0;34m=\u001b[0m \u001b[0max\u001b[0m\u001b[0;34m.\u001b[0m\u001b[0mreindex\u001b[0m\u001b[0;34m(\u001b[0m\u001b[0mkeyarr\u001b[0m\u001b[0;34m)\u001b[0m\u001b[0;34m[\u001b[0m\u001b[0;36m0\u001b[0m\u001b[0;34m]\u001b[0m\u001b[0;34m\u001b[0m\u001b[0;34m\u001b[0m\u001b[0m\n\u001b[1;32m   1251\u001b[0m         \u001b[0;32melse\u001b[0m\u001b[0;34m:\u001b[0m\u001b[0;34m\u001b[0m\u001b[0;34m\u001b[0m\u001b[0m\n",
      "\u001b[0;32m~/anaconda3/envs/daa/lib/python3.6/site-packages/pandas/core/indexes/base.py\u001b[0m in \u001b[0;36mget_indexer_for\u001b[0;34m(self, target, **kwargs)\u001b[0m\n\u001b[1;32m   4714\u001b[0m         \"\"\"\n\u001b[1;32m   4715\u001b[0m         \u001b[0;32mif\u001b[0m \u001b[0mself\u001b[0m\u001b[0;34m.\u001b[0m\u001b[0mis_unique\u001b[0m\u001b[0;34m:\u001b[0m\u001b[0;34m\u001b[0m\u001b[0;34m\u001b[0m\u001b[0m\n\u001b[0;32m-> 4716\u001b[0;31m             \u001b[0;32mreturn\u001b[0m \u001b[0mself\u001b[0m\u001b[0;34m.\u001b[0m\u001b[0mget_indexer\u001b[0m\u001b[0;34m(\u001b[0m\u001b[0mtarget\u001b[0m\u001b[0;34m,\u001b[0m \u001b[0;34m**\u001b[0m\u001b[0mkwargs\u001b[0m\u001b[0;34m)\u001b[0m\u001b[0;34m\u001b[0m\u001b[0;34m\u001b[0m\u001b[0m\n\u001b[0m\u001b[1;32m   4717\u001b[0m         \u001b[0mindexer\u001b[0m\u001b[0;34m,\u001b[0m \u001b[0m_\u001b[0m \u001b[0;34m=\u001b[0m \u001b[0mself\u001b[0m\u001b[0;34m.\u001b[0m\u001b[0mget_indexer_non_unique\u001b[0m\u001b[0;34m(\u001b[0m\u001b[0mtarget\u001b[0m\u001b[0;34m,\u001b[0m \u001b[0;34m**\u001b[0m\u001b[0mkwargs\u001b[0m\u001b[0;34m)\u001b[0m\u001b[0;34m\u001b[0m\u001b[0;34m\u001b[0m\u001b[0m\n\u001b[1;32m   4718\u001b[0m         \u001b[0;32mreturn\u001b[0m \u001b[0mindexer\u001b[0m\u001b[0;34m\u001b[0m\u001b[0;34m\u001b[0m\u001b[0m\n",
      "\u001b[0;32m~/anaconda3/envs/daa/lib/python3.6/site-packages/pandas/core/indexes/range.py\u001b[0m in \u001b[0;36mget_indexer\u001b[0;34m(self, target, method, limit, tolerance)\u001b[0m\n\u001b[1;32m    380\u001b[0m         \u001b[0mlocs\u001b[0m \u001b[0;34m=\u001b[0m \u001b[0mtarget_array\u001b[0m \u001b[0;34m-\u001b[0m \u001b[0mstart\u001b[0m\u001b[0;34m\u001b[0m\u001b[0;34m\u001b[0m\u001b[0m\n\u001b[1;32m    381\u001b[0m         \u001b[0mvalid\u001b[0m \u001b[0;34m=\u001b[0m \u001b[0;34m(\u001b[0m\u001b[0mlocs\u001b[0m \u001b[0;34m%\u001b[0m \u001b[0mstep\u001b[0m \u001b[0;34m==\u001b[0m \u001b[0;36m0\u001b[0m\u001b[0;34m)\u001b[0m \u001b[0;34m&\u001b[0m \u001b[0;34m(\u001b[0m\u001b[0mlocs\u001b[0m \u001b[0;34m>=\u001b[0m \u001b[0;36m0\u001b[0m\u001b[0;34m)\u001b[0m \u001b[0;34m&\u001b[0m \u001b[0;34m(\u001b[0m\u001b[0mtarget_array\u001b[0m \u001b[0;34m<\u001b[0m \u001b[0mstop\u001b[0m\u001b[0;34m)\u001b[0m\u001b[0;34m\u001b[0m\u001b[0;34m\u001b[0m\u001b[0m\n\u001b[0;32m--> 382\u001b[0;31m         \u001b[0mlocs\u001b[0m\u001b[0;34m[\u001b[0m\u001b[0;34m~\u001b[0m\u001b[0mvalid\u001b[0m\u001b[0;34m]\u001b[0m \u001b[0;34m=\u001b[0m \u001b[0;34m-\u001b[0m\u001b[0;36m1\u001b[0m\u001b[0;34m\u001b[0m\u001b[0;34m\u001b[0m\u001b[0m\n\u001b[0m\u001b[1;32m    383\u001b[0m         \u001b[0mlocs\u001b[0m\u001b[0;34m[\u001b[0m\u001b[0mvalid\u001b[0m\u001b[0;34m]\u001b[0m \u001b[0;34m=\u001b[0m \u001b[0mlocs\u001b[0m\u001b[0;34m[\u001b[0m\u001b[0mvalid\u001b[0m\u001b[0;34m]\u001b[0m \u001b[0;34m/\u001b[0m \u001b[0mstep\u001b[0m\u001b[0;34m\u001b[0m\u001b[0;34m\u001b[0m\u001b[0m\n\u001b[1;32m    384\u001b[0m \u001b[0;34m\u001b[0m\u001b[0m\n",
      "\u001b[0;31mKeyboardInterrupt\u001b[0m: "
     ]
    }
   ],
   "source": [
    "cols = ['temp', 'feelslike', 'dew', 'humidity', 'precip', 'windspeed', 'winddir', 'cloudcover', 'visibility', 'uvindex', 'conditions']\n",
    "\n",
    "for index, values in df_weather.iterrows():\n",
    "\n",
    "    i = df_training.loc[df_training['record_date'] == values['datetime']].index\n",
    "    for col in cols: \n",
    "        df_training.loc[df_training.index[i], col] = values[col]"
   ]
  },
  {
   "cell_type": "code",
   "execution_count": 22,
   "metadata": {},
   "outputs": [
    {
     "data": {
      "text/plain": [
       "city_name                  False\n",
       "record_date                False\n",
       "AVERAGE_SPEED_DIFF         False\n",
       "AVERAGE_FREE_FLOW_SPEED    False\n",
       "AVERAGE_TIME_DIFF          False\n",
       "AVERAGE_FREE_FLOW_TIME     False\n",
       "LUMINOSITY                 False\n",
       "AVERAGE_TEMPERATURE        False\n",
       "AVERAGE_ATMOSP_PRESSURE    False\n",
       "AVERAGE_HUMIDITY           False\n",
       "AVERAGE_WIND_SPEED         False\n",
       "AVERAGE_CLOUDINESS          True\n",
       "AVERAGE_PRECIPITATION      False\n",
       "AVERAGE_RAIN                True\n",
       "dtype: bool"
      ]
     },
     "execution_count": 22,
     "metadata": {},
     "output_type": "execute_result"
    }
   ],
   "source": [
    "df_training.isna().any()"
   ]
  },
  {
   "cell_type": "markdown",
   "metadata": {
    "id": "K3e_4_La_8bG"
   },
   "source": [
    "# $\\textbf{Visualização de dados}$"
   ]
  },
  {
   "cell_type": "markdown",
   "metadata": {
    "id": "y6o3Gi5yAOKg"
   },
   "source": [
    "### $\\textbf{Dados gerais}$"
   ]
  },
  {
   "cell_type": "code",
   "execution_count": 3,
   "metadata": {
    "colab": {
     "base_uri": "https://localhost:8080/"
    },
    "id": "mW1H3mAq_7aQ",
    "outputId": "c1717d03-834b-4102-fae8-e563c2efb1cf"
   },
   "outputs": [
    {
     "name": "stdout",
     "output_type": "stream",
     "text": [
      "<class 'pandas.core.frame.DataFrame'>\n",
      "RangeIndex: 6812 entries, 0 to 6811\n",
      "Data columns (total 14 columns):\n",
      " #   Column                   Non-Null Count  Dtype  \n",
      "---  ------                   --------------  -----  \n",
      " 0   city_name                6812 non-null   object \n",
      " 1   record_date              6812 non-null   object \n",
      " 2   AVERAGE_SPEED_DIFF       6812 non-null   object \n",
      " 3   AVERAGE_FREE_FLOW_SPEED  6812 non-null   float64\n",
      " 4   AVERAGE_TIME_DIFF        6812 non-null   float64\n",
      " 5   AVERAGE_FREE_FLOW_TIME   6812 non-null   float64\n",
      " 6   LUMINOSITY               6812 non-null   object \n",
      " 7   AVERAGE_TEMPERATURE      6812 non-null   float64\n",
      " 8   AVERAGE_ATMOSP_PRESSURE  6812 non-null   float64\n",
      " 9   AVERAGE_HUMIDITY         6812 non-null   float64\n",
      " 10  AVERAGE_WIND_SPEED       6812 non-null   float64\n",
      " 11  AVERAGE_CLOUDINESS       4130 non-null   object \n",
      " 12  AVERAGE_PRECIPITATION    6812 non-null   float64\n",
      " 13  AVERAGE_RAIN             563 non-null    object \n",
      "dtypes: float64(8), object(6)\n",
      "memory usage: 745.2+ KB\n"
     ]
    }
   ],
   "source": [
    "df_training.info()"
   ]
  },
  {
   "cell_type": "code",
   "execution_count": 10,
   "metadata": {
    "colab": {
     "base_uri": "https://localhost:8080/",
     "height": 320
    },
    "id": "8MOvUVQxAbrB",
    "outputId": "bd731f2d-f555-4336-81bf-7df8a1c95e69"
   },
   "outputs": [
    {
     "data": {
      "text/html": [
       "<div>\n",
       "<style scoped>\n",
       "    .dataframe tbody tr th:only-of-type {\n",
       "        vertical-align: middle;\n",
       "    }\n",
       "\n",
       "    .dataframe tbody tr th {\n",
       "        vertical-align: top;\n",
       "    }\n",
       "\n",
       "    .dataframe thead th {\n",
       "        text-align: right;\n",
       "    }\n",
       "</style>\n",
       "<table border=\"1\" class=\"dataframe\">\n",
       "  <thead>\n",
       "    <tr style=\"text-align: right;\">\n",
       "      <th></th>\n",
       "      <th>AVERAGE_FREE_FLOW_SPEED</th>\n",
       "      <th>AVERAGE_TIME_DIFF</th>\n",
       "      <th>AVERAGE_FREE_FLOW_TIME</th>\n",
       "      <th>AVERAGE_TEMPERATURE</th>\n",
       "      <th>AVERAGE_ATMOSP_PRESSURE</th>\n",
       "      <th>AVERAGE_HUMIDITY</th>\n",
       "      <th>AVERAGE_WIND_SPEED</th>\n",
       "      <th>AVERAGE_PRECIPITATION</th>\n",
       "      <th>temp</th>\n",
       "      <th>feelslike</th>\n",
       "      <th>dew</th>\n",
       "      <th>humidity</th>\n",
       "      <th>precip</th>\n",
       "      <th>windspeed</th>\n",
       "      <th>winddir</th>\n",
       "      <th>cloudcover</th>\n",
       "      <th>visibility</th>\n",
       "      <th>uvindex</th>\n",
       "    </tr>\n",
       "  </thead>\n",
       "  <tbody>\n",
       "    <tr>\n",
       "      <th>count</th>\n",
       "      <td>6812.000000</td>\n",
       "      <td>6812.000000</td>\n",
       "      <td>6812.000000</td>\n",
       "      <td>6812.000000</td>\n",
       "      <td>6812.000000</td>\n",
       "      <td>6812.000000</td>\n",
       "      <td>6812.000000</td>\n",
       "      <td>6812.0</td>\n",
       "      <td>6811.000000</td>\n",
       "      <td>6811.000000</td>\n",
       "      <td>6811.000000</td>\n",
       "      <td>6811.000000</td>\n",
       "      <td>6451.000000</td>\n",
       "      <td>6811.000000</td>\n",
       "      <td>6807.000000</td>\n",
       "      <td>6811.000000</td>\n",
       "      <td>6809.000000</td>\n",
       "      <td>6811.0</td>\n",
       "    </tr>\n",
       "    <tr>\n",
       "      <th>mean</th>\n",
       "      <td>40.661010</td>\n",
       "      <td>25.637111</td>\n",
       "      <td>81.143952</td>\n",
       "      <td>16.193482</td>\n",
       "      <td>1017.388139</td>\n",
       "      <td>80.084190</td>\n",
       "      <td>3.058573</td>\n",
       "      <td>0.0</td>\n",
       "      <td>16.483262</td>\n",
       "      <td>16.365879</td>\n",
       "      <td>11.926281</td>\n",
       "      <td>77.149755</td>\n",
       "      <td>0.111736</td>\n",
       "      <td>11.730275</td>\n",
       "      <td>214.590715</td>\n",
       "      <td>26.538174</td>\n",
       "      <td>9.686459</td>\n",
       "      <td>0.0</td>\n",
       "    </tr>\n",
       "    <tr>\n",
       "      <th>std</th>\n",
       "      <td>4.119023</td>\n",
       "      <td>33.510507</td>\n",
       "      <td>8.294401</td>\n",
       "      <td>5.163492</td>\n",
       "      <td>5.751061</td>\n",
       "      <td>18.238863</td>\n",
       "      <td>2.138421</td>\n",
       "      <td>0.0</td>\n",
       "      <td>4.947803</td>\n",
       "      <td>5.155615</td>\n",
       "      <td>4.126002</td>\n",
       "      <td>17.700667</td>\n",
       "      <td>0.697639</td>\n",
       "      <td>7.278205</td>\n",
       "      <td>119.512076</td>\n",
       "      <td>27.754927</td>\n",
       "      <td>2.894561</td>\n",
       "      <td>0.0</td>\n",
       "    </tr>\n",
       "    <tr>\n",
       "      <th>min</th>\n",
       "      <td>30.500000</td>\n",
       "      <td>0.000000</td>\n",
       "      <td>46.400000</td>\n",
       "      <td>0.000000</td>\n",
       "      <td>985.000000</td>\n",
       "      <td>14.000000</td>\n",
       "      <td>0.000000</td>\n",
       "      <td>0.0</td>\n",
       "      <td>0.800000</td>\n",
       "      <td>-0.500000</td>\n",
       "      <td>-1.600000</td>\n",
       "      <td>14.420000</td>\n",
       "      <td>0.000000</td>\n",
       "      <td>0.100000</td>\n",
       "      <td>0.000000</td>\n",
       "      <td>0.000000</td>\n",
       "      <td>0.000000</td>\n",
       "      <td>0.0</td>\n",
       "    </tr>\n",
       "    <tr>\n",
       "      <th>25%</th>\n",
       "      <td>37.600000</td>\n",
       "      <td>2.275000</td>\n",
       "      <td>75.400000</td>\n",
       "      <td>13.000000</td>\n",
       "      <td>1015.000000</td>\n",
       "      <td>69.750000</td>\n",
       "      <td>1.000000</td>\n",
       "      <td>0.0</td>\n",
       "      <td>13.000000</td>\n",
       "      <td>13.000000</td>\n",
       "      <td>8.900000</td>\n",
       "      <td>66.755000</td>\n",
       "      <td>0.000000</td>\n",
       "      <td>6.100000</td>\n",
       "      <td>96.000000</td>\n",
       "      <td>0.200000</td>\n",
       "      <td>9.700000</td>\n",
       "      <td>0.0</td>\n",
       "    </tr>\n",
       "    <tr>\n",
       "      <th>50%</th>\n",
       "      <td>40.700000</td>\n",
       "      <td>12.200000</td>\n",
       "      <td>82.400000</td>\n",
       "      <td>16.000000</td>\n",
       "      <td>1017.000000</td>\n",
       "      <td>83.000000</td>\n",
       "      <td>3.000000</td>\n",
       "      <td>0.0</td>\n",
       "      <td>16.200000</td>\n",
       "      <td>16.200000</td>\n",
       "      <td>12.500000</td>\n",
       "      <td>80.690000</td>\n",
       "      <td>0.000000</td>\n",
       "      <td>10.800000</td>\n",
       "      <td>248.000000</td>\n",
       "      <td>17.100000</td>\n",
       "      <td>10.000000</td>\n",
       "      <td>0.0</td>\n",
       "    </tr>\n",
       "    <tr>\n",
       "      <th>75%</th>\n",
       "      <td>43.500000</td>\n",
       "      <td>36.200000</td>\n",
       "      <td>87.400000</td>\n",
       "      <td>19.000000</td>\n",
       "      <td>1021.000000</td>\n",
       "      <td>93.000000</td>\n",
       "      <td>4.000000</td>\n",
       "      <td>0.0</td>\n",
       "      <td>19.700000</td>\n",
       "      <td>19.700000</td>\n",
       "      <td>15.400000</td>\n",
       "      <td>91.670000</td>\n",
       "      <td>0.000000</td>\n",
       "      <td>16.000000</td>\n",
       "      <td>324.000000</td>\n",
       "      <td>49.500000</td>\n",
       "      <td>10.300000</td>\n",
       "      <td>0.0</td>\n",
       "    </tr>\n",
       "    <tr>\n",
       "      <th>max</th>\n",
       "      <td>55.900000</td>\n",
       "      <td>296.500000</td>\n",
       "      <td>112.000000</td>\n",
       "      <td>35.000000</td>\n",
       "      <td>1033.000000</td>\n",
       "      <td>100.000000</td>\n",
       "      <td>14.000000</td>\n",
       "      <td>0.0</td>\n",
       "      <td>35.400000</td>\n",
       "      <td>38.200000</td>\n",
       "      <td>23.400000</td>\n",
       "      <td>100.000000</td>\n",
       "      <td>15.550000</td>\n",
       "      <td>43.100000</td>\n",
       "      <td>360.000000</td>\n",
       "      <td>100.000000</td>\n",
       "      <td>30.000000</td>\n",
       "      <td>0.0</td>\n",
       "    </tr>\n",
       "  </tbody>\n",
       "</table>\n",
       "</div>"
      ],
      "text/plain": [
       "       AVERAGE_FREE_FLOW_SPEED  AVERAGE_TIME_DIFF  AVERAGE_FREE_FLOW_TIME  \\\n",
       "count              6812.000000        6812.000000             6812.000000   \n",
       "mean                 40.661010          25.637111               81.143952   \n",
       "std                   4.119023          33.510507                8.294401   \n",
       "min                  30.500000           0.000000               46.400000   \n",
       "25%                  37.600000           2.275000               75.400000   \n",
       "50%                  40.700000          12.200000               82.400000   \n",
       "75%                  43.500000          36.200000               87.400000   \n",
       "max                  55.900000         296.500000              112.000000   \n",
       "\n",
       "       AVERAGE_TEMPERATURE  AVERAGE_ATMOSP_PRESSURE  AVERAGE_HUMIDITY  \\\n",
       "count          6812.000000              6812.000000       6812.000000   \n",
       "mean             16.193482              1017.388139         80.084190   \n",
       "std               5.163492                 5.751061         18.238863   \n",
       "min               0.000000               985.000000         14.000000   \n",
       "25%              13.000000              1015.000000         69.750000   \n",
       "50%              16.000000              1017.000000         83.000000   \n",
       "75%              19.000000              1021.000000         93.000000   \n",
       "max              35.000000              1033.000000        100.000000   \n",
       "\n",
       "       AVERAGE_WIND_SPEED  AVERAGE_PRECIPITATION         temp    feelslike  \\\n",
       "count         6812.000000                 6812.0  6811.000000  6811.000000   \n",
       "mean             3.058573                    0.0    16.483262    16.365879   \n",
       "std              2.138421                    0.0     4.947803     5.155615   \n",
       "min              0.000000                    0.0     0.800000    -0.500000   \n",
       "25%              1.000000                    0.0    13.000000    13.000000   \n",
       "50%              3.000000                    0.0    16.200000    16.200000   \n",
       "75%              4.000000                    0.0    19.700000    19.700000   \n",
       "max             14.000000                    0.0    35.400000    38.200000   \n",
       "\n",
       "               dew     humidity       precip    windspeed      winddir  \\\n",
       "count  6811.000000  6811.000000  6451.000000  6811.000000  6807.000000   \n",
       "mean     11.926281    77.149755     0.111736    11.730275   214.590715   \n",
       "std       4.126002    17.700667     0.697639     7.278205   119.512076   \n",
       "min      -1.600000    14.420000     0.000000     0.100000     0.000000   \n",
       "25%       8.900000    66.755000     0.000000     6.100000    96.000000   \n",
       "50%      12.500000    80.690000     0.000000    10.800000   248.000000   \n",
       "75%      15.400000    91.670000     0.000000    16.000000   324.000000   \n",
       "max      23.400000   100.000000    15.550000    43.100000   360.000000   \n",
       "\n",
       "        cloudcover   visibility  uvindex  \n",
       "count  6811.000000  6809.000000   6811.0  \n",
       "mean     26.538174     9.686459      0.0  \n",
       "std      27.754927     2.894561      0.0  \n",
       "min       0.000000     0.000000      0.0  \n",
       "25%       0.200000     9.700000      0.0  \n",
       "50%      17.100000    10.000000      0.0  \n",
       "75%      49.500000    10.300000      0.0  \n",
       "max     100.000000    30.000000      0.0  "
      ]
     },
     "execution_count": 10,
     "metadata": {},
     "output_type": "execute_result"
    }
   ],
   "source": [
    "df_training.describe()"
   ]
  },
  {
   "cell_type": "markdown",
   "metadata": {
    "id": "wGA1j9fgAeHt"
   },
   "source": [
    "### $\\textbf{Missing values}$"
   ]
  },
  {
   "cell_type": "code",
   "execution_count": 4,
   "metadata": {
    "colab": {
     "base_uri": "https://localhost:8080/"
    },
    "id": "NxDZnIQbAlai",
    "outputId": "43c3a7bb-d751-4ed4-9ad3-46c1c5c7948a"
   },
   "outputs": [
    {
     "name": "stdout",
     "output_type": "stream",
     "text": [
      "city_name                   0.000000\n",
      "record_date                 0.000000\n",
      "AVERAGE_SPEED_DIFF          0.000000\n",
      "AVERAGE_FREE_FLOW_SPEED     0.000000\n",
      "AVERAGE_TIME_DIFF           0.000000\n",
      "AVERAGE_FREE_FLOW_TIME      0.000000\n",
      "LUMINOSITY                  0.000000\n",
      "AVERAGE_TEMPERATURE         0.000000\n",
      "AVERAGE_ATMOSP_PRESSURE     0.000000\n",
      "AVERAGE_HUMIDITY            0.000000\n",
      "AVERAGE_WIND_SPEED          0.000000\n",
      "AVERAGE_CLOUDINESS         39.371697\n",
      "AVERAGE_PRECIPITATION       0.000000\n",
      "AVERAGE_RAIN               91.735173\n",
      "dtype: float64\n"
     ]
    }
   ],
   "source": [
    "#Percentagem de missing values\n",
    "print(df_training.isna().sum()*100/len(df_training))"
   ]
  },
  {
   "cell_type": "markdown",
   "metadata": {
    "id": "MinI5VQpB3XU"
   },
   "source": [
    "### $\\textbf{Remoção das tabelas com missing values}$"
   ]
  },
  {
   "cell_type": "code",
   "execution_count": 5,
   "metadata": {
    "id": "iFEO2FJABzuP"
   },
   "outputs": [],
   "source": [
    "df_remove = df_training.copy()\n",
    "\n",
    "df_remove = df_remove.drop(['city_name', 'AVERAGE_CLOUDINESS', 'AVERAGE_RAIN'], axis = 1)"
   ]
  },
  {
   "cell_type": "markdown",
   "metadata": {
    "id": "KT-RjTbVAsfJ"
   },
   "source": [
    "### $\\textbf{Distribuições}$"
   ]
  },
  {
   "cell_type": "code",
   "execution_count": 25,
   "metadata": {
    "colab": {
     "base_uri": "https://localhost:8080/",
     "height": 297
    },
    "id": "Qb9hX6O4AsKn",
    "outputId": "e3c297c6-bae9-43ba-e745-0bdddb13a547"
   },
   "outputs": [
    {
     "data": {
      "text/plain": [
       "<AxesSubplot:xlabel='AVERAGE_TIME_DIFF', ylabel='Count'>"
      ]
     },
     "execution_count": 25,
     "metadata": {},
     "output_type": "execute_result"
    },
    {
     "data": {
      "image/png": "[encoded data removed]",
      "text/plain": [
       "<Figure size 432x288 with 1 Axes>"
      ]
     },
     "metadata": {
      "needs_background": "light"
     },
     "output_type": "display_data"
    }
   ],
   "source": [
    "sns.histplot(df_remove['AVERAGE_TIME_DIFF'], kde=True)"
   ]
  },
  {
   "cell_type": "code",
   "execution_count": 14,
   "metadata": {
    "colab": {
     "base_uri": "https://localhost:8080/",
     "height": 297
    },
    "id": "tKF6P07XAvdW",
    "outputId": "5e06dbf3-5357-4d50-b43d-470daece83bf"
   },
   "outputs": [
    {
     "data": {
      "text/plain": [
       "<AxesSubplot:xlabel='AVERAGE_HUMIDITY', ylabel='Count'>"
      ]
     },
     "execution_count": 14,
     "metadata": {},
     "output_type": "execute_result"
    },
    {
     "data": {
      "image/png": "[encoded data removed]",
      "text/plain": [
       "<Figure size 432x288 with 1 Axes>"
      ]
     },
     "metadata": {
      "needs_background": "light"
     },
     "output_type": "display_data"
    }
   ],
   "source": [
    "sns.histplot(df_remove['AVERAGE_HUMIDITY'], kde=True)"
   ]
  },
  {
   "cell_type": "code",
   "execution_count": 15,
   "metadata": {},
   "outputs": [
    {
     "data": {
      "text/plain": [
       "<AxesSubplot:xlabel='humidity', ylabel='Count'>"
      ]
     },
     "execution_count": 15,
     "metadata": {},
     "output_type": "execute_result"
    },
    {
     "data": {
      "image/png": "[encoded data removed]",
      "text/plain": [
       "<Figure size 432x288 with 1 Axes>"
      ]
     },
     "metadata": {
      "needs_background": "light"
     },
     "output_type": "display_data"
    }
   ],
   "source": [
    "sns.histplot(df_remove['humidity'], kde=True)"
   ]
  },
  {
   "cell_type": "code",
   "execution_count": 16,
   "metadata": {},
   "outputs": [],
   "source": [
    "# Remover a coluna AVERAGE_HUMIDITY, porque não apresenta os dados completos\n",
    "df_remove = df_remove.drop(['AVERAGE_HUMIDITY'], axis = 1)"
   ]
  },
  {
   "cell_type": "code",
   "execution_count": 17,
   "metadata": {
    "colab": {
     "base_uri": "https://localhost:8080/",
     "height": 297
    },
    "id": "8sXi3ebkAy0W",
    "outputId": "c4423751-4c82-4faf-e771-5c3fd820ae39"
   },
   "outputs": [
    {
     "data": {
      "text/plain": [
       "<AxesSubplot:xlabel='AVERAGE_TEMPERATURE', ylabel='Count'>"
      ]
     },
     "execution_count": 17,
     "metadata": {},
     "output_type": "execute_result"
    },
    {
     "data": {
      "image/png": "[encoded data removed]",
      "text/plain": [
       "<Figure size 432x288 with 1 Axes>"
      ]
     },
     "metadata": {
      "needs_background": "light"
     },
     "output_type": "display_data"
    }
   ],
   "source": [
    "sns.histplot(df_remove['AVERAGE_TEMPERATURE'], kde=True)"
   ]
  },
  {
   "cell_type": "code",
   "execution_count": 18,
   "metadata": {},
   "outputs": [
    {
     "data": {
      "text/plain": [
       "<AxesSubplot:xlabel='temp', ylabel='Count'>"
      ]
     },
     "execution_count": 18,
     "metadata": {},
     "output_type": "execute_result"
    },
    {
     "data": {
      "image/png": "[encoded data removed]",
      "text/plain": [
       "<Figure size 432x288 with 1 Axes>"
      ]
     },
     "metadata": {
      "needs_background": "light"
     },
     "output_type": "display_data"
    }
   ],
   "source": [
    "sns.histplot(df_remove['temp'], kde=True)"
   ]
  },
  {
   "cell_type": "code",
   "execution_count": 19,
   "metadata": {},
   "outputs": [],
   "source": [
    "# Remover a coluna AVERAGE_TEMPERATURE, porque não apresenta os dados completos\n",
    "df_remove = df_remove.drop(['AVERAGE_TEMPERATURE'], axis = 1)"
   ]
  },
  {
   "cell_type": "code",
   "execution_count": 20,
   "metadata": {
    "colab": {
     "base_uri": "https://localhost:8080/",
     "height": 297
    },
    "id": "kryeGI12AzGs",
    "outputId": "76f4138a-cd5f-426f-e15d-1fd643570ba2"
   },
   "outputs": [
    {
     "data": {
      "text/plain": [
       "<AxesSubplot:xlabel='AVERAGE_FREE_FLOW_SPEED', ylabel='Count'>"
      ]
     },
     "execution_count": 20,
     "metadata": {},
     "output_type": "execute_result"
    },
    {
     "data": {
      "image/png": "[encoded data removed]",
      "text/plain": [
       "<Figure size 432x288 with 1 Axes>"
      ]
     },
     "metadata": {
      "needs_background": "light"
     },
     "output_type": "display_data"
    }
   ],
   "source": [
    "sns.histplot(df_remove['AVERAGE_FREE_FLOW_SPEED'], kde=True)"
   ]
  },
  {
   "cell_type": "code",
   "execution_count": 21,
   "metadata": {
    "colab": {
     "base_uri": "https://localhost:8080/",
     "height": 297
    },
    "id": "bS3lOUySAzSH",
    "outputId": "f011aa2c-289d-4aa0-82a5-23dd5a11f3e8"
   },
   "outputs": [
    {
     "data": {
      "text/plain": [
       "<AxesSubplot:xlabel='AVERAGE_FREE_FLOW_TIME', ylabel='Count'>"
      ]
     },
     "execution_count": 21,
     "metadata": {},
     "output_type": "execute_result"
    },
    {
     "data": {
      "image/png": "[encoded data removed]",
      "text/plain": [
       "<Figure size 432x288 with 1 Axes>"
      ]
     },
     "metadata": {
      "needs_background": "light"
     },
     "output_type": "display_data"
    }
   ],
   "source": [
    "sns.histplot(df_remove['AVERAGE_FREE_FLOW_TIME'], kde=True)"
   ]
  },
  {
   "cell_type": "code",
   "execution_count": 22,
   "metadata": {
    "colab": {
     "base_uri": "https://localhost:8080/",
     "height": 297
    },
    "id": "XyTN9_Z0AzbP",
    "outputId": "d9871588-4ea0-47bd-c2ce-29bbc3ce3a43"
   },
   "outputs": [
    {
     "data": {
      "text/plain": [
       "<AxesSubplot:xlabel='AVERAGE_ATMOSP_PRESSURE', ylabel='Count'>"
      ]
     },
     "execution_count": 22,
     "metadata": {},
     "output_type": "execute_result"
    },
    {
     "data": {
      "image/png": "[encoded data removed]",
      "text/plain": [
       "<Figure size 432x288 with 1 Axes>"
      ]
     },
     "metadata": {
      "needs_background": "light"
     },
     "output_type": "display_data"
    }
   ],
   "source": [
    "sns.histplot(df_remove['AVERAGE_ATMOSP_PRESSURE'], kde=True)"
   ]
  },
  {
   "cell_type": "code",
   "execution_count": 23,
   "metadata": {
    "colab": {
     "base_uri": "https://localhost:8080/",
     "height": 297
    },
    "id": "QgJN3BLsA9jY",
    "outputId": "d977697c-f0c4-4529-e2b9-fd81c08011bb"
   },
   "outputs": [
    {
     "data": {
      "text/plain": [
       "<AxesSubplot:xlabel='AVERAGE_WIND_SPEED', ylabel='Count'>"
      ]
     },
     "execution_count": 23,
     "metadata": {},
     "output_type": "execute_result"
    },
    {
     "data": {
      "image/png": "[encoded data removed]",
      "text/plain": [
       "<Figure size 432x288 with 1 Axes>"
      ]
     },
     "metadata": {
      "needs_background": "light"
     },
     "output_type": "display_data"
    }
   ],
   "source": [
    "sns.histplot(df_remove['AVERAGE_WIND_SPEED'], kde=True)"
   ]
  },
  {
   "cell_type": "code",
   "execution_count": 24,
   "metadata": {},
   "outputs": [
    {
     "data": {
      "text/plain": [
       "<AxesSubplot:xlabel='windspeed', ylabel='Count'>"
      ]
     },
     "execution_count": 24,
     "metadata": {},
     "output_type": "execute_result"
    },
    {
     "data": {
      "image/png": "[encoded data removed]",
      "text/plain": [
       "<Figure size 432x288 with 1 Axes>"
      ]
     },
     "metadata": {
      "needs_background": "light"
     },
     "output_type": "display_data"
    }
   ],
   "source": [
    "sns.histplot(df_remove['windspeed'], kde=True)"
   ]
  },
  {
   "cell_type": "code",
   "execution_count": 25,
   "metadata": {},
   "outputs": [],
   "source": [
    "# Remover a coluna AVERAGE_WIND_SPEED, porque não apresenta os dados completos\n",
    "df_remove = df_remove.drop(['AVERAGE_WIND_SPEED'], axis = 1)"
   ]
  },
  {
   "cell_type": "code",
   "execution_count": 26,
   "metadata": {},
   "outputs": [],
   "source": [
    "# Remover a coluna AVERAGE_PRECIPITATION, porque todas as entradas são iguais a zero\n",
    "df_remove = df_remove.drop(['AVERAGE_PRECIPITATION'], axis = 1)"
   ]
  },
  {
   "cell_type": "code",
   "execution_count": 27,
   "metadata": {},
   "outputs": [
    {
     "data": {
      "text/plain": [
       "<AxesSubplot:xlabel='precip', ylabel='Count'>"
      ]
     },
     "execution_count": 27,
     "metadata": {},
     "output_type": "execute_result"
    },
    {
     "data": {
      "image/png": "[encoded data removed]",
      "text/plain": [
       "<Figure size 432x288 with 1 Axes>"
      ]
     },
     "metadata": {
      "needs_background": "light"
     },
     "output_type": "display_data"
    }
   ],
   "source": [
    "sns.histplot(df_remove['precip'], kde=True)"
   ]
  },
  {
   "cell_type": "code",
   "execution_count": 28,
   "metadata": {},
   "outputs": [
    {
     "data": {
      "text/plain": [
       "<AxesSubplot:xlabel='feelslike', ylabel='Count'>"
      ]
     },
     "execution_count": 28,
     "metadata": {},
     "output_type": "execute_result"
    },
    {
     "data": {
      "image/png": "[encoded data removed]",
      "text/plain": [
       "<Figure size 432x288 with 1 Axes>"
      ]
     },
     "metadata": {
      "needs_background": "light"
     },
     "output_type": "display_data"
    }
   ],
   "source": [
    "sns.histplot(df_remove['feelslike'], kde=True)"
   ]
  },
  {
   "cell_type": "code",
   "execution_count": 29,
   "metadata": {},
   "outputs": [
    {
     "data": {
      "text/plain": [
       "<AxesSubplot:xlabel='dew', ylabel='Count'>"
      ]
     },
     "execution_count": 29,
     "metadata": {},
     "output_type": "execute_result"
    },
    {
     "data": {
      "image/png": "[encoded data removed]",
      "text/plain": [
       "<Figure size 432x288 with 1 Axes>"
      ]
     },
     "metadata": {
      "needs_background": "light"
     },
     "output_type": "display_data"
    }
   ],
   "source": [
    "sns.histplot(df_remove['dew'], kde=True)"
   ]
  },
  {
   "cell_type": "code",
   "execution_count": 30,
   "metadata": {},
   "outputs": [
    {
     "data": {
      "text/plain": [
       "<AxesSubplot:xlabel='winddir', ylabel='Count'>"
      ]
     },
     "execution_count": 30,
     "metadata": {},
     "output_type": "execute_result"
    },
    {
     "data": {
      "image/png": "[encoded data removed]",
      "text/plain": [
       "<Figure size 432x288 with 1 Axes>"
      ]
     },
     "metadata": {
      "needs_background": "light"
     },
     "output_type": "display_data"
    }
   ],
   "source": [
    "sns.histplot(df_remove['winddir'], kde=True)"
   ]
  },
  {
   "cell_type": "code",
   "execution_count": 31,
   "metadata": {},
   "outputs": [
    {
     "data": {
      "text/plain": [
       "<AxesSubplot:xlabel='cloudcover', ylabel='Count'>"
      ]
     },
     "execution_count": 31,
     "metadata": {},
     "output_type": "execute_result"
    },
    {
     "data": {
      "image/png": "[encoded data removed]",
      "text/plain": [
       "<Figure size 432x288 with 1 Axes>"
      ]
     },
     "metadata": {
      "needs_background": "light"
     },
     "output_type": "display_data"
    }
   ],
   "source": [
    "sns.histplot(df_remove['cloudcover'], kde=True)"
   ]
  },
  {
   "cell_type": "code",
   "execution_count": 32,
   "metadata": {},
   "outputs": [
    {
     "data": {
      "text/plain": [
       "<AxesSubplot:xlabel='visibility', ylabel='Count'>"
      ]
     },
     "execution_count": 32,
     "metadata": {},
     "output_type": "execute_result"
    },
    {
     "data": {
      "image/png": "[encoded data removed]",
      "text/plain": [
       "<Figure size 432x288 with 1 Axes>"
      ]
     },
     "metadata": {
      "needs_background": "light"
     },
     "output_type": "display_data"
    }
   ],
   "source": [
    "sns.histplot(df_remove['visibility'], kde=True)"
   ]
  },
  {
   "cell_type": "code",
   "execution_count": 33,
   "metadata": {},
   "outputs": [],
   "source": [
    "# Remover a coluna uvindex, porque todas as entradas são iguais a zero\n",
    "df_remove = df_remove.drop(['uvindex'], axis = 1)"
   ]
  },
  {
   "cell_type": "markdown",
   "metadata": {
    "id": "BrHA1rHfBH2c"
   },
   "source": [
    "### $\\textbf{Deteção de outliers}$"
   ]
  },
  {
   "cell_type": "code",
   "execution_count": 6,
   "metadata": {
    "id": "1f3BCgsFHCAS"
   },
   "outputs": [],
   "source": [
    "df_training_outliers = df_remove.copy()"
   ]
  },
  {
   "cell_type": "code",
   "execution_count": 35,
   "metadata": {
    "colab": {
     "base_uri": "https://localhost:8080/",
     "height": 280
    },
    "id": "1IZ6Q22-BZcc",
    "outputId": "012d3e71-056e-43e0-f31b-4d239bc8521d"
   },
   "outputs": [
    {
     "data": {
      "image/png": "[encoded data removed]",
      "text/plain": [
       "<Figure size 432x288 with 1 Axes>"
      ]
     },
     "metadata": {
      "needs_background": "light"
     },
     "output_type": "display_data"
    }
   ],
   "source": [
    "ax = sns.boxplot(x=df_training_outliers['AVERAGE_FREE_FLOW_SPEED'])"
   ]
  },
  {
   "cell_type": "code",
   "execution_count": 36,
   "metadata": {
    "colab": {
     "base_uri": "https://localhost:8080/",
     "height": 280
    },
    "id": "uPkH6yZbBabL",
    "outputId": "831c048f-8c01-484b-c937-c269590eb3ba"
   },
   "outputs": [
    {
     "data": {
      "image/png": "[encoded data removed]",
      "text/plain": [
       "<Figure size 432x288 with 1 Axes>"
      ]
     },
     "metadata": {
      "needs_background": "light"
     },
     "output_type": "display_data"
    }
   ],
   "source": [
    "ax = sns.boxplot(x=df_training_outliers['AVERAGE_TIME_DIFF'])"
   ]
  },
  {
   "cell_type": "code",
   "execution_count": 37,
   "metadata": {
    "colab": {
     "base_uri": "https://localhost:8080/",
     "height": 280
    },
    "id": "WEZPcy0rBVYc",
    "outputId": "d4f2a3b3-5dfb-4c11-853e-e5f7e7951201"
   },
   "outputs": [
    {
     "data": {
      "image/png": "[encoded data removed]",
      "text/plain": [
       "<Figure size 432x288 with 1 Axes>"
      ]
     },
     "metadata": {
      "needs_background": "light"
     },
     "output_type": "display_data"
    }
   ],
   "source": [
    "ax = sns.boxplot(x=df_training_outliers['AVERAGE_FREE_FLOW_TIME'])"
   ]
  },
  {
   "cell_type": "code",
   "execution_count": 38,
   "metadata": {
    "colab": {
     "base_uri": "https://localhost:8080/",
     "height": 280
    },
    "id": "3k-Ztu9nBWbQ",
    "outputId": "9a5a8690-e61b-439a-e73f-2f0e76480677"
   },
   "outputs": [
    {
     "data": {
      "image/png": "[encoded data removed]",
      "text/plain": [
       "<Figure size 432x288 with 1 Axes>"
      ]
     },
     "metadata": {
      "needs_background": "light"
     },
     "output_type": "display_data"
    }
   ],
   "source": [
    "ax = sns.boxplot(x=df_training_outliers['AVERAGE_ATMOSP_PRESSURE'])"
   ]
  },
  {
   "cell_type": "code",
   "execution_count": 39,
   "metadata": {},
   "outputs": [
    {
     "data": {
      "image/png": "[encoded data removed]",
      "text/plain": [
       "<Figure size 432x288 with 1 Axes>"
      ]
     },
     "metadata": {
      "needs_background": "light"
     },
     "output_type": "display_data"
    }
   ],
   "source": [
    "ax = sns.boxplot(x=df_training_outliers['temp'])"
   ]
  },
  {
   "cell_type": "code",
   "execution_count": 40,
   "metadata": {
    "colab": {
     "base_uri": "https://localhost:8080/",
     "height": 280
    },
    "id": "BS3YR1VtBXKa",
    "outputId": "6a51340a-8df8-4218-aa47-2195b1d8e54e"
   },
   "outputs": [
    {
     "data": {
      "image/png": "[encoded data removed]",
      "text/plain": [
       "<Figure size 432x288 with 1 Axes>"
      ]
     },
     "metadata": {
      "needs_background": "light"
     },
     "output_type": "display_data"
    }
   ],
   "source": [
    "ax = sns.boxplot(x=df_training_outliers['humidity'])"
   ]
  },
  {
   "cell_type": "code",
   "execution_count": 41,
   "metadata": {
    "colab": {
     "base_uri": "https://localhost:8080/",
     "height": 280
    },
    "id": "PFTpmsClBX50",
    "outputId": "524fd4bf-1430-4d35-ceba-11b87dc21310"
   },
   "outputs": [
    {
     "data": {
      "image/png": "[encoded data removed]",
      "text/plain": [
       "<Figure size 432x288 with 1 Axes>"
      ]
     },
     "metadata": {
      "needs_background": "light"
     },
     "output_type": "display_data"
    }
   ],
   "source": [
    "ax = sns.boxplot(x=df_training_outliers['windspeed'])"
   ]
  },
  {
   "cell_type": "code",
   "execution_count": 42,
   "metadata": {},
   "outputs": [
    {
     "data": {
      "image/png": "[encoded data removed]",
      "text/plain": [
       "<Figure size 432x288 with 1 Axes>"
      ]
     },
     "metadata": {
      "needs_background": "light"
     },
     "output_type": "display_data"
    }
   ],
   "source": [
    "ax = sns.boxplot(x=df_training_outliers['precip'])"
   ]
  },
  {
   "cell_type": "code",
   "execution_count": 43,
   "metadata": {
    "colab": {
     "base_uri": "https://localhost:8080/",
     "height": 280
    },
    "id": "xtZfZp07BYiz",
    "outputId": "5a063a1d-fb01-44ec-ec7c-0f84a1e8bfa1"
   },
   "outputs": [
    {
     "data": {
      "image/png": "[encoded data removed]",
      "text/plain": [
       "<Figure size 432x288 with 1 Axes>"
      ]
     },
     "metadata": {
      "needs_background": "light"
     },
     "output_type": "display_data"
    }
   ],
   "source": [
    "ax = sns.boxplot(x=df_training_outliers['feelslike'])"
   ]
  },
  {
   "cell_type": "code",
   "execution_count": 44,
   "metadata": {},
   "outputs": [
    {
     "data": {
      "image/png": "[encoded data removed]",
      "text/plain": [
       "<Figure size 432x288 with 1 Axes>"
      ]
     },
     "metadata": {
      "needs_background": "light"
     },
     "output_type": "display_data"
    }
   ],
   "source": [
    "ax = sns.boxplot(x=df_training_outliers['dew'])"
   ]
  },
  {
   "cell_type": "code",
   "execution_count": 45,
   "metadata": {},
   "outputs": [
    {
     "data": {
      "image/png": "[encoded data removed]",
      "text/plain": [
       "<Figure size 432x288 with 1 Axes>"
      ]
     },
     "metadata": {
      "needs_background": "light"
     },
     "output_type": "display_data"
    }
   ],
   "source": [
    "ax = sns.boxplot(x=df_training_outliers['winddir'])"
   ]
  },
  {
   "cell_type": "code",
   "execution_count": 46,
   "metadata": {},
   "outputs": [
    {
     "data": {
      "image/png": "[encoded data removed]",
      "text/plain": [
       "<Figure size 432x288 with 1 Axes>"
      ]
     },
     "metadata": {
      "needs_background": "light"
     },
     "output_type": "display_data"
    }
   ],
   "source": [
    "ax = sns.boxplot(x=df_training_outliers['cloudcover'])"
   ]
  },
  {
   "cell_type": "code",
   "execution_count": 47,
   "metadata": {},
   "outputs": [
    {
     "data": {
      "image/png": "[encoded data removed]",
      "text/plain": [
       "<Figure size 432x288 with 1 Axes>"
      ]
     },
     "metadata": {
      "needs_background": "light"
     },
     "output_type": "display_data"
    }
   ],
   "source": [
    "ax = sns.boxplot(x=df_training_outliers['visibility'])"
   ]
  },
  {
   "cell_type": "code",
   "execution_count": 48,
   "metadata": {
    "id": "BIT46lRPIZBr"
   },
   "outputs": [
    {
     "data": {
      "text/plain": [
       "\"cols = ['AVERAGE_FREE_FLOW_SPEED', 'AVERAGE_TIME_DIFF', 'AVERAGE_FREE_FLOW_TIME',\\n        'AVERAGE_ATMOSP_PRESSURE', 'temp', 'humidity', 'precip', 'windspeed',\\n        'feelslike', 'dew', 'winddir', 'cloudcover', 'visibility']\\n\\nQ1 = df_training_outliers[cols].quantile(0.25) \\nQ3 = df_training_outliers[cols].quantile(0.75)\\n\\nIQR = Q3 - Q1\\n\\nmin_value = Q1 - (1.5 * IQR)\\nmax_value = Q3 + (1.5 * IQR)\\n\\ndf_training_outliers[cols] = np.where(df_training_outliers[cols] < min_value, df_training_outliers[cols].mean(), df_training_outliers[cols])\\ndf_training_outliers[cols] = np.where(df_training_outliers[cols] > max_value, df_training_outliers[cols].mean(), df_training_outliers[cols])\""
      ]
     },
     "execution_count": 48,
     "metadata": {},
     "output_type": "execute_result"
    }
   ],
   "source": [
    "'''cols = ['AVERAGE_FREE_FLOW_SPEED', 'AVERAGE_TIME_DIFF', 'AVERAGE_FREE_FLOW_TIME',\n",
    "        'AVERAGE_ATMOSP_PRESSURE', 'temp', 'humidity', 'precip', 'windspeed',\n",
    "        'feelslike', 'dew', 'winddir', 'cloudcover', 'visibility']\n",
    "\n",
    "Q1 = df_training_outliers[cols].quantile(0.25) \n",
    "Q3 = df_training_outliers[cols].quantile(0.75)\n",
    "\n",
    "IQR = Q3 - Q1\n",
    "\n",
    "min_value = Q1 - (1.5 * IQR)\n",
    "max_value = Q3 + (1.5 * IQR)\n",
    "\n",
    "df_training_outliers[cols] = np.where(df_training_outliers[cols] < min_value, df_training_outliers[cols].mean(), df_training_outliers[cols])\n",
    "df_training_outliers[cols] = np.where(df_training_outliers[cols] > max_value, df_training_outliers[cols].mean(), df_training_outliers[cols])'''"
   ]
  },
  {
   "cell_type": "code",
   "execution_count": 49,
   "metadata": {
    "colab": {
     "base_uri": "https://localhost:8080/",
     "height": 590
    },
    "id": "ArAv9gBpI4-k",
    "outputId": "4b78ecc4-f872-4e49-c36a-c8701ddd5916"
   },
   "outputs": [
    {
     "data": {
      "text/plain": [
       "<AxesSubplot:>"
      ]
     },
     "execution_count": 49,
     "metadata": {},
     "output_type": "execute_result"
    },
    {
     "data": {
      "image/png": "[encoded data removed]",
      "text/plain": [
       "<Figure size 1440x1080 with 1 Axes>"
      ]
     },
     "metadata": {
      "needs_background": "light"
     },
     "output_type": "display_data"
    }
   ],
   "source": [
    "plt.figure(figsize = (20,15))\n",
    "df_training_outliers.boxplot(vert = False)"
   ]
  },
  {
   "cell_type": "markdown",
   "metadata": {},
   "source": [
    "# $\\textbf{Cálculo da velocidade}$"
   ]
  },
  {
   "cell_type": "code",
   "execution_count": 7,
   "metadata": {},
   "outputs": [],
   "source": [
    "df_training_speed = df_training_outliers.copy()\n",
    "\n",
    "\n",
    "for index, values in df_training_speed.iterrows():\n",
    "\n",
    "    df_training_speed.loc[df_training_speed.index[index], 'AVERAGE_SPEED'] = values['AVERAGE_FREE_FLOW_SPEED'] - values['AVERAGE_FREE_FLOW_SPEED'] * values['AVERAGE_FREE_FLOW_TIME'] / (values['AVERAGE_FREE_FLOW_TIME'] + values['AVERAGE_TIME_DIFF'])\n"
   ]
  },
  {
   "cell_type": "markdown",
   "metadata": {
    "id": "a-GPj7cIJiky"
   },
   "source": [
    "# $\\textbf{Preparação de dados e conversão de métricas}$"
   ]
  },
  {
   "cell_type": "code",
   "execution_count": 8,
   "metadata": {
    "id": "4YKPs0l-JoNN"
   },
   "outputs": [],
   "source": [
    "df_training_conversion = df_training_speed.copy()"
   ]
  },
  {
   "cell_type": "markdown",
   "metadata": {
    "id": "LZFWtBi3KQnr"
   },
   "source": [
    "### $\\textbf{Tratamento das datas}$"
   ]
  },
  {
   "cell_type": "code",
   "execution_count": 9,
   "metadata": {},
   "outputs": [],
   "source": [
    "with open('EncontrosDesportivos.txt', 'r') as f:\n",
    "    aux = f.readlines()\n",
    "    datas = []\n",
    "    \n",
    "    for data in aux:\n",
    "        pair = re.split(r' ', re.sub(r'\\n', '', data))\n",
    "        datas.append((pair[0], pair[1]))\n",
    "\n",
    "    for index, values in df_training_conversion.iterrows():\n",
    "        aux = values['record_date'].split()\n",
    "        \n",
    "        if (aux[0], aux[1]) in datas:\n",
    "            df_training_conversion.loc[df_training_conversion.index[index], 'EVENT'] = 1\n",
    "        else:\n",
    "            df_training_conversion.loc[df_training_conversion.index[index], 'EVENT'] = 0"
   ]
  },
  {
   "cell_type": "code",
   "execution_count": 10,
   "metadata": {
    "colab": {
     "base_uri": "https://localhost:8080/"
    },
    "id": "qvRSaGzGKQ4w",
    "outputId": "813c3187-bc52-42f7-b265-96738900ae48"
   },
   "outputs": [
    {
     "name": "stderr",
     "output_type": "stream",
     "text": [
      "/home/rui/anaconda3/envs/daa/lib/python3.6/site-packages/ipykernel_launcher.py:5: FutureWarning: Series.dt.weekofyear and Series.dt.week have been deprecated.  Please use Series.dt.isocalendar().week instead.\n",
      "  \"\"\"\n"
     ]
    }
   ],
   "source": [
    "df_training_conversion['record_date'] = pd.to_datetime(df_training_conversion['record_date'])\n",
    "\n",
    "df_training_conversion['DAY'] = df_training_conversion.record_date.dt.weekday\n",
    "df_training_conversion['MONTH'] = df_training_conversion.record_date.dt.month\n",
    "df_training_conversion['WEEK'] = df_training_conversion.record_date.dt.weekofyear\n",
    "df_training_conversion['HOUR'] = df_training_conversion.record_date.dt.hour\n",
    "\n",
    "df_training_conversion = df_training_conversion.drop(['record_date'], axis = 1)"
   ]
  },
  {
   "cell_type": "code",
   "execution_count": 11,
   "metadata": {},
   "outputs": [
    {
     "data": {
      "text/html": [
       "<div>\n",
       "<style scoped>\n",
       "    .dataframe tbody tr th:only-of-type {\n",
       "        vertical-align: middle;\n",
       "    }\n",
       "\n",
       "    .dataframe tbody tr th {\n",
       "        vertical-align: top;\n",
       "    }\n",
       "\n",
       "    .dataframe thead th {\n",
       "        text-align: right;\n",
       "    }\n",
       "</style>\n",
       "<table border=\"1\" class=\"dataframe\">\n",
       "  <thead>\n",
       "    <tr style=\"text-align: right;\">\n",
       "      <th></th>\n",
       "      <th>AVERAGE_SPEED_DIFF</th>\n",
       "      <th>AVERAGE_FREE_FLOW_SPEED</th>\n",
       "      <th>AVERAGE_TIME_DIFF</th>\n",
       "      <th>AVERAGE_FREE_FLOW_TIME</th>\n",
       "      <th>LUMINOSITY</th>\n",
       "      <th>AVERAGE_TEMPERATURE</th>\n",
       "      <th>AVERAGE_ATMOSP_PRESSURE</th>\n",
       "      <th>AVERAGE_HUMIDITY</th>\n",
       "      <th>AVERAGE_WIND_SPEED</th>\n",
       "      <th>AVERAGE_PRECIPITATION</th>\n",
       "      <th>AVERAGE_SPEED</th>\n",
       "      <th>EVENT</th>\n",
       "      <th>DAY</th>\n",
       "      <th>MONTH</th>\n",
       "      <th>WEEK</th>\n",
       "      <th>HOUR</th>\n",
       "      <th>WEEKEND</th>\n",
       "    </tr>\n",
       "  </thead>\n",
       "  <tbody>\n",
       "    <tr>\n",
       "      <th>0</th>\n",
       "      <td>Medium</td>\n",
       "      <td>41.5</td>\n",
       "      <td>11.5</td>\n",
       "      <td>71.4</td>\n",
       "      <td>LIGHT</td>\n",
       "      <td>15.0</td>\n",
       "      <td>1019.0</td>\n",
       "      <td>100.0</td>\n",
       "      <td>3.0</td>\n",
       "      <td>0.0</td>\n",
       "      <td>5.756936</td>\n",
       "      <td>0.0</td>\n",
       "      <td>3</td>\n",
       "      <td>8</td>\n",
       "      <td>35</td>\n",
       "      <td>7</td>\n",
       "      <td>0</td>\n",
       "    </tr>\n",
       "    <tr>\n",
       "      <th>1</th>\n",
       "      <td>High</td>\n",
       "      <td>41.7</td>\n",
       "      <td>48.3</td>\n",
       "      <td>87.4</td>\n",
       "      <td>LIGHT</td>\n",
       "      <td>21.0</td>\n",
       "      <td>1021.0</td>\n",
       "      <td>53.0</td>\n",
       "      <td>5.0</td>\n",
       "      <td>0.0</td>\n",
       "      <td>14.842373</td>\n",
       "      <td>0.0</td>\n",
       "      <td>4</td>\n",
       "      <td>8</td>\n",
       "      <td>32</td>\n",
       "      <td>14</td>\n",
       "      <td>0</td>\n",
       "    </tr>\n",
       "    <tr>\n",
       "      <th>2</th>\n",
       "      <td>High</td>\n",
       "      <td>38.6</td>\n",
       "      <td>38.4</td>\n",
       "      <td>85.2</td>\n",
       "      <td>LIGHT</td>\n",
       "      <td>26.0</td>\n",
       "      <td>1014.0</td>\n",
       "      <td>61.0</td>\n",
       "      <td>4.0</td>\n",
       "      <td>0.0</td>\n",
       "      <td>11.992233</td>\n",
       "      <td>0.0</td>\n",
       "      <td>6</td>\n",
       "      <td>9</td>\n",
       "      <td>35</td>\n",
       "      <td>16</td>\n",
       "      <td>1</td>\n",
       "    </tr>\n",
       "    <tr>\n",
       "      <th>3</th>\n",
       "      <td>High</td>\n",
       "      <td>37.4</td>\n",
       "      <td>61.0</td>\n",
       "      <td>94.1</td>\n",
       "      <td>LIGHT</td>\n",
       "      <td>18.0</td>\n",
       "      <td>1025.0</td>\n",
       "      <td>48.0</td>\n",
       "      <td>4.0</td>\n",
       "      <td>0.0</td>\n",
       "      <td>14.709220</td>\n",
       "      <td>0.0</td>\n",
       "      <td>1</td>\n",
       "      <td>2</td>\n",
       "      <td>9</td>\n",
       "      <td>11</td>\n",
       "      <td>0</td>\n",
       "    </tr>\n",
       "    <tr>\n",
       "      <th>4</th>\n",
       "      <td>Medium</td>\n",
       "      <td>41.6</td>\n",
       "      <td>50.4</td>\n",
       "      <td>77.0</td>\n",
       "      <td>LIGHT</td>\n",
       "      <td>15.0</td>\n",
       "      <td>1008.0</td>\n",
       "      <td>82.0</td>\n",
       "      <td>10.0</td>\n",
       "      <td>0.0</td>\n",
       "      <td>16.457143</td>\n",
       "      <td>0.0</td>\n",
       "      <td>3</td>\n",
       "      <td>6</td>\n",
       "      <td>23</td>\n",
       "      <td>12</td>\n",
       "      <td>0</td>\n",
       "    </tr>\n",
       "  </tbody>\n",
       "</table>\n",
       "</div>"
      ],
      "text/plain": [
       "  AVERAGE_SPEED_DIFF  AVERAGE_FREE_FLOW_SPEED  AVERAGE_TIME_DIFF  \\\n",
       "0             Medium                     41.5               11.5   \n",
       "1               High                     41.7               48.3   \n",
       "2               High                     38.6               38.4   \n",
       "3               High                     37.4               61.0   \n",
       "4             Medium                     41.6               50.4   \n",
       "\n",
       "   AVERAGE_FREE_FLOW_TIME LUMINOSITY  AVERAGE_TEMPERATURE  \\\n",
       "0                    71.4      LIGHT                 15.0   \n",
       "1                    87.4      LIGHT                 21.0   \n",
       "2                    85.2      LIGHT                 26.0   \n",
       "3                    94.1      LIGHT                 18.0   \n",
       "4                    77.0      LIGHT                 15.0   \n",
       "\n",
       "   AVERAGE_ATMOSP_PRESSURE  AVERAGE_HUMIDITY  AVERAGE_WIND_SPEED  \\\n",
       "0                   1019.0             100.0                 3.0   \n",
       "1                   1021.0              53.0                 5.0   \n",
       "2                   1014.0              61.0                 4.0   \n",
       "3                   1025.0              48.0                 4.0   \n",
       "4                   1008.0              82.0                10.0   \n",
       "\n",
       "   AVERAGE_PRECIPITATION  AVERAGE_SPEED  EVENT  DAY  MONTH  WEEK  HOUR  \\\n",
       "0                    0.0       5.756936    0.0    3      8    35     7   \n",
       "1                    0.0      14.842373    0.0    4      8    32    14   \n",
       "2                    0.0      11.992233    0.0    6      9    35    16   \n",
       "3                    0.0      14.709220    0.0    1      2     9    11   \n",
       "4                    0.0      16.457143    0.0    3      6    23    12   \n",
       "\n",
       "   WEEKEND  \n",
       "0        0  \n",
       "1        0  \n",
       "2        1  \n",
       "3        0  \n",
       "4        0  "
      ]
     },
     "execution_count": 11,
     "metadata": {},
     "output_type": "execute_result"
    }
   ],
   "source": [
    "def convert_The_Weeknd(day):\n",
    "    if day in range(5):\n",
    "        return 0\n",
    "    else:\n",
    "        return 1\n",
    "    \n",
    "df_training_conversion['WEEKEND'] = df_training_conversion['DAY'].apply(convert_The_Weeknd)    \n",
    "df_training_conversion.head()"
   ]
  },
  {
   "cell_type": "markdown",
   "metadata": {
    "id": "C1-Y5h91KxGw"
   },
   "source": [
    "### $\\textbf{Speed Diff}$"
   ]
  },
  {
   "cell_type": "code",
   "execution_count": 12,
   "metadata": {
    "colab": {
     "base_uri": "https://localhost:8080/"
    },
    "id": "rnpwmdgPKpUs",
    "outputId": "51f6f4c4-48d2-42c2-eb28-29bad8202d75"
   },
   "outputs": [
    {
     "data": {
      "text/plain": [
       "array([2, 3, 0, 1, 4])"
      ]
     },
     "execution_count": 12,
     "metadata": {},
     "output_type": "execute_result"
    }
   ],
   "source": [
    "def convertSpeed(speed):\n",
    "    if speed == 'None':\n",
    "        return 0\n",
    "    elif speed == 'Low':\n",
    "        return 1\n",
    "    elif speed == 'Medium':\n",
    "        return 2\n",
    "    elif speed == 'High':\n",
    "        return 3\n",
    "    elif speed == 'Very_High':\n",
    "        return 4\n",
    "\n",
    "df_training_conversion['AVERAGE_SPEED_DIFF'] = df_training_conversion['AVERAGE_SPEED_DIFF'].apply(convertSpeed)\n",
    "df_training_conversion['AVERAGE_SPEED_DIFF'].unique()"
   ]
  },
  {
   "cell_type": "markdown",
   "metadata": {
    "id": "p_eL3fcMK7ab"
   },
   "source": [
    "### $\\textbf{Luminosity}$"
   ]
  },
  {
   "cell_type": "code",
   "execution_count": 13,
   "metadata": {
    "colab": {
     "base_uri": "https://localhost:8080/"
    },
    "id": "0pX9S-hHK7va",
    "outputId": "bf8b1293-173f-46d9-bc20-64088f993cbb"
   },
   "outputs": [
    {
     "data": {
      "text/plain": [
       "array([2, 1, 0])"
      ]
     },
     "execution_count": 13,
     "metadata": {},
     "output_type": "execute_result"
    }
   ],
   "source": [
    "def convertLuminosity(lum):\n",
    "    if lum == 'DARK':\n",
    "        return 0\n",
    "    elif lum == 'LOW_LIGHT':\n",
    "        return 1\n",
    "    elif lum == 'LIGHT':\n",
    "        return 2\n",
    "\n",
    "df_training_conversion['LUMINOSITY'] = df_training_conversion['LUMINOSITY'].apply(convertLuminosity)\n",
    "df_training_conversion['LUMINOSITY'].unique()"
   ]
  },
  {
   "cell_type": "code",
   "execution_count": 36,
   "metadata": {},
   "outputs": [
    {
     "ename": "KeyError",
     "evalue": "'conditions'",
     "output_type": "error",
     "traceback": [
      "\u001b[0;31m---------------------------------------------------------------------------\u001b[0m",
      "\u001b[0;31mKeyError\u001b[0m                                  Traceback (most recent call last)",
      "\u001b[0;32m~/anaconda3/envs/daa/lib/python3.6/site-packages/pandas/core/indexes/base.py\u001b[0m in \u001b[0;36mget_loc\u001b[0;34m(self, key, method, tolerance)\u001b[0m\n\u001b[1;32m   2897\u001b[0m             \u001b[0;32mtry\u001b[0m\u001b[0;34m:\u001b[0m\u001b[0;34m\u001b[0m\u001b[0;34m\u001b[0m\u001b[0m\n\u001b[0;32m-> 2898\u001b[0;31m                 \u001b[0;32mreturn\u001b[0m \u001b[0mself\u001b[0m\u001b[0;34m.\u001b[0m\u001b[0m_engine\u001b[0m\u001b[0;34m.\u001b[0m\u001b[0mget_loc\u001b[0m\u001b[0;34m(\u001b[0m\u001b[0mcasted_key\u001b[0m\u001b[0;34m)\u001b[0m\u001b[0;34m\u001b[0m\u001b[0;34m\u001b[0m\u001b[0m\n\u001b[0m\u001b[1;32m   2899\u001b[0m             \u001b[0;32mexcept\u001b[0m \u001b[0mKeyError\u001b[0m \u001b[0;32mas\u001b[0m \u001b[0merr\u001b[0m\u001b[0;34m:\u001b[0m\u001b[0;34m\u001b[0m\u001b[0;34m\u001b[0m\u001b[0m\n",
      "\u001b[0;32mpandas/_libs/index.pyx\u001b[0m in \u001b[0;36mpandas._libs.index.IndexEngine.get_loc\u001b[0;34m()\u001b[0m\n",
      "\u001b[0;32mpandas/_libs/index.pyx\u001b[0m in \u001b[0;36mpandas._libs.index.IndexEngine.get_loc\u001b[0;34m()\u001b[0m\n",
      "\u001b[0;32mpandas/_libs/hashtable_class_helper.pxi\u001b[0m in \u001b[0;36mpandas._libs.hashtable.PyObjectHashTable.get_item\u001b[0;34m()\u001b[0m\n",
      "\u001b[0;32mpandas/_libs/hashtable_class_helper.pxi\u001b[0m in \u001b[0;36mpandas._libs.hashtable.PyObjectHashTable.get_item\u001b[0;34m()\u001b[0m\n",
      "\u001b[0;31mKeyError\u001b[0m: 'conditions'",
      "\nThe above exception was the direct cause of the following exception:\n",
      "\u001b[0;31mKeyError\u001b[0m                                  Traceback (most recent call last)",
      "\u001b[0;32m<ipython-input-36-25e9faaf3f59>\u001b[0m in \u001b[0;36m<module>\u001b[0;34m\u001b[0m\n\u001b[1;32m      5\u001b[0m         \u001b[0;32mreturn\u001b[0m \u001b[0;36m0\u001b[0m\u001b[0;34m\u001b[0m\u001b[0;34m\u001b[0m\u001b[0m\n\u001b[1;32m      6\u001b[0m \u001b[0;34m\u001b[0m\u001b[0m\n\u001b[0;32m----> 7\u001b[0;31m \u001b[0mdf_training_conversion\u001b[0m\u001b[0;34m[\u001b[0m\u001b[0;34m'conditions'\u001b[0m\u001b[0;34m]\u001b[0m \u001b[0;34m=\u001b[0m \u001b[0mdf_training_conversion\u001b[0m\u001b[0;34m[\u001b[0m\u001b[0;34m'conditions'\u001b[0m\u001b[0;34m]\u001b[0m\u001b[0;34m.\u001b[0m\u001b[0mapply\u001b[0m\u001b[0;34m(\u001b[0m\u001b[0mconvertCondition\u001b[0m\u001b[0;34m)\u001b[0m\u001b[0;34m\u001b[0m\u001b[0;34m\u001b[0m\u001b[0m\n\u001b[0m\u001b[1;32m      8\u001b[0m \u001b[0mdf_training_conversion\u001b[0m\u001b[0;34m[\u001b[0m\u001b[0;34m'conditions'\u001b[0m\u001b[0;34m]\u001b[0m\u001b[0;34m.\u001b[0m\u001b[0munique\u001b[0m\u001b[0;34m(\u001b[0m\u001b[0;34m)\u001b[0m\u001b[0;34m\u001b[0m\u001b[0;34m\u001b[0m\u001b[0m\n",
      "\u001b[0;32m~/anaconda3/envs/daa/lib/python3.6/site-packages/pandas/core/frame.py\u001b[0m in \u001b[0;36m__getitem__\u001b[0;34m(self, key)\u001b[0m\n\u001b[1;32m   2904\u001b[0m             \u001b[0;32mif\u001b[0m \u001b[0mself\u001b[0m\u001b[0;34m.\u001b[0m\u001b[0mcolumns\u001b[0m\u001b[0;34m.\u001b[0m\u001b[0mnlevels\u001b[0m \u001b[0;34m>\u001b[0m \u001b[0;36m1\u001b[0m\u001b[0;34m:\u001b[0m\u001b[0;34m\u001b[0m\u001b[0;34m\u001b[0m\u001b[0m\n\u001b[1;32m   2905\u001b[0m                 \u001b[0;32mreturn\u001b[0m \u001b[0mself\u001b[0m\u001b[0;34m.\u001b[0m\u001b[0m_getitem_multilevel\u001b[0m\u001b[0;34m(\u001b[0m\u001b[0mkey\u001b[0m\u001b[0;34m)\u001b[0m\u001b[0;34m\u001b[0m\u001b[0;34m\u001b[0m\u001b[0m\n\u001b[0;32m-> 2906\u001b[0;31m             \u001b[0mindexer\u001b[0m \u001b[0;34m=\u001b[0m \u001b[0mself\u001b[0m\u001b[0;34m.\u001b[0m\u001b[0mcolumns\u001b[0m\u001b[0;34m.\u001b[0m\u001b[0mget_loc\u001b[0m\u001b[0;34m(\u001b[0m\u001b[0mkey\u001b[0m\u001b[0;34m)\u001b[0m\u001b[0;34m\u001b[0m\u001b[0;34m\u001b[0m\u001b[0m\n\u001b[0m\u001b[1;32m   2907\u001b[0m             \u001b[0;32mif\u001b[0m \u001b[0mis_integer\u001b[0m\u001b[0;34m(\u001b[0m\u001b[0mindexer\u001b[0m\u001b[0;34m)\u001b[0m\u001b[0;34m:\u001b[0m\u001b[0;34m\u001b[0m\u001b[0;34m\u001b[0m\u001b[0m\n\u001b[1;32m   2908\u001b[0m                 \u001b[0mindexer\u001b[0m \u001b[0;34m=\u001b[0m \u001b[0;34m[\u001b[0m\u001b[0mindexer\u001b[0m\u001b[0;34m]\u001b[0m\u001b[0;34m\u001b[0m\u001b[0;34m\u001b[0m\u001b[0m\n",
      "\u001b[0;32m~/anaconda3/envs/daa/lib/python3.6/site-packages/pandas/core/indexes/base.py\u001b[0m in \u001b[0;36mget_loc\u001b[0;34m(self, key, method, tolerance)\u001b[0m\n\u001b[1;32m   2898\u001b[0m                 \u001b[0;32mreturn\u001b[0m \u001b[0mself\u001b[0m\u001b[0;34m.\u001b[0m\u001b[0m_engine\u001b[0m\u001b[0;34m.\u001b[0m\u001b[0mget_loc\u001b[0m\u001b[0;34m(\u001b[0m\u001b[0mcasted_key\u001b[0m\u001b[0;34m)\u001b[0m\u001b[0;34m\u001b[0m\u001b[0;34m\u001b[0m\u001b[0m\n\u001b[1;32m   2899\u001b[0m             \u001b[0;32mexcept\u001b[0m \u001b[0mKeyError\u001b[0m \u001b[0;32mas\u001b[0m \u001b[0merr\u001b[0m\u001b[0;34m:\u001b[0m\u001b[0;34m\u001b[0m\u001b[0;34m\u001b[0m\u001b[0m\n\u001b[0;32m-> 2900\u001b[0;31m                 \u001b[0;32mraise\u001b[0m \u001b[0mKeyError\u001b[0m\u001b[0;34m(\u001b[0m\u001b[0mkey\u001b[0m\u001b[0;34m)\u001b[0m \u001b[0;32mfrom\u001b[0m \u001b[0merr\u001b[0m\u001b[0;34m\u001b[0m\u001b[0;34m\u001b[0m\u001b[0m\n\u001b[0m\u001b[1;32m   2901\u001b[0m \u001b[0;34m\u001b[0m\u001b[0m\n\u001b[1;32m   2902\u001b[0m         \u001b[0;32mif\u001b[0m \u001b[0mtolerance\u001b[0m \u001b[0;32mis\u001b[0m \u001b[0;32mnot\u001b[0m \u001b[0;32mNone\u001b[0m\u001b[0;34m:\u001b[0m\u001b[0;34m\u001b[0m\u001b[0;34m\u001b[0m\u001b[0m\n",
      "\u001b[0;31mKeyError\u001b[0m: 'conditions'"
     ]
    }
   ],
   "source": [
    "def convertCondition(con):\n",
    "    if con == 'Partially cloudy' or con == 'Rain, Partially cloudy' or con == 'Rain, Overcast' or con == 'Rain' or con == 'Overcast':\n",
    "        return 1\n",
    "    else:\n",
    "        return 0\n",
    "\n",
    "df_training_conversion['conditions'] = df_training_conversion['conditions'].apply(convertCondition)\n",
    "df_training_conversion['conditions'].unique()"
   ]
  },
  {
   "cell_type": "code",
   "execution_count": 14,
   "metadata": {
    "colab": {
     "base_uri": "https://localhost:8080/"
    },
    "id": "EeTSScs6LDST",
    "outputId": "d0597242-1a34-457b-e58d-c7290bd7d406"
   },
   "outputs": [
    {
     "name": "stdout",
     "output_type": "stream",
     "text": [
      "<class 'pandas.core.frame.DataFrame'>\n",
      "RangeIndex: 6812 entries, 0 to 6811\n",
      "Data columns (total 17 columns):\n",
      " #   Column                   Non-Null Count  Dtype  \n",
      "---  ------                   --------------  -----  \n",
      " 0   AVERAGE_SPEED_DIFF       6812 non-null   int64  \n",
      " 1   AVERAGE_FREE_FLOW_SPEED  6812 non-null   float64\n",
      " 2   AVERAGE_TIME_DIFF        6812 non-null   float64\n",
      " 3   AVERAGE_FREE_FLOW_TIME   6812 non-null   float64\n",
      " 4   LUMINOSITY               6812 non-null   int64  \n",
      " 5   AVERAGE_TEMPERATURE      6812 non-null   float64\n",
      " 6   AVERAGE_ATMOSP_PRESSURE  6812 non-null   float64\n",
      " 7   AVERAGE_HUMIDITY         6812 non-null   float64\n",
      " 8   AVERAGE_WIND_SPEED       6812 non-null   float64\n",
      " 9   AVERAGE_PRECIPITATION    6812 non-null   float64\n",
      " 10  AVERAGE_SPEED            6812 non-null   float64\n",
      " 11  EVENT                    6812 non-null   float64\n",
      " 12  DAY                      6812 non-null   int64  \n",
      " 13  MONTH                    6812 non-null   int64  \n",
      " 14  WEEK                     6812 non-null   int64  \n",
      " 15  HOUR                     6812 non-null   int64  \n",
      " 16  WEEKEND                  6812 non-null   int64  \n",
      "dtypes: float64(10), int64(7)\n",
      "memory usage: 904.8 KB\n"
     ]
    }
   ],
   "source": [
    "df_training_conversion.info()"
   ]
  },
  {
   "cell_type": "code",
   "execution_count": 38,
   "metadata": {
    "colab": {
     "base_uri": "https://localhost:8080/",
     "height": 226
    },
    "id": "I7sTY2zWLuz_",
    "outputId": "bff9bab2-fab9-455d-8954-b8d21acc82c2"
   },
   "outputs": [
    {
     "data": {
      "text/html": [
       "<div>\n",
       "<style scoped>\n",
       "    .dataframe tbody tr th:only-of-type {\n",
       "        vertical-align: middle;\n",
       "    }\n",
       "\n",
       "    .dataframe tbody tr th {\n",
       "        vertical-align: top;\n",
       "    }\n",
       "\n",
       "    .dataframe thead th {\n",
       "        text-align: right;\n",
       "    }\n",
       "</style>\n",
       "<table border=\"1\" class=\"dataframe\">\n",
       "  <thead>\n",
       "    <tr style=\"text-align: right;\">\n",
       "      <th></th>\n",
       "      <th>AVERAGE_SPEED_DIFF</th>\n",
       "      <th>AVERAGE_FREE_FLOW_SPEED</th>\n",
       "      <th>AVERAGE_TIME_DIFF</th>\n",
       "      <th>AVERAGE_FREE_FLOW_TIME</th>\n",
       "      <th>LUMINOSITY</th>\n",
       "      <th>AVERAGE_TEMPERATURE</th>\n",
       "      <th>AVERAGE_ATMOSP_PRESSURE</th>\n",
       "      <th>AVERAGE_HUMIDITY</th>\n",
       "      <th>AVERAGE_WIND_SPEED</th>\n",
       "      <th>AVERAGE_PRECIPITATION</th>\n",
       "      <th>AVERAGE_SPEED</th>\n",
       "      <th>DAY</th>\n",
       "      <th>MONTH</th>\n",
       "      <th>WEEK</th>\n",
       "      <th>HOUR</th>\n",
       "      <th>WEEKEND</th>\n",
       "    </tr>\n",
       "  </thead>\n",
       "  <tbody>\n",
       "    <tr>\n",
       "      <th>0</th>\n",
       "      <td>2</td>\n",
       "      <td>41.5</td>\n",
       "      <td>11.5</td>\n",
       "      <td>71.4</td>\n",
       "      <td>None</td>\n",
       "      <td>15.0</td>\n",
       "      <td>1019.0</td>\n",
       "      <td>100.0</td>\n",
       "      <td>3.0</td>\n",
       "      <td>0.0</td>\n",
       "      <td>5.756936</td>\n",
       "      <td>3</td>\n",
       "      <td>8</td>\n",
       "      <td>35</td>\n",
       "      <td>7</td>\n",
       "      <td>0</td>\n",
       "    </tr>\n",
       "    <tr>\n",
       "      <th>1</th>\n",
       "      <td>3</td>\n",
       "      <td>41.7</td>\n",
       "      <td>48.3</td>\n",
       "      <td>87.4</td>\n",
       "      <td>None</td>\n",
       "      <td>21.0</td>\n",
       "      <td>1021.0</td>\n",
       "      <td>53.0</td>\n",
       "      <td>5.0</td>\n",
       "      <td>0.0</td>\n",
       "      <td>14.842373</td>\n",
       "      <td>4</td>\n",
       "      <td>8</td>\n",
       "      <td>32</td>\n",
       "      <td>14</td>\n",
       "      <td>0</td>\n",
       "    </tr>\n",
       "    <tr>\n",
       "      <th>2</th>\n",
       "      <td>3</td>\n",
       "      <td>38.6</td>\n",
       "      <td>38.4</td>\n",
       "      <td>85.2</td>\n",
       "      <td>None</td>\n",
       "      <td>26.0</td>\n",
       "      <td>1014.0</td>\n",
       "      <td>61.0</td>\n",
       "      <td>4.0</td>\n",
       "      <td>0.0</td>\n",
       "      <td>11.992233</td>\n",
       "      <td>6</td>\n",
       "      <td>9</td>\n",
       "      <td>35</td>\n",
       "      <td>16</td>\n",
       "      <td>1</td>\n",
       "    </tr>\n",
       "    <tr>\n",
       "      <th>3</th>\n",
       "      <td>3</td>\n",
       "      <td>37.4</td>\n",
       "      <td>61.0</td>\n",
       "      <td>94.1</td>\n",
       "      <td>None</td>\n",
       "      <td>18.0</td>\n",
       "      <td>1025.0</td>\n",
       "      <td>48.0</td>\n",
       "      <td>4.0</td>\n",
       "      <td>0.0</td>\n",
       "      <td>14.709220</td>\n",
       "      <td>1</td>\n",
       "      <td>2</td>\n",
       "      <td>9</td>\n",
       "      <td>11</td>\n",
       "      <td>0</td>\n",
       "    </tr>\n",
       "    <tr>\n",
       "      <th>4</th>\n",
       "      <td>2</td>\n",
       "      <td>41.6</td>\n",
       "      <td>50.4</td>\n",
       "      <td>77.0</td>\n",
       "      <td>None</td>\n",
       "      <td>15.0</td>\n",
       "      <td>1008.0</td>\n",
       "      <td>82.0</td>\n",
       "      <td>10.0</td>\n",
       "      <td>0.0</td>\n",
       "      <td>16.457143</td>\n",
       "      <td>3</td>\n",
       "      <td>6</td>\n",
       "      <td>23</td>\n",
       "      <td>12</td>\n",
       "      <td>0</td>\n",
       "    </tr>\n",
       "  </tbody>\n",
       "</table>\n",
       "</div>"
      ],
      "text/plain": [
       "   AVERAGE_SPEED_DIFF  AVERAGE_FREE_FLOW_SPEED  AVERAGE_TIME_DIFF  \\\n",
       "0                   2                     41.5               11.5   \n",
       "1                   3                     41.7               48.3   \n",
       "2                   3                     38.6               38.4   \n",
       "3                   3                     37.4               61.0   \n",
       "4                   2                     41.6               50.4   \n",
       "\n",
       "   AVERAGE_FREE_FLOW_TIME LUMINOSITY  AVERAGE_TEMPERATURE  \\\n",
       "0                    71.4       None                 15.0   \n",
       "1                    87.4       None                 21.0   \n",
       "2                    85.2       None                 26.0   \n",
       "3                    94.1       None                 18.0   \n",
       "4                    77.0       None                 15.0   \n",
       "\n",
       "   AVERAGE_ATMOSP_PRESSURE  AVERAGE_HUMIDITY  AVERAGE_WIND_SPEED  \\\n",
       "0                   1019.0             100.0                 3.0   \n",
       "1                   1021.0              53.0                 5.0   \n",
       "2                   1014.0              61.0                 4.0   \n",
       "3                   1025.0              48.0                 4.0   \n",
       "4                   1008.0              82.0                10.0   \n",
       "\n",
       "   AVERAGE_PRECIPITATION  AVERAGE_SPEED  DAY  MONTH  WEEK  HOUR  WEEKEND  \n",
       "0                    0.0       5.756936    3      8    35     7        0  \n",
       "1                    0.0      14.842373    4      8    32    14        0  \n",
       "2                    0.0      11.992233    6      9    35    16        1  \n",
       "3                    0.0      14.709220    1      2     9    11        0  \n",
       "4                    0.0      16.457143    3      6    23    12        0  "
      ]
     },
     "execution_count": 38,
     "metadata": {},
     "output_type": "execute_result"
    }
   ],
   "source": [
    "df_training_conversion.head()"
   ]
  },
  {
   "cell_type": "markdown",
   "metadata": {
    "id": "VsQQAx6CJM1D"
   },
   "source": [
    "# $\\textbf{Seleção das Features}$"
   ]
  },
  {
   "cell_type": "code",
   "execution_count": 55,
   "metadata": {
    "id": "KcOhoG51JRUC"
   },
   "outputs": [],
   "source": [
    "df_training_feature_selection = df_training_conversion.copy()\n",
    "\n",
    "df_training_feature_selection = df_training_feature_selection.fillna(0)"
   ]
  },
  {
   "cell_type": "markdown",
   "metadata": {},
   "source": [
    "### $\\textbf{Variância}$"
   ]
  },
  {
   "cell_type": "code",
   "execution_count": 275,
   "metadata": {},
   "outputs": [
    {
     "name": "stdout",
     "output_type": "stream",
     "text": [
      "Variancia: \n",
      "AVERAGE_SPEED_DIFF             1.626845\n",
      "AVERAGE_FREE_FLOW_SPEED       16.966349\n",
      "AVERAGE_TIME_DIFF           1122.954048\n",
      "AVERAGE_FREE_FLOW_TIME        68.797081\n",
      "LUMINOSITY                     0.961058\n",
      "AVERAGE_ATMOSP_PRESSURE       33.074697\n",
      "temp                          24.517047\n",
      "feelslike                     26.615782\n",
      "dew                           17.042277\n",
      "humidity                     314.141358\n",
      "precip                         0.461531\n",
      "windspeed                     52.984692\n",
      "winddir                    14306.431157\n",
      "cloudcover                   770.326285\n",
      "visibility                     8.416105\n",
      "conditions                     0.249705\n",
      "AVERAGE_SPEED                 56.242825\n",
      "DAY                            4.039718\n",
      "MONTH                          8.688312\n",
      "WEEK                         160.447044\n",
      "HOUR                          48.156936\n",
      "WEEKEND                        0.206882\n",
      "dtype: float64\n"
     ]
    }
   ],
   "source": [
    "print(\"Variancia: \")\n",
    "\n",
    "print(df_training_feature_selection.var())"
   ]
  },
  {
   "cell_type": "markdown",
   "metadata": {},
   "source": [
    "### $\\textbf{Skewness}$"
   ]
  },
  {
   "cell_type": "code",
   "execution_count": 276,
   "metadata": {},
   "outputs": [
    {
     "name": "stdout",
     "output_type": "stream",
     "text": [
      "Skewness: \n",
      "AVERAGE_SPEED_DIFF          0.395661\n",
      "AVERAGE_FREE_FLOW_SPEED     0.109731\n",
      "AVERAGE_TIME_DIFF           2.042207\n",
      "AVERAGE_FREE_FLOW_TIME     -0.365761\n",
      "LUMINOSITY                 -0.011740\n",
      "AVERAGE_ATMOSP_PRESSURE    -0.823360\n",
      "temp                        0.298864\n",
      "feelslike                   0.082956\n",
      "dew                        -0.445282\n",
      "humidity                   -0.909562\n",
      "precip                     12.099479\n",
      "windspeed                   0.758482\n",
      "winddir                    -0.425999\n",
      "cloudcover                  0.906526\n",
      "visibility                 -0.525003\n",
      "conditions                  0.072877\n",
      "AVERAGE_SPEED               1.082269\n",
      "DAY                        -0.021310\n",
      "MONTH                      -0.473665\n",
      "WEEK                       -0.474628\n",
      "HOUR                       -0.006174\n",
      "WEEKEND                     0.913646\n",
      "dtype: float64\n"
     ]
    }
   ],
   "source": [
    "print(\"Skewness: \")\n",
    "\n",
    "print(df_training_feature_selection.skew())"
   ]
  },
  {
   "cell_type": "markdown",
   "metadata": {},
   "source": [
    "### $\\textbf{Qui-Quadrado}$"
   ]
  },
  {
   "cell_type": "code",
   "execution_count": 277,
   "metadata": {},
   "outputs": [
    {
     "name": "stdout",
     "output_type": "stream",
     "text": [
      "\n",
      "Teste qui-quadrado para a coluna: AVERAGE_FREE_FLOW_SPEED\n",
      "Sao dependentes (rejeita-se hipotese nula)\n",
      "\n",
      "Teste qui-quadrado para a coluna: AVERAGE_TIME_DIFF\n",
      "Sao dependentes (rejeita-se hipotese nula)\n",
      "\n",
      "Teste qui-quadrado para a coluna: AVERAGE_FREE_FLOW_TIME\n",
      "Sao dependentes (rejeita-se hipotese nula)\n",
      "\n",
      "Teste qui-quadrado para a coluna: LUMINOSITY\n",
      "Sao dependentes (rejeita-se hipotese nula)\n",
      "\n",
      "Teste qui-quadrado para a coluna: AVERAGE_ATMOSP_PRESSURE\n",
      "Sao dependentes (rejeita-se hipotese nula)\n",
      "\n",
      "Teste qui-quadrado para a coluna: temp\n",
      "Sao dependentes (rejeita-se hipotese nula)\n",
      "\n",
      "Teste qui-quadrado para a coluna: feelslike\n",
      "Sao dependentes (rejeita-se hipotese nula)\n",
      "\n",
      "Teste qui-quadrado para a coluna: dew\n",
      "Sao independentes (não se rejeita hipotese nula)\n",
      "\n",
      "Teste qui-quadrado para a coluna: humidity\n",
      "Sao independentes (não se rejeita hipotese nula)\n",
      "\n",
      "Teste qui-quadrado para a coluna: precip\n",
      "Sao independentes (não se rejeita hipotese nula)\n",
      "\n",
      "Teste qui-quadrado para a coluna: windspeed\n",
      "Sao dependentes (rejeita-se hipotese nula)\n",
      "\n",
      "Teste qui-quadrado para a coluna: winddir\n",
      "Sao dependentes (rejeita-se hipotese nula)\n",
      "\n",
      "Teste qui-quadrado para a coluna: cloudcover\n",
      "Sao dependentes (rejeita-se hipotese nula)\n",
      "\n",
      "Teste qui-quadrado para a coluna: visibility\n",
      "Sao dependentes (rejeita-se hipotese nula)\n",
      "\n",
      "Teste qui-quadrado para a coluna: conditions\n",
      "Sao independentes (não se rejeita hipotese nula)\n",
      "\n",
      "Teste qui-quadrado para a coluna: DAY\n",
      "Sao dependentes (rejeita-se hipotese nula)\n",
      "\n",
      "Teste qui-quadrado para a coluna: MONTH\n",
      "Sao dependentes (rejeita-se hipotese nula)\n",
      "\n",
      "Teste qui-quadrado para a coluna: WEEK\n",
      "Sao dependentes (rejeita-se hipotese nula)\n",
      "\n",
      "Teste qui-quadrado para a coluna: HOUR\n",
      "Sao dependentes (rejeita-se hipotese nula)\n",
      "\n",
      "Teste qui-quadrado para a coluna: AVERAGE_SPEED\n",
      "Sao independentes (não se rejeita hipotese nula)\n"
     ]
    }
   ],
   "source": [
    "cols = ['AVERAGE_FREE_FLOW_SPEED', 'AVERAGE_TIME_DIFF', 'AVERAGE_FREE_FLOW_TIME', 'LUMINOSITY',\n",
    "\t    'AVERAGE_ATMOSP_PRESSURE', 'temp', 'feelslike', 'dew', 'humidity', 'precip', 'windspeed',\n",
    "        'winddir', 'cloudcover', 'visibility', 'conditions', 'DAY', 'MONTH', 'WEEK', 'HOUR', 'AVERAGE_SPEED']\n",
    "\n",
    "def teste_chi2(table, c):\n",
    "    stat, p, dof, expected = chi2_contingency(table)\n",
    "    if p <= (1 - c):\n",
    "        print(\"Sao dependentes (rejeita-se hipotese nula)\")\n",
    "    else:\n",
    "        print(\"Sao independentes (não se rejeita hipotese nula)\")\n",
    "    return expected\n",
    "\n",
    "\n",
    "\n",
    "for col in cols:\n",
    "    print(\"\\nTeste qui-quadrado para a coluna: \" + col)\n",
    "        \n",
    "    valor = teste_chi2(pd.crosstab(df_training_feature_selection['AVERAGE_SPEED_DIFF'], df_training_feature_selection[col], margins=True), 0.95)"
   ]
  },
  {
   "cell_type": "markdown",
   "metadata": {},
   "source": [
    "### $\\textbf{Correlação}$"
   ]
  },
  {
   "cell_type": "code",
   "execution_count": 57,
   "metadata": {},
   "outputs": [
    {
     "data": {
      "text/plain": [
       "<AxesSubplot:>"
      ]
     },
     "execution_count": 57,
     "metadata": {},
     "output_type": "execute_result"
    },
    {
     "data": {
      "image/png": "[encoded data removed]",
      "text/plain": [
       "<Figure size 1440x1080 with 2 Axes>"
      ]
     },
     "metadata": {
      "needs_background": "light"
     },
     "output_type": "display_data"
    }
   ],
   "source": [
    "plt.figure(figsize=(20,15))\n",
    "sns.heatmap(df_training_feature_selection.corr(), vmin = -1, vmax = 1, square = True, annot = True)"
   ]
  },
  {
   "cell_type": "code",
   "execution_count": 56,
   "metadata": {},
   "outputs": [],
   "source": [
    "#df_training_feature_selection = df_training_feature_selection.drop(['AVERAGE_ATMOSP_PRESSURE', 'feelslike', 'dew', 'cloudcover', 'conditions', 'DAY', 'MONTH', 'WEEK', 'temp', 'precip', 'winddir', 'visibility'], axis = 1)\n",
    "df_training_feature_selection = df_training_feature_selection.drop(['AVERAGE_TIME_DIFF','AVERAGE_PRECIPITATION','AVERAGE_HUMIDITY','DAY', 'WEEK'], axis = 1)"
   ]
  },
  {
   "cell_type": "code",
   "execution_count": 18,
   "metadata": {},
   "outputs": [
    {
     "data": {
      "text/html": [
       "<div>\n",
       "<style scoped>\n",
       "    .dataframe tbody tr th:only-of-type {\n",
       "        vertical-align: middle;\n",
       "    }\n",
       "\n",
       "    .dataframe tbody tr th {\n",
       "        vertical-align: top;\n",
       "    }\n",
       "\n",
       "    .dataframe thead th {\n",
       "        text-align: right;\n",
       "    }\n",
       "</style>\n",
       "<table border=\"1\" class=\"dataframe\">\n",
       "  <thead>\n",
       "    <tr style=\"text-align: right;\">\n",
       "      <th></th>\n",
       "      <th>AVERAGE_SPEED_DIFF</th>\n",
       "      <th>AVERAGE_FREE_FLOW_SPEED</th>\n",
       "      <th>AVERAGE_TIME_DIFF</th>\n",
       "      <th>AVERAGE_FREE_FLOW_TIME</th>\n",
       "      <th>LUMINOSITY</th>\n",
       "      <th>AVERAGE_TEMPERATURE</th>\n",
       "      <th>AVERAGE_ATMOSP_PRESSURE</th>\n",
       "      <th>AVERAGE_WIND_SPEED</th>\n",
       "      <th>AVERAGE_SPEED</th>\n",
       "      <th>EVENT</th>\n",
       "      <th>HOUR</th>\n",
       "      <th>WEEKEND</th>\n",
       "    </tr>\n",
       "  </thead>\n",
       "  <tbody>\n",
       "    <tr>\n",
       "      <th>0</th>\n",
       "      <td>2</td>\n",
       "      <td>41.5</td>\n",
       "      <td>11.5</td>\n",
       "      <td>71.4</td>\n",
       "      <td>2</td>\n",
       "      <td>15.0</td>\n",
       "      <td>1019.0</td>\n",
       "      <td>3.0</td>\n",
       "      <td>5.756936</td>\n",
       "      <td>0.0</td>\n",
       "      <td>7</td>\n",
       "      <td>0</td>\n",
       "    </tr>\n",
       "    <tr>\n",
       "      <th>1</th>\n",
       "      <td>3</td>\n",
       "      <td>41.7</td>\n",
       "      <td>48.3</td>\n",
       "      <td>87.4</td>\n",
       "      <td>2</td>\n",
       "      <td>21.0</td>\n",
       "      <td>1021.0</td>\n",
       "      <td>5.0</td>\n",
       "      <td>14.842373</td>\n",
       "      <td>0.0</td>\n",
       "      <td>14</td>\n",
       "      <td>0</td>\n",
       "    </tr>\n",
       "    <tr>\n",
       "      <th>2</th>\n",
       "      <td>3</td>\n",
       "      <td>38.6</td>\n",
       "      <td>38.4</td>\n",
       "      <td>85.2</td>\n",
       "      <td>2</td>\n",
       "      <td>26.0</td>\n",
       "      <td>1014.0</td>\n",
       "      <td>4.0</td>\n",
       "      <td>11.992233</td>\n",
       "      <td>0.0</td>\n",
       "      <td>16</td>\n",
       "      <td>1</td>\n",
       "    </tr>\n",
       "    <tr>\n",
       "      <th>3</th>\n",
       "      <td>3</td>\n",
       "      <td>37.4</td>\n",
       "      <td>61.0</td>\n",
       "      <td>94.1</td>\n",
       "      <td>2</td>\n",
       "      <td>18.0</td>\n",
       "      <td>1025.0</td>\n",
       "      <td>4.0</td>\n",
       "      <td>14.709220</td>\n",
       "      <td>0.0</td>\n",
       "      <td>11</td>\n",
       "      <td>0</td>\n",
       "    </tr>\n",
       "    <tr>\n",
       "      <th>4</th>\n",
       "      <td>2</td>\n",
       "      <td>41.6</td>\n",
       "      <td>50.4</td>\n",
       "      <td>77.0</td>\n",
       "      <td>2</td>\n",
       "      <td>15.0</td>\n",
       "      <td>1008.0</td>\n",
       "      <td>10.0</td>\n",
       "      <td>16.457143</td>\n",
       "      <td>0.0</td>\n",
       "      <td>12</td>\n",
       "      <td>0</td>\n",
       "    </tr>\n",
       "  </tbody>\n",
       "</table>\n",
       "</div>"
      ],
      "text/plain": [
       "   AVERAGE_SPEED_DIFF  AVERAGE_FREE_FLOW_SPEED  AVERAGE_TIME_DIFF  \\\n",
       "0                   2                     41.5               11.5   \n",
       "1                   3                     41.7               48.3   \n",
       "2                   3                     38.6               38.4   \n",
       "3                   3                     37.4               61.0   \n",
       "4                   2                     41.6               50.4   \n",
       "\n",
       "   AVERAGE_FREE_FLOW_TIME  LUMINOSITY  AVERAGE_TEMPERATURE  \\\n",
       "0                    71.4           2                 15.0   \n",
       "1                    87.4           2                 21.0   \n",
       "2                    85.2           2                 26.0   \n",
       "3                    94.1           2                 18.0   \n",
       "4                    77.0           2                 15.0   \n",
       "\n",
       "   AVERAGE_ATMOSP_PRESSURE  AVERAGE_WIND_SPEED  AVERAGE_SPEED  EVENT  HOUR  \\\n",
       "0                   1019.0                 3.0       5.756936    0.0     7   \n",
       "1                   1021.0                 5.0      14.842373    0.0    14   \n",
       "2                   1014.0                 4.0      11.992233    0.0    16   \n",
       "3                   1025.0                 4.0      14.709220    0.0    11   \n",
       "4                   1008.0                10.0      16.457143    0.0    12   \n",
       "\n",
       "   WEEKEND  \n",
       "0        0  \n",
       "1        0  \n",
       "2        1  \n",
       "3        0  \n",
       "4        0  "
      ]
     },
     "execution_count": 18,
     "metadata": {},
     "output_type": "execute_result"
    }
   ],
   "source": [
    "df_training_feature_selection.head()"
   ]
  },
  {
   "cell_type": "markdown",
   "metadata": {},
   "source": [
    "# $\\textbf{Treino dos modelos}$"
   ]
  },
  {
   "cell_type": "code",
   "execution_count": 281,
   "metadata": {
    "colab": {
     "base_uri": "https://localhost:8080/"
    },
    "id": "xFo7h936LlbV",
    "outputId": "5bfef7d0-c9dc-4dd9-ea14-d60d76229d81"
   },
   "outputs": [
    {
     "name": "stdout",
     "output_type": "stream",
     "text": [
      "256\n"
     ]
    }
   ],
   "source": [
    "import itertools\n",
    "\n",
    "cols = ['AVERAGE_FREE_FLOW_SPEED', 'AVERAGE_TIME_DIFF', 'AVERAGE_FREE_FLOW_TIME', 'LUMINOSITY',\n",
    "        'HOUR', 'WEEKEND', 'humidity', 'windspeed']\n",
    "\n",
    "all_combinations = []\n",
    "\n",
    "for r in range(0, len(cols) + 1):\n",
    "    combinations_object = itertools.combinations(cols, r)\n",
    "    combinations_list = list(combinations_object)\n",
    "    all_combinations += combinations_list\n",
    "\n",
    "print(len(all_combinations))"
   ]
  },
  {
   "cell_type": "code",
   "execution_count": 283,
   "metadata": {
    "id": "7rKpDv03Llq7"
   },
   "outputs": [],
   "source": [
    "rng = np.random.RandomState(0)\n",
    "\n",
    "def model(df):\n",
    "    \n",
    "    x = df.drop(['AVERAGE_SPEED_DIFF'], axis = 1)\n",
    "    y = df['AVERAGE_SPEED_DIFF'].to_frame()\n",
    "    \n",
    "    param_grid = [\n",
    "         {'C': [10, 100], 'gamma': [0.01, 0.001], 'kernel': ['rbf']},\n",
    "    ]\n",
    "\n",
    "    x_train, x_test, y_train, y_test = train_test_split(x, np.ravel(y), test_size = 0.3, random_state = 2021)\n",
    "\n",
    "    grid = HalvingGridSearchCV(SVC(random_state = rng), param_grid = param_grid, factor = 2, refit = True, verbose = 0)\n",
    "    grid.fit(x_train, y_train)\n",
    "\n",
    "    print(grid.best_params_)\n",
    "    print(grid.best_estimator_)\n",
    "\n",
    "    predictions = grid.predict(x_test)\n",
    "\n",
    "    return [grid, x_test, y_test, accuracy_score(y_test, predictions)]"
   ]
  },
  {
   "cell_type": "code",
   "execution_count": 284,
   "metadata": {
    "id": "yt7MhAsvPVe9"
   },
   "outputs": [],
   "source": [
    "import threading\n",
    "\n",
    "accuracy = 0\n",
    "bestPar = ()\n",
    "bestCols = []\n",
    "\n",
    "lock = threading.RLock()\n",
    "\n",
    "def superGrid(combs, start, end):\n",
    "    global bestPar, bestCols, accuracy\n",
    "\n",
    "    for elem in combs[start:end]:\n",
    "        df_test = df_training_feature_selection.copy()\n",
    "        df_test = df_training_feature_selection.drop(np.asarray(elem), axis = 1)\n",
    "        grid, x_test, y_test, acc = model(df_test)\n",
    "        \n",
    "        with lock:\n",
    "            if acc > accuracy:\n",
    "                bestPar = (grid, x_test, y_test, acc)\n",
    "                bestCols = np.asarray(elem)\n",
    "                accuracy = acc\n",
    "\n",
    "\n",
    "def split_processing(items, num_splits = 8):\n",
    "    split_size = len(items) // num_splits\n",
    "    threads = []\n",
    "\n",
    "    for i in range(num_splits):                                                        \n",
    "        start = i * split_size\n",
    "\n",
    "        end = None if i + 1 == num_splits else (i + 1) * split_size\n",
    "                            \n",
    "        threads.append(threading.Thread(target = superGrid, args = (items, start, end)))       \n",
    "        threads[-1].start()\n",
    "\n",
    "    for t in threads:\n",
    "        t.join()\n",
    "\n",
    "    print(\"Accuracy: %0.2f\" % accuracy)\n",
    "    print(\"Best Columns: \", bestCols)\n",
    "    plot_confusion_matrix(bestPar[0], bestPar[1], bestPar[2])"
   ]
  },
  {
   "cell_type": "code",
   "execution_count": 285,
   "metadata": {
    "colab": {
     "base_uri": "https://localhost:8080/"
    },
    "id": "Ni1mWZoDPehx",
    "outputId": "ede8cf86-da9f-43d6-a97d-98a69e1c0dc0"
   },
   "outputs": [
    {
     "name": "stdout",
     "output_type": "stream",
     "text": [
      "{'C': 100, 'gamma': 0.01, 'kernel': 'rbf'}\n",
      "SVC(C=100, gamma=0.01, random_state=RandomState(MT19937) at 0x7F62988C0540)\n",
      "{'C': 100, 'gamma': 0.001, 'kernel': 'rbf'}\n",
      "SVC(C=100, gamma=0.001, random_state=RandomState(MT19937) at 0x7F62988C0240)\n",
      "{'C': 10, 'gamma': 0.01, 'kernel': 'rbf'}\n",
      "SVC(C=10, gamma=0.01, random_state=RandomState(MT19937) at 0x7F62988C0340)\n",
      "{'C': 100, 'gamma': 0.001, 'kernel': 'rbf'}\n",
      "SVC(C=100, gamma=0.001, random_state=RandomState(MT19937) at 0x7F62988C0140)\n",
      "{'C': 10, 'gamma': 0.001, 'kernel': 'rbf'}\n",
      "SVC(C=10, gamma=0.001, random_state=RandomState(MT19937) at 0x7F62988EEA40)\n",
      "{'C': 10, 'gamma': 0.001, 'kernel': 'rbf'}\n",
      "SVC(C=10, gamma=0.001, random_state=RandomState(MT19937) at 0x7F62988C0640)\n",
      "{'C': 10, 'gamma': 0.001, 'kernel': 'rbf'}\n",
      "SVC(C=10, gamma=0.001, random_state=RandomState(MT19937) at 0x7F62988C0740)\n",
      "{'C': 10, 'gamma': 0.001, 'kernel': 'rbf'}\n",
      "SVC(C=10, gamma=0.001, random_state=RandomState(MT19937) at 0x7F62988C0940)\n",
      "{'C': 100, 'gamma': 0.001, 'kernel': 'rbf'}\n",
      "SVC(C=100, gamma=0.001, random_state=RandomState(MT19937) at 0x7F62988C0D40)\n",
      "{'C': 10, 'gamma': 0.001, 'kernel': 'rbf'}\n",
      "SVC(C=10, gamma=0.001, random_state=RandomState(MT19937) at 0x7F62988C0040)\n",
      "{'C': 100, 'gamma': 0.001, 'kernel': 'rbf'}\n",
      "SVC(C=100, gamma=0.001, random_state=RandomState(MT19937) at 0x7F62988EE840)\n",
      "{'C': 100, 'gamma': 0.001, 'kernel': 'rbf'}\n",
      "SVC(C=100, gamma=0.001, random_state=RandomState(MT19937) at 0x7F62988C0E40)\n",
      "{'C': 10, 'gamma': 0.001, 'kernel': 'rbf'}\n",
      "SVC(C=10, gamma=0.001, random_state=RandomState(MT19937) at 0x7F62988EEB40)\n",
      "{'C': 100, 'gamma': 0.001, 'kernel': 'rbf'}\n",
      "SVC(C=100, gamma=0.001, random_state=RandomState(MT19937) at 0x7F62988EEE40)\n",
      "{'C': 100, 'gamma': 0.001, 'kernel': 'rbf'}\n",
      "SVC(C=100, gamma=0.001, random_state=RandomState(MT19937) at 0x7F62988EED40)\n",
      "{'C': 10, 'gamma': 0.001, 'kernel': 'rbf'}\n",
      "SVC(C=10, gamma=0.001, random_state=RandomState(MT19937) at 0x7F62988EEC40)\n",
      "{'C': 10, 'gamma': 0.001, 'kernel': 'rbf'}\n",
      "SVC(C=10, gamma=0.001, random_state=RandomState(MT19937) at 0x7F62988C0B40)\n",
      "{'C': 10, 'gamma': 0.001, 'kernel': 'rbf'}\n",
      "SVC(C=10, gamma=0.001, random_state=RandomState(MT19937) at 0x7F62988C0A40)\n",
      "{'C': 10, 'gamma': 0.001, 'kernel': 'rbf'}\n",
      "SVC(C=10, gamma=0.001, random_state=RandomState(MT19937) at 0x7F62988C0440)\n",
      "{'C': 100, 'gamma': 0.001, 'kernel': 'rbf'}\n",
      "SVC(C=100, gamma=0.001, random_state=RandomState(MT19937) at 0x7F62988C0540)\n",
      "{'C': 100, 'gamma': 0.001, 'kernel': 'rbf'}\n",
      "SVC(C=100, gamma=0.001, random_state=RandomState(MT19937) at 0x7F62988EE540)\n",
      "{'C': 10, 'gamma': 0.001, 'kernel': 'rbf'}\n",
      "SVC(C=10, gamma=0.001, random_state=RandomState(MT19937) at 0x7F62988C0C40)\n",
      "{'C': 10, 'gamma': 0.001, 'kernel': 'rbf'}\n",
      "SVC(C=10, gamma=0.001, random_state=RandomState(MT19937) at 0x7F62988EE640)\n",
      "{'C': 100, 'gamma': 0.001, 'kernel': 'rbf'}\n",
      "SVC(C=100, gamma=0.001, random_state=RandomState(MT19937) at 0x7F62988EEA40)\n",
      "{'C': 10, 'gamma': 0.01, 'kernel': 'rbf'}\n",
      "SVC(C=10, gamma=0.01, random_state=RandomState(MT19937) at 0x7F62988C0740)\n",
      "{'C': 100, 'gamma': 0.001, 'kernel': 'rbf'}\n",
      "SVC(C=100, gamma=0.001, random_state=RandomState(MT19937) at 0x7F62988EE740)\n",
      "{'C': 100, 'gamma': 0.001, 'kernel': 'rbf'}\n",
      "SVC(C=100, gamma=0.001, random_state=RandomState(MT19937) at 0x7F62988C0040)\n",
      "{'C': 100, 'gamma': 0.001, 'kernel': 'rbf'}\n",
      "SVC(C=100, gamma=0.001, random_state=RandomState(MT19937) at 0x7F62988C0340)\n",
      "{'C': 10, 'gamma': 0.001, 'kernel': 'rbf'}\n",
      "SVC(C=10, gamma=0.001, random_state=RandomState(MT19937) at 0x7F62988EE040)\n",
      "{'C': 10, 'gamma': 0.001, 'kernel': 'rbf'}\n",
      "SVC(C=10, gamma=0.001, random_state=RandomState(MT19937) at 0x7F62988C0240)\n",
      "{'C': 10, 'gamma': 0.001, 'kernel': 'rbf'}\n",
      "SVC(C=10, gamma=0.001, random_state=RandomState(MT19937) at 0x7F62988C0E40)\n",
      "{'C': 10, 'gamma': 0.001, 'kernel': 'rbf'}\n",
      "SVC(C=10, gamma=0.001, random_state=RandomState(MT19937) at 0x7F62988EE840)\n",
      "{'C': 10, 'gamma': 0.001, 'kernel': 'rbf'}\n",
      "SVC(C=10, gamma=0.001, random_state=RandomState(MT19937) at 0x7F62988EEC40)\n",
      "{'C': 10, 'gamma': 0.001, 'kernel': 'rbf'}\n",
      "SVC(C=10, gamma=0.001, random_state=RandomState(MT19937) at 0x7F62988C0B40)\n",
      "{'C': 100, 'gamma': 0.001, 'kernel': 'rbf'}\n",
      "SVC(C=100, gamma=0.001, random_state=RandomState(MT19937) at 0x7F62988C0A40)\n",
      "{'C': 10, 'gamma': 0.001, 'kernel': 'rbf'}\n",
      "SVC(C=10, gamma=0.001, random_state=RandomState(MT19937) at 0x7F62988C0940)\n",
      "{'C': 10, 'gamma': 0.001, 'kernel': 'rbf'}\n",
      "SVC(C=10, gamma=0.001, random_state=RandomState(MT19937) at 0x7F62988EED40)\n",
      "{'C': 100, 'gamma': 0.001, 'kernel': 'rbf'}\n",
      "SVC(C=100, gamma=0.001, random_state=RandomState(MT19937) at 0x7F62988EE540)\n",
      "{'C': 100, 'gamma': 0.001, 'kernel': 'rbf'}\n",
      "SVC(C=100, gamma=0.001, random_state=RandomState(MT19937) at 0x7F62988EE040)\n",
      "{'C': 10, 'gamma': 0.001, 'kernel': 'rbf'}\n",
      "SVC(C=10, gamma=0.001, random_state=RandomState(MT19937) at 0x7F62988C0C40)\n",
      "{'C': 10, 'gamma': 0.001, 'kernel': 'rbf'}\n",
      "SVC(C=10, gamma=0.001, random_state=RandomState(MT19937) at 0x7F62988EEB40)\n",
      "{'C': 100, 'gamma': 0.001, 'kernel': 'rbf'}\n",
      "SVC(C=100, gamma=0.001, random_state=RandomState(MT19937) at 0x7F62988C0740)\n",
      "{'C': 10, 'gamma': 0.001, 'kernel': 'rbf'}\n",
      "SVC(C=10, gamma=0.001, random_state=RandomState(MT19937) at 0x7F62988EE740)\n",
      "{'C': 100, 'gamma': 0.001, 'kernel': 'rbf'}\n",
      "SVC(C=100, gamma=0.001, random_state=RandomState(MT19937) at 0x7F62988EEA40)\n",
      "{'C': 10, 'gamma': 0.001, 'kernel': 'rbf'}\n",
      "SVC(C=10, gamma=0.001, random_state=RandomState(MT19937) at 0x7F62988C0040)\n",
      "{'C': 10, 'gamma': 0.001, 'kernel': 'rbf'}\n",
      "SVC(C=10, gamma=0.001, random_state=RandomState(MT19937) at 0x7F62988C0540)\n",
      "{'C': 10, 'gamma': 0.001, 'kernel': 'rbf'}\n",
      "SVC(C=10, gamma=0.001, random_state=RandomState(MT19937) at 0x7F62988C0240)\n",
      "{'C': 10, 'gamma': 0.001, 'kernel': 'rbf'}\n",
      "SVC(C=10, gamma=0.001, random_state=RandomState(MT19937) at 0x7F62988EE840)\n",
      "{'C': 10, 'gamma': 0.001, 'kernel': 'rbf'}\n",
      "SVC(C=10, gamma=0.001, random_state=RandomState(MT19937) at 0x7F62988C0440)\n",
      "{'C': 100, 'gamma': 0.001, 'kernel': 'rbf'}\n",
      "SVC(C=100, gamma=0.001, random_state=RandomState(MT19937) at 0x7F62988C0640)\n",
      "{'C': 100, 'gamma': 0.001, 'kernel': 'rbf'}\n",
      "SVC(C=100, gamma=0.001, random_state=RandomState(MT19937) at 0x7F62988C0B40)\n",
      "{'C': 10, 'gamma': 0.001, 'kernel': 'rbf'}\n",
      "SVC(C=10, gamma=0.001, random_state=RandomState(MT19937) at 0x7F62988EE640)\n",
      "{'C': 100, 'gamma': 0.001, 'kernel': 'rbf'}\n",
      "SVC(C=100, gamma=0.001, random_state=RandomState(MT19937) at 0x7F62988EED40)\n",
      "{'C': 10, 'gamma': 0.001, 'kernel': 'rbf'}\n",
      "SVC(C=10, gamma=0.001, random_state=RandomState(MT19937) at 0x7F62988C0340)\n",
      "{'C': 100, 'gamma': 0.001, 'kernel': 'rbf'}\n",
      "SVC(C=100, gamma=0.001, random_state=RandomState(MT19937) at 0x7F62988EE940)\n",
      "{'C': 10, 'gamma': 0.001, 'kernel': 'rbf'}\n",
      "SVC(C=10, gamma=0.001, random_state=RandomState(MT19937) at 0x7F62988C0D40)\n",
      "{'C': 10, 'gamma': 0.001, 'kernel': 'rbf'}\n",
      "SVC(C=10, gamma=0.001, random_state=RandomState(MT19937) at 0x7F62988C0940)\n",
      "{'C': 10, 'gamma': 0.001, 'kernel': 'rbf'}\n",
      "SVC(C=10, gamma=0.001, random_state=RandomState(MT19937) at 0x7F62988C0C40)\n",
      "{'C': 100, 'gamma': 0.001, 'kernel': 'rbf'}\n",
      "SVC(C=100, gamma=0.001, random_state=RandomState(MT19937) at 0x7F62988C0740)\n",
      "{'C': 100, 'gamma': 0.001, 'kernel': 'rbf'}\n",
      "SVC(C=100, gamma=0.001, random_state=RandomState(MT19937) at 0x7F62988EEC40)\n",
      "{'C': 100, 'gamma': 0.001, 'kernel': 'rbf'}\n",
      "SVC(C=100, gamma=0.001, random_state=RandomState(MT19937) at 0x7F62988EE740)\n",
      "{'C': 100, 'gamma': 0.001, 'kernel': 'rbf'}\n",
      "SVC(C=100, gamma=0.001, random_state=RandomState(MT19937) at 0x7F62988EE840)\n",
      "{'C': 10, 'gamma': 0.001, 'kernel': 'rbf'}\n",
      "SVC(C=10, gamma=0.001, random_state=RandomState(MT19937) at 0x7F62988C0E40)\n",
      "{'C': 10, 'gamma': 0.001, 'kernel': 'rbf'}\n",
      "SVC(C=10, gamma=0.001, random_state=RandomState(MT19937) at 0x7F62988C0540)\n",
      "{'C': 10, 'gamma': 0.001, 'kernel': 'rbf'}\n",
      "SVC(C=10, gamma=0.001, random_state=RandomState(MT19937) at 0x7F62988EE540)\n",
      "{'C': 100, 'gamma': 0.001, 'kernel': 'rbf'}\n",
      "SVC(C=100, gamma=0.001, random_state=RandomState(MT19937) at 0x7F62988C0440)\n",
      "{'C': 10, 'gamma': 0.001, 'kernel': 'rbf'}\n",
      "SVC(C=10, gamma=0.001, random_state=RandomState(MT19937) at 0x7F62988C0640)\n",
      "{'C': 100, 'gamma': 0.001, 'kernel': 'rbf'}\n",
      "SVC(C=100, gamma=0.001, random_state=RandomState(MT19937) at 0x7F62988C0040)\n",
      "{'C': 10, 'gamma': 0.01, 'kernel': 'rbf'}\n",
      "SVC(C=10, gamma=0.01, random_state=RandomState(MT19937) at 0x7F62988C0B40)\n",
      "{'C': 100, 'gamma': 0.001, 'kernel': 'rbf'}\n",
      "SVC(C=100, gamma=0.001, random_state=RandomState(MT19937) at 0x7F62988EE940)\n",
      "{'C': 10, 'gamma': 0.001, 'kernel': 'rbf'}\n",
      "SVC(C=10, gamma=0.001, random_state=RandomState(MT19937) at 0x7F62988EEE40)\n",
      "{'C': 10, 'gamma': 0.001, 'kernel': 'rbf'}\n",
      "SVC(C=10, gamma=0.001, random_state=RandomState(MT19937) at 0x7F62988C0D40)\n",
      "{'C': 100, 'gamma': 0.001, 'kernel': 'rbf'}\n",
      "SVC(C=100, gamma=0.001, random_state=RandomState(MT19937) at 0x7F62988C0240)\n",
      "{'C': 100, 'gamma': 0.001, 'kernel': 'rbf'}\n",
      "SVC(C=100, gamma=0.001, random_state=RandomState(MT19937) at 0x7F62988C0940)\n",
      "{'C': 100, 'gamma': 0.001, 'kernel': 'rbf'}\n",
      "SVC(C=100, gamma=0.001, random_state=RandomState(MT19937) at 0x7F62988C0840)\n",
      "{'C': 100, 'gamma': 0.01, 'kernel': 'rbf'}\n",
      "SVC(C=100, gamma=0.01, random_state=RandomState(MT19937) at 0x7F62988C0340)\n",
      "{'C': 100, 'gamma': 0.001, 'kernel': 'rbf'}\n",
      "SVC(C=100, gamma=0.001, random_state=RandomState(MT19937) at 0x7F62988C0740)\n",
      "{'C': 10, 'gamma': 0.001, 'kernel': 'rbf'}\n",
      "SVC(C=10, gamma=0.001, random_state=RandomState(MT19937) at 0x7F62988C0C40)\n",
      "{'C': 10, 'gamma': 0.001, 'kernel': 'rbf'}\n",
      "SVC(C=10, gamma=0.001, random_state=RandomState(MT19937) at 0x7F62988C0B40)\n",
      "{'C': 100, 'gamma': 0.001, 'kernel': 'rbf'}\n",
      "SVC(C=100, gamma=0.001, random_state=RandomState(MT19937) at 0x7F62988C0A40)\n",
      "{'C': 10, 'gamma': 0.01, 'kernel': 'rbf'}\n",
      "SVC(C=10, gamma=0.01, random_state=RandomState(MT19937) at 0x7F62988EEC40)\n",
      "{'C': 100, 'gamma': 0.001, 'kernel': 'rbf'}\n",
      "SVC(C=100, gamma=0.001, random_state=RandomState(MT19937) at 0x7F62988C0540)\n",
      "{'C': 100, 'gamma': 0.001, 'kernel': 'rbf'}\n",
      "SVC(C=100, gamma=0.001, random_state=RandomState(MT19937) at 0x7F62988C0E40)\n",
      "{'C': 10, 'gamma': 0.001, 'kernel': 'rbf'}\n",
      "SVC(C=10, gamma=0.001, random_state=RandomState(MT19937) at 0x7F62988C0640)\n",
      "{'C': 100, 'gamma': 0.001, 'kernel': 'rbf'}\n",
      "SVC(C=100, gamma=0.001, random_state=RandomState(MT19937) at 0x7F62988C0040)\n",
      "{'C': 10, 'gamma': 0.001, 'kernel': 'rbf'}\n",
      "SVC(C=10, gamma=0.001, random_state=RandomState(MT19937) at 0x7F62988EE740)\n",
      "{'C': 10, 'gamma': 0.001, 'kernel': 'rbf'}\n",
      "SVC(C=10, gamma=0.001, random_state=RandomState(MT19937) at 0x7F62988EE840)\n",
      "{'C': 10, 'gamma': 0.01, 'kernel': 'rbf'}\n",
      "SVC(C=10, gamma=0.01, random_state=RandomState(MT19937) at 0x7F62988EEE40)\n",
      "{'C': 10, 'gamma': 0.001, 'kernel': 'rbf'}\n",
      "SVC(C=10, gamma=0.001, random_state=RandomState(MT19937) at 0x7F62988C0940)\n",
      "{'C': 10, 'gamma': 0.001, 'kernel': 'rbf'}\n",
      "SVC(C=10, gamma=0.001, random_state=RandomState(MT19937) at 0x7F62988EED40)\n",
      "{'C': 10, 'gamma': 0.001, 'kernel': 'rbf'}\n",
      "SVC(C=10, gamma=0.001, random_state=RandomState(MT19937) at 0x7F62988EE040)\n",
      "{'C': 10, 'gamma': 0.001, 'kernel': 'rbf'}\n",
      "SVC(C=10, gamma=0.001, random_state=RandomState(MT19937) at 0x7F62988EE540)\n",
      "{'C': 100, 'gamma': 0.001, 'kernel': 'rbf'}\n",
      "SVC(C=100, gamma=0.001, random_state=RandomState(MT19937) at 0x7F62988C0340)\n",
      "{'C': 10, 'gamma': 0.01, 'kernel': 'rbf'}\n",
      "SVC(C=10, gamma=0.01, random_state=RandomState(MT19937) at 0x7F62988C0740)\n",
      "{'C': 100, 'gamma': 0.001, 'kernel': 'rbf'}\n",
      "SVC(C=100, gamma=0.001, random_state=RandomState(MT19937) at 0x7F62988C0C40)\n",
      "{'C': 10, 'gamma': 0.001, 'kernel': 'rbf'}\n",
      "SVC(C=10, gamma=0.001, random_state=RandomState(MT19937) at 0x7F62988C0840)\n",
      "{'C': 100, 'gamma': 0.01, 'kernel': 'rbf'}\n",
      "SVC(C=100, gamma=0.01, random_state=RandomState(MT19937) at 0x7F62988C0B40)\n",
      "{'C': 10, 'gamma': 0.001, 'kernel': 'rbf'}\n",
      "SVC(C=10, gamma=0.001, random_state=RandomState(MT19937) at 0x7F62988C0A40)\n",
      "{'C': 100, 'gamma': 0.001, 'kernel': 'rbf'}\n",
      "SVC(C=100, gamma=0.001, random_state=RandomState(MT19937) at 0x7F62988EEA40)\n",
      "{'C': 100, 'gamma': 0.01, 'kernel': 'rbf'}\n",
      "SVC(C=100, gamma=0.01, random_state=RandomState(MT19937) at 0x7F62988EEC40)\n",
      "{'C': 10, 'gamma': 0.001, 'kernel': 'rbf'}\n",
      "SVC(C=10, gamma=0.001, random_state=RandomState(MT19937) at 0x7F62988EEB40)\n",
      "{'C': 10, 'gamma': 0.001, 'kernel': 'rbf'}\n",
      "SVC(C=10, gamma=0.001, random_state=RandomState(MT19937) at 0x7F62988C0040)\n",
      "{'C': 10, 'gamma': 0.001, 'kernel': 'rbf'}\n",
      "SVC(C=10, gamma=0.001, random_state=RandomState(MT19937) at 0x7F62988C0640)\n",
      "{'C': 10, 'gamma': 0.001, 'kernel': 'rbf'}\n",
      "SVC(C=10, gamma=0.001, random_state=RandomState(MT19937) at 0x7F62988C0540)\n",
      "{'C': 10, 'gamma': 0.001, 'kernel': 'rbf'}\n",
      "SVC(C=10, gamma=0.001, random_state=RandomState(MT19937) at 0x7F62988EEE40)\n",
      "{'C': 10, 'gamma': 0.001, 'kernel': 'rbf'}\n",
      "SVC(C=10, gamma=0.001, random_state=RandomState(MT19937) at 0x7F62988C0940)\n",
      "{'C': 100, 'gamma': 0.01, 'kernel': 'rbf'}\n",
      "SVC(C=100, gamma=0.01, random_state=RandomState(MT19937) at 0x7F62988EE040)\n",
      "{'C': 100, 'gamma': 0.001, 'kernel': 'rbf'}\n",
      "SVC(C=100, gamma=0.001, random_state=RandomState(MT19937) at 0x7F62988C0140)\n",
      "{'C': 100, 'gamma': 0.001, 'kernel': 'rbf'}\n",
      "SVC(C=100, gamma=0.001, random_state=RandomState(MT19937) at 0x7F62988EED40)\n",
      "{'C': 10, 'gamma': 0.001, 'kernel': 'rbf'}\n",
      "SVC(C=10, gamma=0.001, random_state=RandomState(MT19937) at 0x7F62988EE540)\n",
      "{'C': 10, 'gamma': 0.001, 'kernel': 'rbf'}\n",
      "SVC(C=10, gamma=0.001, random_state=RandomState(MT19937) at 0x7F62988C0840)\n",
      "{'C': 10, 'gamma': 0.001, 'kernel': 'rbf'}\n",
      "SVC(C=10, gamma=0.001, random_state=RandomState(MT19937) at 0x7F62988C0240)\n",
      "{'C': 10, 'gamma': 0.001, 'kernel': 'rbf'}\n",
      "SVC(C=10, gamma=0.001, random_state=RandomState(MT19937) at 0x7F62988C0740)\n",
      "{'C': 10, 'gamma': 0.001, 'kernel': 'rbf'}\n",
      "SVC(C=10, gamma=0.001, random_state=RandomState(MT19937) at 0x7F62988C0B40)\n",
      "{'C': 100, 'gamma': 0.001, 'kernel': 'rbf'}\n",
      "SVC(C=100, gamma=0.001, random_state=RandomState(MT19937) at 0x7F62988C0A40)\n",
      "{'C': 100, 'gamma': 0.001, 'kernel': 'rbf'}\n",
      "SVC(C=100, gamma=0.001, random_state=RandomState(MT19937) at 0x7F62988EEC40)\n",
      "{'C': 100, 'gamma': 0.001, 'kernel': 'rbf'}\n",
      "SVC(C=100, gamma=0.001, random_state=RandomState(MT19937) at 0x7F62988EEA40)\n",
      "{'C': 10, 'gamma': 0.001, 'kernel': 'rbf'}\n",
      "SVC(C=10, gamma=0.001, random_state=RandomState(MT19937) at 0x7F62988C0440)\n",
      "{'C': 100, 'gamma': 0.001, 'kernel': 'rbf'}\n",
      "SVC(C=100, gamma=0.001, random_state=RandomState(MT19937) at 0x7F62988C0640)\n",
      "{'C': 100, 'gamma': 0.001, 'kernel': 'rbf'}\n",
      "SVC(C=100, gamma=0.001, random_state=RandomState(MT19937) at 0x7F62988EE740)\n",
      "{'C': 100, 'gamma': 0.001, 'kernel': 'rbf'}\n",
      "SVC(C=100, gamma=0.001, random_state=RandomState(MT19937) at 0x7F62988C0540)\n",
      "{'C': 100, 'gamma': 0.001, 'kernel': 'rbf'}\n",
      "SVC(C=100, gamma=0.001, random_state=RandomState(MT19937) at 0x7F62988C0D40)\n",
      "{'C': 10, 'gamma': 0.001, 'kernel': 'rbf'}\n",
      "SVC(C=10, gamma=0.001, random_state=RandomState(MT19937) at 0x7F62988EEE40)\n",
      "{'C': 100, 'gamma': 0.001, 'kernel': 'rbf'}\n",
      "SVC(C=100, gamma=0.001, random_state=RandomState(MT19937) at 0x7F62988EE040)\n",
      "{'C': 100, 'gamma': 0.001, 'kernel': 'rbf'}\n",
      "SVC(C=100, gamma=0.001, random_state=RandomState(MT19937) at 0x7F62988C0140)\n",
      "{'C': 100, 'gamma': 0.001, 'kernel': 'rbf'}\n",
      "SVC(C=100, gamma=0.001, random_state=RandomState(MT19937) at 0x7F62988EE540)\n",
      "{'C': 100, 'gamma': 0.001, 'kernel': 'rbf'}\n",
      "SVC(C=100, gamma=0.001, random_state=RandomState(MT19937) at 0x7F62988EED40)\n",
      "{'C': 100, 'gamma': 0.001, 'kernel': 'rbf'}\n",
      "SVC(C=100, gamma=0.001, random_state=RandomState(MT19937) at 0x7F62988EE840)\n",
      "{'C': 100, 'gamma': 0.001, 'kernel': 'rbf'}\n",
      "SVC(C=100, gamma=0.001, random_state=RandomState(MT19937) at 0x7F62988C0840)\n",
      "{'C': 100, 'gamma': 0.001, 'kernel': 'rbf'}\n",
      "SVC(C=100, gamma=0.001, random_state=RandomState(MT19937) at 0x7F62988C0340)\n",
      "{'C': 10, 'gamma': 0.001, 'kernel': 'rbf'}\n",
      "SVC(C=10, gamma=0.001, random_state=RandomState(MT19937) at 0x7F62988C0940)\n",
      "{'C': 100, 'gamma': 0.001, 'kernel': 'rbf'}\n",
      "SVC(C=100, gamma=0.001, random_state=RandomState(MT19937) at 0x7F62988C0740)\n",
      "{'C': 10, 'gamma': 0.001, 'kernel': 'rbf'}\n",
      "SVC(C=10, gamma=0.001, random_state=RandomState(MT19937) at 0x7F62988EEC40)\n",
      "{'C': 100, 'gamma': 0.001, 'kernel': 'rbf'}\n",
      "SVC(C=100, gamma=0.001, random_state=RandomState(MT19937) at 0x7F62988EEA40)\n",
      "{'C': 100, 'gamma': 0.001, 'kernel': 'rbf'}\n",
      "SVC(C=100, gamma=0.001, random_state=RandomState(MT19937) at 0x7F62988EEB40)\n",
      "{'C': 100, 'gamma': 0.001, 'kernel': 'rbf'}\n",
      "SVC(C=100, gamma=0.001, random_state=RandomState(MT19937) at 0x7F62988C0640)\n",
      "{'C': 10, 'gamma': 0.001, 'kernel': 'rbf'}\n",
      "SVC(C=10, gamma=0.001, random_state=RandomState(MT19937) at 0x7F62988C0240)\n",
      "{'C': 10, 'gamma': 0.001, 'kernel': 'rbf'}\n",
      "SVC(C=10, gamma=0.001, random_state=RandomState(MT19937) at 0x7F62988EE640)\n",
      "{'C': 100, 'gamma': 0.001, 'kernel': 'rbf'}\n",
      "SVC(C=100, gamma=0.001, random_state=RandomState(MT19937) at 0x7F62988EE740)\n",
      "{'C': 100, 'gamma': 0.001, 'kernel': 'rbf'}\n",
      "SVC(C=100, gamma=0.001, random_state=RandomState(MT19937) at 0x7F62988C0540)\n",
      "{'C': 10, 'gamma': 0.001, 'kernel': 'rbf'}\n",
      "SVC(C=10, gamma=0.001, random_state=RandomState(MT19937) at 0x7F62988C0140)\n",
      "{'C': 10, 'gamma': 0.01, 'kernel': 'rbf'}\n",
      "SVC(C=10, gamma=0.01, random_state=RandomState(MT19937) at 0x7F62988C0E40)\n",
      "{'C': 10, 'gamma': 0.001, 'kernel': 'rbf'}\n",
      "SVC(C=10, gamma=0.001, random_state=RandomState(MT19937) at 0x7F62988C0940)\n",
      "{'C': 100, 'gamma': 0.001, 'kernel': 'rbf'}\n",
      "SVC(C=100, gamma=0.001, random_state=RandomState(MT19937) at 0x7F62988EE040)\n",
      "{'C': 100, 'gamma': 0.001, 'kernel': 'rbf'}\n",
      "SVC(C=100, gamma=0.001, random_state=RandomState(MT19937) at 0x7F62988EEE40)\n",
      "{'C': 100, 'gamma': 0.001, 'kernel': 'rbf'}\n",
      "SVC(C=100, gamma=0.001, random_state=RandomState(MT19937) at 0x7F62988C0440)\n",
      "{'C': 10, 'gamma': 0.01, 'kernel': 'rbf'}\n",
      "SVC(C=10, gamma=0.01, random_state=RandomState(MT19937) at 0x7F62988C0840)\n",
      "{'C': 100, 'gamma': 0.001, 'kernel': 'rbf'}\n",
      "SVC(C=100, gamma=0.001, random_state=RandomState(MT19937) at 0x7F62988C0340)\n",
      "{'C': 10, 'gamma': 0.01, 'kernel': 'rbf'}\n",
      "SVC(C=10, gamma=0.01, random_state=RandomState(MT19937) at 0x7F62988EEC40)\n",
      "{'C': 10, 'gamma': 0.001, 'kernel': 'rbf'}\n",
      "SVC(C=10, gamma=0.001, random_state=RandomState(MT19937) at 0x7F62988C0040)\n",
      "{'C': 10, 'gamma': 0.001, 'kernel': 'rbf'}\n",
      "SVC(C=10, gamma=0.001, random_state=RandomState(MT19937) at 0x7F62988C0740)\n",
      "{'C': 10, 'gamma': 0.001, 'kernel': 'rbf'}\n",
      "SVC(C=10, gamma=0.001, random_state=RandomState(MT19937) at 0x7F62988EED40)\n",
      "{'C': 100, 'gamma': 0.001, 'kernel': 'rbf'}\n",
      "SVC(C=100, gamma=0.001, random_state=RandomState(MT19937) at 0x7F62988EE640)\n",
      "{'C': 10, 'gamma': 0.001, 'kernel': 'rbf'}\n",
      "SVC(C=10, gamma=0.001, random_state=RandomState(MT19937) at 0x7F62988C0D40)\n",
      "{'C': 100, 'gamma': 0.001, 'kernel': 'rbf'}\n",
      "SVC(C=100, gamma=0.001, random_state=RandomState(MT19937) at 0x7F62988C0640)\n",
      "{'C': 10, 'gamma': 0.01, 'kernel': 'rbf'}\n",
      "SVC(C=10, gamma=0.01, random_state=RandomState(MT19937) at 0x7F62988EE740)\n",
      "{'C': 100, 'gamma': 0.001, 'kernel': 'rbf'}\n",
      "SVC(C=100, gamma=0.001, random_state=RandomState(MT19937) at 0x7F62988C0540)\n",
      "{'C': 100, 'gamma': 0.001, 'kernel': 'rbf'}\n",
      "SVC(C=100, gamma=0.001, random_state=RandomState(MT19937) at 0x7F62988C0E40)\n",
      "{'C': 10, 'gamma': 0.001, 'kernel': 'rbf'}\n",
      "SVC(C=10, gamma=0.001, random_state=RandomState(MT19937) at 0x7F62988C0140)\n",
      "{'C': 10, 'gamma': 0.001, 'kernel': 'rbf'}\n",
      "SVC(C=10, gamma=0.001, random_state=RandomState(MT19937) at 0x7F62988EEB40)\n",
      "{'C': 100, 'gamma': 0.001, 'kernel': 'rbf'}\n",
      "SVC(C=100, gamma=0.001, random_state=RandomState(MT19937) at 0x7F62988EE040)\n",
      "{'C': 10, 'gamma': 0.001, 'kernel': 'rbf'}\n",
      "SVC(C=10, gamma=0.001, random_state=RandomState(MT19937) at 0x7F62988C0440)\n",
      "{'C': 10, 'gamma': 0.001, 'kernel': 'rbf'}\n",
      "SVC(C=10, gamma=0.001, random_state=RandomState(MT19937) at 0x7F62988EEA40)\n",
      "{'C': 100, 'gamma': 0.001, 'kernel': 'rbf'}\n",
      "SVC(C=100, gamma=0.001, random_state=RandomState(MT19937) at 0x7F62988C0840)\n",
      "{'C': 100, 'gamma': 0.001, 'kernel': 'rbf'}\n",
      "SVC(C=100, gamma=0.001, random_state=RandomState(MT19937) at 0x7F62988C0340)\n",
      "{'C': 10, 'gamma': 0.001, 'kernel': 'rbf'}\n",
      "SVC(C=10, gamma=0.001, random_state=RandomState(MT19937) at 0x7F62988EEC40)\n",
      "{'C': 100, 'gamma': 0.001, 'kernel': 'rbf'}\n",
      "SVC(C=100, gamma=0.001, random_state=RandomState(MT19937) at 0x7F62988EEE40)\n",
      "{'C': 10, 'gamma': 0.001, 'kernel': 'rbf'}\n",
      "SVC(C=10, gamma=0.001, random_state=RandomState(MT19937) at 0x7F62988C0C40)\n",
      "{'C': 100, 'gamma': 0.001, 'kernel': 'rbf'}\n",
      "SVC(C=100, gamma=0.001, random_state=RandomState(MT19937) at 0x7F62988EED40)\n",
      "{'C': 10, 'gamma': 0.001, 'kernel': 'rbf'}\n",
      "SVC(C=10, gamma=0.001, random_state=RandomState(MT19937) at 0x7F62988EE640)\n",
      "{'C': 10, 'gamma': 0.001, 'kernel': 'rbf'}\n",
      "SVC(C=10, gamma=0.001, random_state=RandomState(MT19937) at 0x7F62988C0640)\n",
      "{'C': 10, 'gamma': 0.001, 'kernel': 'rbf'}\n",
      "SVC(C=10, gamma=0.001, random_state=RandomState(MT19937) at 0x7F62988C0B40)\n",
      "{'C': 100, 'gamma': 0.001, 'kernel': 'rbf'}\n",
      "SVC(C=100, gamma=0.001, random_state=RandomState(MT19937) at 0x7F62988EE540)\n",
      "{'C': 100, 'gamma': 0.001, 'kernel': 'rbf'}\n",
      "SVC(C=100, gamma=0.001, random_state=RandomState(MT19937) at 0x7F62988C0D40)\n",
      "{'C': 10, 'gamma': 0.001, 'kernel': 'rbf'}\n",
      "SVC(C=10, gamma=0.001, random_state=RandomState(MT19937) at 0x7F62988C0740)\n",
      "{'C': 100, 'gamma': 0.001, 'kernel': 'rbf'}\n",
      "SVC(C=100, gamma=0.001, random_state=RandomState(MT19937) at 0x7F62988C0140)\n",
      "{'C': 10, 'gamma': 0.001, 'kernel': 'rbf'}\n",
      "SVC(C=10, gamma=0.001, random_state=RandomState(MT19937) at 0x7F62988EEB40)\n",
      "{'C': 100, 'gamma': 0.001, 'kernel': 'rbf'}\n",
      "SVC(C=100, gamma=0.001, random_state=RandomState(MT19937) at 0x7F62988EE840)\n",
      "{'C': 100, 'gamma': 0.001, 'kernel': 'rbf'}\n",
      "SVC(C=100, gamma=0.001, random_state=RandomState(MT19937) at 0x7F62988C0440)\n",
      "{'C': 100, 'gamma': 0.001, 'kernel': 'rbf'}\n",
      "SVC(C=100, gamma=0.001, random_state=RandomState(MT19937) at 0x7F62988C0540)\n",
      "{'C': 100, 'gamma': 0.001, 'kernel': 'rbf'}\n",
      "SVC(C=100, gamma=0.001, random_state=RandomState(MT19937) at 0x7F62988C0240)\n",
      "{'C': 100, 'gamma': 0.001, 'kernel': 'rbf'}\n",
      "SVC(C=100, gamma=0.001, random_state=RandomState(MT19937) at 0x7F62988EEA40)\n",
      "{'C': 10, 'gamma': 0.001, 'kernel': 'rbf'}\n",
      "SVC(C=10, gamma=0.001, random_state=RandomState(MT19937) at 0x7F62988EEE40)\n",
      "{'C': 100, 'gamma': 0.001, 'kernel': 'rbf'}\n",
      "SVC(C=100, gamma=0.001, random_state=RandomState(MT19937) at 0x7F62988C0840)\n",
      "{'C': 10, 'gamma': 0.001, 'kernel': 'rbf'}\n",
      "SVC(C=10, gamma=0.001, random_state=RandomState(MT19937) at 0x7F62988C0640)\n",
      "{'C': 100, 'gamma': 0.001, 'kernel': 'rbf'}\n",
      "SVC(C=100, gamma=0.001, random_state=RandomState(MT19937) at 0x7F62988C0940)\n",
      "{'C': 100, 'gamma': 0.001, 'kernel': 'rbf'}\n",
      "SVC(C=100, gamma=0.001, random_state=RandomState(MT19937) at 0x7F62988C0040)\n",
      "{'C': 100, 'gamma': 0.01, 'kernel': 'rbf'}\n",
      "SVC(C=100, gamma=0.01, random_state=RandomState(MT19937) at 0x7F62988C0A40)\n",
      "{'C': 100, 'gamma': 0.001, 'kernel': 'rbf'}\n",
      "SVC(C=100, gamma=0.001, random_state=RandomState(MT19937) at 0x7F62988EE540)\n",
      "{'C': 100, 'gamma': 0.001, 'kernel': 'rbf'}\n",
      "SVC(C=100, gamma=0.001, random_state=RandomState(MT19937) at 0x7F62988EE040)\n",
      "{'C': 10, 'gamma': 0.001, 'kernel': 'rbf'}\n",
      "SVC(C=10, gamma=0.001, random_state=RandomState(MT19937) at 0x7F62988C0D40)\n",
      "{'C': 100, 'gamma': 0.001, 'kernel': 'rbf'}\n",
      "SVC(C=100, gamma=0.001, random_state=RandomState(MT19937) at 0x7F62988C0340)\n",
      "{'C': 100, 'gamma': 0.001, 'kernel': 'rbf'}\n",
      "SVC(C=100, gamma=0.001, random_state=RandomState(MT19937) at 0x7F62988C0740)\n",
      "{'C': 10, 'gamma': 0.001, 'kernel': 'rbf'}\n",
      "SVC(C=10, gamma=0.001, random_state=RandomState(MT19937) at 0x7F62988C0C40)\n",
      "{'C': 100, 'gamma': 0.001, 'kernel': 'rbf'}\n",
      "SVC(C=100, gamma=0.001, random_state=RandomState(MT19937) at 0x7F62988EEB40)\n",
      "{'C': 100, 'gamma': 0.001, 'kernel': 'rbf'}\n",
      "SVC(C=100, gamma=0.001, random_state=RandomState(MT19937) at 0x7F62988C0540)\n",
      "{'C': 10, 'gamma': 0.001, 'kernel': 'rbf'}\n",
      "SVC(C=10, gamma=0.001, random_state=RandomState(MT19937) at 0x7F62988EE840)\n",
      "{'C': 10, 'gamma': 0.01, 'kernel': 'rbf'}\n",
      "SVC(C=10, gamma=0.01, random_state=RandomState(MT19937) at 0x7F62988C0240)\n",
      "{'C': 100, 'gamma': 0.001, 'kernel': 'rbf'}\n",
      "SVC(C=100, gamma=0.001, random_state=RandomState(MT19937) at 0x7F62988EE740)\n",
      "{'C': 10, 'gamma': 0.001, 'kernel': 'rbf'}\n",
      "SVC(C=10, gamma=0.001, random_state=RandomState(MT19937) at 0x7F62988EEA40)\n",
      "{'C': 100, 'gamma': 0.001, 'kernel': 'rbf'}\n",
      "SVC(C=100, gamma=0.001, random_state=RandomState(MT19937) at 0x7F62988C0940)\n",
      "{'C': 10, 'gamma': 0.001, 'kernel': 'rbf'}\n",
      "SVC(C=10, gamma=0.001, random_state=RandomState(MT19937) at 0x7F62988EE640)\n",
      "{'C': 100, 'gamma': 0.001, 'kernel': 'rbf'}\n",
      "SVC(C=100, gamma=0.001, random_state=RandomState(MT19937) at 0x7F62988C0440)\n",
      "{'C': 100, 'gamma': 0.001, 'kernel': 'rbf'}\n",
      "SVC(C=100, gamma=0.001, random_state=RandomState(MT19937) at 0x7F62988C0140)\n",
      "{'C': 10, 'gamma': 0.001, 'kernel': 'rbf'}\n",
      "SVC(C=10, gamma=0.001, random_state=RandomState(MT19937) at 0x7F62988C0640)\n",
      "{'C': 100, 'gamma': 0.001, 'kernel': 'rbf'}\n",
      "SVC(C=100, gamma=0.001, random_state=RandomState(MT19937) at 0x7F62988EE540)\n",
      "{'C': 10, 'gamma': 0.001, 'kernel': 'rbf'}\n",
      "SVC(C=10, gamma=0.001, random_state=RandomState(MT19937) at 0x7F62988EED40)\n",
      "{'C': 10, 'gamma': 0.01, 'kernel': 'rbf'}\n",
      "SVC(C=10, gamma=0.01, random_state=RandomState(MT19937) at 0x7F62988EEC40)\n",
      "{'C': 100, 'gamma': 0.001, 'kernel': 'rbf'}\n",
      "SVC(C=100, gamma=0.001, random_state=RandomState(MT19937) at 0x7F62988C0D40)\n",
      "{'C': 10, 'gamma': 0.001, 'kernel': 'rbf'}\n",
      "SVC(C=10, gamma=0.001, random_state=RandomState(MT19937) at 0x7F62988C0E40)\n",
      "{'C': 100, 'gamma': 0.001, 'kernel': 'rbf'}\n",
      "SVC(C=100, gamma=0.001, random_state=RandomState(MT19937) at 0x7F62988C0A40)\n",
      "{'C': 10, 'gamma': 0.001, 'kernel': 'rbf'}\n",
      "SVC(C=10, gamma=0.001, random_state=RandomState(MT19937) at 0x7F62988C0340)\n",
      "{'C': 10, 'gamma': 0.001, 'kernel': 'rbf'}\n",
      "SVC(C=10, gamma=0.001, random_state=RandomState(MT19937) at 0x7F62988C0040)\n",
      "{'C': 100, 'gamma': 0.001, 'kernel': 'rbf'}\n",
      "SVC(C=100, gamma=0.001, random_state=RandomState(MT19937) at 0x7F62988EE840)\n",
      "{'C': 100, 'gamma': 0.001, 'kernel': 'rbf'}\n",
      "SVC(C=100, gamma=0.001, random_state=RandomState(MT19937) at 0x7F62988EEE40)\n",
      "{'C': 100, 'gamma': 0.001, 'kernel': 'rbf'}\n",
      "SVC(C=100, gamma=0.001, random_state=RandomState(MT19937) at 0x7F62988C0240)\n",
      "{'C': 100, 'gamma': 0.001, 'kernel': 'rbf'}\n",
      "SVC(C=100, gamma=0.001, random_state=RandomState(MT19937) at 0x7F62988EE040)\n",
      "{'C': 100, 'gamma': 0.001, 'kernel': 'rbf'}\n",
      "SVC(C=100, gamma=0.001, random_state=RandomState(MT19937) at 0x7F62988EE740)\n",
      "{'C': 100, 'gamma': 0.001, 'kernel': 'rbf'}\n",
      "SVC(C=100, gamma=0.001, random_state=RandomState(MT19937) at 0x7F62988C0540)\n",
      "{'C': 100, 'gamma': 0.001, 'kernel': 'rbf'}\n",
      "SVC(C=100, gamma=0.001, random_state=RandomState(MT19937) at 0x7F62988C0440)\n",
      "{'C': 10, 'gamma': 0.001, 'kernel': 'rbf'}\n",
      "SVC(C=10, gamma=0.001, random_state=RandomState(MT19937) at 0x7F62988C0140)\n",
      "{'C': 100, 'gamma': 0.001, 'kernel': 'rbf'}\n",
      "SVC(C=100, gamma=0.001, random_state=RandomState(MT19937) at 0x7F62988EE640)\n",
      "{'C': 100, 'gamma': 0.01, 'kernel': 'rbf'}\n",
      "SVC(C=100, gamma=0.01, random_state=RandomState(MT19937) at 0x7F62988C0640)\n",
      "{'C': 10, 'gamma': 0.001, 'kernel': 'rbf'}\n",
      "SVC(C=10, gamma=0.001, random_state=RandomState(MT19937) at 0x7F62988EED40)\n",
      "{'C': 100, 'gamma': 0.001, 'kernel': 'rbf'}\n",
      "SVC(C=100, gamma=0.001, random_state=RandomState(MT19937) at 0x7F62988EE540)\n",
      "{'C': 100, 'gamma': 0.001, 'kernel': 'rbf'}\n",
      "SVC(C=100, gamma=0.001, random_state=RandomState(MT19937) at 0x7F62988C0D40)\n",
      "{'C': 100, 'gamma': 0.001, 'kernel': 'rbf'}\n",
      "SVC(C=100, gamma=0.001, random_state=RandomState(MT19937) at 0x7F62988C0A40)\n",
      "{'C': 100, 'gamma': 0.001, 'kernel': 'rbf'}\n",
      "SVC(C=100, gamma=0.001, random_state=RandomState(MT19937) at 0x7F62988C0E40)\n",
      "{'C': 10, 'gamma': 0.01, 'kernel': 'rbf'}\n",
      "SVC(C=10, gamma=0.01, random_state=RandomState(MT19937) at 0x7F62988C0340)\n",
      "{'C': 100, 'gamma': 0.001, 'kernel': 'rbf'}\n",
      "SVC(C=100, gamma=0.001, random_state=RandomState(MT19937) at 0x7F62988EEB40)\n",
      "{'C': 100, 'gamma': 0.001, 'kernel': 'rbf'}\n",
      "SVC(C=100, gamma=0.001, random_state=RandomState(MT19937) at 0x7F62988EE640)\n",
      "{'C': 100, 'gamma': 0.001, 'kernel': 'rbf'}\n",
      "SVC(C=100, gamma=0.001, random_state=RandomState(MT19937) at 0x7F62988C0C40)\n",
      "{'C': 10, 'gamma': 0.001, 'kernel': 'rbf'}\n",
      "SVC(C=10, gamma=0.001, random_state=RandomState(MT19937) at 0x7F62988EEE40)\n",
      "{'C': 100, 'gamma': 0.001, 'kernel': 'rbf'}\n",
      "SVC(C=100, gamma=0.001, random_state=RandomState(MT19937) at 0x7F62988EE040)\n",
      "{'C': 100, 'gamma': 0.001, 'kernel': 'rbf'}\n",
      "SVC(C=100, gamma=0.001, random_state=RandomState(MT19937) at 0x7F62988EE740)\n",
      "{'C': 10, 'gamma': 0.001, 'kernel': 'rbf'}\n",
      "SVC(C=10, gamma=0.001, random_state=RandomState(MT19937) at 0x7F62988EED40)\n",
      "{'C': 10, 'gamma': 0.001, 'kernel': 'rbf'}\n",
      "SVC(C=10, gamma=0.001, random_state=RandomState(MT19937) at 0x7F62988C0440)\n",
      "{'C': 10, 'gamma': 0.001, 'kernel': 'rbf'}\n",
      "SVC(C=10, gamma=0.001, random_state=RandomState(MT19937) at 0x7F62988C0140)\n",
      "{'C': 10, 'gamma': 0.001, 'kernel': 'rbf'}\n",
      "SVC(C=10, gamma=0.001, random_state=RandomState(MT19937) at 0x7F62988C0040)\n",
      "{'C': 10, 'gamma': 0.001, 'kernel': 'rbf'}\n",
      "SVC(C=10, gamma=0.001, random_state=RandomState(MT19937) at 0x7F62988C0040)\n",
      "{'C': 100, 'gamma': 0.001, 'kernel': 'rbf'}\n",
      "SVC(C=100, gamma=0.001, random_state=RandomState(MT19937) at 0x7F62988EEE40)\n",
      "{'C': 100, 'gamma': 0.001, 'kernel': 'rbf'}\n",
      "SVC(C=100, gamma=0.001, random_state=RandomState(MT19937) at 0x7F62988EE040)\n",
      "{'C': 10, 'gamma': 0.001, 'kernel': 'rbf'}\n",
      "SVC(C=10, gamma=0.001, random_state=RandomState(MT19937) at 0x7F62988EE740)\n",
      "{'C': 10, 'gamma': 0.001, 'kernel': 'rbf'}\n",
      "SVC(C=10, gamma=0.001, random_state=RandomState(MT19937) at 0x7F62988EED40)\n",
      "{'C': 100, 'gamma': 0.001, 'kernel': 'rbf'}\n",
      "SVC(C=100, gamma=0.001, random_state=RandomState(MT19937) at 0x7F62988C0E40)\n",
      "{'C': 10, 'gamma': 0.001, 'kernel': 'rbf'}\n",
      "SVC(C=10, gamma=0.001, random_state=RandomState(MT19937) at 0x7F62988C0940)\n",
      "{'C': 100, 'gamma': 0.001, 'kernel': 'rbf'}\n",
      "SVC(C=100, gamma=0.001, random_state=RandomState(MT19937) at 0x7F62988C0E40)\n",
      "{'C': 10, 'gamma': 0.01, 'kernel': 'rbf'}\n",
      "SVC(C=10, gamma=0.01, random_state=RandomState(MT19937) at 0x7F62988C0C40)\n",
      "{'C': 100, 'gamma': 0.001, 'kernel': 'rbf'}\n",
      "SVC(C=100, gamma=0.001, random_state=RandomState(MT19937) at 0x7F62988C0D40)\n",
      "{'C': 10, 'gamma': 0.001, 'kernel': 'rbf'}\n",
      "SVC(C=10, gamma=0.001, random_state=RandomState(MT19937) at 0x7F62988C0240)\n",
      "{'C': 100, 'gamma': 0.001, 'kernel': 'rbf'}\n",
      "SVC(C=100, gamma=0.001, random_state=RandomState(MT19937) at 0x7F62988C0140)\n",
      "{'C': 100, 'gamma': 0.001, 'kernel': 'rbf'}\n",
      "SVC(C=100, gamma=0.001, random_state=RandomState(MT19937) at 0x7F62988C0540)\n",
      "{'C': 100, 'gamma': 0.001, 'kernel': 'rbf'}\n",
      "SVC(C=100, gamma=0.001, random_state=RandomState(MT19937) at 0x7F62988C0840)\n",
      "{'C': 10, 'gamma': 0.001, 'kernel': 'rbf'}\n",
      "SVC(C=10, gamma=0.001, random_state=RandomState(MT19937) at 0x7F62988C0640)\n",
      "{'C': 10, 'gamma': 0.001, 'kernel': 'rbf'}\n",
      "SVC(C=10, gamma=0.001, random_state=RandomState(MT19937) at 0x7F62988C0940)\n",
      "{'C': 10, 'gamma': 0.001, 'kernel': 'rbf'}\n",
      "SVC(C=10, gamma=0.001, random_state=RandomState(MT19937) at 0x7F62D389AD40)\n",
      "Accuracy: 0.79\n",
      "Best Columns:  ['AVERAGE_TIME_DIFF' 'humidity' 'windspeed']\n"
     ]
    },
    {
     "data": {
      "image/png": "[encoded data removed]",
      "text/plain": [
       "<Figure size 432x288 with 2 Axes>"
      ]
     },
     "metadata": {
      "needs_background": "light"
     },
     "output_type": "display_data"
    }
   ],
   "source": [
    "split_processing(all_combinations)"
   ]
  },
  {
   "cell_type": "code",
   "execution_count": 289,
   "metadata": {},
   "outputs": [
    {
     "name": "stdout",
     "output_type": "stream",
     "text": [
      "{'C': 100, 'gamma': 0.001, 'kernel': 'rbf'}\n",
      "SVC(C=100, gamma=0.001, random_state=RandomState(MT19937) at 0x7F62D389A540)\n",
      "              precision    recall  f1-score   support\n",
      "\n",
      "           0       0.88      0.91      0.90       465\n",
      "           1       0.68      0.69      0.68       263\n",
      "           2       0.78      0.72      0.75       324\n",
      "           3       0.72      0.77      0.74       211\n",
      "           4       0.91      0.82      0.86       100\n",
      "\n",
      "    accuracy                           0.79      1363\n",
      "   macro avg       0.79      0.78      0.79      1363\n",
      "weighted avg       0.79      0.79      0.79      1363\n",
      "\n",
      "0.793837 accuracy\n"
     ]
    }
   ],
   "source": [
    "df_training_grid = df_training_feature_selection.copy()\n",
    "\n",
    "df_training_grid = df_training_grid.drop(['AVERAGE_TIME_DIFF', 'humidity', 'windspeed'], axis = 1)\n",
    "\n",
    "x = df_training_grid.drop(['AVERAGE_SPEED_DIFF'], axis = 1)\n",
    "y = df_training_grid['AVERAGE_SPEED_DIFF'].to_frame()\n",
    "\n",
    "param_grid = [\n",
    "        {'C': [10, 100], 'gamma': [0.01, 0.001], 'kernel': ['rbf']},\n",
    "]\n",
    "\n",
    "x_train, x_test, y_train, y_test = train_test_split(x, np.ravel(y), test_size = 0.2, random_state = 2021)\n",
    "\n",
    "grid = HalvingGridSearchCV(SVC(random_state = rng), param_grid = param_grid, factor = 2, refit = True, verbose = 0)\n",
    "grid.fit(x_train,y_train)\n",
    "\n",
    "print(grid.best_params_)\n",
    "print(grid.best_estimator_)\n",
    "\n",
    "predictions = grid.predict(x_test)\n",
    "\n",
    "print(classification_report(y_test, predictions))\n",
    "\n",
    "print(\"%f accuracy\" %(accuracy_score(y_test, predictions)))\n"
   ]
  },
  {
   "cell_type": "code",
   "execution_count": 304,
   "metadata": {},
   "outputs": [
    {
     "data": {
      "text/html": [
       "<div>\n",
       "<style scoped>\n",
       "    .dataframe tbody tr th:only-of-type {\n",
       "        vertical-align: middle;\n",
       "    }\n",
       "\n",
       "    .dataframe tbody tr th {\n",
       "        vertical-align: top;\n",
       "    }\n",
       "\n",
       "    .dataframe thead th {\n",
       "        text-align: right;\n",
       "    }\n",
       "</style>\n",
       "<table border=\"1\" class=\"dataframe\">\n",
       "  <thead>\n",
       "    <tr style=\"text-align: right;\">\n",
       "      <th></th>\n",
       "      <th>AVERAGE_SPEED_DIFF</th>\n",
       "      <th>AVERAGE_FREE_FLOW_SPEED</th>\n",
       "      <th>AVERAGE_FREE_FLOW_TIME</th>\n",
       "      <th>LUMINOSITY</th>\n",
       "      <th>AVERAGE_SPEED</th>\n",
       "      <th>HOUR</th>\n",
       "      <th>WEEKEND</th>\n",
       "    </tr>\n",
       "  </thead>\n",
       "  <tbody>\n",
       "    <tr>\n",
       "      <th>0</th>\n",
       "      <td>2</td>\n",
       "      <td>41.5</td>\n",
       "      <td>71.4</td>\n",
       "      <td>2</td>\n",
       "      <td>5.756936</td>\n",
       "      <td>7</td>\n",
       "      <td>0</td>\n",
       "    </tr>\n",
       "    <tr>\n",
       "      <th>1</th>\n",
       "      <td>3</td>\n",
       "      <td>41.7</td>\n",
       "      <td>87.4</td>\n",
       "      <td>2</td>\n",
       "      <td>14.842373</td>\n",
       "      <td>14</td>\n",
       "      <td>0</td>\n",
       "    </tr>\n",
       "    <tr>\n",
       "      <th>2</th>\n",
       "      <td>3</td>\n",
       "      <td>38.6</td>\n",
       "      <td>85.2</td>\n",
       "      <td>2</td>\n",
       "      <td>11.992233</td>\n",
       "      <td>16</td>\n",
       "      <td>1</td>\n",
       "    </tr>\n",
       "    <tr>\n",
       "      <th>3</th>\n",
       "      <td>3</td>\n",
       "      <td>37.4</td>\n",
       "      <td>94.1</td>\n",
       "      <td>2</td>\n",
       "      <td>14.709220</td>\n",
       "      <td>11</td>\n",
       "      <td>0</td>\n",
       "    </tr>\n",
       "    <tr>\n",
       "      <th>4</th>\n",
       "      <td>2</td>\n",
       "      <td>41.6</td>\n",
       "      <td>77.0</td>\n",
       "      <td>2</td>\n",
       "      <td>16.457143</td>\n",
       "      <td>12</td>\n",
       "      <td>0</td>\n",
       "    </tr>\n",
       "  </tbody>\n",
       "</table>\n",
       "</div>"
      ],
      "text/plain": [
       "   AVERAGE_SPEED_DIFF  AVERAGE_FREE_FLOW_SPEED  AVERAGE_FREE_FLOW_TIME  \\\n",
       "0                   2                     41.5                    71.4   \n",
       "1                   3                     41.7                    87.4   \n",
       "2                   3                     38.6                    85.2   \n",
       "3                   3                     37.4                    94.1   \n",
       "4                   2                     41.6                    77.0   \n",
       "\n",
       "   LUMINOSITY  AVERAGE_SPEED  HOUR  WEEKEND  \n",
       "0           2       5.756936     7        0  \n",
       "1           2      14.842373    14        0  \n",
       "2           2      11.992233    16        1  \n",
       "3           2      14.709220    11        0  \n",
       "4           2      16.457143    12        0  "
      ]
     },
     "execution_count": 304,
     "metadata": {},
     "output_type": "execute_result"
    }
   ],
   "source": [
    "df_training_grid.head()"
   ]
  },
  {
   "cell_type": "code",
   "execution_count": 296,
   "metadata": {},
   "outputs": [
    {
     "name": "stdout",
     "output_type": "stream",
     "text": [
      "{'bootstrap': True, 'max_depth': 120, 'max_features': 4, 'min_samples_leaf': 1, 'min_samples_split': 10, 'n_estimators': 400}\n",
      "RandomForestClassifier(max_depth=120, max_features=4, min_samples_split=10,\n",
      "                       n_estimators=400)\n",
      "              precision    recall  f1-score   support\n",
      "\n",
      "           0       0.90      0.88      0.89       465\n",
      "           1       0.68      0.70      0.69       263\n",
      "           2       0.78      0.77      0.78       324\n",
      "           3       0.73      0.78      0.76       211\n",
      "           4       0.93      0.81      0.87       100\n",
      "\n",
      "    accuracy                           0.80      1363\n",
      "   macro avg       0.80      0.79      0.80      1363\n",
      "weighted avg       0.80      0.80      0.80      1363\n",
      "\n"
     ]
    }
   ],
   "source": [
    "df_training_forest = df_training_feature_selection.copy()\n",
    "\n",
    "df_training_forest = df_training_forest.drop(['AVERAGE_TIME_DIFF', 'humidity', 'windspeed'], axis = 1)\n",
    "\n",
    "x = df_training_forest.drop(['AVERAGE_SPEED_DIFF'], axis = 1)\n",
    "y = df_training_forest['AVERAGE_SPEED_DIFF'].to_frame()\n",
    "\n",
    "param_grid = {\n",
    "    'bootstrap': [True],\n",
    "    'max_depth': [90, 100, 110, 120, 130],\n",
    "    'max_features': [3, 4, 5],\n",
    "    'min_samples_leaf': [1, 2, 5, 7, 9],\n",
    "    'min_samples_split': [2, 5, 10, 15],\n",
    "    'n_estimators': [100, 200, 300, 400]\n",
    "}\n",
    "\n",
    "rf = RandomForestClassifier()\n",
    "\n",
    "grid = HalvingGridSearchCV(estimator = rf, param_grid = param_grid, cv = 3, n_jobs = -1, factor = 2, refit = True, verbose = 0)\n",
    "\n",
    "x_train, x_test, y_train, y_test = train_test_split(x, np.ravel(y), test_size = 0.2, random_state = 2021)\n",
    "grid.fit(x_train, y_train)\n",
    "\n",
    "print(grid.best_params_)\n",
    "print(grid.best_estimator_)\n",
    "\n",
    "predictions = grid.predict(x_test)\n",
    "\n",
    "print(classification_report(y_test, predictions))"
   ]
  },
  {
   "cell_type": "markdown",
   "metadata": {},
   "source": [
    "# $\\textbf{Ficheiro de teste e submissão}$"
   ]
  },
  {
   "cell_type": "code",
   "execution_count": 297,
   "metadata": {},
   "outputs": [],
   "source": [
    "df_test = pd.read_csv('../datasets/test_data.csv')\n",
    "\n",
    "cols = ['temp', 'feelslike', 'dew', 'humidity', 'precip', 'windspeed', 'winddir', 'cloudcover', 'visibility', 'uvindex', 'conditions']\n",
    "\n",
    "for index, values in df_weather.iterrows():\n",
    "\n",
    "    i = df_test.loc[df_test['record_date'] == values['datetime']].index\n",
    "    for col in cols: \n",
    "        df_test.loc[df_test.index[i], col] = values[col]"
   ]
  },
  {
   "cell_type": "code",
   "execution_count": 298,
   "metadata": {},
   "outputs": [],
   "source": [
    "for index, values in df_test.iterrows():\n",
    "\n",
    "    df_test.loc[df_test.index[index], 'AVERAGE_SPEED'] = values['AVERAGE_FREE_FLOW_SPEED'] - values['AVERAGE_FREE_FLOW_SPEED'] * values['AVERAGE_FREE_FLOW_TIME'] / (values['AVERAGE_FREE_FLOW_TIME'] + values['AVERAGE_TIME_DIFF'])\n"
   ]
  },
  {
   "cell_type": "code",
   "execution_count": 299,
   "metadata": {},
   "outputs": [],
   "source": [
    "df_test['LUMINOSITY'] = df_test['LUMINOSITY'].apply(convertLuminosity)\n",
    "\n",
    "df_test['record_date'] = pd.to_datetime(df_test['record_date'])\n",
    "df_test['DAY'] = df_test.record_date.dt.weekday\n",
    "df_test['MONTH'] = df_test.record_date.dt.month\n",
    "df_test['WEEK'] = df_test.record_date.dt.weekofyear\n",
    "df_test['HOUR'] = df_test.record_date.dt.hour\n",
    "df_test = df_test.drop(['record_date'], axis = 1)\n",
    "\n",
    "df_test['WEEKEND'] = df_test['DAY'].apply(convert_The_Weeknd)\n",
    "\n",
    "df_test = df_test.drop(['city_name', 'AVERAGE_CLOUDINESS', 'AVERAGE_RAIN', 'uvindex', 'AVERAGE_PRECIPITATION',\n",
    "                        'AVERAGE_WIND_SPEED', 'AVERAGE_TEMPERATURE', 'AVERAGE_HUMIDITY',\n",
    "                        'AVERAGE_ATMOSP_PRESSURE', 'feelslike', 'dew', 'cloudcover', 'conditions', 'DAY', 'MONTH', 'WEEK',\n",
    "                        'temp', 'precip', 'winddir', 'visibility'], axis = 1)\n",
    "\n",
    "df_test = df_test.fillna(0)"
   ]
  },
  {
   "cell_type": "code",
   "execution_count": 309,
   "metadata": {},
   "outputs": [],
   "source": [
    "df_test = df_test.drop(['AVERAGE_TIME_DIFF', 'humidity', 'windspeed'], axis = 1)"
   ]
  },
  {
   "cell_type": "code",
   "execution_count": 310,
   "metadata": {},
   "outputs": [
    {
     "data": {
      "text/html": [
       "<div>\n",
       "<style scoped>\n",
       "    .dataframe tbody tr th:only-of-type {\n",
       "        vertical-align: middle;\n",
       "    }\n",
       "\n",
       "    .dataframe tbody tr th {\n",
       "        vertical-align: top;\n",
       "    }\n",
       "\n",
       "    .dataframe thead th {\n",
       "        text-align: right;\n",
       "    }\n",
       "</style>\n",
       "<table border=\"1\" class=\"dataframe\">\n",
       "  <thead>\n",
       "    <tr style=\"text-align: right;\">\n",
       "      <th></th>\n",
       "      <th>AVERAGE_FREE_FLOW_SPEED</th>\n",
       "      <th>AVERAGE_FREE_FLOW_TIME</th>\n",
       "      <th>LUMINOSITY</th>\n",
       "      <th>AVERAGE_SPEED</th>\n",
       "      <th>HOUR</th>\n",
       "      <th>WEEKEND</th>\n",
       "    </tr>\n",
       "  </thead>\n",
       "  <tbody>\n",
       "    <tr>\n",
       "      <th>count</th>\n",
       "      <td>1500.0000</td>\n",
       "      <td>1500.000000</td>\n",
       "      <td>1500.000000</td>\n",
       "      <td>1.500000e+03</td>\n",
       "      <td>1500.000000</td>\n",
       "      <td>1500.000000</td>\n",
       "    </tr>\n",
       "    <tr>\n",
       "      <th>mean</th>\n",
       "      <td>40.8304</td>\n",
       "      <td>81.194333</td>\n",
       "      <td>0.996667</td>\n",
       "      <td>7.687202e+00</td>\n",
       "      <td>11.211333</td>\n",
       "      <td>0.284000</td>\n",
       "    </tr>\n",
       "    <tr>\n",
       "      <th>std</th>\n",
       "      <td>4.2396</td>\n",
       "      <td>8.189691</td>\n",
       "      <td>0.985209</td>\n",
       "      <td>7.588403e+00</td>\n",
       "      <td>6.909305</td>\n",
       "      <td>0.451087</td>\n",
       "    </tr>\n",
       "    <tr>\n",
       "      <th>min</th>\n",
       "      <td>31.0000</td>\n",
       "      <td>48.100000</td>\n",
       "      <td>0.000000</td>\n",
       "      <td>-7.105427e-15</td>\n",
       "      <td>0.000000</td>\n",
       "      <td>0.000000</td>\n",
       "    </tr>\n",
       "    <tr>\n",
       "      <th>25%</th>\n",
       "      <td>37.5000</td>\n",
       "      <td>75.800000</td>\n",
       "      <td>0.000000</td>\n",
       "      <td>1.264817e+00</td>\n",
       "      <td>5.000000</td>\n",
       "      <td>0.000000</td>\n",
       "    </tr>\n",
       "    <tr>\n",
       "      <th>50%</th>\n",
       "      <td>41.0000</td>\n",
       "      <td>82.300000</td>\n",
       "      <td>1.000000</td>\n",
       "      <td>5.260241e+00</td>\n",
       "      <td>11.000000</td>\n",
       "      <td>0.000000</td>\n",
       "    </tr>\n",
       "    <tr>\n",
       "      <th>75%</th>\n",
       "      <td>43.9000</td>\n",
       "      <td>87.600000</td>\n",
       "      <td>2.000000</td>\n",
       "      <td>1.232665e+01</td>\n",
       "      <td>17.000000</td>\n",
       "      <td>1.000000</td>\n",
       "    </tr>\n",
       "    <tr>\n",
       "      <th>max</th>\n",
       "      <td>56.2000</td>\n",
       "      <td>106.100000</td>\n",
       "      <td>2.000000</td>\n",
       "      <td>3.363346e+01</td>\n",
       "      <td>23.000000</td>\n",
       "      <td>1.000000</td>\n",
       "    </tr>\n",
       "  </tbody>\n",
       "</table>\n",
       "</div>"
      ],
      "text/plain": [
       "       AVERAGE_FREE_FLOW_SPEED  AVERAGE_FREE_FLOW_TIME   LUMINOSITY  \\\n",
       "count                1500.0000             1500.000000  1500.000000   \n",
       "mean                   40.8304               81.194333     0.996667   \n",
       "std                     4.2396                8.189691     0.985209   \n",
       "min                    31.0000               48.100000     0.000000   \n",
       "25%                    37.5000               75.800000     0.000000   \n",
       "50%                    41.0000               82.300000     1.000000   \n",
       "75%                    43.9000               87.600000     2.000000   \n",
       "max                    56.2000              106.100000     2.000000   \n",
       "\n",
       "       AVERAGE_SPEED         HOUR      WEEKEND  \n",
       "count   1.500000e+03  1500.000000  1500.000000  \n",
       "mean    7.687202e+00    11.211333     0.284000  \n",
       "std     7.588403e+00     6.909305     0.451087  \n",
       "min    -7.105427e-15     0.000000     0.000000  \n",
       "25%     1.264817e+00     5.000000     0.000000  \n",
       "50%     5.260241e+00    11.000000     0.000000  \n",
       "75%     1.232665e+01    17.000000     1.000000  \n",
       "max     3.363346e+01    23.000000     1.000000  "
      ]
     },
     "execution_count": 310,
     "metadata": {},
     "output_type": "execute_result"
    }
   ],
   "source": [
    "df_test.describe()"
   ]
  },
  {
   "cell_type": "code",
   "execution_count": 311,
   "metadata": {},
   "outputs": [
    {
     "data": {
      "text/html": [
       "<div>\n",
       "<style scoped>\n",
       "    .dataframe tbody tr th:only-of-type {\n",
       "        vertical-align: middle;\n",
       "    }\n",
       "\n",
       "    .dataframe tbody tr th {\n",
       "        vertical-align: top;\n",
       "    }\n",
       "\n",
       "    .dataframe thead th {\n",
       "        text-align: right;\n",
       "    }\n",
       "</style>\n",
       "<table border=\"1\" class=\"dataframe\">\n",
       "  <thead>\n",
       "    <tr style=\"text-align: right;\">\n",
       "      <th></th>\n",
       "      <th>AVERAGE_FREE_FLOW_SPEED</th>\n",
       "      <th>AVERAGE_FREE_FLOW_TIME</th>\n",
       "      <th>LUMINOSITY</th>\n",
       "      <th>AVERAGE_SPEED</th>\n",
       "      <th>HOUR</th>\n",
       "      <th>WEEKEND</th>\n",
       "    </tr>\n",
       "  </thead>\n",
       "  <tbody>\n",
       "    <tr>\n",
       "      <th>0</th>\n",
       "      <td>39.2</td>\n",
       "      <td>91.0</td>\n",
       "      <td>0</td>\n",
       "      <td>0.000000</td>\n",
       "      <td>23</td>\n",
       "      <td>0</td>\n",
       "    </tr>\n",
       "    <tr>\n",
       "      <th>1</th>\n",
       "      <td>42.5</td>\n",
       "      <td>76.8</td>\n",
       "      <td>0</td>\n",
       "      <td>5.825843</td>\n",
       "      <td>20</td>\n",
       "      <td>0</td>\n",
       "    </tr>\n",
       "    <tr>\n",
       "      <th>2</th>\n",
       "      <td>45.9</td>\n",
       "      <td>86.3</td>\n",
       "      <td>0</td>\n",
       "      <td>0.000000</td>\n",
       "      <td>5</td>\n",
       "      <td>0</td>\n",
       "    </tr>\n",
       "    <tr>\n",
       "      <th>3</th>\n",
       "      <td>33.2</td>\n",
       "      <td>89.9</td>\n",
       "      <td>2</td>\n",
       "      <td>12.121751</td>\n",
       "      <td>17</td>\n",
       "      <td>1</td>\n",
       "    </tr>\n",
       "    <tr>\n",
       "      <th>4</th>\n",
       "      <td>44.0</td>\n",
       "      <td>85.5</td>\n",
       "      <td>0</td>\n",
       "      <td>1.730337</td>\n",
       "      <td>6</td>\n",
       "      <td>0</td>\n",
       "    </tr>\n",
       "  </tbody>\n",
       "</table>\n",
       "</div>"
      ],
      "text/plain": [
       "   AVERAGE_FREE_FLOW_SPEED  AVERAGE_FREE_FLOW_TIME  LUMINOSITY  AVERAGE_SPEED  \\\n",
       "0                     39.2                    91.0           0       0.000000   \n",
       "1                     42.5                    76.8           0       5.825843   \n",
       "2                     45.9                    86.3           0       0.000000   \n",
       "3                     33.2                    89.9           2      12.121751   \n",
       "4                     44.0                    85.5           0       1.730337   \n",
       "\n",
       "   HOUR  WEEKEND  \n",
       "0    23        0  \n",
       "1    20        0  \n",
       "2     5        0  \n",
       "3    17        1  \n",
       "4     6        0  "
      ]
     },
     "execution_count": 311,
     "metadata": {},
     "output_type": "execute_result"
    }
   ],
   "source": [
    "df_test.head()"
   ]
  },
  {
   "cell_type": "code",
   "execution_count": 312,
   "metadata": {},
   "outputs": [
    {
     "data": {
      "text/plain": [
       "(1500, 6)"
      ]
     },
     "execution_count": 312,
     "metadata": {},
     "output_type": "execute_result"
    }
   ],
   "source": [
    "df_test.shape"
   ]
  },
  {
   "cell_type": "code",
   "execution_count": 58,
   "metadata": {},
   "outputs": [
    {
     "ename": "KeyError",
     "evalue": "\"['humidity' 'windspeed'] not found in axis\"",
     "output_type": "error",
     "traceback": [
      "\u001b[0;31m---------------------------------------------------------------------------\u001b[0m",
      "\u001b[0;31mKeyError\u001b[0m                                  Traceback (most recent call last)",
      "\u001b[0;32m<ipython-input-58-ed09ab7ca7f7>\u001b[0m in \u001b[0;36m<module>\u001b[0;34m\u001b[0m\n\u001b[1;32m      1\u001b[0m \u001b[0mdf_training_test\u001b[0m \u001b[0;34m=\u001b[0m \u001b[0mdf_training_feature_selection\u001b[0m\u001b[0;34m.\u001b[0m\u001b[0mcopy\u001b[0m\u001b[0;34m(\u001b[0m\u001b[0;34m)\u001b[0m\u001b[0;34m\u001b[0m\u001b[0;34m\u001b[0m\u001b[0m\n\u001b[1;32m      2\u001b[0m \u001b[0;34m\u001b[0m\u001b[0m\n\u001b[0;32m----> 3\u001b[0;31m \u001b[0mdf_training_test\u001b[0m \u001b[0;34m=\u001b[0m \u001b[0mdf_training_test\u001b[0m\u001b[0;34m.\u001b[0m\u001b[0mdrop\u001b[0m\u001b[0;34m(\u001b[0m\u001b[0;34m[\u001b[0m\u001b[0;34m'AVERAGE_TIME_DIFF'\u001b[0m\u001b[0;34m,\u001b[0m \u001b[0;34m'humidity'\u001b[0m\u001b[0;34m,\u001b[0m \u001b[0;34m'windspeed'\u001b[0m\u001b[0;34m]\u001b[0m\u001b[0;34m,\u001b[0m \u001b[0maxis\u001b[0m \u001b[0;34m=\u001b[0m \u001b[0;36m1\u001b[0m\u001b[0;34m)\u001b[0m\u001b[0;34m\u001b[0m\u001b[0;34m\u001b[0m\u001b[0m\n\u001b[0m\u001b[1;32m      4\u001b[0m \u001b[0;34m\u001b[0m\u001b[0m\n\u001b[1;32m      5\u001b[0m \u001b[0mx_test\u001b[0m \u001b[0;34m=\u001b[0m \u001b[0mdf_training_test\u001b[0m\u001b[0;34m.\u001b[0m\u001b[0mdrop\u001b[0m\u001b[0;34m(\u001b[0m\u001b[0;34m[\u001b[0m\u001b[0;34m'AVERAGE_SPEED_DIFF'\u001b[0m\u001b[0;34m]\u001b[0m\u001b[0;34m,\u001b[0m \u001b[0maxis\u001b[0m \u001b[0;34m=\u001b[0m \u001b[0;36m1\u001b[0m\u001b[0;34m)\u001b[0m\u001b[0;34m\u001b[0m\u001b[0;34m\u001b[0m\u001b[0m\n",
      "\u001b[0;32m~/anaconda3/envs/daa/lib/python3.6/site-packages/pandas/core/frame.py\u001b[0m in \u001b[0;36mdrop\u001b[0;34m(self, labels, axis, index, columns, level, inplace, errors)\u001b[0m\n\u001b[1;32m   4172\u001b[0m             \u001b[0mlevel\u001b[0m\u001b[0;34m=\u001b[0m\u001b[0mlevel\u001b[0m\u001b[0;34m,\u001b[0m\u001b[0;34m\u001b[0m\u001b[0;34m\u001b[0m\u001b[0m\n\u001b[1;32m   4173\u001b[0m             \u001b[0minplace\u001b[0m\u001b[0;34m=\u001b[0m\u001b[0minplace\u001b[0m\u001b[0;34m,\u001b[0m\u001b[0;34m\u001b[0m\u001b[0;34m\u001b[0m\u001b[0m\n\u001b[0;32m-> 4174\u001b[0;31m             \u001b[0merrors\u001b[0m\u001b[0;34m=\u001b[0m\u001b[0merrors\u001b[0m\u001b[0;34m,\u001b[0m\u001b[0;34m\u001b[0m\u001b[0;34m\u001b[0m\u001b[0m\n\u001b[0m\u001b[1;32m   4175\u001b[0m         )\n\u001b[1;32m   4176\u001b[0m \u001b[0;34m\u001b[0m\u001b[0m\n",
      "\u001b[0;32m~/anaconda3/envs/daa/lib/python3.6/site-packages/pandas/core/generic.py\u001b[0m in \u001b[0;36mdrop\u001b[0;34m(self, labels, axis, index, columns, level, inplace, errors)\u001b[0m\n\u001b[1;32m   3887\u001b[0m         \u001b[0;32mfor\u001b[0m \u001b[0maxis\u001b[0m\u001b[0;34m,\u001b[0m \u001b[0mlabels\u001b[0m \u001b[0;32min\u001b[0m \u001b[0maxes\u001b[0m\u001b[0;34m.\u001b[0m\u001b[0mitems\u001b[0m\u001b[0;34m(\u001b[0m\u001b[0;34m)\u001b[0m\u001b[0;34m:\u001b[0m\u001b[0;34m\u001b[0m\u001b[0;34m\u001b[0m\u001b[0m\n\u001b[1;32m   3888\u001b[0m             \u001b[0;32mif\u001b[0m \u001b[0mlabels\u001b[0m \u001b[0;32mis\u001b[0m \u001b[0;32mnot\u001b[0m \u001b[0;32mNone\u001b[0m\u001b[0;34m:\u001b[0m\u001b[0;34m\u001b[0m\u001b[0;34m\u001b[0m\u001b[0m\n\u001b[0;32m-> 3889\u001b[0;31m                 \u001b[0mobj\u001b[0m \u001b[0;34m=\u001b[0m \u001b[0mobj\u001b[0m\u001b[0;34m.\u001b[0m\u001b[0m_drop_axis\u001b[0m\u001b[0;34m(\u001b[0m\u001b[0mlabels\u001b[0m\u001b[0;34m,\u001b[0m \u001b[0maxis\u001b[0m\u001b[0;34m,\u001b[0m \u001b[0mlevel\u001b[0m\u001b[0;34m=\u001b[0m\u001b[0mlevel\u001b[0m\u001b[0;34m,\u001b[0m \u001b[0merrors\u001b[0m\u001b[0;34m=\u001b[0m\u001b[0merrors\u001b[0m\u001b[0;34m)\u001b[0m\u001b[0;34m\u001b[0m\u001b[0;34m\u001b[0m\u001b[0m\n\u001b[0m\u001b[1;32m   3890\u001b[0m \u001b[0;34m\u001b[0m\u001b[0m\n\u001b[1;32m   3891\u001b[0m         \u001b[0;32mif\u001b[0m \u001b[0minplace\u001b[0m\u001b[0;34m:\u001b[0m\u001b[0;34m\u001b[0m\u001b[0;34m\u001b[0m\u001b[0m\n",
      "\u001b[0;32m~/anaconda3/envs/daa/lib/python3.6/site-packages/pandas/core/generic.py\u001b[0m in \u001b[0;36m_drop_axis\u001b[0;34m(self, labels, axis, level, errors)\u001b[0m\n\u001b[1;32m   3921\u001b[0m                 \u001b[0mnew_axis\u001b[0m \u001b[0;34m=\u001b[0m \u001b[0maxis\u001b[0m\u001b[0;34m.\u001b[0m\u001b[0mdrop\u001b[0m\u001b[0;34m(\u001b[0m\u001b[0mlabels\u001b[0m\u001b[0;34m,\u001b[0m \u001b[0mlevel\u001b[0m\u001b[0;34m=\u001b[0m\u001b[0mlevel\u001b[0m\u001b[0;34m,\u001b[0m \u001b[0merrors\u001b[0m\u001b[0;34m=\u001b[0m\u001b[0merrors\u001b[0m\u001b[0;34m)\u001b[0m\u001b[0;34m\u001b[0m\u001b[0;34m\u001b[0m\u001b[0m\n\u001b[1;32m   3922\u001b[0m             \u001b[0;32melse\u001b[0m\u001b[0;34m:\u001b[0m\u001b[0;34m\u001b[0m\u001b[0;34m\u001b[0m\u001b[0m\n\u001b[0;32m-> 3923\u001b[0;31m                 \u001b[0mnew_axis\u001b[0m \u001b[0;34m=\u001b[0m \u001b[0maxis\u001b[0m\u001b[0;34m.\u001b[0m\u001b[0mdrop\u001b[0m\u001b[0;34m(\u001b[0m\u001b[0mlabels\u001b[0m\u001b[0;34m,\u001b[0m \u001b[0merrors\u001b[0m\u001b[0;34m=\u001b[0m\u001b[0merrors\u001b[0m\u001b[0;34m)\u001b[0m\u001b[0;34m\u001b[0m\u001b[0;34m\u001b[0m\u001b[0m\n\u001b[0m\u001b[1;32m   3924\u001b[0m             \u001b[0mresult\u001b[0m \u001b[0;34m=\u001b[0m \u001b[0mself\u001b[0m\u001b[0;34m.\u001b[0m\u001b[0mreindex\u001b[0m\u001b[0;34m(\u001b[0m\u001b[0;34m**\u001b[0m\u001b[0;34m{\u001b[0m\u001b[0maxis_name\u001b[0m\u001b[0;34m:\u001b[0m \u001b[0mnew_axis\u001b[0m\u001b[0;34m}\u001b[0m\u001b[0;34m)\u001b[0m\u001b[0;34m\u001b[0m\u001b[0;34m\u001b[0m\u001b[0m\n\u001b[1;32m   3925\u001b[0m \u001b[0;34m\u001b[0m\u001b[0m\n",
      "\u001b[0;32m~/anaconda3/envs/daa/lib/python3.6/site-packages/pandas/core/indexes/base.py\u001b[0m in \u001b[0;36mdrop\u001b[0;34m(self, labels, errors)\u001b[0m\n\u001b[1;32m   5285\u001b[0m         \u001b[0;32mif\u001b[0m \u001b[0mmask\u001b[0m\u001b[0;34m.\u001b[0m\u001b[0many\u001b[0m\u001b[0;34m(\u001b[0m\u001b[0;34m)\u001b[0m\u001b[0;34m:\u001b[0m\u001b[0;34m\u001b[0m\u001b[0;34m\u001b[0m\u001b[0m\n\u001b[1;32m   5286\u001b[0m             \u001b[0;32mif\u001b[0m \u001b[0merrors\u001b[0m \u001b[0;34m!=\u001b[0m \u001b[0;34m\"ignore\"\u001b[0m\u001b[0;34m:\u001b[0m\u001b[0;34m\u001b[0m\u001b[0;34m\u001b[0m\u001b[0m\n\u001b[0;32m-> 5287\u001b[0;31m                 \u001b[0;32mraise\u001b[0m \u001b[0mKeyError\u001b[0m\u001b[0;34m(\u001b[0m\u001b[0;34mf\"{labels[mask]} not found in axis\"\u001b[0m\u001b[0;34m)\u001b[0m\u001b[0;34m\u001b[0m\u001b[0;34m\u001b[0m\u001b[0m\n\u001b[0m\u001b[1;32m   5288\u001b[0m             \u001b[0mindexer\u001b[0m \u001b[0;34m=\u001b[0m \u001b[0mindexer\u001b[0m\u001b[0;34m[\u001b[0m\u001b[0;34m~\u001b[0m\u001b[0mmask\u001b[0m\u001b[0;34m]\u001b[0m\u001b[0;34m\u001b[0m\u001b[0;34m\u001b[0m\u001b[0m\n\u001b[1;32m   5289\u001b[0m         \u001b[0;32mreturn\u001b[0m \u001b[0mself\u001b[0m\u001b[0;34m.\u001b[0m\u001b[0mdelete\u001b[0m\u001b[0;34m(\u001b[0m\u001b[0mindexer\u001b[0m\u001b[0;34m)\u001b[0m\u001b[0;34m\u001b[0m\u001b[0;34m\u001b[0m\u001b[0m\n",
      "\u001b[0;31mKeyError\u001b[0m: \"['humidity' 'windspeed'] not found in axis\""
     ]
    }
   ],
   "source": [
    "df_training_test = df_training_feature_selection.copy()\n",
    "\n",
    "df_training_test = df_training_test.drop(['AVERAGE_TIME_DIFF', 'humidity', 'windspeed'], axis = 1)\n",
    "\n",
    "x_test = df_training_test.drop(['AVERAGE_SPEED_DIFF'], axis = 1)\n",
    "y_test = df_training_test['AVERAGE_SPEED_DIFF'].to_frame()\n",
    "\n",
    "param_grid = {\n",
    "    'bootstrap': [True],\n",
    "    'max_depth': [90, 100, 110, 120, 130],\n",
    "    'max_features': [3, 4, 5],\n",
    "    'min_samples_leaf': [1, 2, 5, 7, 9],\n",
    "    'min_samples_split': [2, 5, 10, 15],\n",
    "    'n_estimators': [100, 200, 300, 400]\n",
    "}\n",
    "\n",
    "rf = RandomForestClassifier()\n",
    "\n",
    "grid = HalvingGridSearchCV(estimator = rf, param_grid = param_grid, cv = 3, n_jobs = -1, factor = 2, refit = True, verbose = 0)\n",
    "\n",
    "grid.fit(x_test, np.ravel(y_test))\n",
    "\n",
    "predicts = grid.predict(df_test)"
   ]
  },
  {
   "cell_type": "code",
   "execution_count": 315,
   "metadata": {},
   "outputs": [
    {
     "name": "stdout",
     "output_type": "stream",
     "text": [
      "[0 1 0 ... 0 4 1]\n"
     ]
    }
   ],
   "source": [
    "print(predicts)"
   ]
  },
  {
   "cell_type": "code",
   "execution_count": 316,
   "metadata": {},
   "outputs": [
    {
     "name": "stdout",
     "output_type": "stream",
     "text": [
      "Submission file ready :)\n"
     ]
    }
   ],
   "source": [
    "with open('../datasets/submission2.csv', 'w') as file:\n",
    "    i = 1\n",
    "    file.write('RowId,Speed_Diff\\n')\n",
    "\n",
    "    for elem in predicts:\n",
    "        if elem == 0:\n",
    "            token = 'None'\n",
    "        elif elem == 1:\n",
    "            token = 'Low'\n",
    "        elif elem == 2:\n",
    "            token = 'Medium'\n",
    "        elif elem == 3:\n",
    "            token = 'High'\n",
    "        else:\n",
    "            token = 'Very_High' \n",
    "        file.write(str(i) + ',' + token + '\\n')\n",
    "        i += 1\n",
    "print('Submission file ready :)')"
   ]
  },
  {
   "cell_type": "markdown",
   "metadata": {},
   "source": [
    "# $\\textbf{Rede neuronal}$"
   ]
  },
  {
   "cell_type": "code",
   "execution_count": 67,
   "metadata": {},
   "outputs": [
    {
     "data": {
      "text/plain": [
       "array([[0., 0., 1., 0., 0.],\n",
       "       [0., 0., 0., 1., 0.],\n",
       "       [0., 0., 0., 1., 0.],\n",
       "       ...,\n",
       "       [1., 0., 0., 0., 0.],\n",
       "       [1., 0., 0., 0., 0.],\n",
       "       [0., 0., 1., 0., 0.]], dtype=float32)"
      ]
     },
     "execution_count": 67,
     "metadata": {},
     "output_type": "execute_result"
    }
   ],
   "source": [
    "#dummy_y = pd.get_dummies(y)\n",
    "df_training_rede_neuronal = df_training_feature_selection.copy()\n",
    "\n",
    "#df_training_rede_neuronal = df_training_rede_neuronal.drop(['AVERAGE_ATMOSP_PRESSURE'], axis = 1)\n",
    "\n",
    "x = df_training_rede_neuronal.drop(['AVERAGE_SPEED_DIFF'], axis = 1)\n",
    "y = df_training_rede_neuronal['AVERAGE_SPEED_DIFF'].to_frame()\n",
    "scaler = MinMaxScaler(feature_range=(0, 1))\n",
    "x_scaled = x.copy()\n",
    "x_scaled = scaler.fit_transform(x_scaled)\n",
    "x_scaled = pd.DataFrame(x_scaled)\n",
    "\n",
    "dummy_y = tensorflow.keras.utils.to_categorical(y)\n",
    "#,dropout_rate=0.0, weight_constraint=0\n",
    "def build_model(learning_rate=0.01, activation='relu', dropout_rate=0.0, weight_constraint=0):\n",
    "    model = Sequential()\n",
    "    model.add(Dense(11, input_dim = 11, activation=activation))\n",
    "    model.add(Dense(16, activation = activation, kernel_constraint=MaxNorm(weight_constraint)))\n",
    "    model.add(Dropout(dropout_rate))\n",
    "    model.add(Dense(5, activation = 'softmax'))\n",
    "\n",
    "    model.compile(\n",
    "        loss = 'categorical_crossentropy',\n",
    "        optimizer = Adam(learning_rate=learning_rate), \n",
    "        metrics = ['accuracy']\n",
    "    )\n",
    "    \n",
    "    return model\n",
    "\n",
    "dummy_y"
   ]
  },
  {
   "cell_type": "code",
   "execution_count": 68,
   "metadata": {},
   "outputs": [
    {
     "name": "stdout",
     "output_type": "stream",
     "text": [
      "Epoch 1/20\n",
      "137/137 [==============================] - 1s 7ms/step - loss: 1.5296 - accuracy: 0.3118 - val_loss: 1.4208 - val_accuracy: 0.4450\n",
      "Epoch 2/20\n",
      "137/137 [==============================] - 1s 7ms/step - loss: 1.3228 - accuracy: 0.4666 - val_loss: 1.1726 - val_accuracy: 0.5468\n",
      "Epoch 3/20\n",
      "137/137 [==============================] - 1s 6ms/step - loss: 1.1466 - accuracy: 0.5283 - val_loss: 1.0391 - val_accuracy: 0.5771\n",
      "Epoch 4/20\n",
      "137/137 [==============================] - 1s 5ms/step - loss: 1.0515 - accuracy: 0.5547 - val_loss: 0.9352 - val_accuracy: 0.6321\n",
      "Epoch 5/20\n",
      "137/137 [==============================] - 1s 4ms/step - loss: 0.9511 - accuracy: 0.5999 - val_loss: 0.8388 - val_accuracy: 0.6596\n",
      "Epoch 6/20\n",
      "137/137 [==============================] - 1s 6ms/step - loss: 0.8793 - accuracy: 0.6240 - val_loss: 0.7687 - val_accuracy: 0.6771\n",
      "Epoch 7/20\n",
      "137/137 [==============================] - 1s 4ms/step - loss: 0.8091 - accuracy: 0.6501 - val_loss: 0.7066 - val_accuracy: 0.7110\n",
      "Epoch 8/20\n",
      "137/137 [==============================] - 1s 5ms/step - loss: 0.7657 - accuracy: 0.6699 - val_loss: 0.6646 - val_accuracy: 0.7376\n",
      "Epoch 9/20\n",
      "137/137 [==============================] - 1s 5ms/step - loss: 0.7405 - accuracy: 0.6905 - val_loss: 0.6337 - val_accuracy: 0.7339\n",
      "Epoch 10/20\n",
      "137/137 [==============================] - 1s 5ms/step - loss: 0.7055 - accuracy: 0.7022 - val_loss: 0.6100 - val_accuracy: 0.7569\n",
      "Epoch 11/20\n",
      "137/137 [==============================] - 1s 6ms/step - loss: 0.6891 - accuracy: 0.7050 - val_loss: 0.5925 - val_accuracy: 0.7651\n",
      "Epoch 12/20\n",
      "137/137 [==============================] - 1s 5ms/step - loss: 0.6719 - accuracy: 0.7197 - val_loss: 0.5785 - val_accuracy: 0.7578\n",
      "Epoch 13/20\n",
      "137/137 [==============================] - 1s 5ms/step - loss: 0.6537 - accuracy: 0.7242 - val_loss: 0.5666 - val_accuracy: 0.7798\n",
      "Epoch 14/20\n",
      "137/137 [==============================] - 1s 5ms/step - loss: 0.6452 - accuracy: 0.7378 - val_loss: 0.5557 - val_accuracy: 0.7734\n",
      "Epoch 15/20\n",
      "137/137 [==============================] - 1s 5ms/step - loss: 0.6357 - accuracy: 0.7325 - val_loss: 0.5488 - val_accuracy: 0.7734\n",
      "Epoch 16/20\n",
      "137/137 [==============================] - 1s 5ms/step - loss: 0.6242 - accuracy: 0.7350 - val_loss: 0.5455 - val_accuracy: 0.7697\n",
      "Epoch 17/20\n",
      "137/137 [==============================] - 1s 6ms/step - loss: 0.6238 - accuracy: 0.7387 - val_loss: 0.5374 - val_accuracy: 0.7780\n",
      "Epoch 18/20\n",
      "137/137 [==============================] - 1s 6ms/step - loss: 0.6114 - accuracy: 0.7435 - val_loss: 0.5352 - val_accuracy: 0.7798\n",
      "Epoch 19/20\n",
      "137/137 [==============================] - 1s 5ms/step - loss: 0.6121 - accuracy: 0.7417 - val_loss: 0.5344 - val_accuracy: 0.7780\n",
      "Epoch 20/20\n",
      "137/137 [==============================] - 1s 5ms/step - loss: 0.6094 - accuracy: 0.7405 - val_loss: 0.5293 - val_accuracy: 0.7917\n"
     ]
    }
   ],
   "source": [
    "x_train, x_test, y_train, y_test = train_test_split(x_scaled, dummy_y, test_size = 0.2, random_state = 2021)\n",
    "\n",
    "\n",
    "\n",
    "TUNING_DICT = {\n",
    "    #'activation': ['relu', 'softmax']\n",
    "    #optimizer = ['SGD', 'RMSprop', 'Adagrad', 'Adadelta', 'Adam', 'Adamax', 'Nadam']\n",
    "    #'learning_rate': [0.01],\n",
    "    'learning_rate': [0.001],\n",
    "    #'momentum': [0.6],\n",
    "    #'momentum': [0.0, 0.2, 0.4, 0.6, 0.8, 0.9],\n",
    "    #'init_mode': ['uniform', 'lecun_uniform', 'normal', 'zero', 'glorot_normal', 'glorot_uniform', 'he_normal', 'he_uniform'],\n",
    "    #'activation': ['softmax', 'softplus', 'softsign', 'relu', 'tanh', 'sigmoid', 'hard_sigmoid', 'linear'],\n",
    "    'activation': ['relu'],\n",
    "    'weight_constraint': [4],\n",
    "    'dropout_rate': [0.2],\n",
    "    'batch_size': [32],\n",
    "    'epochs': [20]\n",
    "    #neurons = [1, 5, 10, 15, 20, 25, 30]\n",
    "}\n",
    "\n",
    "kf = KFold(n_splits = 5, shuffle = True, random_state = 2021)\n",
    "\n",
    "model = KerasClassifier(build_fn = build_model, verbose=1)\n",
    "\n",
    "grid_search = GridSearchCV(estimator = model,\n",
    "                           param_grid = TUNING_DICT,\n",
    "                           cv = kf,\n",
    "                           refit = 'True',\n",
    "                           n_jobs = -1)\n",
    "\n",
    "result = grid_search.fit(x_train, y_train, validation_split = 0.2)\n"
   ]
  },
  {
   "cell_type": "code",
   "execution_count": 69,
   "metadata": {},
   "outputs": [
    {
     "name": "stdout",
     "output_type": "stream",
     "text": [
      "43/43 [==============================] - 0s 4ms/step\n"
     ]
    },
    {
     "data": {
      "text/plain": [
       "array([[430,  35,   0,   0,   0],\n",
       "       [ 59, 166,  36,   2,   0],\n",
       "       [  1,  47, 231,  45,   0],\n",
       "       [  0,   2,  33, 169,   7],\n",
       "       [  0,   0,   0,  29,  71]])"
      ]
     },
     "execution_count": 69,
     "metadata": {},
     "output_type": "execute_result"
    }
   ],
   "source": [
    "best_model = grid_search.best_estimator_\n",
    "predictions = best_model.predict(x_test)\n",
    "y_test_ = np.argmax(y_test, axis = 1)\n",
    "\n",
    "confusion_matrix(y_test_, predictions)"
   ]
  },
  {
   "cell_type": "code",
   "execution_count": 70,
   "metadata": {},
   "outputs": [
    {
     "name": "stdout",
     "output_type": "stream",
     "text": [
      "              precision    recall  f1-score   support\n",
      "\n",
      "           0       0.88      0.92      0.90       465\n",
      "           1       0.66      0.63      0.65       263\n",
      "           2       0.77      0.71      0.74       324\n",
      "           3       0.69      0.80      0.74       211\n",
      "           4       0.91      0.71      0.80       100\n",
      "\n",
      "    accuracy                           0.78      1363\n",
      "   macro avg       0.78      0.76      0.77      1363\n",
      "weighted avg       0.78      0.78      0.78      1363\n",
      "\n"
     ]
    }
   ],
   "source": [
    "print(classification_report(y_test_, predictions))"
   ]
  },
  {
   "cell_type": "code",
   "execution_count": 71,
   "metadata": {},
   "outputs": [
    {
     "name": "stdout",
     "output_type": "stream",
     "text": [
      "Melhor resultado: 0.769865620136261 com {'activation': 'relu', 'batch_size': 32, 'dropout_rate': 0.2, 'epochs': 20, 'learning_rate': 0.001, 'weight_constraint': 4}\n"
     ]
    }
   ],
   "source": [
    "print(\"Melhor resultado: \" + str(result.best_score_)  + \" com \" + str(result.best_params_))\n",
    "\n",
    "for i in range(0,len(result.cv_results_['mean_test_score'])-1):\n",
    "    print(\"mean accuracy: \" + str(result.cv_results_['mean_test_score'][i]) + \" std: \" + str(result.cv_results_['std_test_score'][i]) + \" com: \" + str(result.cv_results_['params'][i]))"
   ]
  },
  {
   "cell_type": "code",
   "execution_count": 72,
   "metadata": {},
   "outputs": [],
   "source": [
    "df_test = pd.read_csv('../datasets/test_data.csv')\n",
    "\n",
    "for index, values in df_test.iterrows():\n",
    "\n",
    "    df_test.loc[df_test.index[index], 'AVERAGE_SPEED'] = values['AVERAGE_FREE_FLOW_SPEED'] - values['AVERAGE_FREE_FLOW_SPEED'] * values['AVERAGE_FREE_FLOW_TIME'] / (values['AVERAGE_FREE_FLOW_TIME'] + values['AVERAGE_TIME_DIFF'])\n",
    "\n",
    "    \n",
    "with open('EncontrosDesportivos.txt', 'r') as f:\n",
    "    aux = f.readlines()\n",
    "    datas = []\n",
    "    \n",
    "    for data in aux:\n",
    "        pair = re.split(r' ', re.sub(r'\\n', '', data))\n",
    "        datas.append((pair[0], pair[1]))\n",
    "\n",
    "    for index, values in df_test.iterrows():\n",
    "        aux = values['record_date'].split()\n",
    "        \n",
    "        if (aux[0], aux[1]) in datas:\n",
    "            df_test.loc[df_test.index[index], 'EVENT'] = 1\n",
    "        else:\n",
    "            df_test.loc[df_test.index[index], 'EVENT'] = 0\n",
    "            \n",
    "df_test['LUMINOSITY'] = df_test['LUMINOSITY'].apply(convertLuminosity)\n",
    "\n",
    "df_test['record_date'] = pd.to_datetime(df_test['record_date'])\n",
    "df_test['DAY'] = df_test.record_date.dt.weekday\n",
    "df_test['MONTH'] = df_test.record_date.dt.month\n",
    "df_test['WEEK'] = df_test.record_date.dt.isocalendar().week\n",
    "df_test['HOUR'] = df_test.record_date.dt.hour\n",
    "df_test = df_test.drop(['record_date'], axis = 1)\n",
    "\n",
    "df_test['WEEKEND'] = df_test['DAY'].apply(convert_The_Weeknd)\n",
    "\n",
    "df_test = df_test.drop(['city_name', 'AVERAGE_TIME_DIFF', 'AVERAGE_CLOUDINESS', 'AVERAGE_RAIN', 'AVERAGE_PRECIPITATION', 'AVERAGE_HUMIDITY', 'DAY', 'WEEK'], axis = 1)\n",
    "\n",
    "df_test = df_test.fillna(0)"
   ]
  },
  {
   "cell_type": "code",
   "execution_count": 73,
   "metadata": {},
   "outputs": [],
   "source": [
    "df_training_test = df_training_feature_selection.copy()\n",
    "\n",
    "x_test = df_training_test.drop(['AVERAGE_SPEED_DIFF'], axis = 1)\n",
    "y_test = df_training_test['AVERAGE_SPEED_DIFF'].to_frame()\n",
    "\n",
    "scaler = MinMaxScaler(feature_range=(0, 1))\n",
    "x_scaled = x.copy()\n",
    "x_scaled = scaler.fit_transform(x_scaled)\n",
    "x_scaled = pd.DataFrame(x_scaled)\n",
    "\n",
    "dummy_y = tensorflow.keras.utils.to_categorical(y)"
   ]
  },
  {
   "cell_type": "code",
   "execution_count": 78,
   "metadata": {},
   "outputs": [
    {
     "data": {
      "text/plain": [
       "array([[0., 0., 1., 0., 0.],\n",
       "       [0., 0., 0., 1., 0.],\n",
       "       [0., 0., 0., 1., 0.],\n",
       "       ...,\n",
       "       [1., 0., 0., 0., 0.],\n",
       "       [1., 0., 0., 0., 0.],\n",
       "       [0., 0., 1., 0., 0.]], dtype=float32)"
      ]
     },
     "execution_count": 78,
     "metadata": {},
     "output_type": "execute_result"
    }
   ],
   "source": [
    "#,dropout_rate=0.0, weight_constraint=0\n",
    "def build_model(learning_rate=0.001, activation='relu', dropout_rate=0.0, weight_constraint=0):\n",
    "    model = Sequential()\n",
    "    model.add(Dense(11, input_dim = 11, activation=activation))\n",
    "    model.add(Dense(16, activation = activation, kernel_constraint=MaxNorm(weight_constraint)))\n",
    "    model.add(Dropout(dropout_rate))\n",
    "    model.add(Dense(5, activation = 'softmax'))\n",
    "\n",
    "    model.compile(\n",
    "        loss = 'categorical_crossentropy',\n",
    "        optimizer = Adam(learning_rate=learning_rate), \n",
    "        metrics = ['accuracy']\n",
    "    )\n",
    "    \n",
    "    return model\n",
    "\n",
    "dummy_y"
   ]
  },
  {
   "cell_type": "code",
   "execution_count": 80,
   "metadata": {},
   "outputs": [
    {
     "name": "stdout",
     "output_type": "stream",
     "text": [
      "Epoch 1/20\n",
      "171/171 [==============================] - 1s 6ms/step - loss: 81.3118 - accuracy: 0.2498 - val_loss: 8.4032 - val_accuracy: 0.3368\n",
      "Epoch 2/20\n",
      "171/171 [==============================] - 1s 5ms/step - loss: 14.8555 - accuracy: 0.2679 - val_loss: 1.7907 - val_accuracy: 0.3243\n",
      "Epoch 3/20\n",
      "171/171 [==============================] - 1s 6ms/step - loss: 2.0008 - accuracy: 0.3340 - val_loss: 1.3006 - val_accuracy: 0.4505\n",
      "Epoch 4/20\n",
      "171/171 [==============================] - 1s 4ms/step - loss: 1.3423 - accuracy: 0.3881 - val_loss: 1.2355 - val_accuracy: 0.5070\n",
      "Epoch 5/20\n",
      "171/171 [==============================] - 1s 4ms/step - loss: 1.2878 - accuracy: 0.4120 - val_loss: 1.1994 - val_accuracy: 0.4850\n",
      "Epoch 6/20\n",
      "171/171 [==============================] - 1s 5ms/step - loss: 1.2479 - accuracy: 0.4179 - val_loss: 1.1708 - val_accuracy: 0.5180\n",
      "Epoch 7/20\n",
      "171/171 [==============================] - 1s 5ms/step - loss: 1.2074 - accuracy: 0.4344 - val_loss: 1.1131 - val_accuracy: 0.5312\n",
      "Epoch 8/20\n",
      "171/171 [==============================] - 1s 4ms/step - loss: 1.1742 - accuracy: 0.4562 - val_loss: 1.0695 - val_accuracy: 0.5400\n",
      "Epoch 9/20\n",
      "171/171 [==============================] - 1s 4ms/step - loss: 1.1379 - accuracy: 0.4742 - val_loss: 1.0407 - val_accuracy: 0.5400\n",
      "Epoch 10/20\n",
      "171/171 [==============================] - 1s 6ms/step - loss: 1.1116 - accuracy: 0.4766 - val_loss: 1.0072 - val_accuracy: 0.5429\n",
      "Epoch 11/20\n",
      "171/171 [==============================] - 1s 5ms/step - loss: 1.0736 - accuracy: 0.4823 - val_loss: 0.9722 - val_accuracy: 0.5891\n",
      "Epoch 12/20\n",
      "171/171 [==============================] - 1s 5ms/step - loss: 1.0526 - accuracy: 0.4869 - val_loss: 0.9578 - val_accuracy: 0.5979\n",
      "Epoch 13/20\n",
      "171/171 [==============================] - 1s 5ms/step - loss: 1.0239 - accuracy: 0.5021 - val_loss: 0.9088 - val_accuracy: 0.5965\n",
      "Epoch 14/20\n",
      "171/171 [==============================] - 1s 5ms/step - loss: 1.0035 - accuracy: 0.5238 - val_loss: 0.9332 - val_accuracy: 0.5503\n",
      "Epoch 15/20\n",
      "171/171 [==============================] - 1s 5ms/step - loss: 0.9777 - accuracy: 0.5485 - val_loss: 0.8768 - val_accuracy: 0.5811\n",
      "Epoch 16/20\n",
      "171/171 [==============================] - 1s 4ms/step - loss: 0.9657 - accuracy: 0.5713 - val_loss: 0.8313 - val_accuracy: 0.6332\n",
      "Epoch 17/20\n",
      "171/171 [==============================] - 1s 5ms/step - loss: 0.9380 - accuracy: 0.5852 - val_loss: 0.8370 - val_accuracy: 0.6222\n",
      "Epoch 18/20\n",
      "171/171 [==============================] - 1s 5ms/step - loss: 0.9401 - accuracy: 0.5840 - val_loss: 0.8253 - val_accuracy: 0.6156\n",
      "Epoch 19/20\n",
      "171/171 [==============================] - 1s 5ms/step - loss: 0.9117 - accuracy: 0.5974 - val_loss: 0.8333 - val_accuracy: 0.6970\n",
      "Epoch 20/20\n",
      "171/171 [==============================] - 1s 5ms/step - loss: 0.8938 - accuracy: 0.5996 - val_loss: 0.7907 - val_accuracy: 0.6691\n"
     ]
    }
   ],
   "source": [
    "\n",
    "TUNING_DICT = {\n",
    "    #'activation': ['relu', 'softmax']\n",
    "    #optimizer = ['SGD', 'RMSprop', 'Adagrad', 'Adadelta', 'Adam', 'Adamax', 'Nadam']\n",
    "    #'learning_rate': [0.01],\n",
    "    'learning_rate': [0.001,0.01,0.1],\n",
    "    #'momentum': [0.6],\n",
    "    #'momentum': [0.0, 0.2, 0.4, 0.6, 0.8, 0.9],\n",
    "    #'init_mode': ['uniform', 'lecun_uniform', 'normal', 'zero', 'glorot_normal', 'glorot_uniform', 'he_normal', 'he_uniform'],\n",
    "    #'activation': ['softmax', 'softplus', 'softsign', 'relu', 'tanh', 'sigmoid', 'hard_sigmoid', 'linear'],\n",
    "    'activation': ['relu'],\n",
    "    'weight_constraint': [4],\n",
    "    'dropout_rate': [0.2],\n",
    "    'batch_size': [32],\n",
    "    'epochs': [20]\n",
    "    #neurons = [1, 5, 10, 15, 20, 25, 30]\n",
    "}\n",
    "\n",
    "kf = KFold(n_splits = 5, shuffle = True, random_state = 2021)\n",
    "\n",
    "model = KerasClassifier(build_fn = build_model, verbose=1)\n",
    "\n",
    "grid_search = GridSearchCV(estimator = model,\n",
    "                           param_grid = TUNING_DICT,\n",
    "                           cv = kf,\n",
    "                           refit = 'True',\n",
    "                           n_jobs = -1)\n",
    "\n",
    "result = grid_search.fit(x_test, np.ravel(y_test), validation_split = 0.2)\n",
    "\n"
   ]
  },
  {
   "cell_type": "code",
   "execution_count": 76,
   "metadata": {},
   "outputs": [
    {
     "name": "stdout",
     "output_type": "stream",
     "text": [
      "47/47 [==============================] - 0s 2ms/step\n",
      "[0 1 0 ... 0 3 2]\n"
     ]
    }
   ],
   "source": [
    "predicts = grid_search.predict(df_test)\n",
    "print(predicts)"
   ]
  },
  {
   "cell_type": "code",
   "execution_count": 77,
   "metadata": {},
   "outputs": [
    {
     "name": "stdout",
     "output_type": "stream",
     "text": [
      "Submission file ready :)\n"
     ]
    }
   ],
   "source": [
    "with open('../datasets/submissionRedeNeuronal.csv', 'w') as file:\n",
    "    i = 1\n",
    "    file.write('RowId,Speed_Diff\\n')\n",
    "\n",
    "    for elem in predicts:\n",
    "        if elem == 0:\n",
    "            token = 'None'\n",
    "        elif elem == 1:\n",
    "            token = 'Low'\n",
    "        elif elem == 2:\n",
    "            token = 'Medium'\n",
    "        elif elem == 3:\n",
    "            token = 'High'\n",
    "        else:\n",
    "            token = 'Very_High' \n",
    "        file.write(str(i) + ',' + token + '\\n')\n",
    "        i += 1\n",
    "print('Submission file ready :)')"
   ]
  }
 ],
 "metadata": {
  "accelerator": "GPU",
  "colab": {
   "collapsed_sections": [],
   "name": "DAA-Trafego-Kaneki.ipynb",
   "provenance": []
  },
  "kernelspec": {
   "display_name": "Python 3",
   "language": "python",
   "name": "python3"
  },
  "language_info": {
   "codemirror_mode": {
    "name": "ipython",
    "version": 3
   },
   "file_extension": ".py",
   "mimetype": "text/x-python",
   "name": "python",
   "nbconvert_exporter": "python",
   "pygments_lexer": "ipython3",
   "version": "3.6.13"
  }
 },
 "nbformat": 4,
 "nbformat_minor": 4
}

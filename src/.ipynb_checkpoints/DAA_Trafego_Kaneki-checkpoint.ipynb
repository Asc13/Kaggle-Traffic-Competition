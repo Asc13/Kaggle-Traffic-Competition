{
  "cells": [
    {
      "cell_type": "code",
      "execution_count": 4,
      "metadata": {
        "id": "IxwvSJ_F_YFj"
      },
      "outputs": [],
      "source": [
        "import numpy as np\n",
        "import pandas as pd\n",
        "import seaborn as sns\n",
        "import re\n",
        "from datetime import *\n",
        "from sklearn.feature_selection import SelectKBest\n",
        "import matplotlib.pyplot as plt\n",
        "from sklearn.experimental import enable_halving_search_cv\n",
        "from sklearn.model_selection import HalvingGridSearchCV, train_test_split\n",
        "from sklearn.ensemble import RandomForestClassifier\n",
        "from sklearn.linear_model import *\n",
        "from sklearn.tree import *\n",
        "from sklearn.metrics import *\n",
        "from sklearn.svm import *\n",
        "from sklearn.feature_selection import chi2\n",
        "from sklearn.preprocessing import StandardScaler\n",
        "from sklearn.preprocessing import MinMaxScaler\n",
        "from sklearn import preprocessing\n",
        "from scipy.stats import chi2_contingency\n",
        "import tensorflow.keras.utils \n",
        "import tensorflow as tf\n",
        "from tensorflow.keras.models import Sequential\n",
        "from tensorflow.keras.layers import Dense, Dropout, BatchNormalization\n",
        "from tensorflow.keras.wrappers.scikit_learn import KerasClassifier\n",
        "from xgboost.sklearn import XGBClassifier"
      ]
    },
    {
      "cell_type": "code",
      "execution_count": 5,
      "metadata": {
        "colab": {
          "base_uri": "https://localhost:8080/",
          "height": 313
        },
        "id": "G1WpdlfV_hxH",
        "outputId": "31ad661e-9844-4ca6-99dd-1a6e8cb0b51e"
      },
      "outputs": [
        {
          "data": {
            "text/html": [
              "<div>\n",
              "<style scoped>\n",
              "    .dataframe tbody tr th:only-of-type {\n",
              "        vertical-align: middle;\n",
              "    }\n",
              "\n",
              "    .dataframe tbody tr th {\n",
              "        vertical-align: top;\n",
              "    }\n",
              "\n",
              "    .dataframe thead th {\n",
              "        text-align: right;\n",
              "    }\n",
              "</style>\n",
              "<table border=\"1\" class=\"dataframe\">\n",
              "  <thead>\n",
              "    <tr style=\"text-align: right;\">\n",
              "      <th></th>\n",
              "      <th>city_name</th>\n",
              "      <th>record_date</th>\n",
              "      <th>AVERAGE_SPEED_DIFF</th>\n",
              "      <th>AVERAGE_FREE_FLOW_SPEED</th>\n",
              "      <th>AVERAGE_TIME_DIFF</th>\n",
              "      <th>AVERAGE_FREE_FLOW_TIME</th>\n",
              "      <th>LUMINOSITY</th>\n",
              "      <th>AVERAGE_TEMPERATURE</th>\n",
              "      <th>AVERAGE_ATMOSP_PRESSURE</th>\n",
              "      <th>AVERAGE_HUMIDITY</th>\n",
              "      <th>AVERAGE_WIND_SPEED</th>\n",
              "      <th>AVERAGE_CLOUDINESS</th>\n",
              "      <th>AVERAGE_PRECIPITATION</th>\n",
              "      <th>AVERAGE_RAIN</th>\n",
              "    </tr>\n",
              "  </thead>\n",
              "  <tbody>\n",
              "    <tr>\n",
              "      <th>0</th>\n",
              "      <td>Porto</td>\n",
              "      <td>2019-08-29 07:00:00</td>\n",
              "      <td>Medium</td>\n",
              "      <td>41.5</td>\n",
              "      <td>11.5</td>\n",
              "      <td>71.4</td>\n",
              "      <td>LIGHT</td>\n",
              "      <td>15.0</td>\n",
              "      <td>1019.0</td>\n",
              "      <td>100.0</td>\n",
              "      <td>3.0</td>\n",
              "      <td>NaN</td>\n",
              "      <td>0.0</td>\n",
              "      <td>NaN</td>\n",
              "    </tr>\n",
              "    <tr>\n",
              "      <th>1</th>\n",
              "      <td>Porto</td>\n",
              "      <td>2018-08-10 14:00:00</td>\n",
              "      <td>High</td>\n",
              "      <td>41.7</td>\n",
              "      <td>48.3</td>\n",
              "      <td>87.4</td>\n",
              "      <td>LIGHT</td>\n",
              "      <td>21.0</td>\n",
              "      <td>1021.0</td>\n",
              "      <td>53.0</td>\n",
              "      <td>5.0</td>\n",
              "      <td>c�u claro</td>\n",
              "      <td>0.0</td>\n",
              "      <td>NaN</td>\n",
              "    </tr>\n",
              "    <tr>\n",
              "      <th>2</th>\n",
              "      <td>Porto</td>\n",
              "      <td>2019-09-01 16:00:00</td>\n",
              "      <td>High</td>\n",
              "      <td>38.6</td>\n",
              "      <td>38.4</td>\n",
              "      <td>85.2</td>\n",
              "      <td>LIGHT</td>\n",
              "      <td>26.0</td>\n",
              "      <td>1014.0</td>\n",
              "      <td>61.0</td>\n",
              "      <td>4.0</td>\n",
              "      <td>NaN</td>\n",
              "      <td>0.0</td>\n",
              "      <td>NaN</td>\n",
              "    </tr>\n",
              "    <tr>\n",
              "      <th>3</th>\n",
              "      <td>Porto</td>\n",
              "      <td>2019-02-26 11:00:00</td>\n",
              "      <td>High</td>\n",
              "      <td>37.4</td>\n",
              "      <td>61.0</td>\n",
              "      <td>94.1</td>\n",
              "      <td>LIGHT</td>\n",
              "      <td>18.0</td>\n",
              "      <td>1025.0</td>\n",
              "      <td>48.0</td>\n",
              "      <td>4.0</td>\n",
              "      <td>c�u claro</td>\n",
              "      <td>0.0</td>\n",
              "      <td>NaN</td>\n",
              "    </tr>\n",
              "    <tr>\n",
              "      <th>4</th>\n",
              "      <td>Porto</td>\n",
              "      <td>2019-06-06 12:00:00</td>\n",
              "      <td>Medium</td>\n",
              "      <td>41.6</td>\n",
              "      <td>50.4</td>\n",
              "      <td>77.0</td>\n",
              "      <td>LIGHT</td>\n",
              "      <td>15.0</td>\n",
              "      <td>1008.0</td>\n",
              "      <td>82.0</td>\n",
              "      <td>10.0</td>\n",
              "      <td>NaN</td>\n",
              "      <td>0.0</td>\n",
              "      <td>NaN</td>\n",
              "    </tr>\n",
              "  </tbody>\n",
              "</table>\n",
              "</div>"
            ],
            "text/plain": [
              "  city_name          record_date AVERAGE_SPEED_DIFF  AVERAGE_FREE_FLOW_SPEED  \\\n",
              "0     Porto  2019-08-29 07:00:00             Medium                     41.5   \n",
              "1     Porto  2018-08-10 14:00:00               High                     41.7   \n",
              "2     Porto  2019-09-01 16:00:00               High                     38.6   \n",
              "3     Porto  2019-02-26 11:00:00               High                     37.4   \n",
              "4     Porto  2019-06-06 12:00:00             Medium                     41.6   \n",
              "\n",
              "   AVERAGE_TIME_DIFF  AVERAGE_FREE_FLOW_TIME LUMINOSITY  AVERAGE_TEMPERATURE  \\\n",
              "0               11.5                    71.4      LIGHT                 15.0   \n",
              "1               48.3                    87.4      LIGHT                 21.0   \n",
              "2               38.4                    85.2      LIGHT                 26.0   \n",
              "3               61.0                    94.1      LIGHT                 18.0   \n",
              "4               50.4                    77.0      LIGHT                 15.0   \n",
              "\n",
              "   AVERAGE_ATMOSP_PRESSURE  AVERAGE_HUMIDITY  AVERAGE_WIND_SPEED  \\\n",
              "0                   1019.0             100.0                 3.0   \n",
              "1                   1021.0              53.0                 5.0   \n",
              "2                   1014.0              61.0                 4.0   \n",
              "3                   1025.0              48.0                 4.0   \n",
              "4                   1008.0              82.0                10.0   \n",
              "\n",
              "  AVERAGE_CLOUDINESS  AVERAGE_PRECIPITATION AVERAGE_RAIN  \n",
              "0                NaN                    0.0          NaN  \n",
              "1          c�u claro                    0.0          NaN  \n",
              "2                NaN                    0.0          NaN  \n",
              "3          c�u claro                    0.0          NaN  \n",
              "4                NaN                    0.0          NaN  "
            ]
          },
          "execution_count": 5,
          "metadata": {},
          "output_type": "execute_result"
        }
      ],
      "source": [
        "df_training = pd.read_csv('../datasets/training_data.csv')\n",
        "df_training.head()"
      ]
    },
    {
      "cell_type": "markdown",
      "metadata": {},
      "source": [
        "# $\\textbf{Integração de dados de estado do tempo}$"
      ]
    },
    {
      "cell_type": "code",
      "execution_count": null,
      "metadata": {},
      "outputs": [],
      "source": [
        "df_weather = pd.read_csv('../datasets/Weather.csv')"
      ]
    },
    {
      "cell_type": "code",
      "execution_count": null,
      "metadata": {},
      "outputs": [],
      "source": [
        "df_weather = df_weather.drop(['name', 'windgust', 'snow', 'precipprob', 'icon', 'snowdepth', 'sealevelpressure', 'preciptype', 'solarradiation', 'solarenergy', 'severerisk', 'stations'], axis = 1)\n",
        "\n",
        "#Percentagem de missing values\n",
        "print(df_weather.isna().sum()*100/len(df_weather))"
      ]
    },
    {
      "cell_type": "code",
      "execution_count": null,
      "metadata": {},
      "outputs": [],
      "source": [
        "df_weather.fillna(0)"
      ]
    },
    {
      "cell_type": "markdown",
      "metadata": {},
      "source": [
        "# $\\textbf{Conjugação com o Dataset do tráfego}$"
      ]
    },
    {
      "cell_type": "code",
      "execution_count": null,
      "metadata": {},
      "outputs": [],
      "source": [
        "for index, values in df_weather.iterrows():\n",
        "    df_weather.loc[df_weather.index[index], 'datetime'] = datetime.fromisoformat(values['datetime'][:-3]).strftime('%Y-%m-%d %H:%M:%S')\n",
        "   "
      ]
    },
    {
      "cell_type": "code",
      "execution_count": null,
      "metadata": {},
      "outputs": [],
      "source": [
        "cols = ['temp', 'feelslike', 'dew', 'humidity', 'precip', 'windspeed', 'winddir', 'cloudcover', 'visibility', 'uvindex', 'conditions']\n",
        "\n",
        "for index, values in df_weather.iterrows():\n",
        "\n",
        "    i = df_training.loc[df_training['record_date'] == values['datetime']].index\n",
        "    for col in cols: \n",
        "        df_training.loc[df_training.index[i], col] = values[col]"
      ]
    },
    {
      "cell_type": "code",
      "execution_count": null,
      "metadata": {},
      "outputs": [],
      "source": [
        "df_training.isna().any()"
      ]
    },
    {
      "cell_type": "markdown",
      "metadata": {
        "id": "K3e_4_La_8bG"
      },
      "source": [
        "# $\\textbf{Visualização de dados}$"
      ]
    },
    {
      "cell_type": "markdown",
      "metadata": {
        "id": "y6o3Gi5yAOKg"
      },
      "source": [
        "### $\\textbf{Dados gerais}$"
      ]
    },
    {
      "cell_type": "code",
      "execution_count": 6,
      "metadata": {
        "colab": {
          "base_uri": "https://localhost:8080/"
        },
        "id": "mW1H3mAq_7aQ",
        "outputId": "c1717d03-834b-4102-fae8-e563c2efb1cf"
      },
      "outputs": [
        {
          "name": "stdout",
          "output_type": "stream",
          "text": [
            "<class 'pandas.core.frame.DataFrame'>\n",
            "RangeIndex: 6812 entries, 0 to 6811\n",
            "Data columns (total 14 columns):\n",
            " #   Column                   Non-Null Count  Dtype  \n",
            "---  ------                   --------------  -----  \n",
            " 0   city_name                6812 non-null   object \n",
            " 1   record_date              6812 non-null   object \n",
            " 2   AVERAGE_SPEED_DIFF       6812 non-null   object \n",
            " 3   AVERAGE_FREE_FLOW_SPEED  6812 non-null   float64\n",
            " 4   AVERAGE_TIME_DIFF        6812 non-null   float64\n",
            " 5   AVERAGE_FREE_FLOW_TIME   6812 non-null   float64\n",
            " 6   LUMINOSITY               6812 non-null   object \n",
            " 7   AVERAGE_TEMPERATURE      6812 non-null   float64\n",
            " 8   AVERAGE_ATMOSP_PRESSURE  6812 non-null   float64\n",
            " 9   AVERAGE_HUMIDITY         6812 non-null   float64\n",
            " 10  AVERAGE_WIND_SPEED       6812 non-null   float64\n",
            " 11  AVERAGE_CLOUDINESS       4130 non-null   object \n",
            " 12  AVERAGE_PRECIPITATION    6812 non-null   float64\n",
            " 13  AVERAGE_RAIN             563 non-null    object \n",
            "dtypes: float64(8), object(6)\n",
            "memory usage: 745.2+ KB\n"
          ]
        }
      ],
      "source": [
        "df_training.info()"
      ]
    },
    {
      "cell_type": "code",
      "execution_count": 7,
      "metadata": {
        "colab": {
          "base_uri": "https://localhost:8080/",
          "height": 320
        },
        "id": "8MOvUVQxAbrB",
        "outputId": "bd731f2d-f555-4336-81bf-7df8a1c95e69"
      },
      "outputs": [
        {
          "data": {
            "text/html": [
              "<div>\n",
              "<style scoped>\n",
              "    .dataframe tbody tr th:only-of-type {\n",
              "        vertical-align: middle;\n",
              "    }\n",
              "\n",
              "    .dataframe tbody tr th {\n",
              "        vertical-align: top;\n",
              "    }\n",
              "\n",
              "    .dataframe thead th {\n",
              "        text-align: right;\n",
              "    }\n",
              "</style>\n",
              "<table border=\"1\" class=\"dataframe\">\n",
              "  <thead>\n",
              "    <tr style=\"text-align: right;\">\n",
              "      <th></th>\n",
              "      <th>AVERAGE_FREE_FLOW_SPEED</th>\n",
              "      <th>AVERAGE_TIME_DIFF</th>\n",
              "      <th>AVERAGE_FREE_FLOW_TIME</th>\n",
              "      <th>AVERAGE_TEMPERATURE</th>\n",
              "      <th>AVERAGE_ATMOSP_PRESSURE</th>\n",
              "      <th>AVERAGE_HUMIDITY</th>\n",
              "      <th>AVERAGE_WIND_SPEED</th>\n",
              "      <th>AVERAGE_PRECIPITATION</th>\n",
              "    </tr>\n",
              "  </thead>\n",
              "  <tbody>\n",
              "    <tr>\n",
              "      <th>count</th>\n",
              "      <td>6812.000000</td>\n",
              "      <td>6812.000000</td>\n",
              "      <td>6812.000000</td>\n",
              "      <td>6812.000000</td>\n",
              "      <td>6812.000000</td>\n",
              "      <td>6812.000000</td>\n",
              "      <td>6812.000000</td>\n",
              "      <td>6812.0</td>\n",
              "    </tr>\n",
              "    <tr>\n",
              "      <th>mean</th>\n",
              "      <td>40.661010</td>\n",
              "      <td>25.637111</td>\n",
              "      <td>81.143952</td>\n",
              "      <td>16.193482</td>\n",
              "      <td>1017.388139</td>\n",
              "      <td>80.084190</td>\n",
              "      <td>3.058573</td>\n",
              "      <td>0.0</td>\n",
              "    </tr>\n",
              "    <tr>\n",
              "      <th>std</th>\n",
              "      <td>4.119023</td>\n",
              "      <td>33.510507</td>\n",
              "      <td>8.294401</td>\n",
              "      <td>5.163492</td>\n",
              "      <td>5.751061</td>\n",
              "      <td>18.238863</td>\n",
              "      <td>2.138421</td>\n",
              "      <td>0.0</td>\n",
              "    </tr>\n",
              "    <tr>\n",
              "      <th>min</th>\n",
              "      <td>30.500000</td>\n",
              "      <td>0.000000</td>\n",
              "      <td>46.400000</td>\n",
              "      <td>0.000000</td>\n",
              "      <td>985.000000</td>\n",
              "      <td>14.000000</td>\n",
              "      <td>0.000000</td>\n",
              "      <td>0.0</td>\n",
              "    </tr>\n",
              "    <tr>\n",
              "      <th>25%</th>\n",
              "      <td>37.600000</td>\n",
              "      <td>2.275000</td>\n",
              "      <td>75.400000</td>\n",
              "      <td>13.000000</td>\n",
              "      <td>1015.000000</td>\n",
              "      <td>69.750000</td>\n",
              "      <td>1.000000</td>\n",
              "      <td>0.0</td>\n",
              "    </tr>\n",
              "    <tr>\n",
              "      <th>50%</th>\n",
              "      <td>40.700000</td>\n",
              "      <td>12.200000</td>\n",
              "      <td>82.400000</td>\n",
              "      <td>16.000000</td>\n",
              "      <td>1017.000000</td>\n",
              "      <td>83.000000</td>\n",
              "      <td>3.000000</td>\n",
              "      <td>0.0</td>\n",
              "    </tr>\n",
              "    <tr>\n",
              "      <th>75%</th>\n",
              "      <td>43.500000</td>\n",
              "      <td>36.200000</td>\n",
              "      <td>87.400000</td>\n",
              "      <td>19.000000</td>\n",
              "      <td>1021.000000</td>\n",
              "      <td>93.000000</td>\n",
              "      <td>4.000000</td>\n",
              "      <td>0.0</td>\n",
              "    </tr>\n",
              "    <tr>\n",
              "      <th>max</th>\n",
              "      <td>55.900000</td>\n",
              "      <td>296.500000</td>\n",
              "      <td>112.000000</td>\n",
              "      <td>35.000000</td>\n",
              "      <td>1033.000000</td>\n",
              "      <td>100.000000</td>\n",
              "      <td>14.000000</td>\n",
              "      <td>0.0</td>\n",
              "    </tr>\n",
              "  </tbody>\n",
              "</table>\n",
              "</div>"
            ],
            "text/plain": [
              "       AVERAGE_FREE_FLOW_SPEED  AVERAGE_TIME_DIFF  AVERAGE_FREE_FLOW_TIME  \\\n",
              "count              6812.000000        6812.000000             6812.000000   \n",
              "mean                 40.661010          25.637111               81.143952   \n",
              "std                   4.119023          33.510507                8.294401   \n",
              "min                  30.500000           0.000000               46.400000   \n",
              "25%                  37.600000           2.275000               75.400000   \n",
              "50%                  40.700000          12.200000               82.400000   \n",
              "75%                  43.500000          36.200000               87.400000   \n",
              "max                  55.900000         296.500000              112.000000   \n",
              "\n",
              "       AVERAGE_TEMPERATURE  AVERAGE_ATMOSP_PRESSURE  AVERAGE_HUMIDITY  \\\n",
              "count          6812.000000              6812.000000       6812.000000   \n",
              "mean             16.193482              1017.388139         80.084190   \n",
              "std               5.163492                 5.751061         18.238863   \n",
              "min               0.000000               985.000000         14.000000   \n",
              "25%              13.000000              1015.000000         69.750000   \n",
              "50%              16.000000              1017.000000         83.000000   \n",
              "75%              19.000000              1021.000000         93.000000   \n",
              "max              35.000000              1033.000000        100.000000   \n",
              "\n",
              "       AVERAGE_WIND_SPEED  AVERAGE_PRECIPITATION  \n",
              "count         6812.000000                 6812.0  \n",
              "mean             3.058573                    0.0  \n",
              "std              2.138421                    0.0  \n",
              "min              0.000000                    0.0  \n",
              "25%              1.000000                    0.0  \n",
              "50%              3.000000                    0.0  \n",
              "75%              4.000000                    0.0  \n",
              "max             14.000000                    0.0  "
            ]
          },
          "execution_count": 7,
          "metadata": {},
          "output_type": "execute_result"
        }
      ],
      "source": [
        "df_training.describe()"
      ]
    },
    {
      "cell_type": "markdown",
      "metadata": {
        "id": "wGA1j9fgAeHt"
      },
      "source": [
        "### $\\textbf{Missing values}$"
      ]
    },
    {
      "cell_type": "code",
      "execution_count": 8,
      "metadata": {
        "colab": {
          "base_uri": "https://localhost:8080/"
        },
        "id": "NxDZnIQbAlai",
        "outputId": "43c3a7bb-d751-4ed4-9ad3-46c1c5c7948a"
      },
      "outputs": [
        {
          "name": "stdout",
          "output_type": "stream",
          "text": [
            "city_name                   0.000000\n",
            "record_date                 0.000000\n",
            "AVERAGE_SPEED_DIFF          0.000000\n",
            "AVERAGE_FREE_FLOW_SPEED     0.000000\n",
            "AVERAGE_TIME_DIFF           0.000000\n",
            "AVERAGE_FREE_FLOW_TIME      0.000000\n",
            "LUMINOSITY                  0.000000\n",
            "AVERAGE_TEMPERATURE         0.000000\n",
            "AVERAGE_ATMOSP_PRESSURE     0.000000\n",
            "AVERAGE_HUMIDITY            0.000000\n",
            "AVERAGE_WIND_SPEED          0.000000\n",
            "AVERAGE_CLOUDINESS         39.371697\n",
            "AVERAGE_PRECIPITATION       0.000000\n",
            "AVERAGE_RAIN               91.735173\n",
            "dtype: float64\n"
          ]
        }
      ],
      "source": [
        "#Percentagem de missing values\n",
        "print(df_training.isna().sum()*100/len(df_training))"
      ]
    },
    {
      "cell_type": "markdown",
      "metadata": {
        "id": "MinI5VQpB3XU"
      },
      "source": [
        "### $\\textbf{Remoção das tabelas com missing values}$"
      ]
    },
    {
      "cell_type": "code",
      "execution_count": 9,
      "metadata": {
        "id": "iFEO2FJABzuP"
      },
      "outputs": [],
      "source": [
        "df_remove = df_training.copy()\n",
        "\n",
        "df_remove = df_remove.drop(['city_name', 'AVERAGE_CLOUDINESS', 'AVERAGE_RAIN'], axis = 1)"
      ]
    },
    {
      "cell_type": "markdown",
      "metadata": {
        "id": "KT-RjTbVAsfJ"
      },
      "source": [
        "### $\\textbf{Distribuições}$"
      ]
    },
    {
      "cell_type": "code",
      "execution_count": null,
      "metadata": {
        "colab": {
          "base_uri": "https://localhost:8080/",
          "height": 297
        },
        "id": "Qb9hX6O4AsKn",
        "outputId": "e3c297c6-bae9-43ba-e745-0bdddb13a547"
      },
      "outputs": [],
      "source": [
        "sns.histplot(df_remove['AVERAGE_TIME_DIFF'], kde=True)"
      ]
    },
    {
      "cell_type": "code",
      "execution_count": null,
      "metadata": {
        "colab": {
          "base_uri": "https://localhost:8080/",
          "height": 297
        },
        "id": "tKF6P07XAvdW",
        "outputId": "5e06dbf3-5357-4d50-b43d-470daece83bf"
      },
      "outputs": [],
      "source": [
        "sns.histplot(df_remove['AVERAGE_HUMIDITY'], kde=True)"
      ]
    },
    {
      "cell_type": "code",
      "execution_count": null,
      "metadata": {},
      "outputs": [],
      "source": [
        "sns.histplot(df_remove['humidity'], kde=True)"
      ]
    },
    {
      "cell_type": "code",
      "execution_count": null,
      "metadata": {},
      "outputs": [],
      "source": [
        "# Remover a coluna AVERAGE_HUMIDITY, porque não apresenta os dados completos\n",
        "df_remove = df_remove.drop(['AVERAGE_HUMIDITY'], axis = 1)"
      ]
    },
    {
      "cell_type": "code",
      "execution_count": null,
      "metadata": {
        "colab": {
          "base_uri": "https://localhost:8080/",
          "height": 297
        },
        "id": "8sXi3ebkAy0W",
        "outputId": "c4423751-4c82-4faf-e771-5c3fd820ae39"
      },
      "outputs": [],
      "source": [
        "sns.histplot(df_remove['AVERAGE_TEMPERATURE'], kde=True)"
      ]
    },
    {
      "cell_type": "code",
      "execution_count": null,
      "metadata": {},
      "outputs": [],
      "source": [
        "sns.histplot(df_remove['temp'], kde=True)"
      ]
    },
    {
      "cell_type": "code",
      "execution_count": null,
      "metadata": {},
      "outputs": [],
      "source": [
        "# Remover a coluna AVERAGE_TEMPERATURE, porque não apresenta os dados completos\n",
        "df_remove = df_remove.drop(['AVERAGE_TEMPERATURE'], axis = 1)"
      ]
    },
    {
      "cell_type": "code",
      "execution_count": null,
      "metadata": {
        "colab": {
          "base_uri": "https://localhost:8080/",
          "height": 297
        },
        "id": "kryeGI12AzGs",
        "outputId": "76f4138a-cd5f-426f-e15d-1fd643570ba2"
      },
      "outputs": [],
      "source": [
        "sns.histplot(df_remove['AVERAGE_FREE_FLOW_SPEED'], kde=True)"
      ]
    },
    {
      "cell_type": "code",
      "execution_count": null,
      "metadata": {
        "colab": {
          "base_uri": "https://localhost:8080/",
          "height": 297
        },
        "id": "bS3lOUySAzSH",
        "outputId": "f011aa2c-289d-4aa0-82a5-23dd5a11f3e8"
      },
      "outputs": [],
      "source": [
        "sns.histplot(df_remove['AVERAGE_FREE_FLOW_TIME'], kde=True)"
      ]
    },
    {
      "cell_type": "code",
      "execution_count": null,
      "metadata": {
        "colab": {
          "base_uri": "https://localhost:8080/",
          "height": 297
        },
        "id": "XyTN9_Z0AzbP",
        "outputId": "d9871588-4ea0-47bd-c2ce-29bbc3ce3a43"
      },
      "outputs": [],
      "source": [
        "sns.histplot(df_remove['AVERAGE_ATMOSP_PRESSURE'], kde=True)"
      ]
    },
    {
      "cell_type": "code",
      "execution_count": null,
      "metadata": {
        "colab": {
          "base_uri": "https://localhost:8080/",
          "height": 297
        },
        "id": "QgJN3BLsA9jY",
        "outputId": "d977697c-f0c4-4529-e2b9-fd81c08011bb"
      },
      "outputs": [],
      "source": [
        "sns.histplot(df_remove['AVERAGE_WIND_SPEED'], kde=True)"
      ]
    },
    {
      "cell_type": "code",
      "execution_count": null,
      "metadata": {},
      "outputs": [],
      "source": [
        "sns.histplot(df_remove['windspeed'], kde=True)"
      ]
    },
    {
      "cell_type": "code",
      "execution_count": null,
      "metadata": {},
      "outputs": [],
      "source": [
        "# Remover a coluna AVERAGE_WIND_SPEED, porque não apresenta os dados completos\n",
        "df_remove = df_remove.drop(['AVERAGE_WIND_SPEED'], axis = 1)"
      ]
    },
    {
      "cell_type": "code",
      "execution_count": null,
      "metadata": {},
      "outputs": [],
      "source": [
        "# Remover a coluna AVERAGE_PRECIPITATION, porque todas as entradas são iguais a zero\n",
        "df_remove = df_remove.drop(['AVERAGE_PRECIPITATION'], axis = 1)"
      ]
    },
    {
      "cell_type": "code",
      "execution_count": null,
      "metadata": {},
      "outputs": [],
      "source": [
        "sns.histplot(df_remove['precip'], kde=True)"
      ]
    },
    {
      "cell_type": "code",
      "execution_count": null,
      "metadata": {},
      "outputs": [],
      "source": [
        "sns.histplot(df_remove['feelslike'], kde=True)"
      ]
    },
    {
      "cell_type": "code",
      "execution_count": null,
      "metadata": {},
      "outputs": [],
      "source": [
        "sns.histplot(df_remove['dew'], kde=True)"
      ]
    },
    {
      "cell_type": "code",
      "execution_count": null,
      "metadata": {},
      "outputs": [],
      "source": [
        "sns.histplot(df_remove['winddir'], kde=True)"
      ]
    },
    {
      "cell_type": "code",
      "execution_count": null,
      "metadata": {},
      "outputs": [],
      "source": [
        "sns.histplot(df_remove['cloudcover'], kde=True)"
      ]
    },
    {
      "cell_type": "code",
      "execution_count": null,
      "metadata": {},
      "outputs": [],
      "source": [
        "sns.histplot(df_remove['visibility'], kde=True)"
      ]
    },
    {
      "cell_type": "code",
      "execution_count": null,
      "metadata": {},
      "outputs": [],
      "source": [
        "# Remover a coluna uvindex, porque todas as entradas são iguais a zero\n",
        "df_remove = df_remove.drop(['uvindex'], axis = 1)"
      ]
    },
    {
      "cell_type": "markdown",
      "metadata": {
        "id": "BrHA1rHfBH2c"
      },
      "source": [
        "### $\\textbf{Deteção de outliers}$"
      ]
    },
    {
      "cell_type": "code",
      "execution_count": 10,
      "metadata": {
        "id": "1f3BCgsFHCAS"
      },
      "outputs": [],
      "source": [
        "df_training_outliers = df_remove.copy()"
      ]
    },
    {
      "cell_type": "code",
      "execution_count": null,
      "metadata": {
        "colab": {
          "base_uri": "https://localhost:8080/",
          "height": 280
        },
        "id": "1IZ6Q22-BZcc",
        "outputId": "012d3e71-056e-43e0-f31b-4d239bc8521d"
      },
      "outputs": [],
      "source": [
        "ax = sns.boxplot(x=df_training_outliers['AVERAGE_FREE_FLOW_SPEED'])"
      ]
    },
    {
      "cell_type": "code",
      "execution_count": null,
      "metadata": {
        "colab": {
          "base_uri": "https://localhost:8080/",
          "height": 280
        },
        "id": "uPkH6yZbBabL",
        "outputId": "831c048f-8c01-484b-c937-c269590eb3ba"
      },
      "outputs": [],
      "source": [
        "ax = sns.boxplot(x=df_training_outliers['AVERAGE_TIME_DIFF'])"
      ]
    },
    {
      "cell_type": "code",
      "execution_count": null,
      "metadata": {
        "colab": {
          "base_uri": "https://localhost:8080/",
          "height": 280
        },
        "id": "WEZPcy0rBVYc",
        "outputId": "d4f2a3b3-5dfb-4c11-853e-e5f7e7951201"
      },
      "outputs": [],
      "source": [
        "ax = sns.boxplot(x=df_training_outliers['AVERAGE_FREE_FLOW_TIME'])"
      ]
    },
    {
      "cell_type": "code",
      "execution_count": null,
      "metadata": {
        "colab": {
          "base_uri": "https://localhost:8080/",
          "height": 280
        },
        "id": "3k-Ztu9nBWbQ",
        "outputId": "9a5a8690-e61b-439a-e73f-2f0e76480677"
      },
      "outputs": [],
      "source": [
        "ax = sns.boxplot(x=df_training_outliers['AVERAGE_ATMOSP_PRESSURE'])"
      ]
    },
    {
      "cell_type": "code",
      "execution_count": null,
      "metadata": {},
      "outputs": [],
      "source": [
        "ax = sns.boxplot(x=df_training_outliers['temp'])"
      ]
    },
    {
      "cell_type": "code",
      "execution_count": null,
      "metadata": {
        "colab": {
          "base_uri": "https://localhost:8080/",
          "height": 280
        },
        "id": "BS3YR1VtBXKa",
        "outputId": "6a51340a-8df8-4218-aa47-2195b1d8e54e"
      },
      "outputs": [],
      "source": [
        "ax = sns.boxplot(x=df_training_outliers['humidity'])"
      ]
    },
    {
      "cell_type": "code",
      "execution_count": null,
      "metadata": {
        "colab": {
          "base_uri": "https://localhost:8080/",
          "height": 280
        },
        "id": "PFTpmsClBX50",
        "outputId": "524fd4bf-1430-4d35-ceba-11b87dc21310"
      },
      "outputs": [],
      "source": [
        "ax = sns.boxplot(x=df_training_outliers['windspeed'])"
      ]
    },
    {
      "cell_type": "code",
      "execution_count": null,
      "metadata": {},
      "outputs": [],
      "source": [
        "ax = sns.boxplot(x=df_training_outliers['precip'])"
      ]
    },
    {
      "cell_type": "code",
      "execution_count": null,
      "metadata": {
        "colab": {
          "base_uri": "https://localhost:8080/",
          "height": 280
        },
        "id": "xtZfZp07BYiz",
        "outputId": "5a063a1d-fb01-44ec-ec7c-0f84a1e8bfa1"
      },
      "outputs": [],
      "source": [
        "ax = sns.boxplot(x=df_training_outliers['feelslike'])"
      ]
    },
    {
      "cell_type": "code",
      "execution_count": null,
      "metadata": {},
      "outputs": [],
      "source": [
        "ax = sns.boxplot(x=df_training_outliers['dew'])"
      ]
    },
    {
      "cell_type": "code",
      "execution_count": null,
      "metadata": {},
      "outputs": [],
      "source": [
        "ax = sns.boxplot(x=df_training_outliers['winddir'])"
      ]
    },
    {
      "cell_type": "code",
      "execution_count": null,
      "metadata": {},
      "outputs": [],
      "source": [
        "ax = sns.boxplot(x=df_training_outliers['cloudcover'])"
      ]
    },
    {
      "cell_type": "code",
      "execution_count": null,
      "metadata": {},
      "outputs": [],
      "source": [
        "ax = sns.boxplot(x=df_training_outliers['visibility'])"
      ]
    },
    {
      "cell_type": "markdown",
      "metadata": {},
      "source": [
        "# $\\textbf{Cálculo da velocidade}$"
      ]
    },
    {
      "cell_type": "code",
      "execution_count": 11,
      "metadata": {},
      "outputs": [],
      "source": [
        "df_training_speed = df_training_outliers.copy()\n",
        "\n",
        "\n",
        "for index, values in df_training_speed.iterrows():\n",
        "\n",
        "    df_training_speed.loc[df_training_speed.index[index], 'AVERAGE_SPEED'] = values['AVERAGE_FREE_FLOW_SPEED'] - values['AVERAGE_FREE_FLOW_SPEED'] * values['AVERAGE_FREE_FLOW_TIME'] / (values['AVERAGE_FREE_FLOW_TIME'] + values['AVERAGE_TIME_DIFF'])\n",
        "\n",
        "df_training_outliers = df_training_speed.copy()\n"
      ]
    },
    {
      "cell_type": "code",
      "execution_count": null,
      "metadata": {
        "id": "BIT46lRPIZBr"
      },
      "outputs": [],
      "source": [
        "'''cols = ['AVERAGE_FREE_FLOW_SPEED', 'AVERAGE_TIME_DIFF', 'AVERAGE_FREE_FLOW_TIME',\n",
        "        'AVERAGE_ATMOSP_PRESSURE', 'temp', 'humidity', 'precip', 'windspeed',\n",
        "        'feelslike', 'dew', 'winddir', 'cloudcover', 'visibility', 'AVERAGE_SPEED']\n",
        "\n",
        "Q1 = df_training_outliers[cols].quantile(0.25) \n",
        "Q3 = df_training_outliers[cols].quantile(0.75)\n",
        "\n",
        "IQR = Q3 - Q1\n",
        "\n",
        "min_value = Q1 - (1.5 * IQR)\n",
        "max_value = Q3 + (1.5 * IQR)\n",
        "\n",
        "df_training_outliers[cols] = np.where(df_training_outliers[cols] < min_value, df_training_outliers[cols].median(), df_training_outliers[cols])\n",
        "df_training_outliers[cols] = np.where(df_training_outliers[cols] > max_value, df_training_outliers[cols].median(), df_training_outliers[cols])'''"
      ]
    },
    {
      "cell_type": "code",
      "execution_count": null,
      "metadata": {
        "colab": {
          "base_uri": "https://localhost:8080/",
          "height": 590
        },
        "id": "ArAv9gBpI4-k",
        "outputId": "4b78ecc4-f872-4e49-c36a-c8701ddd5916"
      },
      "outputs": [],
      "source": [
        "plt.figure(figsize = (20,15))\n",
        "df_training_outliers.boxplot(vert = False)"
      ]
    },
    {
      "cell_type": "markdown",
      "metadata": {
        "id": "a-GPj7cIJiky"
      },
      "source": [
        "# $\\textbf{Preparação de dados e conversão de métricas}$"
      ]
    },
    {
      "cell_type": "code",
      "execution_count": 16,
      "metadata": {
        "id": "4YKPs0l-JoNN"
      },
      "outputs": [],
      "source": [
        "df_training_conversion = df_training_outliers.copy()"
      ]
    },
    {
      "cell_type": "markdown",
      "metadata": {
        "id": "LZFWtBi3KQnr"
      },
      "source": [
        "### $\\textbf{Tratamento das datas}$"
      ]
    },
    {
      "cell_type": "code",
      "execution_count": 17,
      "metadata": {},
      "outputs": [],
      "source": [
        "with open('EncontrosDesportivos.txt', 'r') as f:\n",
        "    aux = f.readlines()\n",
        "    datas = []\n",
        "    \n",
        "    for data in aux:\n",
        "        pair = re.split(r' ', re.sub(r'\\n', '', data))\n",
        "        datas.append((pair[0], pair[1]))\n",
        "\n",
        "    for index, values in df_training_conversion.iterrows():\n",
        "        aux = values['record_date'].split()\n",
        "        \n",
        "        if (aux[0], aux[1]) in datas:\n",
        "            df_training_conversion.loc[df_training_conversion.index[index], 'EVENT'] = 1\n",
        "        else:\n",
        "            df_training_conversion.loc[df_training_conversion.index[index], 'EVENT'] = 0\n"
      ]
    },
    {
      "cell_type": "code",
      "execution_count": 18,
      "metadata": {
        "colab": {
          "base_uri": "https://localhost:8080/"
        },
        "id": "qvRSaGzGKQ4w",
        "outputId": "813c3187-bc52-42f7-b265-96738900ae48"
      },
      "outputs": [],
      "source": [
        "df_training_conversion['record_date'] = pd.to_datetime(df_training_conversion['record_date'])\n",
        "\n",
        "df_training_conversion['DAY'] = df_training_conversion.record_date.dt.weekday\n",
        "df_training_conversion['MONTH'] = df_training_conversion.record_date.dt.month\n",
        "df_training_conversion['WEEK'] = df_training_conversion.record_date.dt.isocalendar().week\n",
        "df_training_conversion['HOUR'] = df_training_conversion.record_date.dt.hour\n",
        "\n",
        "df_training_conversion = df_training_conversion.drop(['record_date'], axis = 1)"
      ]
    },
    {
      "cell_type": "code",
      "execution_count": 19,
      "metadata": {},
      "outputs": [
        {
          "data": {
            "text/html": [
              "<div>\n",
              "<style scoped>\n",
              "    .dataframe tbody tr th:only-of-type {\n",
              "        vertical-align: middle;\n",
              "    }\n",
              "\n",
              "    .dataframe tbody tr th {\n",
              "        vertical-align: top;\n",
              "    }\n",
              "\n",
              "    .dataframe thead th {\n",
              "        text-align: right;\n",
              "    }\n",
              "</style>\n",
              "<table border=\"1\" class=\"dataframe\">\n",
              "  <thead>\n",
              "    <tr style=\"text-align: right;\">\n",
              "      <th></th>\n",
              "      <th>AVERAGE_SPEED_DIFF</th>\n",
              "      <th>AVERAGE_FREE_FLOW_SPEED</th>\n",
              "      <th>AVERAGE_TIME_DIFF</th>\n",
              "      <th>AVERAGE_FREE_FLOW_TIME</th>\n",
              "      <th>LUMINOSITY</th>\n",
              "      <th>AVERAGE_TEMPERATURE</th>\n",
              "      <th>AVERAGE_ATMOSP_PRESSURE</th>\n",
              "      <th>AVERAGE_HUMIDITY</th>\n",
              "      <th>AVERAGE_WIND_SPEED</th>\n",
              "      <th>AVERAGE_PRECIPITATION</th>\n",
              "      <th>AVERAGE_SPEED</th>\n",
              "      <th>EVENT</th>\n",
              "      <th>DAY</th>\n",
              "      <th>MONTH</th>\n",
              "      <th>WEEK</th>\n",
              "      <th>HOUR</th>\n",
              "      <th>WEEKEND</th>\n",
              "    </tr>\n",
              "  </thead>\n",
              "  <tbody>\n",
              "    <tr>\n",
              "      <th>0</th>\n",
              "      <td>Medium</td>\n",
              "      <td>41.5</td>\n",
              "      <td>11.5</td>\n",
              "      <td>71.4</td>\n",
              "      <td>LIGHT</td>\n",
              "      <td>15.0</td>\n",
              "      <td>1019.0</td>\n",
              "      <td>100.0</td>\n",
              "      <td>3.0</td>\n",
              "      <td>0.0</td>\n",
              "      <td>5.756936</td>\n",
              "      <td>0.0</td>\n",
              "      <td>3</td>\n",
              "      <td>8</td>\n",
              "      <td>35</td>\n",
              "      <td>7</td>\n",
              "      <td>0</td>\n",
              "    </tr>\n",
              "    <tr>\n",
              "      <th>1</th>\n",
              "      <td>High</td>\n",
              "      <td>41.7</td>\n",
              "      <td>48.3</td>\n",
              "      <td>87.4</td>\n",
              "      <td>LIGHT</td>\n",
              "      <td>21.0</td>\n",
              "      <td>1021.0</td>\n",
              "      <td>53.0</td>\n",
              "      <td>5.0</td>\n",
              "      <td>0.0</td>\n",
              "      <td>14.842373</td>\n",
              "      <td>0.0</td>\n",
              "      <td>4</td>\n",
              "      <td>8</td>\n",
              "      <td>32</td>\n",
              "      <td>14</td>\n",
              "      <td>0</td>\n",
              "    </tr>\n",
              "    <tr>\n",
              "      <th>2</th>\n",
              "      <td>High</td>\n",
              "      <td>38.6</td>\n",
              "      <td>38.4</td>\n",
              "      <td>85.2</td>\n",
              "      <td>LIGHT</td>\n",
              "      <td>26.0</td>\n",
              "      <td>1014.0</td>\n",
              "      <td>61.0</td>\n",
              "      <td>4.0</td>\n",
              "      <td>0.0</td>\n",
              "      <td>11.992233</td>\n",
              "      <td>0.0</td>\n",
              "      <td>6</td>\n",
              "      <td>9</td>\n",
              "      <td>35</td>\n",
              "      <td>16</td>\n",
              "      <td>1</td>\n",
              "    </tr>\n",
              "    <tr>\n",
              "      <th>3</th>\n",
              "      <td>High</td>\n",
              "      <td>37.4</td>\n",
              "      <td>61.0</td>\n",
              "      <td>94.1</td>\n",
              "      <td>LIGHT</td>\n",
              "      <td>18.0</td>\n",
              "      <td>1025.0</td>\n",
              "      <td>48.0</td>\n",
              "      <td>4.0</td>\n",
              "      <td>0.0</td>\n",
              "      <td>14.709220</td>\n",
              "      <td>0.0</td>\n",
              "      <td>1</td>\n",
              "      <td>2</td>\n",
              "      <td>9</td>\n",
              "      <td>11</td>\n",
              "      <td>0</td>\n",
              "    </tr>\n",
              "    <tr>\n",
              "      <th>4</th>\n",
              "      <td>Medium</td>\n",
              "      <td>41.6</td>\n",
              "      <td>50.4</td>\n",
              "      <td>77.0</td>\n",
              "      <td>LIGHT</td>\n",
              "      <td>15.0</td>\n",
              "      <td>1008.0</td>\n",
              "      <td>82.0</td>\n",
              "      <td>10.0</td>\n",
              "      <td>0.0</td>\n",
              "      <td>16.457143</td>\n",
              "      <td>0.0</td>\n",
              "      <td>3</td>\n",
              "      <td>6</td>\n",
              "      <td>23</td>\n",
              "      <td>12</td>\n",
              "      <td>0</td>\n",
              "    </tr>\n",
              "  </tbody>\n",
              "</table>\n",
              "</div>"
            ],
            "text/plain": [
              "  AVERAGE_SPEED_DIFF  AVERAGE_FREE_FLOW_SPEED  AVERAGE_TIME_DIFF  \\\n",
              "0             Medium                     41.5               11.5   \n",
              "1               High                     41.7               48.3   \n",
              "2               High                     38.6               38.4   \n",
              "3               High                     37.4               61.0   \n",
              "4             Medium                     41.6               50.4   \n",
              "\n",
              "   AVERAGE_FREE_FLOW_TIME LUMINOSITY  AVERAGE_TEMPERATURE  \\\n",
              "0                    71.4      LIGHT                 15.0   \n",
              "1                    87.4      LIGHT                 21.0   \n",
              "2                    85.2      LIGHT                 26.0   \n",
              "3                    94.1      LIGHT                 18.0   \n",
              "4                    77.0      LIGHT                 15.0   \n",
              "\n",
              "   AVERAGE_ATMOSP_PRESSURE  AVERAGE_HUMIDITY  AVERAGE_WIND_SPEED  \\\n",
              "0                   1019.0             100.0                 3.0   \n",
              "1                   1021.0              53.0                 5.0   \n",
              "2                   1014.0              61.0                 4.0   \n",
              "3                   1025.0              48.0                 4.0   \n",
              "4                   1008.0              82.0                10.0   \n",
              "\n",
              "   AVERAGE_PRECIPITATION  AVERAGE_SPEED  EVENT  DAY  MONTH  WEEK  HOUR  \\\n",
              "0                    0.0       5.756936    0.0    3      8    35     7   \n",
              "1                    0.0      14.842373    0.0    4      8    32    14   \n",
              "2                    0.0      11.992233    0.0    6      9    35    16   \n",
              "3                    0.0      14.709220    0.0    1      2     9    11   \n",
              "4                    0.0      16.457143    0.0    3      6    23    12   \n",
              "\n",
              "   WEEKEND  \n",
              "0        0  \n",
              "1        0  \n",
              "2        1  \n",
              "3        0  \n",
              "4        0  "
            ]
          },
          "execution_count": 19,
          "metadata": {},
          "output_type": "execute_result"
        }
      ],
      "source": [
        "def convert_The_Weeknd(day):\n",
        "    if day in range(5):\n",
        "        return 0\n",
        "    else:\n",
        "        return 1\n",
        "    \n",
        "df_training_conversion['WEEKEND'] = df_training_conversion['DAY'].apply(convert_The_Weeknd)    \n",
        "df_training_conversion.head()"
      ]
    },
    {
      "cell_type": "markdown",
      "metadata": {
        "id": "C1-Y5h91KxGw"
      },
      "source": [
        "### $\\textbf{Speed Diff}$"
      ]
    },
    {
      "cell_type": "code",
      "execution_count": 20,
      "metadata": {
        "colab": {
          "base_uri": "https://localhost:8080/"
        },
        "id": "rnpwmdgPKpUs",
        "outputId": "51f6f4c4-48d2-42c2-eb28-29bad8202d75"
      },
      "outputs": [
        {
          "data": {
            "text/plain": [
              "array([2, 3, 0, 1, 4])"
            ]
          },
          "execution_count": 20,
          "metadata": {},
          "output_type": "execute_result"
        }
      ],
      "source": [
        "def convertSpeed(speed):\n",
        "    if speed == 'None':\n",
        "        return 0\n",
        "    elif speed == 'Low':\n",
        "        return 1\n",
        "    elif speed == 'Medium':\n",
        "        return 2\n",
        "    elif speed == 'High':\n",
        "        return 3\n",
        "    elif speed == 'Very_High':\n",
        "        return 4\n",
        "\n",
        "df_training_conversion['AVERAGE_SPEED_DIFF'] = df_training_conversion['AVERAGE_SPEED_DIFF'].apply(convertSpeed)\n",
        "df_training_conversion['AVERAGE_SPEED_DIFF'].unique()"
      ]
    },
    {
      "cell_type": "markdown",
      "metadata": {
        "id": "p_eL3fcMK7ab"
      },
      "source": [
        "### $\\textbf{Luminosity}$"
      ]
    },
    {
      "cell_type": "code",
      "execution_count": 21,
      "metadata": {
        "colab": {
          "base_uri": "https://localhost:8080/"
        },
        "id": "0pX9S-hHK7va",
        "outputId": "bf8b1293-173f-46d9-bc20-64088f993cbb"
      },
      "outputs": [
        {
          "data": {
            "text/plain": [
              "array([2, 1, 0])"
            ]
          },
          "execution_count": 21,
          "metadata": {},
          "output_type": "execute_result"
        }
      ],
      "source": [
        "def convertLuminosity(lum):\n",
        "    if lum == 'DARK':\n",
        "        return 0\n",
        "    elif lum == 'LOW_LIGHT':\n",
        "        return 1\n",
        "    elif lum == 'LIGHT':\n",
        "        return 2\n",
        "\n",
        "df_training_conversion['LUMINOSITY'] = df_training_conversion['LUMINOSITY'].apply(convertLuminosity)\n",
        "df_training_conversion['LUMINOSITY'].unique()"
      ]
    },
    {
      "cell_type": "markdown",
      "metadata": {},
      "source": [
        "### $\\textbf{conditions}$"
      ]
    },
    {
      "cell_type": "code",
      "execution_count": null,
      "metadata": {},
      "outputs": [],
      "source": [
        "def convertCondition(con):\n",
        "    if con == 'Partially cloudy':\n",
        "        return 1\n",
        "    elif con == 'Overcast':\n",
        "        return 2\n",
        "    elif con == 'Rain':\n",
        "        return 3\n",
        "    elif con == 'Rain, Partially cloudy':\n",
        "        return 4\n",
        "    elif con == 'Rain, Overcast':\n",
        "        return 5\n",
        "    else:\n",
        "        return 0\n",
        "\n",
        "df_training_conversion['conditions'] = df_training_conversion['conditions'].apply(convertCondition)\n",
        "df_training_conversion['conditions'].unique()"
      ]
    },
    {
      "cell_type": "code",
      "execution_count": 22,
      "metadata": {
        "colab": {
          "base_uri": "https://localhost:8080/"
        },
        "id": "EeTSScs6LDST",
        "outputId": "d0597242-1a34-457b-e58d-c7290bd7d406"
      },
      "outputs": [
        {
          "name": "stdout",
          "output_type": "stream",
          "text": [
            "<class 'pandas.core.frame.DataFrame'>\n",
            "RangeIndex: 6812 entries, 0 to 6811\n",
            "Data columns (total 17 columns):\n",
            " #   Column                   Non-Null Count  Dtype  \n",
            "---  ------                   --------------  -----  \n",
            " 0   AVERAGE_SPEED_DIFF       6812 non-null   int64  \n",
            " 1   AVERAGE_FREE_FLOW_SPEED  6812 non-null   float64\n",
            " 2   AVERAGE_TIME_DIFF        6812 non-null   float64\n",
            " 3   AVERAGE_FREE_FLOW_TIME   6812 non-null   float64\n",
            " 4   LUMINOSITY               6812 non-null   int64  \n",
            " 5   AVERAGE_TEMPERATURE      6812 non-null   float64\n",
            " 6   AVERAGE_ATMOSP_PRESSURE  6812 non-null   float64\n",
            " 7   AVERAGE_HUMIDITY         6812 non-null   float64\n",
            " 8   AVERAGE_WIND_SPEED       6812 non-null   float64\n",
            " 9   AVERAGE_PRECIPITATION    6812 non-null   float64\n",
            " 10  AVERAGE_SPEED            6812 non-null   float64\n",
            " 11  EVENT                    6812 non-null   float64\n",
            " 12  DAY                      6812 non-null   int64  \n",
            " 13  MONTH                    6812 non-null   int64  \n",
            " 14  WEEK                     6812 non-null   UInt32 \n",
            " 15  HOUR                     6812 non-null   int64  \n",
            " 16  WEEKEND                  6812 non-null   int64  \n",
            "dtypes: UInt32(1), float64(10), int64(6)\n",
            "memory usage: 884.9 KB\n"
          ]
        }
      ],
      "source": [
        "df_training_conversion.info()"
      ]
    },
    {
      "cell_type": "code",
      "execution_count": 23,
      "metadata": {
        "colab": {
          "base_uri": "https://localhost:8080/",
          "height": 226
        },
        "id": "I7sTY2zWLuz_",
        "outputId": "bff9bab2-fab9-455d-8954-b8d21acc82c2"
      },
      "outputs": [
        {
          "data": {
            "text/html": [
              "<div>\n",
              "<style scoped>\n",
              "    .dataframe tbody tr th:only-of-type {\n",
              "        vertical-align: middle;\n",
              "    }\n",
              "\n",
              "    .dataframe tbody tr th {\n",
              "        vertical-align: top;\n",
              "    }\n",
              "\n",
              "    .dataframe thead th {\n",
              "        text-align: right;\n",
              "    }\n",
              "</style>\n",
              "<table border=\"1\" class=\"dataframe\">\n",
              "  <thead>\n",
              "    <tr style=\"text-align: right;\">\n",
              "      <th></th>\n",
              "      <th>AVERAGE_SPEED_DIFF</th>\n",
              "      <th>AVERAGE_FREE_FLOW_SPEED</th>\n",
              "      <th>AVERAGE_TIME_DIFF</th>\n",
              "      <th>AVERAGE_FREE_FLOW_TIME</th>\n",
              "      <th>LUMINOSITY</th>\n",
              "      <th>AVERAGE_TEMPERATURE</th>\n",
              "      <th>AVERAGE_ATMOSP_PRESSURE</th>\n",
              "      <th>AVERAGE_HUMIDITY</th>\n",
              "      <th>AVERAGE_WIND_SPEED</th>\n",
              "      <th>AVERAGE_PRECIPITATION</th>\n",
              "      <th>AVERAGE_SPEED</th>\n",
              "      <th>EVENT</th>\n",
              "      <th>DAY</th>\n",
              "      <th>MONTH</th>\n",
              "      <th>WEEK</th>\n",
              "      <th>HOUR</th>\n",
              "      <th>WEEKEND</th>\n",
              "    </tr>\n",
              "  </thead>\n",
              "  <tbody>\n",
              "    <tr>\n",
              "      <th>0</th>\n",
              "      <td>2</td>\n",
              "      <td>41.5</td>\n",
              "      <td>11.5</td>\n",
              "      <td>71.4</td>\n",
              "      <td>2</td>\n",
              "      <td>15.0</td>\n",
              "      <td>1019.0</td>\n",
              "      <td>100.0</td>\n",
              "      <td>3.0</td>\n",
              "      <td>0.0</td>\n",
              "      <td>5.756936</td>\n",
              "      <td>0.0</td>\n",
              "      <td>3</td>\n",
              "      <td>8</td>\n",
              "      <td>35</td>\n",
              "      <td>7</td>\n",
              "      <td>0</td>\n",
              "    </tr>\n",
              "    <tr>\n",
              "      <th>1</th>\n",
              "      <td>3</td>\n",
              "      <td>41.7</td>\n",
              "      <td>48.3</td>\n",
              "      <td>87.4</td>\n",
              "      <td>2</td>\n",
              "      <td>21.0</td>\n",
              "      <td>1021.0</td>\n",
              "      <td>53.0</td>\n",
              "      <td>5.0</td>\n",
              "      <td>0.0</td>\n",
              "      <td>14.842373</td>\n",
              "      <td>0.0</td>\n",
              "      <td>4</td>\n",
              "      <td>8</td>\n",
              "      <td>32</td>\n",
              "      <td>14</td>\n",
              "      <td>0</td>\n",
              "    </tr>\n",
              "    <tr>\n",
              "      <th>2</th>\n",
              "      <td>3</td>\n",
              "      <td>38.6</td>\n",
              "      <td>38.4</td>\n",
              "      <td>85.2</td>\n",
              "      <td>2</td>\n",
              "      <td>26.0</td>\n",
              "      <td>1014.0</td>\n",
              "      <td>61.0</td>\n",
              "      <td>4.0</td>\n",
              "      <td>0.0</td>\n",
              "      <td>11.992233</td>\n",
              "      <td>0.0</td>\n",
              "      <td>6</td>\n",
              "      <td>9</td>\n",
              "      <td>35</td>\n",
              "      <td>16</td>\n",
              "      <td>1</td>\n",
              "    </tr>\n",
              "    <tr>\n",
              "      <th>3</th>\n",
              "      <td>3</td>\n",
              "      <td>37.4</td>\n",
              "      <td>61.0</td>\n",
              "      <td>94.1</td>\n",
              "      <td>2</td>\n",
              "      <td>18.0</td>\n",
              "      <td>1025.0</td>\n",
              "      <td>48.0</td>\n",
              "      <td>4.0</td>\n",
              "      <td>0.0</td>\n",
              "      <td>14.709220</td>\n",
              "      <td>0.0</td>\n",
              "      <td>1</td>\n",
              "      <td>2</td>\n",
              "      <td>9</td>\n",
              "      <td>11</td>\n",
              "      <td>0</td>\n",
              "    </tr>\n",
              "    <tr>\n",
              "      <th>4</th>\n",
              "      <td>2</td>\n",
              "      <td>41.6</td>\n",
              "      <td>50.4</td>\n",
              "      <td>77.0</td>\n",
              "      <td>2</td>\n",
              "      <td>15.0</td>\n",
              "      <td>1008.0</td>\n",
              "      <td>82.0</td>\n",
              "      <td>10.0</td>\n",
              "      <td>0.0</td>\n",
              "      <td>16.457143</td>\n",
              "      <td>0.0</td>\n",
              "      <td>3</td>\n",
              "      <td>6</td>\n",
              "      <td>23</td>\n",
              "      <td>12</td>\n",
              "      <td>0</td>\n",
              "    </tr>\n",
              "  </tbody>\n",
              "</table>\n",
              "</div>"
            ],
            "text/plain": [
              "   AVERAGE_SPEED_DIFF  AVERAGE_FREE_FLOW_SPEED  AVERAGE_TIME_DIFF  \\\n",
              "0                   2                     41.5               11.5   \n",
              "1                   3                     41.7               48.3   \n",
              "2                   3                     38.6               38.4   \n",
              "3                   3                     37.4               61.0   \n",
              "4                   2                     41.6               50.4   \n",
              "\n",
              "   AVERAGE_FREE_FLOW_TIME  LUMINOSITY  AVERAGE_TEMPERATURE  \\\n",
              "0                    71.4           2                 15.0   \n",
              "1                    87.4           2                 21.0   \n",
              "2                    85.2           2                 26.0   \n",
              "3                    94.1           2                 18.0   \n",
              "4                    77.0           2                 15.0   \n",
              "\n",
              "   AVERAGE_ATMOSP_PRESSURE  AVERAGE_HUMIDITY  AVERAGE_WIND_SPEED  \\\n",
              "0                   1019.0             100.0                 3.0   \n",
              "1                   1021.0              53.0                 5.0   \n",
              "2                   1014.0              61.0                 4.0   \n",
              "3                   1025.0              48.0                 4.0   \n",
              "4                   1008.0              82.0                10.0   \n",
              "\n",
              "   AVERAGE_PRECIPITATION  AVERAGE_SPEED  EVENT  DAY  MONTH  WEEK  HOUR  \\\n",
              "0                    0.0       5.756936    0.0    3      8    35     7   \n",
              "1                    0.0      14.842373    0.0    4      8    32    14   \n",
              "2                    0.0      11.992233    0.0    6      9    35    16   \n",
              "3                    0.0      14.709220    0.0    1      2     9    11   \n",
              "4                    0.0      16.457143    0.0    3      6    23    12   \n",
              "\n",
              "   WEEKEND  \n",
              "0        0  \n",
              "1        0  \n",
              "2        1  \n",
              "3        0  \n",
              "4        0  "
            ]
          },
          "execution_count": 23,
          "metadata": {},
          "output_type": "execute_result"
        }
      ],
      "source": [
        "df_training_conversion.head()"
      ]
    },
    {
      "cell_type": "markdown",
      "metadata": {
        "id": "VsQQAx6CJM1D"
      },
      "source": [
        "# $\\textbf{Seleção das Features}$"
      ]
    },
    {
      "cell_type": "code",
      "execution_count": 41,
      "metadata": {
        "id": "KcOhoG51JRUC"
      },
      "outputs": [],
      "source": [
        "df_training_feature_selection = df_training_conversion.copy()\n",
        "\n",
        "df_training_feature_selection = df_training_feature_selection.fillna(0)"
      ]
    },
    {
      "cell_type": "markdown",
      "metadata": {},
      "source": [
        "### $\\textbf{Variância}$"
      ]
    },
    {
      "cell_type": "code",
      "execution_count": null,
      "metadata": {},
      "outputs": [],
      "source": [
        "print(\"Variancia: \")\n",
        "\n",
        "print(df_training_feature_selection.var())"
      ]
    },
    {
      "cell_type": "markdown",
      "metadata": {},
      "source": [
        "### $\\textbf{Skewness}$"
      ]
    },
    {
      "cell_type": "code",
      "execution_count": null,
      "metadata": {},
      "outputs": [],
      "source": [
        "print(\"Skewness: \")\n",
        "\n",
        "print(df_training_feature_selection.skew())"
      ]
    },
    {
      "cell_type": "markdown",
      "metadata": {},
      "source": [
        "### $\\textbf{Qui-Quadrado}$"
      ]
    },
    {
      "cell_type": "code",
      "execution_count": null,
      "metadata": {},
      "outputs": [],
      "source": [
        "cols = ['AVERAGE_FREE_FLOW_SPEED', 'AVERAGE_TIME_DIFF', 'AVERAGE_FREE_FLOW_TIME', 'LUMINOSITY',\n",
        "\t    'AVERAGE_ATMOSP_PRESSURE', 'temp', 'feelslike', 'dew', 'humidity', 'precip', 'windspeed',\n",
        "        'winddir', 'cloudcover', 'visibility', 'conditions', 'DAY', 'MONTH', 'WEEK', 'HOUR', 'AVERAGE_SPEED']\n",
        "\n",
        "def teste_chi2(table, c):\n",
        "    stat, p, dof, expected = chi2_contingency(table)\n",
        "    if p <= (1 - c):\n",
        "        print(\"Sao dependentes (rejeita-se hipotese nula)\")\n",
        "    else:\n",
        "        print(\"Sao independentes (não se rejeita hipotese nula)\")\n",
        "    return expected\n",
        "\n",
        "\n",
        "\n",
        "for col in cols:\n",
        "    print(\"\\nTeste qui-quadrado para a coluna: \" + col)\n",
        "        \n",
        "    valor = teste_chi2(pd.crosstab(df_training_feature_selection['AVERAGE_SPEED_DIFF'], df_training_feature_selection[col], margins=True), 0.95)"
      ]
    },
    {
      "cell_type": "markdown",
      "metadata": {},
      "source": [
        "### $\\textbf{Correlação}$"
      ]
    },
    {
      "cell_type": "code",
      "execution_count": 25,
      "metadata": {},
      "outputs": [
        {
          "data": {
            "text/plain": [
              "<AxesSubplot:>"
            ]
          },
          "execution_count": 25,
          "metadata": {},
          "output_type": "execute_result"
        },
        {
          "data": {
            "image/png": "[encoded data removed]",
            "text/plain": [
              "<Figure size 1440x1080 with 2 Axes>"
            ]
          },
          "metadata": {
            "needs_background": "light"
          },
          "output_type": "display_data"
        }
      ],
      "source": [
        "plt.figure(figsize=(20,15))\n",
        "sns.heatmap(df_training_feature_selection.corr(), vmin = -1, vmax = 1, square = True, annot = True)"
      ]
    },
    {
      "cell_type": "code",
      "execution_count": 42,
      "metadata": {},
      "outputs": [],
      "source": [
        "df_training_feature_selection = df_training_feature_selection.drop(['AVERAGE_TIME_DIFF', 'AVERAGE_PRECIPITATION'], axis = 1)"
      ]
    },
    {
      "cell_type": "code",
      "execution_count": 27,
      "metadata": {},
      "outputs": [
        {
          "data": {
            "text/html": [
              "<div>\n",
              "<style scoped>\n",
              "    .dataframe tbody tr th:only-of-type {\n",
              "        vertical-align: middle;\n",
              "    }\n",
              "\n",
              "    .dataframe tbody tr th {\n",
              "        vertical-align: top;\n",
              "    }\n",
              "\n",
              "    .dataframe thead th {\n",
              "        text-align: right;\n",
              "    }\n",
              "</style>\n",
              "<table border=\"1\" class=\"dataframe\">\n",
              "  <thead>\n",
              "    <tr style=\"text-align: right;\">\n",
              "      <th></th>\n",
              "      <th>AVERAGE_SPEED_DIFF</th>\n",
              "      <th>AVERAGE_FREE_FLOW_SPEED</th>\n",
              "      <th>AVERAGE_FREE_FLOW_TIME</th>\n",
              "      <th>LUMINOSITY</th>\n",
              "      <th>AVERAGE_TEMPERATURE</th>\n",
              "      <th>AVERAGE_ATMOSP_PRESSURE</th>\n",
              "      <th>AVERAGE_HUMIDITY</th>\n",
              "      <th>AVERAGE_WIND_SPEED</th>\n",
              "      <th>AVERAGE_SPEED</th>\n",
              "      <th>EVENT</th>\n",
              "      <th>DAY</th>\n",
              "      <th>HOUR</th>\n",
              "      <th>WEEKEND</th>\n",
              "    </tr>\n",
              "  </thead>\n",
              "  <tbody>\n",
              "    <tr>\n",
              "      <th>0</th>\n",
              "      <td>2</td>\n",
              "      <td>41.5</td>\n",
              "      <td>71.4</td>\n",
              "      <td>2</td>\n",
              "      <td>15.0</td>\n",
              "      <td>1019.0</td>\n",
              "      <td>100.0</td>\n",
              "      <td>3.0</td>\n",
              "      <td>5.756936</td>\n",
              "      <td>0.0</td>\n",
              "      <td>3</td>\n",
              "      <td>7</td>\n",
              "      <td>0</td>\n",
              "    </tr>\n",
              "    <tr>\n",
              "      <th>1</th>\n",
              "      <td>3</td>\n",
              "      <td>41.7</td>\n",
              "      <td>87.4</td>\n",
              "      <td>2</td>\n",
              "      <td>21.0</td>\n",
              "      <td>1021.0</td>\n",
              "      <td>53.0</td>\n",
              "      <td>5.0</td>\n",
              "      <td>14.842373</td>\n",
              "      <td>0.0</td>\n",
              "      <td>4</td>\n",
              "      <td>14</td>\n",
              "      <td>0</td>\n",
              "    </tr>\n",
              "    <tr>\n",
              "      <th>2</th>\n",
              "      <td>3</td>\n",
              "      <td>38.6</td>\n",
              "      <td>85.2</td>\n",
              "      <td>2</td>\n",
              "      <td>26.0</td>\n",
              "      <td>1014.0</td>\n",
              "      <td>61.0</td>\n",
              "      <td>4.0</td>\n",
              "      <td>11.992233</td>\n",
              "      <td>0.0</td>\n",
              "      <td>6</td>\n",
              "      <td>16</td>\n",
              "      <td>1</td>\n",
              "    </tr>\n",
              "    <tr>\n",
              "      <th>3</th>\n",
              "      <td>3</td>\n",
              "      <td>37.4</td>\n",
              "      <td>94.1</td>\n",
              "      <td>2</td>\n",
              "      <td>18.0</td>\n",
              "      <td>1025.0</td>\n",
              "      <td>48.0</td>\n",
              "      <td>4.0</td>\n",
              "      <td>14.709220</td>\n",
              "      <td>0.0</td>\n",
              "      <td>1</td>\n",
              "      <td>11</td>\n",
              "      <td>0</td>\n",
              "    </tr>\n",
              "    <tr>\n",
              "      <th>4</th>\n",
              "      <td>2</td>\n",
              "      <td>41.6</td>\n",
              "      <td>77.0</td>\n",
              "      <td>2</td>\n",
              "      <td>15.0</td>\n",
              "      <td>1008.0</td>\n",
              "      <td>82.0</td>\n",
              "      <td>10.0</td>\n",
              "      <td>16.457143</td>\n",
              "      <td>0.0</td>\n",
              "      <td>3</td>\n",
              "      <td>12</td>\n",
              "      <td>0</td>\n",
              "    </tr>\n",
              "  </tbody>\n",
              "</table>\n",
              "</div>"
            ],
            "text/plain": [
              "   AVERAGE_SPEED_DIFF  AVERAGE_FREE_FLOW_SPEED  AVERAGE_FREE_FLOW_TIME  \\\n",
              "0                   2                     41.5                    71.4   \n",
              "1                   3                     41.7                    87.4   \n",
              "2                   3                     38.6                    85.2   \n",
              "3                   3                     37.4                    94.1   \n",
              "4                   2                     41.6                    77.0   \n",
              "\n",
              "   LUMINOSITY  AVERAGE_TEMPERATURE  AVERAGE_ATMOSP_PRESSURE  AVERAGE_HUMIDITY  \\\n",
              "0           2                 15.0                   1019.0             100.0   \n",
              "1           2                 21.0                   1021.0              53.0   \n",
              "2           2                 26.0                   1014.0              61.0   \n",
              "3           2                 18.0                   1025.0              48.0   \n",
              "4           2                 15.0                   1008.0              82.0   \n",
              "\n",
              "   AVERAGE_WIND_SPEED  AVERAGE_SPEED  EVENT  DAY  HOUR  WEEKEND  \n",
              "0                 3.0       5.756936    0.0    3     7        0  \n",
              "1                 5.0      14.842373    0.0    4    14        0  \n",
              "2                 4.0      11.992233    0.0    6    16        1  \n",
              "3                 4.0      14.709220    0.0    1    11        0  \n",
              "4                10.0      16.457143    0.0    3    12        0  "
            ]
          },
          "execution_count": 27,
          "metadata": {},
          "output_type": "execute_result"
        }
      ],
      "source": [
        "df_training_feature_selection.head()"
      ]
    },
    {
      "cell_type": "code",
      "execution_count": 43,
      "metadata": {},
      "outputs": [
        {
          "data": {
            "text/plain": [
              "(6812, 15)"
            ]
          },
          "execution_count": 43,
          "metadata": {},
          "output_type": "execute_result"
        }
      ],
      "source": [
        "df_training_feature_selection.shape"
      ]
    },
    {
      "cell_type": "markdown",
      "metadata": {},
      "source": [
        "# $\\textbf{Treino dos modelos}$"
      ]
    },
    {
      "cell_type": "code",
      "execution_count": null,
      "metadata": {
        "colab": {
          "base_uri": "https://localhost:8080/"
        },
        "id": "xFo7h936LlbV",
        "outputId": "5bfef7d0-c9dc-4dd9-ea14-d60d76229d81"
      },
      "outputs": [],
      "source": [
        "import itertools\n",
        "\n",
        "cols = []\n",
        "\n",
        "all_combinations = []\n",
        "\n",
        "for r in range(0, len(cols) + 1):\n",
        "    combinations_object = itertools.combinations(cols, r)\n",
        "    combinations_list = list(combinations_object)\n",
        "    all_combinations += combinations_list\n",
        "\n",
        "print(len(all_combinations))"
      ]
    },
    {
      "cell_type": "code",
      "execution_count": null,
      "metadata": {
        "id": "7rKpDv03Llq7"
      },
      "outputs": [],
      "source": [
        "rng = np.random.RandomState(0)\n",
        "\n",
        "def model(df):\n",
        "    \n",
        "    x = df.drop(['AVERAGE_SPEED_DIFF'], axis = 1)\n",
        "    y = df['AVERAGE_SPEED_DIFF'].to_frame()\n",
        "    \n",
        "    param_grid = [\n",
        "         {'C': [10, 100], 'gamma': [0.01, 0.001], 'kernel': ['rbf']},\n",
        "    ]\n",
        "\n",
        "    x_train, x_test, y_train, y_test = train_test_split(x, np.ravel(y), test_size = 0.3, random_state = 2021)\n",
        "\n",
        "    grid = HalvingGridSearchCV(SVC(random_state = rng), param_grid = param_grid, factor = 2, refit = True, verbose = 0)\n",
        "    grid.fit(x_train, y_train)\n",
        "\n",
        "    print(grid.best_params_)\n",
        "    print(grid.best_estimator_)\n",
        "\n",
        "    predictions = grid.predict(x_test)\n",
        "\n",
        "    return [grid, x_test, y_test, accuracy_score(y_test, predictions)]"
      ]
    },
    {
      "cell_type": "code",
      "execution_count": null,
      "metadata": {
        "id": "yt7MhAsvPVe9"
      },
      "outputs": [],
      "source": [
        "import threading\n",
        "\n",
        "accuracy = 0\n",
        "bestPar = ()\n",
        "bestCols = []\n",
        "\n",
        "lock = threading.RLock()\n",
        "\n",
        "def superGrid(combs, start, end):\n",
        "    global bestPar, bestCols, accuracy\n",
        "\n",
        "    for elem in combs[start:end]:\n",
        "        df_test = df_training_feature_selection.copy()\n",
        "        df_test = df_training_feature_selection.drop(np.asarray(elem), axis = 1)\n",
        "        grid, x_test, y_test, acc = model(df_test)\n",
        "        \n",
        "        with lock:\n",
        "            if acc > accuracy:\n",
        "                bestPar = (grid, x_test, y_test, acc)\n",
        "                bestCols = np.asarray(elem)\n",
        "                accuracy = acc\n",
        "\n",
        "\n",
        "def split_processing(items, num_splits = 8):\n",
        "    split_size = len(items) // num_splits\n",
        "    threads = []\n",
        "\n",
        "    for i in range(num_splits):                                                        \n",
        "        start = i * split_size\n",
        "\n",
        "        end = None if i + 1 == num_splits else (i + 1) * split_size\n",
        "                            \n",
        "        threads.append(threading.Thread(target = superGrid, args = (items, start, end)))       \n",
        "        threads[-1].start()\n",
        "\n",
        "    for t in threads:\n",
        "        t.join()\n",
        "\n",
        "    print(\"Accuracy: %0.2f\" % accuracy)\n",
        "    print(\"Best Columns: \", bestCols)\n",
        "    plot_confusion_matrix(bestPar[0], bestPar[1], bestPar[2])"
      ]
    },
    {
      "cell_type": "code",
      "execution_count": null,
      "metadata": {
        "colab": {
          "base_uri": "https://localhost:8080/"
        },
        "id": "Ni1mWZoDPehx",
        "outputId": "ede8cf86-da9f-43d6-a97d-98a69e1c0dc0"
      },
      "outputs": [],
      "source": [
        "# split_processing(all_combinations)"
      ]
    },
    {
      "cell_type": "code",
      "execution_count": 47,
      "metadata": {},
      "outputs": [
        {
          "name": "stdout",
          "output_type": "stream",
          "text": [
            "{'C': 10, 'gamma': 0.001, 'kernel': 'rbf'}\n",
            "SVC(C=10, gamma=0.001, random_state=2021)\n",
            "              precision    recall  f1-score   support\n",
            "\n",
            "           0       0.89      0.92      0.90       465\n",
            "           1       0.70      0.71      0.70       263\n",
            "           2       0.80      0.75      0.77       324\n",
            "           3       0.71      0.78      0.74       211\n",
            "           4       0.93      0.75      0.83       100\n",
            "\n",
            "    accuracy                           0.80      1363\n",
            "   macro avg       0.80      0.78      0.79      1363\n",
            "weighted avg       0.80      0.80      0.80      1363\n",
            "\n",
            "0.802641 accuracy\n"
          ]
        }
      ],
      "source": [
        "df_training_grid = df_training_feature_selection.copy()\n",
        "\n",
        "df_training_grid = df_training_grid.drop(['AVERAGE_HUMIDITY', 'DAY', 'WEEK'], axis = 1)\n",
        "\n",
        "\n",
        "x = df_training_grid.drop(['AVERAGE_SPEED_DIFF'], axis = 1)\n",
        "y = df_training_grid['AVERAGE_SPEED_DIFF'].to_frame()\n",
        "\n",
        "param_grid = [\n",
        "        {'C': [10, 100], 'gamma': [0.01, 0.001], 'kernel': ['rbf']},\n",
        "]\n",
        "\n",
        "x_train, x_test, y_train, y_test = train_test_split(x, np.ravel(y), test_size = 0.2, random_state = 2021)\n",
        "\n",
        "grid = HalvingGridSearchCV(SVC(random_state = 2021), param_grid = param_grid, factor = 2, refit = True, verbose = 0, aggressive_elimination = True)\n",
        "grid.fit(x_train,y_train)\n",
        "\n",
        "print(grid.best_params_)\n",
        "print(grid.best_estimator_)\n",
        "\n",
        "predictions = grid.predict(x_test)\n",
        "\n",
        "print(classification_report(y_test, predictions))\n",
        "\n",
        "print(\"%f accuracy\" %(accuracy_score(y_test, predictions)))\n"
      ]
    },
    {
      "cell_type": "code",
      "execution_count": 49,
      "metadata": {},
      "outputs": [
        {
          "data": {
            "text/plain": [
              "(6812, 12)"
            ]
          },
          "execution_count": 49,
          "metadata": {},
          "output_type": "execute_result"
        }
      ],
      "source": [
        "df_training_grid.shape"
      ]
    },
    {
      "cell_type": "code",
      "execution_count": 52,
      "metadata": {},
      "outputs": [
        {
          "name": "stdout",
          "output_type": "stream",
          "text": [
            "{'bootstrap': True, 'max_depth': 150, 'max_features': 5, 'min_samples_leaf': 3, 'min_samples_split': 8, 'n_estimators': 300}\n",
            "RandomForestClassifier(max_depth=150, max_features=5, min_samples_leaf=3,\n",
            "                       min_samples_split=8, n_estimators=300)\n",
            "              precision    recall  f1-score   support\n",
            "\n",
            "           0       0.90      0.90      0.90       465\n",
            "           1       0.68      0.71      0.70       263\n",
            "           2       0.80      0.76      0.78       324\n",
            "           3       0.73      0.81      0.77       211\n",
            "           4       0.95      0.79      0.86       100\n",
            "\n",
            "    accuracy                           0.81      1363\n",
            "   macro avg       0.81      0.79      0.80      1363\n",
            "weighted avg       0.81      0.81      0.81      1363\n",
            "\n",
            "0.807043 accuracy\n"
          ]
        }
      ],
      "source": [
        "df_training_forest = df_training_feature_selection.copy()\n",
        "\n",
        "df_training_forest = df_training_forest.drop(['AVERAGE_HUMIDITY', 'DAY', 'WEEK'], axis = 1)\n",
        "\n",
        "x = df_training_forest.drop(['AVERAGE_SPEED_DIFF'], axis = 1)\n",
        "y = df_training_forest['AVERAGE_SPEED_DIFF'].to_frame()\n",
        "\n",
        "param_grid = {\n",
        "    'bootstrap': [True],\n",
        "    'max_depth': [120, 130, 140, 150],\n",
        "    'max_features': [3, 4, 5, 6, 7],\n",
        "    'min_samples_leaf': [1, 2, 3, 4],\n",
        "    'min_samples_split': [6, 8, 10, 12],\n",
        "    'n_estimators': [50, 100, 200, 300]\n",
        "}\n",
        "\n",
        "rf = RandomForestClassifier()\n",
        "\n",
        "grid = HalvingGridSearchCV(estimator = rf, param_grid = param_grid, cv = 3, n_jobs = -1, factor = 2, refit = True, verbose = 0)\n",
        "\n",
        "x_train, x_test, y_train, y_test = train_test_split(x, np.ravel(y), test_size = 0.2, random_state = 2021)\n",
        "grid.fit(x_train, y_train)\n",
        "\n",
        "print(grid.best_params_)\n",
        "print(grid.best_estimator_)\n",
        "\n",
        "predictions = grid.predict(x_test)\n",
        "\n",
        "print(classification_report(y_test, predictions))\n",
        "\n",
        "print(\"%f accuracy\" %(accuracy_score(y_test, predictions)))"
      ]
    },
    {
      "cell_type": "markdown",
      "metadata": {},
      "source": [
        "# $\\textbf{Ficheiro de teste e submissão}$"
      ]
    },
    {
      "cell_type": "code",
      "execution_count": 68,
      "metadata": {},
      "outputs": [],
      "source": [
        "df_test = pd.read_csv('../datasets/test_data.csv')"
      ]
    },
    {
      "cell_type": "code",
      "execution_count": null,
      "metadata": {},
      "outputs": [],
      "source": [
        "cols = ['temp', 'feelslike', 'dew', 'humidity', 'precip', 'windspeed', 'winddir', 'cloudcover', 'visibility', 'uvindex', 'conditions']\n",
        "\n",
        "for index, values in df_weather.iterrows():\n",
        "\n",
        "    i = df_test.loc[df_test['record_date'] == values['datetime']].index\n",
        "    for col in cols: \n",
        "        df_test.loc[df_test.index[i], col] = values[col]"
      ]
    },
    {
      "cell_type": "code",
      "execution_count": 69,
      "metadata": {},
      "outputs": [],
      "source": [
        "for index, values in df_test.iterrows():\n",
        "\n",
        "    df_test.loc[df_test.index[index], 'AVERAGE_SPEED'] = values['AVERAGE_FREE_FLOW_SPEED'] - values['AVERAGE_FREE_FLOW_SPEED'] * values['AVERAGE_FREE_FLOW_TIME'] / (values['AVERAGE_FREE_FLOW_TIME'] + values['AVERAGE_TIME_DIFF'])\n"
      ]
    },
    {
      "cell_type": "code",
      "execution_count": 70,
      "metadata": {},
      "outputs": [],
      "source": [
        "with open('EncontrosDesportivos.txt', 'r') as f:\n",
        "    aux = f.readlines()\n",
        "    datas = []\n",
        "    \n",
        "    for data in aux:\n",
        "        pair = re.split(r' ', re.sub(r'\\n', '', data))\n",
        "        datas.append((pair[0], pair[1]))\n",
        "\n",
        "    for index, values in df_test.iterrows():\n",
        "        aux = values['record_date'].split()\n",
        "        \n",
        "        if (aux[0], aux[1]) in datas:\n",
        "            df_test.loc[df_test.index[index], 'EVENT'] = 1\n",
        "        else:\n",
        "            df_test.loc[df_test.index[index], 'EVENT'] = 0"
      ]
    },
    {
      "cell_type": "code",
      "execution_count": 71,
      "metadata": {},
      "outputs": [],
      "source": [
        "df_test['LUMINOSITY'] = df_test['LUMINOSITY'].apply(convertLuminosity)\n",
        "\n",
        "df_test['record_date'] = pd.to_datetime(df_test['record_date'])\n",
        "df_test['DAY'] = df_test.record_date.dt.weekday\n",
        "df_test['MONTH'] = df_test.record_date.dt.month\n",
        "df_test['WEEK'] = df_test.record_date.dt.isocalendar().week\n",
        "df_test['HOUR'] = df_test.record_date.dt.hour\n",
        "df_test = df_test.drop(['record_date'], axis = 1)\n",
        "\n",
        "df_test['WEEKEND'] = df_test['DAY'].apply(convert_The_Weeknd)\n",
        "\n",
        "df_test = df_test.drop(['city_name', 'AVERAGE_TIME_DIFF', 'AVERAGE_CLOUDINESS', 'AVERAGE_RAIN', 'AVERAGE_PRECIPITATION', 'AVERAGE_HUMIDITY', 'DAY', 'WEEK'], axis = 1)\n",
        "\n",
        "df_test = df_test.fillna(0)"
      ]
    },
    {
      "cell_type": "code",
      "execution_count": 72,
      "metadata": {},
      "outputs": [
        {
          "data": {
            "text/html": [
              "<div>\n",
              "<style scoped>\n",
              "    .dataframe tbody tr th:only-of-type {\n",
              "        vertical-align: middle;\n",
              "    }\n",
              "\n",
              "    .dataframe tbody tr th {\n",
              "        vertical-align: top;\n",
              "    }\n",
              "\n",
              "    .dataframe thead th {\n",
              "        text-align: right;\n",
              "    }\n",
              "</style>\n",
              "<table border=\"1\" class=\"dataframe\">\n",
              "  <thead>\n",
              "    <tr style=\"text-align: right;\">\n",
              "      <th></th>\n",
              "      <th>AVERAGE_FREE_FLOW_SPEED</th>\n",
              "      <th>AVERAGE_FREE_FLOW_TIME</th>\n",
              "      <th>LUMINOSITY</th>\n",
              "      <th>AVERAGE_TEMPERATURE</th>\n",
              "      <th>AVERAGE_ATMOSP_PRESSURE</th>\n",
              "      <th>AVERAGE_WIND_SPEED</th>\n",
              "      <th>AVERAGE_SPEED</th>\n",
              "      <th>EVENT</th>\n",
              "      <th>MONTH</th>\n",
              "      <th>HOUR</th>\n",
              "      <th>WEEKEND</th>\n",
              "    </tr>\n",
              "  </thead>\n",
              "  <tbody>\n",
              "    <tr>\n",
              "      <th>count</th>\n",
              "      <td>1500.0000</td>\n",
              "      <td>1500.000000</td>\n",
              "      <td>1500.000000</td>\n",
              "      <td>1500.000000</td>\n",
              "      <td>1500.000000</td>\n",
              "      <td>1500.000000</td>\n",
              "      <td>1.500000e+03</td>\n",
              "      <td>1500.000000</td>\n",
              "      <td>1500.000000</td>\n",
              "      <td>1500.000000</td>\n",
              "      <td>1500.000000</td>\n",
              "    </tr>\n",
              "    <tr>\n",
              "      <th>mean</th>\n",
              "      <td>40.8304</td>\n",
              "      <td>81.194333</td>\n",
              "      <td>0.996667</td>\n",
              "      <td>16.104000</td>\n",
              "      <td>1017.457333</td>\n",
              "      <td>3.116667</td>\n",
              "      <td>7.687202e+00</td>\n",
              "      <td>0.016667</td>\n",
              "      <td>7.105333</td>\n",
              "      <td>11.211333</td>\n",
              "      <td>0.284000</td>\n",
              "    </tr>\n",
              "    <tr>\n",
              "      <th>std</th>\n",
              "      <td>4.2396</td>\n",
              "      <td>8.189691</td>\n",
              "      <td>0.985209</td>\n",
              "      <td>5.094293</td>\n",
              "      <td>5.840455</td>\n",
              "      <td>2.198699</td>\n",
              "      <td>7.588403e+00</td>\n",
              "      <td>0.128062</td>\n",
              "      <td>2.979512</td>\n",
              "      <td>6.909305</td>\n",
              "      <td>0.451087</td>\n",
              "    </tr>\n",
              "    <tr>\n",
              "      <th>min</th>\n",
              "      <td>31.0000</td>\n",
              "      <td>48.100000</td>\n",
              "      <td>0.000000</td>\n",
              "      <td>1.000000</td>\n",
              "      <td>985.000000</td>\n",
              "      <td>0.000000</td>\n",
              "      <td>-7.105427e-15</td>\n",
              "      <td>0.000000</td>\n",
              "      <td>1.000000</td>\n",
              "      <td>0.000000</td>\n",
              "      <td>0.000000</td>\n",
              "    </tr>\n",
              "    <tr>\n",
              "      <th>25%</th>\n",
              "      <td>37.5000</td>\n",
              "      <td>75.800000</td>\n",
              "      <td>0.000000</td>\n",
              "      <td>13.000000</td>\n",
              "      <td>1015.000000</td>\n",
              "      <td>1.000000</td>\n",
              "      <td>1.264817e+00</td>\n",
              "      <td>0.000000</td>\n",
              "      <td>5.000000</td>\n",
              "      <td>5.000000</td>\n",
              "      <td>0.000000</td>\n",
              "    </tr>\n",
              "    <tr>\n",
              "      <th>50%</th>\n",
              "      <td>41.0000</td>\n",
              "      <td>82.300000</td>\n",
              "      <td>1.000000</td>\n",
              "      <td>16.000000</td>\n",
              "      <td>1018.000000</td>\n",
              "      <td>3.000000</td>\n",
              "      <td>5.260241e+00</td>\n",
              "      <td>0.000000</td>\n",
              "      <td>8.000000</td>\n",
              "      <td>11.000000</td>\n",
              "      <td>0.000000</td>\n",
              "    </tr>\n",
              "    <tr>\n",
              "      <th>75%</th>\n",
              "      <td>43.9000</td>\n",
              "      <td>87.600000</td>\n",
              "      <td>2.000000</td>\n",
              "      <td>19.000000</td>\n",
              "      <td>1021.000000</td>\n",
              "      <td>4.000000</td>\n",
              "      <td>1.232665e+01</td>\n",
              "      <td>0.000000</td>\n",
              "      <td>9.000000</td>\n",
              "      <td>17.000000</td>\n",
              "      <td>1.000000</td>\n",
              "    </tr>\n",
              "    <tr>\n",
              "      <th>max</th>\n",
              "      <td>56.2000</td>\n",
              "      <td>106.100000</td>\n",
              "      <td>2.000000</td>\n",
              "      <td>32.000000</td>\n",
              "      <td>1033.000000</td>\n",
              "      <td>13.000000</td>\n",
              "      <td>3.363346e+01</td>\n",
              "      <td>1.000000</td>\n",
              "      <td>12.000000</td>\n",
              "      <td>23.000000</td>\n",
              "      <td>1.000000</td>\n",
              "    </tr>\n",
              "  </tbody>\n",
              "</table>\n",
              "</div>"
            ],
            "text/plain": [
              "       AVERAGE_FREE_FLOW_SPEED  AVERAGE_FREE_FLOW_TIME   LUMINOSITY  \\\n",
              "count                1500.0000             1500.000000  1500.000000   \n",
              "mean                   40.8304               81.194333     0.996667   \n",
              "std                     4.2396                8.189691     0.985209   \n",
              "min                    31.0000               48.100000     0.000000   \n",
              "25%                    37.5000               75.800000     0.000000   \n",
              "50%                    41.0000               82.300000     1.000000   \n",
              "75%                    43.9000               87.600000     2.000000   \n",
              "max                    56.2000              106.100000     2.000000   \n",
              "\n",
              "       AVERAGE_TEMPERATURE  AVERAGE_ATMOSP_PRESSURE  AVERAGE_WIND_SPEED  \\\n",
              "count          1500.000000              1500.000000         1500.000000   \n",
              "mean             16.104000              1017.457333            3.116667   \n",
              "std               5.094293                 5.840455            2.198699   \n",
              "min               1.000000               985.000000            0.000000   \n",
              "25%              13.000000              1015.000000            1.000000   \n",
              "50%              16.000000              1018.000000            3.000000   \n",
              "75%              19.000000              1021.000000            4.000000   \n",
              "max              32.000000              1033.000000           13.000000   \n",
              "\n",
              "       AVERAGE_SPEED        EVENT        MONTH         HOUR      WEEKEND  \n",
              "count   1.500000e+03  1500.000000  1500.000000  1500.000000  1500.000000  \n",
              "mean    7.687202e+00     0.016667     7.105333    11.211333     0.284000  \n",
              "std     7.588403e+00     0.128062     2.979512     6.909305     0.451087  \n",
              "min    -7.105427e-15     0.000000     1.000000     0.000000     0.000000  \n",
              "25%     1.264817e+00     0.000000     5.000000     5.000000     0.000000  \n",
              "50%     5.260241e+00     0.000000     8.000000    11.000000     0.000000  \n",
              "75%     1.232665e+01     0.000000     9.000000    17.000000     1.000000  \n",
              "max     3.363346e+01     1.000000    12.000000    23.000000     1.000000  "
            ]
          },
          "execution_count": 72,
          "metadata": {},
          "output_type": "execute_result"
        }
      ],
      "source": [
        "df_test.describe()"
      ]
    },
    {
      "cell_type": "code",
      "execution_count": 73,
      "metadata": {},
      "outputs": [
        {
          "data": {
            "text/html": [
              "<div>\n",
              "<style scoped>\n",
              "    .dataframe tbody tr th:only-of-type {\n",
              "        vertical-align: middle;\n",
              "    }\n",
              "\n",
              "    .dataframe tbody tr th {\n",
              "        vertical-align: top;\n",
              "    }\n",
              "\n",
              "    .dataframe thead th {\n",
              "        text-align: right;\n",
              "    }\n",
              "</style>\n",
              "<table border=\"1\" class=\"dataframe\">\n",
              "  <thead>\n",
              "    <tr style=\"text-align: right;\">\n",
              "      <th></th>\n",
              "      <th>AVERAGE_FREE_FLOW_SPEED</th>\n",
              "      <th>AVERAGE_FREE_FLOW_TIME</th>\n",
              "      <th>LUMINOSITY</th>\n",
              "      <th>AVERAGE_TEMPERATURE</th>\n",
              "      <th>AVERAGE_ATMOSP_PRESSURE</th>\n",
              "      <th>AVERAGE_WIND_SPEED</th>\n",
              "      <th>AVERAGE_SPEED</th>\n",
              "      <th>EVENT</th>\n",
              "      <th>MONTH</th>\n",
              "      <th>HOUR</th>\n",
              "      <th>WEEKEND</th>\n",
              "    </tr>\n",
              "  </thead>\n",
              "  <tbody>\n",
              "    <tr>\n",
              "      <th>0</th>\n",
              "      <td>39.2</td>\n",
              "      <td>91.0</td>\n",
              "      <td>0</td>\n",
              "      <td>8.0</td>\n",
              "      <td>1026.0</td>\n",
              "      <td>1.0</td>\n",
              "      <td>0.000000</td>\n",
              "      <td>0.0</td>\n",
              "      <td>2</td>\n",
              "      <td>23</td>\n",
              "      <td>0</td>\n",
              "    </tr>\n",
              "    <tr>\n",
              "      <th>1</th>\n",
              "      <td>42.5</td>\n",
              "      <td>76.8</td>\n",
              "      <td>0</td>\n",
              "      <td>11.0</td>\n",
              "      <td>1020.0</td>\n",
              "      <td>4.0</td>\n",
              "      <td>5.825843</td>\n",
              "      <td>1.0</td>\n",
              "      <td>11</td>\n",
              "      <td>20</td>\n",
              "      <td>0</td>\n",
              "    </tr>\n",
              "    <tr>\n",
              "      <th>2</th>\n",
              "      <td>45.9</td>\n",
              "      <td>86.3</td>\n",
              "      <td>0</td>\n",
              "      <td>14.0</td>\n",
              "      <td>1017.0</td>\n",
              "      <td>0.0</td>\n",
              "      <td>0.000000</td>\n",
              "      <td>0.0</td>\n",
              "      <td>8</td>\n",
              "      <td>5</td>\n",
              "      <td>0</td>\n",
              "    </tr>\n",
              "    <tr>\n",
              "      <th>3</th>\n",
              "      <td>33.2</td>\n",
              "      <td>89.9</td>\n",
              "      <td>2</td>\n",
              "      <td>22.0</td>\n",
              "      <td>1016.0</td>\n",
              "      <td>4.0</td>\n",
              "      <td>12.121751</td>\n",
              "      <td>0.0</td>\n",
              "      <td>7</td>\n",
              "      <td>17</td>\n",
              "      <td>1</td>\n",
              "    </tr>\n",
              "    <tr>\n",
              "      <th>4</th>\n",
              "      <td>44.0</td>\n",
              "      <td>85.5</td>\n",
              "      <td>0</td>\n",
              "      <td>12.0</td>\n",
              "      <td>1004.0</td>\n",
              "      <td>9.0</td>\n",
              "      <td>1.730337</td>\n",
              "      <td>0.0</td>\n",
              "      <td>10</td>\n",
              "      <td>6</td>\n",
              "      <td>0</td>\n",
              "    </tr>\n",
              "  </tbody>\n",
              "</table>\n",
              "</div>"
            ],
            "text/plain": [
              "   AVERAGE_FREE_FLOW_SPEED  AVERAGE_FREE_FLOW_TIME  LUMINOSITY  \\\n",
              "0                     39.2                    91.0           0   \n",
              "1                     42.5                    76.8           0   \n",
              "2                     45.9                    86.3           0   \n",
              "3                     33.2                    89.9           2   \n",
              "4                     44.0                    85.5           0   \n",
              "\n",
              "   AVERAGE_TEMPERATURE  AVERAGE_ATMOSP_PRESSURE  AVERAGE_WIND_SPEED  \\\n",
              "0                  8.0                   1026.0                 1.0   \n",
              "1                 11.0                   1020.0                 4.0   \n",
              "2                 14.0                   1017.0                 0.0   \n",
              "3                 22.0                   1016.0                 4.0   \n",
              "4                 12.0                   1004.0                 9.0   \n",
              "\n",
              "   AVERAGE_SPEED  EVENT  MONTH  HOUR  WEEKEND  \n",
              "0       0.000000    0.0      2    23        0  \n",
              "1       5.825843    1.0     11    20        0  \n",
              "2       0.000000    0.0      8     5        0  \n",
              "3      12.121751    0.0      7    17        1  \n",
              "4       1.730337    0.0     10     6        0  "
            ]
          },
          "execution_count": 73,
          "metadata": {},
          "output_type": "execute_result"
        }
      ],
      "source": [
        "df_test.head()"
      ]
    },
    {
      "cell_type": "code",
      "execution_count": 74,
      "metadata": {},
      "outputs": [
        {
          "data": {
            "text/plain": [
              "(1500, 11)"
            ]
          },
          "execution_count": 74,
          "metadata": {},
          "output_type": "execute_result"
        }
      ],
      "source": [
        "df_test.shape"
      ]
    },
    {
      "cell_type": "code",
      "execution_count": 75,
      "metadata": {},
      "outputs": [],
      "source": [
        "df_training_test = df_training_feature_selection.copy()\n",
        "\n",
        "df_training_test = df_training_test.drop(['AVERAGE_HUMIDITY', 'DAY', 'WEEK'], axis = 1)\n",
        "\n",
        "x_test = df_training_test.drop(['AVERAGE_SPEED_DIFF'], axis = 1)\n",
        "y_test = df_training_test['AVERAGE_SPEED_DIFF'].to_frame()\n",
        "\n",
        "param_grid = {\n",
        "    'bootstrap': [True],\n",
        "    'max_depth': [120, 130, 140, 150],\n",
        "    'max_features': [3, 4, 5, 6, 7],\n",
        "    'min_samples_leaf': [1, 2, 3, 4],\n",
        "    'min_samples_split': [6, 8, 10, 12],\n",
        "    'n_estimators': [50, 100, 200, 300]\n",
        "}\n",
        "\n",
        "rf = RandomForestClassifier()\n",
        "\n",
        "grid = HalvingGridSearchCV(estimator = rf, param_grid = param_grid, cv = 3, n_jobs = -1, factor = 2, refit = True, verbose = 0)\n",
        "\n",
        "grid.fit(x_test, np.ravel(y_test))\n",
        "\n",
        "predicts = grid.predict(df_test)"
      ]
    },
    {
      "cell_type": "code",
      "execution_count": 76,
      "metadata": {},
      "outputs": [
        {
          "name": "stdout",
          "output_type": "stream",
          "text": [
            "[0 2 0 ... 0 4 1]\n"
          ]
        }
      ],
      "source": [
        "print(predicts)"
      ]
    },
    {
      "cell_type": "code",
      "execution_count": 77,
      "metadata": {},
      "outputs": [
        {
          "name": "stdout",
          "output_type": "stream",
          "text": [
            "Submission file ready :)\n"
          ]
        }
      ],
      "source": [
        "with open('../datasets/submission.csv', 'w') as file:\n",
        "    i = 1\n",
        "    file.write('RowId,Speed_Diff\\n')\n",
        "\n",
        "    for elem in predicts:\n",
        "        if elem == 0:\n",
        "            token = 'None'\n",
        "        elif elem == 1:\n",
        "            token = 'Low'\n",
        "        elif elem == 2:\n",
        "            token = 'Medium'\n",
        "        elif elem == 3:\n",
        "            token = 'High'\n",
        "        else:\n",
        "            token = 'Very_High' \n",
        "        file.write(str(i) + ',' + token + '\\n')\n",
        "        i += 1\n",
        "print('Submission file ready :)')"
      ]
    }
  ],
  "metadata": {
    "accelerator": "GPU",
    "colab": {
      "collapsed_sections": [],
      "name": "DAA-Trafego-Kaneki.ipynb",
      "provenance": []
    },
    "kernelspec": {
      "display_name": "Python 3",
      "name": "python3"
    },
    "language_info": {
      "codemirror_mode": {
        "name": "ipython",
        "version": 3
      },
      "file_extension": ".py",
      "mimetype": "text/x-python",
      "name": "python",
      "nbconvert_exporter": "python",
      "pygments_lexer": "ipython3",
      "version": "3.8.12"
    }
  },
  "nbformat": 4,
  "nbformat_minor": 0
}

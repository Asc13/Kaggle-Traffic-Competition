{
 "cells": [
  {
   "cell_type": "code",
   "execution_count": 96,
   "metadata": {
    "id": "IxwvSJ_F_YFj"
   },
   "outputs": [],
   "source": [
    "import numpy as np\n",
    "import pandas as pd\n",
    "import seaborn as sns\n",
    "import re\n",
    "from datetime import *\n",
    "from sklearn.feature_selection import SelectKBest\n",
    "import matplotlib.pyplot as plt\n",
    "from sklearn.experimental import enable_halving_search_cv\n",
    "from sklearn.model_selection import GridSearchCV, HalvingGridSearchCV, train_test_split, RandomizedSearchCV\n",
    "from sklearn.ensemble import RandomForestClassifier\n",
    "from sklearn.linear_model import *\n",
    "from sklearn.tree import *\n",
    "from sklearn.metrics import *\n",
    "from sklearn.svm import *\n",
    "from sklearn.feature_selection import chi2\n",
    "from sklearn.preprocessing import StandardScaler\n",
    "from sklearn.preprocessing import MinMaxScaler\n",
    "from sklearn import preprocessing\n",
    "from scipy.stats import chi2_contingency\n",
    "from xgboost.sklearn import XGBRFClassifier, DMatrix, train\n",
    "import tensorflow as tf\n",
    "from tensorflow.keras.models import Sequential\n",
    "from tensorflow.keras.layers import Dense, Dropout, BatchNormalization\n",
    "from tensorflow.keras.wrappers.scikit_learn import KerasRegressor, KerasClassifier"
   ]
  },
  {
   "cell_type": "code",
   "execution_count": 49,
   "metadata": {
    "colab": {
     "base_uri": "https://localhost:8080/",
     "height": 313
    },
    "id": "G1WpdlfV_hxH",
    "outputId": "31ad661e-9844-4ca6-99dd-1a6e8cb0b51e"
   },
   "outputs": [
    {
     "data": {
      "text/html": [
       "<div>\n",
       "<style scoped>\n",
       "    .dataframe tbody tr th:only-of-type {\n",
       "        vertical-align: middle;\n",
       "    }\n",
       "\n",
       "    .dataframe tbody tr th {\n",
       "        vertical-align: top;\n",
       "    }\n",
       "\n",
       "    .dataframe thead th {\n",
       "        text-align: right;\n",
       "    }\n",
       "</style>\n",
       "<table border=\"1\" class=\"dataframe\">\n",
       "  <thead>\n",
       "    <tr style=\"text-align: right;\">\n",
       "      <th></th>\n",
       "      <th>city_name</th>\n",
       "      <th>record_date</th>\n",
       "      <th>AVERAGE_SPEED_DIFF</th>\n",
       "      <th>AVERAGE_FREE_FLOW_SPEED</th>\n",
       "      <th>AVERAGE_TIME_DIFF</th>\n",
       "      <th>AVERAGE_FREE_FLOW_TIME</th>\n",
       "      <th>LUMINOSITY</th>\n",
       "      <th>AVERAGE_TEMPERATURE</th>\n",
       "      <th>AVERAGE_ATMOSP_PRESSURE</th>\n",
       "      <th>AVERAGE_HUMIDITY</th>\n",
       "      <th>AVERAGE_WIND_SPEED</th>\n",
       "      <th>AVERAGE_CLOUDINESS</th>\n",
       "      <th>AVERAGE_PRECIPITATION</th>\n",
       "      <th>AVERAGE_RAIN</th>\n",
       "    </tr>\n",
       "  </thead>\n",
       "  <tbody>\n",
       "    <tr>\n",
       "      <th>0</th>\n",
       "      <td>Porto</td>\n",
       "      <td>2019-08-29 07:00:00</td>\n",
       "      <td>Medium</td>\n",
       "      <td>41.5</td>\n",
       "      <td>11.5</td>\n",
       "      <td>71.4</td>\n",
       "      <td>LIGHT</td>\n",
       "      <td>15.0</td>\n",
       "      <td>1019.0</td>\n",
       "      <td>100.0</td>\n",
       "      <td>3.0</td>\n",
       "      <td>NaN</td>\n",
       "      <td>0.0</td>\n",
       "      <td>NaN</td>\n",
       "    </tr>\n",
       "    <tr>\n",
       "      <th>1</th>\n",
       "      <td>Porto</td>\n",
       "      <td>2018-08-10 14:00:00</td>\n",
       "      <td>High</td>\n",
       "      <td>41.7</td>\n",
       "      <td>48.3</td>\n",
       "      <td>87.4</td>\n",
       "      <td>LIGHT</td>\n",
       "      <td>21.0</td>\n",
       "      <td>1021.0</td>\n",
       "      <td>53.0</td>\n",
       "      <td>5.0</td>\n",
       "      <td>c�u claro</td>\n",
       "      <td>0.0</td>\n",
       "      <td>NaN</td>\n",
       "    </tr>\n",
       "    <tr>\n",
       "      <th>2</th>\n",
       "      <td>Porto</td>\n",
       "      <td>2019-09-01 16:00:00</td>\n",
       "      <td>High</td>\n",
       "      <td>38.6</td>\n",
       "      <td>38.4</td>\n",
       "      <td>85.2</td>\n",
       "      <td>LIGHT</td>\n",
       "      <td>26.0</td>\n",
       "      <td>1014.0</td>\n",
       "      <td>61.0</td>\n",
       "      <td>4.0</td>\n",
       "      <td>NaN</td>\n",
       "      <td>0.0</td>\n",
       "      <td>NaN</td>\n",
       "    </tr>\n",
       "    <tr>\n",
       "      <th>3</th>\n",
       "      <td>Porto</td>\n",
       "      <td>2019-02-26 11:00:00</td>\n",
       "      <td>High</td>\n",
       "      <td>37.4</td>\n",
       "      <td>61.0</td>\n",
       "      <td>94.1</td>\n",
       "      <td>LIGHT</td>\n",
       "      <td>18.0</td>\n",
       "      <td>1025.0</td>\n",
       "      <td>48.0</td>\n",
       "      <td>4.0</td>\n",
       "      <td>c�u claro</td>\n",
       "      <td>0.0</td>\n",
       "      <td>NaN</td>\n",
       "    </tr>\n",
       "    <tr>\n",
       "      <th>4</th>\n",
       "      <td>Porto</td>\n",
       "      <td>2019-06-06 12:00:00</td>\n",
       "      <td>Medium</td>\n",
       "      <td>41.6</td>\n",
       "      <td>50.4</td>\n",
       "      <td>77.0</td>\n",
       "      <td>LIGHT</td>\n",
       "      <td>15.0</td>\n",
       "      <td>1008.0</td>\n",
       "      <td>82.0</td>\n",
       "      <td>10.0</td>\n",
       "      <td>NaN</td>\n",
       "      <td>0.0</td>\n",
       "      <td>NaN</td>\n",
       "    </tr>\n",
       "  </tbody>\n",
       "</table>\n",
       "</div>"
      ],
      "text/plain": [
       "  city_name          record_date AVERAGE_SPEED_DIFF  AVERAGE_FREE_FLOW_SPEED  \\\n",
       "0     Porto  2019-08-29 07:00:00             Medium                     41.5   \n",
       "1     Porto  2018-08-10 14:00:00               High                     41.7   \n",
       "2     Porto  2019-09-01 16:00:00               High                     38.6   \n",
       "3     Porto  2019-02-26 11:00:00               High                     37.4   \n",
       "4     Porto  2019-06-06 12:00:00             Medium                     41.6   \n",
       "\n",
       "   AVERAGE_TIME_DIFF  AVERAGE_FREE_FLOW_TIME LUMINOSITY  AVERAGE_TEMPERATURE  \\\n",
       "0               11.5                    71.4      LIGHT                 15.0   \n",
       "1               48.3                    87.4      LIGHT                 21.0   \n",
       "2               38.4                    85.2      LIGHT                 26.0   \n",
       "3               61.0                    94.1      LIGHT                 18.0   \n",
       "4               50.4                    77.0      LIGHT                 15.0   \n",
       "\n",
       "   AVERAGE_ATMOSP_PRESSURE  AVERAGE_HUMIDITY  AVERAGE_WIND_SPEED  \\\n",
       "0                   1019.0             100.0                 3.0   \n",
       "1                   1021.0              53.0                 5.0   \n",
       "2                   1014.0              61.0                 4.0   \n",
       "3                   1025.0              48.0                 4.0   \n",
       "4                   1008.0              82.0                10.0   \n",
       "\n",
       "  AVERAGE_CLOUDINESS  AVERAGE_PRECIPITATION AVERAGE_RAIN  \n",
       "0                NaN                    0.0          NaN  \n",
       "1          c�u claro                    0.0          NaN  \n",
       "2                NaN                    0.0          NaN  \n",
       "3          c�u claro                    0.0          NaN  \n",
       "4                NaN                    0.0          NaN  "
      ]
     },
     "execution_count": 49,
     "metadata": {},
     "output_type": "execute_result"
    }
   ],
   "source": [
    "df_training = pd.read_csv('../datasets/training_data.csv')\n",
    "df_training.head()"
   ]
  },
  {
   "cell_type": "markdown",
   "metadata": {
    "id": "K3e_4_La_8bG"
   },
   "source": [
    "# $\\textbf{Visualização de dados}$"
   ]
  },
  {
   "cell_type": "code",
   "execution_count": 50,
   "metadata": {},
   "outputs": [
    {
     "data": {
      "text/plain": [
       "Index(['city_name', 'record_date', 'AVERAGE_SPEED_DIFF',\n",
       "       'AVERAGE_FREE_FLOW_SPEED', 'AVERAGE_TIME_DIFF',\n",
       "       'AVERAGE_FREE_FLOW_TIME', 'LUMINOSITY', 'AVERAGE_TEMPERATURE',\n",
       "       'AVERAGE_ATMOSP_PRESSURE', 'AVERAGE_HUMIDITY', 'AVERAGE_WIND_SPEED',\n",
       "       'AVERAGE_CLOUDINESS', 'AVERAGE_PRECIPITATION', 'AVERAGE_RAIN'],\n",
       "      dtype='object')"
      ]
     },
     "execution_count": 50,
     "metadata": {},
     "output_type": "execute_result"
    }
   ],
   "source": [
    "df_training.columns"
   ]
  },
  {
   "cell_type": "code",
   "execution_count": 51,
   "metadata": {},
   "outputs": [
    {
     "data": {
      "text/html": [
       "<div>\n",
       "<style scoped>\n",
       "    .dataframe tbody tr th:only-of-type {\n",
       "        vertical-align: middle;\n",
       "    }\n",
       "\n",
       "    .dataframe tbody tr th {\n",
       "        vertical-align: top;\n",
       "    }\n",
       "\n",
       "    .dataframe thead th {\n",
       "        text-align: right;\n",
       "    }\n",
       "</style>\n",
       "<table border=\"1\" class=\"dataframe\">\n",
       "  <thead>\n",
       "    <tr style=\"text-align: right;\">\n",
       "      <th></th>\n",
       "      <th>city_name</th>\n",
       "      <th>record_date</th>\n",
       "      <th>AVERAGE_SPEED_DIFF</th>\n",
       "      <th>AVERAGE_FREE_FLOW_SPEED</th>\n",
       "      <th>AVERAGE_TIME_DIFF</th>\n",
       "      <th>AVERAGE_FREE_FLOW_TIME</th>\n",
       "      <th>LUMINOSITY</th>\n",
       "      <th>AVERAGE_TEMPERATURE</th>\n",
       "      <th>AVERAGE_ATMOSP_PRESSURE</th>\n",
       "      <th>AVERAGE_HUMIDITY</th>\n",
       "      <th>AVERAGE_WIND_SPEED</th>\n",
       "      <th>AVERAGE_CLOUDINESS</th>\n",
       "      <th>AVERAGE_PRECIPITATION</th>\n",
       "      <th>AVERAGE_RAIN</th>\n",
       "    </tr>\n",
       "  </thead>\n",
       "  <tbody>\n",
       "    <tr>\n",
       "      <th>0</th>\n",
       "      <td>Porto</td>\n",
       "      <td>2019-08-29 07:00:00</td>\n",
       "      <td>Medium</td>\n",
       "      <td>41.5</td>\n",
       "      <td>11.5</td>\n",
       "      <td>71.4</td>\n",
       "      <td>LIGHT</td>\n",
       "      <td>15.0</td>\n",
       "      <td>1019.0</td>\n",
       "      <td>100.0</td>\n",
       "      <td>3.0</td>\n",
       "      <td>NaN</td>\n",
       "      <td>0.0</td>\n",
       "      <td>NaN</td>\n",
       "    </tr>\n",
       "    <tr>\n",
       "      <th>1</th>\n",
       "      <td>Porto</td>\n",
       "      <td>2018-08-10 14:00:00</td>\n",
       "      <td>High</td>\n",
       "      <td>41.7</td>\n",
       "      <td>48.3</td>\n",
       "      <td>87.4</td>\n",
       "      <td>LIGHT</td>\n",
       "      <td>21.0</td>\n",
       "      <td>1021.0</td>\n",
       "      <td>53.0</td>\n",
       "      <td>5.0</td>\n",
       "      <td>c�u claro</td>\n",
       "      <td>0.0</td>\n",
       "      <td>NaN</td>\n",
       "    </tr>\n",
       "    <tr>\n",
       "      <th>2</th>\n",
       "      <td>Porto</td>\n",
       "      <td>2019-09-01 16:00:00</td>\n",
       "      <td>High</td>\n",
       "      <td>38.6</td>\n",
       "      <td>38.4</td>\n",
       "      <td>85.2</td>\n",
       "      <td>LIGHT</td>\n",
       "      <td>26.0</td>\n",
       "      <td>1014.0</td>\n",
       "      <td>61.0</td>\n",
       "      <td>4.0</td>\n",
       "      <td>NaN</td>\n",
       "      <td>0.0</td>\n",
       "      <td>NaN</td>\n",
       "    </tr>\n",
       "    <tr>\n",
       "      <th>3</th>\n",
       "      <td>Porto</td>\n",
       "      <td>2019-02-26 11:00:00</td>\n",
       "      <td>High</td>\n",
       "      <td>37.4</td>\n",
       "      <td>61.0</td>\n",
       "      <td>94.1</td>\n",
       "      <td>LIGHT</td>\n",
       "      <td>18.0</td>\n",
       "      <td>1025.0</td>\n",
       "      <td>48.0</td>\n",
       "      <td>4.0</td>\n",
       "      <td>c�u claro</td>\n",
       "      <td>0.0</td>\n",
       "      <td>NaN</td>\n",
       "    </tr>\n",
       "    <tr>\n",
       "      <th>4</th>\n",
       "      <td>Porto</td>\n",
       "      <td>2019-06-06 12:00:00</td>\n",
       "      <td>Medium</td>\n",
       "      <td>41.6</td>\n",
       "      <td>50.4</td>\n",
       "      <td>77.0</td>\n",
       "      <td>LIGHT</td>\n",
       "      <td>15.0</td>\n",
       "      <td>1008.0</td>\n",
       "      <td>82.0</td>\n",
       "      <td>10.0</td>\n",
       "      <td>NaN</td>\n",
       "      <td>0.0</td>\n",
       "      <td>NaN</td>\n",
       "    </tr>\n",
       "  </tbody>\n",
       "</table>\n",
       "</div>"
      ],
      "text/plain": [
       "  city_name          record_date AVERAGE_SPEED_DIFF  AVERAGE_FREE_FLOW_SPEED  \\\n",
       "0     Porto  2019-08-29 07:00:00             Medium                     41.5   \n",
       "1     Porto  2018-08-10 14:00:00               High                     41.7   \n",
       "2     Porto  2019-09-01 16:00:00               High                     38.6   \n",
       "3     Porto  2019-02-26 11:00:00               High                     37.4   \n",
       "4     Porto  2019-06-06 12:00:00             Medium                     41.6   \n",
       "\n",
       "   AVERAGE_TIME_DIFF  AVERAGE_FREE_FLOW_TIME LUMINOSITY  AVERAGE_TEMPERATURE  \\\n",
       "0               11.5                    71.4      LIGHT                 15.0   \n",
       "1               48.3                    87.4      LIGHT                 21.0   \n",
       "2               38.4                    85.2      LIGHT                 26.0   \n",
       "3               61.0                    94.1      LIGHT                 18.0   \n",
       "4               50.4                    77.0      LIGHT                 15.0   \n",
       "\n",
       "   AVERAGE_ATMOSP_PRESSURE  AVERAGE_HUMIDITY  AVERAGE_WIND_SPEED  \\\n",
       "0                   1019.0             100.0                 3.0   \n",
       "1                   1021.0              53.0                 5.0   \n",
       "2                   1014.0              61.0                 4.0   \n",
       "3                   1025.0              48.0                 4.0   \n",
       "4                   1008.0              82.0                10.0   \n",
       "\n",
       "  AVERAGE_CLOUDINESS  AVERAGE_PRECIPITATION AVERAGE_RAIN  \n",
       "0                NaN                    0.0          NaN  \n",
       "1          c�u claro                    0.0          NaN  \n",
       "2                NaN                    0.0          NaN  \n",
       "3          c�u claro                    0.0          NaN  \n",
       "4                NaN                    0.0          NaN  "
      ]
     },
     "execution_count": 51,
     "metadata": {},
     "output_type": "execute_result"
    }
   ],
   "source": [
    "df_training.head()"
   ]
  },
  {
   "cell_type": "code",
   "execution_count": 52,
   "metadata": {},
   "outputs": [
    {
     "data": {
      "text/html": [
       "<div>\n",
       "<style scoped>\n",
       "    .dataframe tbody tr th:only-of-type {\n",
       "        vertical-align: middle;\n",
       "    }\n",
       "\n",
       "    .dataframe tbody tr th {\n",
       "        vertical-align: top;\n",
       "    }\n",
       "\n",
       "    .dataframe thead th {\n",
       "        text-align: right;\n",
       "    }\n",
       "</style>\n",
       "<table border=\"1\" class=\"dataframe\">\n",
       "  <thead>\n",
       "    <tr style=\"text-align: right;\">\n",
       "      <th></th>\n",
       "      <th>AVERAGE_FREE_FLOW_SPEED</th>\n",
       "      <th>AVERAGE_TIME_DIFF</th>\n",
       "      <th>AVERAGE_FREE_FLOW_TIME</th>\n",
       "      <th>AVERAGE_TEMPERATURE</th>\n",
       "      <th>AVERAGE_ATMOSP_PRESSURE</th>\n",
       "      <th>AVERAGE_HUMIDITY</th>\n",
       "      <th>AVERAGE_WIND_SPEED</th>\n",
       "      <th>AVERAGE_PRECIPITATION</th>\n",
       "    </tr>\n",
       "  </thead>\n",
       "  <tbody>\n",
       "    <tr>\n",
       "      <th>count</th>\n",
       "      <td>6812.000000</td>\n",
       "      <td>6812.000000</td>\n",
       "      <td>6812.000000</td>\n",
       "      <td>6812.000000</td>\n",
       "      <td>6812.000000</td>\n",
       "      <td>6812.000000</td>\n",
       "      <td>6812.000000</td>\n",
       "      <td>6812.0</td>\n",
       "    </tr>\n",
       "    <tr>\n",
       "      <th>mean</th>\n",
       "      <td>40.661010</td>\n",
       "      <td>25.637111</td>\n",
       "      <td>81.143952</td>\n",
       "      <td>16.193482</td>\n",
       "      <td>1017.388139</td>\n",
       "      <td>80.084190</td>\n",
       "      <td>3.058573</td>\n",
       "      <td>0.0</td>\n",
       "    </tr>\n",
       "    <tr>\n",
       "      <th>std</th>\n",
       "      <td>4.119023</td>\n",
       "      <td>33.510507</td>\n",
       "      <td>8.294401</td>\n",
       "      <td>5.163492</td>\n",
       "      <td>5.751061</td>\n",
       "      <td>18.238863</td>\n",
       "      <td>2.138421</td>\n",
       "      <td>0.0</td>\n",
       "    </tr>\n",
       "    <tr>\n",
       "      <th>min</th>\n",
       "      <td>30.500000</td>\n",
       "      <td>0.000000</td>\n",
       "      <td>46.400000</td>\n",
       "      <td>0.000000</td>\n",
       "      <td>985.000000</td>\n",
       "      <td>14.000000</td>\n",
       "      <td>0.000000</td>\n",
       "      <td>0.0</td>\n",
       "    </tr>\n",
       "    <tr>\n",
       "      <th>25%</th>\n",
       "      <td>37.600000</td>\n",
       "      <td>2.275000</td>\n",
       "      <td>75.400000</td>\n",
       "      <td>13.000000</td>\n",
       "      <td>1015.000000</td>\n",
       "      <td>69.750000</td>\n",
       "      <td>1.000000</td>\n",
       "      <td>0.0</td>\n",
       "    </tr>\n",
       "    <tr>\n",
       "      <th>50%</th>\n",
       "      <td>40.700000</td>\n",
       "      <td>12.200000</td>\n",
       "      <td>82.400000</td>\n",
       "      <td>16.000000</td>\n",
       "      <td>1017.000000</td>\n",
       "      <td>83.000000</td>\n",
       "      <td>3.000000</td>\n",
       "      <td>0.0</td>\n",
       "    </tr>\n",
       "    <tr>\n",
       "      <th>75%</th>\n",
       "      <td>43.500000</td>\n",
       "      <td>36.200000</td>\n",
       "      <td>87.400000</td>\n",
       "      <td>19.000000</td>\n",
       "      <td>1021.000000</td>\n",
       "      <td>93.000000</td>\n",
       "      <td>4.000000</td>\n",
       "      <td>0.0</td>\n",
       "    </tr>\n",
       "    <tr>\n",
       "      <th>max</th>\n",
       "      <td>55.900000</td>\n",
       "      <td>296.500000</td>\n",
       "      <td>112.000000</td>\n",
       "      <td>35.000000</td>\n",
       "      <td>1033.000000</td>\n",
       "      <td>100.000000</td>\n",
       "      <td>14.000000</td>\n",
       "      <td>0.0</td>\n",
       "    </tr>\n",
       "  </tbody>\n",
       "</table>\n",
       "</div>"
      ],
      "text/plain": [
       "       AVERAGE_FREE_FLOW_SPEED  AVERAGE_TIME_DIFF  AVERAGE_FREE_FLOW_TIME  \\\n",
       "count              6812.000000        6812.000000             6812.000000   \n",
       "mean                 40.661010          25.637111               81.143952   \n",
       "std                   4.119023          33.510507                8.294401   \n",
       "min                  30.500000           0.000000               46.400000   \n",
       "25%                  37.600000           2.275000               75.400000   \n",
       "50%                  40.700000          12.200000               82.400000   \n",
       "75%                  43.500000          36.200000               87.400000   \n",
       "max                  55.900000         296.500000              112.000000   \n",
       "\n",
       "       AVERAGE_TEMPERATURE  AVERAGE_ATMOSP_PRESSURE  AVERAGE_HUMIDITY  \\\n",
       "count          6812.000000              6812.000000       6812.000000   \n",
       "mean             16.193482              1017.388139         80.084190   \n",
       "std               5.163492                 5.751061         18.238863   \n",
       "min               0.000000               985.000000         14.000000   \n",
       "25%              13.000000              1015.000000         69.750000   \n",
       "50%              16.000000              1017.000000         83.000000   \n",
       "75%              19.000000              1021.000000         93.000000   \n",
       "max              35.000000              1033.000000        100.000000   \n",
       "\n",
       "       AVERAGE_WIND_SPEED  AVERAGE_PRECIPITATION  \n",
       "count         6812.000000                 6812.0  \n",
       "mean             3.058573                    0.0  \n",
       "std              2.138421                    0.0  \n",
       "min              0.000000                    0.0  \n",
       "25%              1.000000                    0.0  \n",
       "50%              3.000000                    0.0  \n",
       "75%              4.000000                    0.0  \n",
       "max             14.000000                    0.0  "
      ]
     },
     "execution_count": 52,
     "metadata": {},
     "output_type": "execute_result"
    }
   ],
   "source": [
    "df_training.describe()"
   ]
  },
  {
   "cell_type": "code",
   "execution_count": 53,
   "metadata": {
    "colab": {
     "base_uri": "https://localhost:8080/"
    },
    "id": "mW1H3mAq_7aQ",
    "outputId": "c1717d03-834b-4102-fae8-e563c2efb1cf"
   },
   "outputs": [
    {
     "name": "stdout",
     "output_type": "stream",
     "text": [
      "<class 'pandas.core.frame.DataFrame'>\n",
      "RangeIndex: 6812 entries, 0 to 6811\n",
      "Data columns (total 14 columns):\n",
      " #   Column                   Non-Null Count  Dtype  \n",
      "---  ------                   --------------  -----  \n",
      " 0   city_name                6812 non-null   object \n",
      " 1   record_date              6812 non-null   object \n",
      " 2   AVERAGE_SPEED_DIFF       6812 non-null   object \n",
      " 3   AVERAGE_FREE_FLOW_SPEED  6812 non-null   float64\n",
      " 4   AVERAGE_TIME_DIFF        6812 non-null   float64\n",
      " 5   AVERAGE_FREE_FLOW_TIME   6812 non-null   float64\n",
      " 6   LUMINOSITY               6812 non-null   object \n",
      " 7   AVERAGE_TEMPERATURE      6812 non-null   float64\n",
      " 8   AVERAGE_ATMOSP_PRESSURE  6812 non-null   float64\n",
      " 9   AVERAGE_HUMIDITY         6812 non-null   float64\n",
      " 10  AVERAGE_WIND_SPEED       6812 non-null   float64\n",
      " 11  AVERAGE_CLOUDINESS       4130 non-null   object \n",
      " 12  AVERAGE_PRECIPITATION    6812 non-null   float64\n",
      " 13  AVERAGE_RAIN             563 non-null    object \n",
      "dtypes: float64(8), object(6)\n",
      "memory usage: 745.2+ KB\n"
     ]
    }
   ],
   "source": [
    "df_training.info()"
   ]
  },
  {
   "cell_type": "markdown",
   "metadata": {
    "id": "wGA1j9fgAeHt"
   },
   "source": [
    "### $\\textbf{Missing values}$"
   ]
  },
  {
   "cell_type": "code",
   "execution_count": 54,
   "metadata": {
    "colab": {
     "base_uri": "https://localhost:8080/"
    },
    "id": "NxDZnIQbAlai",
    "outputId": "43c3a7bb-d751-4ed4-9ad3-46c1c5c7948a"
   },
   "outputs": [
    {
     "name": "stdout",
     "output_type": "stream",
     "text": [
      "city_name                   0.000000\n",
      "record_date                 0.000000\n",
      "AVERAGE_SPEED_DIFF          0.000000\n",
      "AVERAGE_FREE_FLOW_SPEED     0.000000\n",
      "AVERAGE_TIME_DIFF           0.000000\n",
      "AVERAGE_FREE_FLOW_TIME      0.000000\n",
      "LUMINOSITY                  0.000000\n",
      "AVERAGE_TEMPERATURE         0.000000\n",
      "AVERAGE_ATMOSP_PRESSURE     0.000000\n",
      "AVERAGE_HUMIDITY            0.000000\n",
      "AVERAGE_WIND_SPEED          0.000000\n",
      "AVERAGE_CLOUDINESS         39.371697\n",
      "AVERAGE_PRECIPITATION       0.000000\n",
      "AVERAGE_RAIN               91.735173\n",
      "dtype: float64\n"
     ]
    }
   ],
   "source": [
    "#Percentagem de missing values\n",
    "print(df_training.isna().sum()*100/len(df_training))"
   ]
  },
  {
   "cell_type": "markdown",
   "metadata": {},
   "source": [
    "### $\\textbf{Unique values}$"
   ]
  },
  {
   "cell_type": "code",
   "execution_count": 55,
   "metadata": {},
   "outputs": [
    {
     "name": "stdout",
     "output_type": "stream",
     "text": [
      "coluna: city_name\n",
      "valores: ['Porto']\n",
      "\n",
      "coluna: AVERAGE_SPEED_DIFF\n",
      "valores: ['Medium' 'High' 'None' 'Low' 'Very_High']\n",
      "\n",
      "coluna: LUMINOSITY\n",
      "valores: ['LIGHT' 'LOW_LIGHT' 'DARK']\n",
      "\n",
      "coluna: AVERAGE_CLOUDINESS\n",
      "valores: [nan 'c�u claro' 'nuvens dispersas' 'c�u pouco nublado' 'c�u limpo'\n",
      " 'algumas nuvens' 'nuvens quebrados' 'tempo nublado' 'nuvens quebradas'\n",
      " 'nublado']\n",
      "\n",
      "coluna: AVERAGE_RAIN\n",
      "valores: [nan 'chuva fraca' 'chuva' 'chuva leve' 'chuvisco fraco' 'chuva moderada'\n",
      " 'trovoada com chuva leve' 'aguaceiros' 'aguaceiros fracos'\n",
      " 'chuva de intensidade pesada' 'trovoada com chuva'\n",
      " 'chuva de intensidade pesado' 'chuva forte' 'chuvisco e chuva fraca']\n",
      "\n"
     ]
    }
   ],
   "source": [
    "cols = ['city_name', 'AVERAGE_SPEED_DIFF', 'LUMINOSITY', 'AVERAGE_CLOUDINESS', 'AVERAGE_RAIN']\n",
    "\n",
    "for col in cols:\n",
    "    print('coluna: ' + col + '\\nvalores: ' + str(df_training[col].unique()) + '\\n')"
   ]
  },
  {
   "cell_type": "markdown",
   "metadata": {
    "id": "MinI5VQpB3XU"
   },
   "source": [
    "### $\\textbf{Remoção das features com missing values e/ou irrelevantes}$"
   ]
  },
  {
   "cell_type": "code",
   "execution_count": 56,
   "metadata": {
    "id": "iFEO2FJABzuP"
   },
   "outputs": [],
   "source": [
    "df_training = df_training.drop(['city_name', 'AVERAGE_CLOUDINESS', 'AVERAGE_RAIN', 'AVERAGE_PRECIPITATION'], axis = 1)"
   ]
  },
  {
   "cell_type": "markdown",
   "metadata": {
    "id": "KT-RjTbVAsfJ"
   },
   "source": [
    "### $\\textbf{Distribuições}$"
   ]
  },
  {
   "cell_type": "code",
   "execution_count": 57,
   "metadata": {},
   "outputs": [],
   "source": [
    "df_training_dist = df_training.copy()"
   ]
  },
  {
   "cell_type": "code",
   "execution_count": 58,
   "metadata": {
    "colab": {
     "base_uri": "https://localhost:8080/",
     "height": 297
    },
    "id": "Qb9hX6O4AsKn",
    "outputId": "e3c297c6-bae9-43ba-e745-0bdddb13a547"
   },
   "outputs": [
    {
     "data": {
      "text/plain": [
       "<AxesSubplot:xlabel='AVERAGE_TIME_DIFF', ylabel='Count'>"
      ]
     },
     "execution_count": 58,
     "metadata": {},
     "output_type": "execute_result"
    },
    {
     "data": {
      "image/png": "[encoded data removed]",
      "text/plain": [
       "<Figure size 432x288 with 1 Axes>"
      ]
     },
     "metadata": {
      "needs_background": "light"
     },
     "output_type": "display_data"
    }
   ],
   "source": [
    "sns.histplot(df_training_dist['AVERAGE_TIME_DIFF'], kde=True)"
   ]
  },
  {
   "cell_type": "code",
   "execution_count": 59,
   "metadata": {
    "colab": {
     "base_uri": "https://localhost:8080/",
     "height": 297
    },
    "id": "tKF6P07XAvdW",
    "outputId": "5e06dbf3-5357-4d50-b43d-470daece83bf"
   },
   "outputs": [
    {
     "data": {
      "text/plain": [
       "<AxesSubplot:xlabel='AVERAGE_HUMIDITY', ylabel='Count'>"
      ]
     },
     "execution_count": 59,
     "metadata": {},
     "output_type": "execute_result"
    },
    {
     "data": {
      "image/png": "[encoded data removed]",
      "text/plain": [
       "<Figure size 432x288 with 1 Axes>"
      ]
     },
     "metadata": {
      "needs_background": "light"
     },
     "output_type": "display_data"
    }
   ],
   "source": [
    "sns.histplot(df_training_dist['AVERAGE_HUMIDITY'], kde=True)"
   ]
  },
  {
   "cell_type": "code",
   "execution_count": 60,
   "metadata": {
    "colab": {
     "base_uri": "https://localhost:8080/",
     "height": 297
    },
    "id": "8sXi3ebkAy0W",
    "outputId": "c4423751-4c82-4faf-e771-5c3fd820ae39"
   },
   "outputs": [
    {
     "data": {
      "text/plain": [
       "<AxesSubplot:xlabel='AVERAGE_TEMPERATURE', ylabel='Count'>"
      ]
     },
     "execution_count": 60,
     "metadata": {},
     "output_type": "execute_result"
    },
    {
     "data": {
      "image/png": "[encoded data removed]",
      "text/plain": [
       "<Figure size 432x288 with 1 Axes>"
      ]
     },
     "metadata": {
      "needs_background": "light"
     },
     "output_type": "display_data"
    }
   ],
   "source": [
    "sns.histplot(df_training_dist['AVERAGE_TEMPERATURE'], kde=True)"
   ]
  },
  {
   "cell_type": "code",
   "execution_count": 61,
   "metadata": {
    "colab": {
     "base_uri": "https://localhost:8080/",
     "height": 297
    },
    "id": "kryeGI12AzGs",
    "outputId": "76f4138a-cd5f-426f-e15d-1fd643570ba2"
   },
   "outputs": [
    {
     "data": {
      "text/plain": [
       "<AxesSubplot:xlabel='AVERAGE_FREE_FLOW_SPEED', ylabel='Count'>"
      ]
     },
     "execution_count": 61,
     "metadata": {},
     "output_type": "execute_result"
    },
    {
     "data": {
      "image/png": "[encoded data removed]",
      "text/plain": [
       "<Figure size 432x288 with 1 Axes>"
      ]
     },
     "metadata": {
      "needs_background": "light"
     },
     "output_type": "display_data"
    }
   ],
   "source": [
    "sns.histplot(df_training_dist['AVERAGE_FREE_FLOW_SPEED'], kde=True)"
   ]
  },
  {
   "cell_type": "code",
   "execution_count": 62,
   "metadata": {
    "colab": {
     "base_uri": "https://localhost:8080/",
     "height": 297
    },
    "id": "bS3lOUySAzSH",
    "outputId": "f011aa2c-289d-4aa0-82a5-23dd5a11f3e8"
   },
   "outputs": [
    {
     "data": {
      "text/plain": [
       "<AxesSubplot:xlabel='AVERAGE_FREE_FLOW_TIME', ylabel='Count'>"
      ]
     },
     "execution_count": 62,
     "metadata": {},
     "output_type": "execute_result"
    },
    {
     "data": {
      "image/png": "[encoded data removed]",
      "text/plain": [
       "<Figure size 432x288 with 1 Axes>"
      ]
     },
     "metadata": {
      "needs_background": "light"
     },
     "output_type": "display_data"
    }
   ],
   "source": [
    "sns.histplot(df_training_dist['AVERAGE_FREE_FLOW_TIME'], kde=True)"
   ]
  },
  {
   "cell_type": "code",
   "execution_count": 63,
   "metadata": {
    "colab": {
     "base_uri": "https://localhost:8080/",
     "height": 297
    },
    "id": "XyTN9_Z0AzbP",
    "outputId": "d9871588-4ea0-47bd-c2ce-29bbc3ce3a43"
   },
   "outputs": [
    {
     "data": {
      "text/plain": [
       "<AxesSubplot:xlabel='AVERAGE_ATMOSP_PRESSURE', ylabel='Count'>"
      ]
     },
     "execution_count": 63,
     "metadata": {},
     "output_type": "execute_result"
    },
    {
     "data": {
      "image/png": "[encoded data removed]",
      "text/plain": [
       "<Figure size 432x288 with 1 Axes>"
      ]
     },
     "metadata": {
      "needs_background": "light"
     },
     "output_type": "display_data"
    }
   ],
   "source": [
    "sns.histplot(df_training_dist['AVERAGE_ATMOSP_PRESSURE'], kde=True)"
   ]
  },
  {
   "cell_type": "code",
   "execution_count": 64,
   "metadata": {
    "colab": {
     "base_uri": "https://localhost:8080/",
     "height": 297
    },
    "id": "QgJN3BLsA9jY",
    "outputId": "d977697c-f0c4-4529-e2b9-fd81c08011bb"
   },
   "outputs": [
    {
     "data": {
      "text/plain": [
       "<AxesSubplot:xlabel='AVERAGE_WIND_SPEED', ylabel='Count'>"
      ]
     },
     "execution_count": 64,
     "metadata": {},
     "output_type": "execute_result"
    },
    {
     "data": {
      "image/png": "[encoded data removed]",
      "text/plain": [
       "<Figure size 432x288 with 1 Axes>"
      ]
     },
     "metadata": {
      "needs_background": "light"
     },
     "output_type": "display_data"
    }
   ],
   "source": [
    "sns.histplot(df_training_dist['AVERAGE_WIND_SPEED'], kde=True)"
   ]
  },
  {
   "cell_type": "markdown",
   "metadata": {
    "id": "BrHA1rHfBH2c"
   },
   "source": [
    "### $\\textbf{Deteção de outliers}$"
   ]
  },
  {
   "cell_type": "code",
   "execution_count": 65,
   "metadata": {
    "id": "1f3BCgsFHCAS"
   },
   "outputs": [],
   "source": [
    "df_training_outliers = df_training_dist.copy()"
   ]
  },
  {
   "cell_type": "code",
   "execution_count": 66,
   "metadata": {
    "colab": {
     "base_uri": "https://localhost:8080/",
     "height": 280
    },
    "id": "1IZ6Q22-BZcc",
    "outputId": "012d3e71-056e-43e0-f31b-4d239bc8521d"
   },
   "outputs": [
    {
     "data": {
      "image/png": "[encoded data removed]",
      "text/plain": [
       "<Figure size 432x288 with 1 Axes>"
      ]
     },
     "metadata": {
      "needs_background": "light"
     },
     "output_type": "display_data"
    }
   ],
   "source": [
    "ax = sns.boxplot(x=df_training_outliers['AVERAGE_FREE_FLOW_SPEED'])"
   ]
  },
  {
   "cell_type": "code",
   "execution_count": 67,
   "metadata": {
    "colab": {
     "base_uri": "https://localhost:8080/",
     "height": 280
    },
    "id": "uPkH6yZbBabL",
    "outputId": "831c048f-8c01-484b-c937-c269590eb3ba"
   },
   "outputs": [
    {
     "data": {
      "image/png": "[encoded data removed]",
      "text/plain": [
       "<Figure size 432x288 with 1 Axes>"
      ]
     },
     "metadata": {
      "needs_background": "light"
     },
     "output_type": "display_data"
    }
   ],
   "source": [
    "ax = sns.boxplot(x=df_training_outliers['AVERAGE_TIME_DIFF'])"
   ]
  },
  {
   "cell_type": "code",
   "execution_count": 68,
   "metadata": {
    "colab": {
     "base_uri": "https://localhost:8080/",
     "height": 280
    },
    "id": "WEZPcy0rBVYc",
    "outputId": "d4f2a3b3-5dfb-4c11-853e-e5f7e7951201"
   },
   "outputs": [
    {
     "data": {
      "image/png": "[encoded data removed]",
      "text/plain": [
       "<Figure size 432x288 with 1 Axes>"
      ]
     },
     "metadata": {
      "needs_background": "light"
     },
     "output_type": "display_data"
    }
   ],
   "source": [
    "ax = sns.boxplot(x=df_training_outliers['AVERAGE_FREE_FLOW_TIME'])"
   ]
  },
  {
   "cell_type": "code",
   "execution_count": 69,
   "metadata": {
    "colab": {
     "base_uri": "https://localhost:8080/",
     "height": 280
    },
    "id": "3k-Ztu9nBWbQ",
    "outputId": "9a5a8690-e61b-439a-e73f-2f0e76480677"
   },
   "outputs": [
    {
     "data": {
      "image/png": "[encoded data removed]",
      "text/plain": [
       "<Figure size 432x288 with 1 Axes>"
      ]
     },
     "metadata": {
      "needs_background": "light"
     },
     "output_type": "display_data"
    }
   ],
   "source": [
    "ax = sns.boxplot(x=df_training_outliers['AVERAGE_ATMOSP_PRESSURE'])"
   ]
  },
  {
   "cell_type": "markdown",
   "metadata": {},
   "source": [
    "# $\\textbf{Cálculo da velocidade}$"
   ]
  },
  {
   "cell_type": "code",
   "execution_count": 70,
   "metadata": {},
   "outputs": [],
   "source": [
    "df_training_speed = df_training_outliers.copy()\n",
    "\n",
    "\n",
    "for index, values in df_training_speed.iterrows():\n",
    "\n",
    "    df_training_speed.loc[df_training_speed.index[index], 'AVERAGE_SPEED'] = values['AVERAGE_FREE_FLOW_SPEED'] - values['AVERAGE_FREE_FLOW_SPEED'] * values['AVERAGE_FREE_FLOW_TIME'] / (values['AVERAGE_FREE_FLOW_TIME'] + values['AVERAGE_TIME_DIFF'])\n",
    "\n",
    "df_training_outliers = df_training_speed.copy()\n"
   ]
  },
  {
   "cell_type": "markdown",
   "metadata": {
    "id": "a-GPj7cIJiky"
   },
   "source": [
    "# $\\textbf{Preparação de dados e conversão de métricas}$"
   ]
  },
  {
   "cell_type": "code",
   "execution_count": 71,
   "metadata": {
    "id": "4YKPs0l-JoNN"
   },
   "outputs": [],
   "source": [
    "df_training_conversion = df_training_outliers.copy()"
   ]
  },
  {
   "cell_type": "markdown",
   "metadata": {
    "id": "LZFWtBi3KQnr"
   },
   "source": [
    "### $\\textbf{Tratamento das datas}$"
   ]
  },
  {
   "cell_type": "code",
   "execution_count": 72,
   "metadata": {},
   "outputs": [],
   "source": [
    "with open('EncontrosDesportivos.txt', 'r') as f:\n",
    "    aux = f.readlines()\n",
    "    datas = []\n",
    "    \n",
    "    for data in aux:\n",
    "        pair = re.split(r' ', re.sub(r'\\n', '', data))\n",
    "        datas.append((pair[0], pair[1]))\n",
    "\n",
    "    for index, values in df_training_conversion.iterrows():\n",
    "        aux = values['record_date'].split()\n",
    "        \n",
    "        if (aux[0], aux[1]) in datas:\n",
    "            df_training_conversion.loc[df_training_conversion.index[index], 'EVENT'] = 1\n",
    "        else:\n",
    "            df_training_conversion.loc[df_training_conversion.index[index], 'EVENT'] = 0\n"
   ]
  },
  {
   "cell_type": "code",
   "execution_count": 73,
   "metadata": {
    "colab": {
     "base_uri": "https://localhost:8080/"
    },
    "id": "qvRSaGzGKQ4w",
    "outputId": "813c3187-bc52-42f7-b265-96738900ae48"
   },
   "outputs": [],
   "source": [
    "df_training_conversion['record_date'] = pd.to_datetime(df_training_conversion['record_date'])\n",
    "\n",
    "df_training_conversion['DAY'] = df_training_conversion.record_date.dt.weekday\n",
    "df_training_conversion['MONTH'] = df_training_conversion.record_date.dt.month\n",
    "df_training_conversion['WEEK'] = df_training_conversion.record_date.dt.isocalendar().week\n",
    "df_training_conversion['HOUR'] = df_training_conversion.record_date.dt.hour\n",
    "\n",
    "df_training_conversion = df_training_conversion.drop(['record_date'], axis = 1)"
   ]
  },
  {
   "cell_type": "code",
   "execution_count": 74,
   "metadata": {},
   "outputs": [
    {
     "data": {
      "text/html": [
       "<div>\n",
       "<style scoped>\n",
       "    .dataframe tbody tr th:only-of-type {\n",
       "        vertical-align: middle;\n",
       "    }\n",
       "\n",
       "    .dataframe tbody tr th {\n",
       "        vertical-align: top;\n",
       "    }\n",
       "\n",
       "    .dataframe thead th {\n",
       "        text-align: right;\n",
       "    }\n",
       "</style>\n",
       "<table border=\"1\" class=\"dataframe\">\n",
       "  <thead>\n",
       "    <tr style=\"text-align: right;\">\n",
       "      <th></th>\n",
       "      <th>AVERAGE_SPEED_DIFF</th>\n",
       "      <th>AVERAGE_FREE_FLOW_SPEED</th>\n",
       "      <th>AVERAGE_TIME_DIFF</th>\n",
       "      <th>AVERAGE_FREE_FLOW_TIME</th>\n",
       "      <th>LUMINOSITY</th>\n",
       "      <th>AVERAGE_TEMPERATURE</th>\n",
       "      <th>AVERAGE_ATMOSP_PRESSURE</th>\n",
       "      <th>AVERAGE_HUMIDITY</th>\n",
       "      <th>AVERAGE_WIND_SPEED</th>\n",
       "      <th>AVERAGE_SPEED</th>\n",
       "      <th>EVENT</th>\n",
       "      <th>DAY</th>\n",
       "      <th>MONTH</th>\n",
       "      <th>WEEK</th>\n",
       "      <th>HOUR</th>\n",
       "      <th>WEEKEND</th>\n",
       "    </tr>\n",
       "  </thead>\n",
       "  <tbody>\n",
       "    <tr>\n",
       "      <th>0</th>\n",
       "      <td>Medium</td>\n",
       "      <td>41.5</td>\n",
       "      <td>11.5</td>\n",
       "      <td>71.4</td>\n",
       "      <td>LIGHT</td>\n",
       "      <td>15.0</td>\n",
       "      <td>1019.0</td>\n",
       "      <td>100.0</td>\n",
       "      <td>3.0</td>\n",
       "      <td>5.756936</td>\n",
       "      <td>0.0</td>\n",
       "      <td>3</td>\n",
       "      <td>8</td>\n",
       "      <td>35</td>\n",
       "      <td>7</td>\n",
       "      <td>0</td>\n",
       "    </tr>\n",
       "    <tr>\n",
       "      <th>1</th>\n",
       "      <td>High</td>\n",
       "      <td>41.7</td>\n",
       "      <td>48.3</td>\n",
       "      <td>87.4</td>\n",
       "      <td>LIGHT</td>\n",
       "      <td>21.0</td>\n",
       "      <td>1021.0</td>\n",
       "      <td>53.0</td>\n",
       "      <td>5.0</td>\n",
       "      <td>14.842373</td>\n",
       "      <td>0.0</td>\n",
       "      <td>4</td>\n",
       "      <td>8</td>\n",
       "      <td>32</td>\n",
       "      <td>14</td>\n",
       "      <td>0</td>\n",
       "    </tr>\n",
       "    <tr>\n",
       "      <th>2</th>\n",
       "      <td>High</td>\n",
       "      <td>38.6</td>\n",
       "      <td>38.4</td>\n",
       "      <td>85.2</td>\n",
       "      <td>LIGHT</td>\n",
       "      <td>26.0</td>\n",
       "      <td>1014.0</td>\n",
       "      <td>61.0</td>\n",
       "      <td>4.0</td>\n",
       "      <td>11.992233</td>\n",
       "      <td>0.0</td>\n",
       "      <td>6</td>\n",
       "      <td>9</td>\n",
       "      <td>35</td>\n",
       "      <td>16</td>\n",
       "      <td>1</td>\n",
       "    </tr>\n",
       "    <tr>\n",
       "      <th>3</th>\n",
       "      <td>High</td>\n",
       "      <td>37.4</td>\n",
       "      <td>61.0</td>\n",
       "      <td>94.1</td>\n",
       "      <td>LIGHT</td>\n",
       "      <td>18.0</td>\n",
       "      <td>1025.0</td>\n",
       "      <td>48.0</td>\n",
       "      <td>4.0</td>\n",
       "      <td>14.709220</td>\n",
       "      <td>0.0</td>\n",
       "      <td>1</td>\n",
       "      <td>2</td>\n",
       "      <td>9</td>\n",
       "      <td>11</td>\n",
       "      <td>0</td>\n",
       "    </tr>\n",
       "    <tr>\n",
       "      <th>4</th>\n",
       "      <td>Medium</td>\n",
       "      <td>41.6</td>\n",
       "      <td>50.4</td>\n",
       "      <td>77.0</td>\n",
       "      <td>LIGHT</td>\n",
       "      <td>15.0</td>\n",
       "      <td>1008.0</td>\n",
       "      <td>82.0</td>\n",
       "      <td>10.0</td>\n",
       "      <td>16.457143</td>\n",
       "      <td>0.0</td>\n",
       "      <td>3</td>\n",
       "      <td>6</td>\n",
       "      <td>23</td>\n",
       "      <td>12</td>\n",
       "      <td>0</td>\n",
       "    </tr>\n",
       "  </tbody>\n",
       "</table>\n",
       "</div>"
      ],
      "text/plain": [
       "  AVERAGE_SPEED_DIFF  AVERAGE_FREE_FLOW_SPEED  AVERAGE_TIME_DIFF  \\\n",
       "0             Medium                     41.5               11.5   \n",
       "1               High                     41.7               48.3   \n",
       "2               High                     38.6               38.4   \n",
       "3               High                     37.4               61.0   \n",
       "4             Medium                     41.6               50.4   \n",
       "\n",
       "   AVERAGE_FREE_FLOW_TIME LUMINOSITY  AVERAGE_TEMPERATURE  \\\n",
       "0                    71.4      LIGHT                 15.0   \n",
       "1                    87.4      LIGHT                 21.0   \n",
       "2                    85.2      LIGHT                 26.0   \n",
       "3                    94.1      LIGHT                 18.0   \n",
       "4                    77.0      LIGHT                 15.0   \n",
       "\n",
       "   AVERAGE_ATMOSP_PRESSURE  AVERAGE_HUMIDITY  AVERAGE_WIND_SPEED  \\\n",
       "0                   1019.0             100.0                 3.0   \n",
       "1                   1021.0              53.0                 5.0   \n",
       "2                   1014.0              61.0                 4.0   \n",
       "3                   1025.0              48.0                 4.0   \n",
       "4                   1008.0              82.0                10.0   \n",
       "\n",
       "   AVERAGE_SPEED  EVENT  DAY  MONTH  WEEK  HOUR  WEEKEND  \n",
       "0       5.756936    0.0    3      8    35     7        0  \n",
       "1      14.842373    0.0    4      8    32    14        0  \n",
       "2      11.992233    0.0    6      9    35    16        1  \n",
       "3      14.709220    0.0    1      2     9    11        0  \n",
       "4      16.457143    0.0    3      6    23    12        0  "
      ]
     },
     "execution_count": 74,
     "metadata": {},
     "output_type": "execute_result"
    }
   ],
   "source": [
    "def weekend(day):\n",
    "    if day in range(5):\n",
    "        return 0\n",
    "    else:\n",
    "        return 1\n",
    "    \n",
    "df_training_conversion['WEEKEND'] = df_training_conversion['DAY'].apply(weekend)\n",
    "df_training_conversion.head()"
   ]
  },
  {
   "cell_type": "markdown",
   "metadata": {
    "id": "C1-Y5h91KxGw"
   },
   "source": [
    "### $\\textbf{Speed Diff}$"
   ]
  },
  {
   "cell_type": "code",
   "execution_count": 75,
   "metadata": {
    "colab": {
     "base_uri": "https://localhost:8080/"
    },
    "id": "rnpwmdgPKpUs",
    "outputId": "51f6f4c4-48d2-42c2-eb28-29bad8202d75"
   },
   "outputs": [
    {
     "data": {
      "text/plain": [
       "array([2, 3, 0, 1, 4])"
      ]
     },
     "execution_count": 75,
     "metadata": {},
     "output_type": "execute_result"
    }
   ],
   "source": [
    "def convertSpeed(speed):\n",
    "    if speed == 'None':\n",
    "        return 0\n",
    "    elif speed == 'Low':\n",
    "        return 1\n",
    "    elif speed == 'Medium':\n",
    "        return 2\n",
    "    elif speed == 'High':\n",
    "        return 3\n",
    "    elif speed == 'Very_High':\n",
    "        return 4\n",
    "\n",
    "df_training_conversion['AVERAGE_SPEED_DIFF'] = df_training_conversion['AVERAGE_SPEED_DIFF'].apply(convertSpeed)\n",
    "df_training_conversion['AVERAGE_SPEED_DIFF'].unique()"
   ]
  },
  {
   "cell_type": "markdown",
   "metadata": {
    "id": "p_eL3fcMK7ab"
   },
   "source": [
    "### $\\textbf{Luminosity}$"
   ]
  },
  {
   "cell_type": "code",
   "execution_count": 76,
   "metadata": {
    "colab": {
     "base_uri": "https://localhost:8080/"
    },
    "id": "0pX9S-hHK7va",
    "outputId": "bf8b1293-173f-46d9-bc20-64088f993cbb"
   },
   "outputs": [
    {
     "data": {
      "text/plain": [
       "array([2, 1, 0])"
      ]
     },
     "execution_count": 76,
     "metadata": {},
     "output_type": "execute_result"
    }
   ],
   "source": [
    "def convertLuminosity(lum):\n",
    "    if lum == 'DARK':\n",
    "        return 0\n",
    "    elif lum == 'LOW_LIGHT':\n",
    "        return 1\n",
    "    elif lum == 'LIGHT':\n",
    "        return 2\n",
    "\n",
    "df_training_conversion['LUMINOSITY'] = df_training_conversion['LUMINOSITY'].apply(convertLuminosity)\n",
    "df_training_conversion['LUMINOSITY'].unique()"
   ]
  },
  {
   "cell_type": "code",
   "execution_count": 77,
   "metadata": {},
   "outputs": [
    {
     "data": {
      "text/html": [
       "<div>\n",
       "<style scoped>\n",
       "    .dataframe tbody tr th:only-of-type {\n",
       "        vertical-align: middle;\n",
       "    }\n",
       "\n",
       "    .dataframe tbody tr th {\n",
       "        vertical-align: top;\n",
       "    }\n",
       "\n",
       "    .dataframe thead th {\n",
       "        text-align: right;\n",
       "    }\n",
       "</style>\n",
       "<table border=\"1\" class=\"dataframe\">\n",
       "  <thead>\n",
       "    <tr style=\"text-align: right;\">\n",
       "      <th></th>\n",
       "      <th>AVERAGE_SPEED_DIFF</th>\n",
       "      <th>AVERAGE_FREE_FLOW_SPEED</th>\n",
       "      <th>AVERAGE_TIME_DIFF</th>\n",
       "      <th>AVERAGE_FREE_FLOW_TIME</th>\n",
       "      <th>LUMINOSITY</th>\n",
       "      <th>AVERAGE_TEMPERATURE</th>\n",
       "      <th>AVERAGE_ATMOSP_PRESSURE</th>\n",
       "      <th>AVERAGE_HUMIDITY</th>\n",
       "      <th>AVERAGE_WIND_SPEED</th>\n",
       "      <th>AVERAGE_SPEED</th>\n",
       "      <th>EVENT</th>\n",
       "      <th>DAY</th>\n",
       "      <th>MONTH</th>\n",
       "      <th>WEEK</th>\n",
       "      <th>HOUR</th>\n",
       "      <th>WEEKEND</th>\n",
       "    </tr>\n",
       "  </thead>\n",
       "  <tbody>\n",
       "    <tr>\n",
       "      <th>0</th>\n",
       "      <td>2</td>\n",
       "      <td>41.5</td>\n",
       "      <td>11.5</td>\n",
       "      <td>71.4</td>\n",
       "      <td>2</td>\n",
       "      <td>15.0</td>\n",
       "      <td>1019.0</td>\n",
       "      <td>100.0</td>\n",
       "      <td>3.0</td>\n",
       "      <td>5.756936</td>\n",
       "      <td>0.0</td>\n",
       "      <td>3</td>\n",
       "      <td>8</td>\n",
       "      <td>35</td>\n",
       "      <td>7</td>\n",
       "      <td>0</td>\n",
       "    </tr>\n",
       "    <tr>\n",
       "      <th>1</th>\n",
       "      <td>3</td>\n",
       "      <td>41.7</td>\n",
       "      <td>48.3</td>\n",
       "      <td>87.4</td>\n",
       "      <td>2</td>\n",
       "      <td>21.0</td>\n",
       "      <td>1021.0</td>\n",
       "      <td>53.0</td>\n",
       "      <td>5.0</td>\n",
       "      <td>14.842373</td>\n",
       "      <td>0.0</td>\n",
       "      <td>4</td>\n",
       "      <td>8</td>\n",
       "      <td>32</td>\n",
       "      <td>14</td>\n",
       "      <td>0</td>\n",
       "    </tr>\n",
       "    <tr>\n",
       "      <th>2</th>\n",
       "      <td>3</td>\n",
       "      <td>38.6</td>\n",
       "      <td>38.4</td>\n",
       "      <td>85.2</td>\n",
       "      <td>2</td>\n",
       "      <td>26.0</td>\n",
       "      <td>1014.0</td>\n",
       "      <td>61.0</td>\n",
       "      <td>4.0</td>\n",
       "      <td>11.992233</td>\n",
       "      <td>0.0</td>\n",
       "      <td>6</td>\n",
       "      <td>9</td>\n",
       "      <td>35</td>\n",
       "      <td>16</td>\n",
       "      <td>1</td>\n",
       "    </tr>\n",
       "    <tr>\n",
       "      <th>3</th>\n",
       "      <td>3</td>\n",
       "      <td>37.4</td>\n",
       "      <td>61.0</td>\n",
       "      <td>94.1</td>\n",
       "      <td>2</td>\n",
       "      <td>18.0</td>\n",
       "      <td>1025.0</td>\n",
       "      <td>48.0</td>\n",
       "      <td>4.0</td>\n",
       "      <td>14.709220</td>\n",
       "      <td>0.0</td>\n",
       "      <td>1</td>\n",
       "      <td>2</td>\n",
       "      <td>9</td>\n",
       "      <td>11</td>\n",
       "      <td>0</td>\n",
       "    </tr>\n",
       "    <tr>\n",
       "      <th>4</th>\n",
       "      <td>2</td>\n",
       "      <td>41.6</td>\n",
       "      <td>50.4</td>\n",
       "      <td>77.0</td>\n",
       "      <td>2</td>\n",
       "      <td>15.0</td>\n",
       "      <td>1008.0</td>\n",
       "      <td>82.0</td>\n",
       "      <td>10.0</td>\n",
       "      <td>16.457143</td>\n",
       "      <td>0.0</td>\n",
       "      <td>3</td>\n",
       "      <td>6</td>\n",
       "      <td>23</td>\n",
       "      <td>12</td>\n",
       "      <td>0</td>\n",
       "    </tr>\n",
       "  </tbody>\n",
       "</table>\n",
       "</div>"
      ],
      "text/plain": [
       "   AVERAGE_SPEED_DIFF  AVERAGE_FREE_FLOW_SPEED  AVERAGE_TIME_DIFF  \\\n",
       "0                   2                     41.5               11.5   \n",
       "1                   3                     41.7               48.3   \n",
       "2                   3                     38.6               38.4   \n",
       "3                   3                     37.4               61.0   \n",
       "4                   2                     41.6               50.4   \n",
       "\n",
       "   AVERAGE_FREE_FLOW_TIME  LUMINOSITY  AVERAGE_TEMPERATURE  \\\n",
       "0                    71.4           2                 15.0   \n",
       "1                    87.4           2                 21.0   \n",
       "2                    85.2           2                 26.0   \n",
       "3                    94.1           2                 18.0   \n",
       "4                    77.0           2                 15.0   \n",
       "\n",
       "   AVERAGE_ATMOSP_PRESSURE  AVERAGE_HUMIDITY  AVERAGE_WIND_SPEED  \\\n",
       "0                   1019.0             100.0                 3.0   \n",
       "1                   1021.0              53.0                 5.0   \n",
       "2                   1014.0              61.0                 4.0   \n",
       "3                   1025.0              48.0                 4.0   \n",
       "4                   1008.0              82.0                10.0   \n",
       "\n",
       "   AVERAGE_SPEED  EVENT  DAY  MONTH  WEEK  HOUR  WEEKEND  \n",
       "0       5.756936    0.0    3      8    35     7        0  \n",
       "1      14.842373    0.0    4      8    32    14        0  \n",
       "2      11.992233    0.0    6      9    35    16        1  \n",
       "3      14.709220    0.0    1      2     9    11        0  \n",
       "4      16.457143    0.0    3      6    23    12        0  "
      ]
     },
     "execution_count": 77,
     "metadata": {},
     "output_type": "execute_result"
    }
   ],
   "source": [
    "df_training_conversion.head()"
   ]
  },
  {
   "cell_type": "markdown",
   "metadata": {
    "id": "VsQQAx6CJM1D"
   },
   "source": [
    "# $\\textbf{Análise das Features}$"
   ]
  },
  {
   "cell_type": "code",
   "execution_count": 78,
   "metadata": {
    "id": "KcOhoG51JRUC"
   },
   "outputs": [],
   "source": [
    "df_training_features = df_training_conversion.copy()\n",
    "\n",
    "df_training_features = df_training_features.drop_duplicates()"
   ]
  },
  {
   "cell_type": "markdown",
   "metadata": {},
   "source": [
    "### $\\textbf{Variância}$"
   ]
  },
  {
   "cell_type": "code",
   "execution_count": 79,
   "metadata": {},
   "outputs": [
    {
     "name": "stdout",
     "output_type": "stream",
     "text": [
      "Variancia: \n",
      "AVERAGE_SPEED_DIFF            1.626845\n",
      "AVERAGE_FREE_FLOW_SPEED      16.966349\n",
      "AVERAGE_TIME_DIFF          1122.954048\n",
      "AVERAGE_FREE_FLOW_TIME       68.797081\n",
      "LUMINOSITY                    0.961058\n",
      "AVERAGE_TEMPERATURE          26.661649\n",
      "AVERAGE_ATMOSP_PRESSURE      33.074697\n",
      "AVERAGE_HUMIDITY            332.656140\n",
      "AVERAGE_WIND_SPEED            4.572842\n",
      "AVERAGE_SPEED                56.242825\n",
      "EVENT                         0.022099\n",
      "DAY                           4.039718\n",
      "MONTH                         8.688312\n",
      "WEEK                        160.447044\n",
      "HOUR                         48.156936\n",
      "WEEKEND                       0.206882\n",
      "dtype: float64\n"
     ]
    }
   ],
   "source": [
    "print(\"Variancia: \")\n",
    "\n",
    "print(df_training_features.var())"
   ]
  },
  {
   "cell_type": "markdown",
   "metadata": {},
   "source": [
    "### $\\textbf{Skewness}$"
   ]
  },
  {
   "cell_type": "code",
   "execution_count": 80,
   "metadata": {},
   "outputs": [
    {
     "name": "stdout",
     "output_type": "stream",
     "text": [
      "Skewness: \n",
      "AVERAGE_SPEED_DIFF         0.395661\n",
      "AVERAGE_FREE_FLOW_SPEED    0.109731\n",
      "AVERAGE_TIME_DIFF          2.042207\n",
      "AVERAGE_FREE_FLOW_TIME    -0.365761\n",
      "LUMINOSITY                -0.011740\n",
      "AVERAGE_TEMPERATURE        0.181833\n",
      "AVERAGE_ATMOSP_PRESSURE   -0.823360\n",
      "AVERAGE_HUMIDITY          -0.966000\n",
      "AVERAGE_WIND_SPEED         0.873479\n",
      "AVERAGE_SPEED              1.082269\n",
      "EVENT                      6.424568\n",
      "DAY                       -0.021310\n",
      "MONTH                     -0.473665\n",
      "WEEK                      -0.474628\n",
      "HOUR                      -0.006174\n",
      "WEEKEND                    0.913646\n",
      "dtype: float64\n"
     ]
    }
   ],
   "source": [
    "print(\"Skewness: \")\n",
    "\n",
    "print(df_training_features.skew())"
   ]
  },
  {
   "cell_type": "markdown",
   "metadata": {},
   "source": [
    "### $\\textbf{Qui-Quadrado}$"
   ]
  },
  {
   "cell_type": "code",
   "execution_count": 81,
   "metadata": {},
   "outputs": [
    {
     "name": "stdout",
     "output_type": "stream",
     "text": [
      "\n",
      "Teste qui-quadrado para a coluna: AVERAGE_FREE_FLOW_SPEED\n",
      "Sao dependentes (rejeita-se hipotese nula)\n",
      "\n",
      "Teste qui-quadrado para a coluna: AVERAGE_TIME_DIFF\n",
      "Sao dependentes (rejeita-se hipotese nula)\n",
      "\n",
      "Teste qui-quadrado para a coluna: AVERAGE_FREE_FLOW_TIME\n",
      "Sao dependentes (rejeita-se hipotese nula)\n",
      "\n",
      "Teste qui-quadrado para a coluna: AVERAGE_TEMPERATURE\n",
      "Sao dependentes (rejeita-se hipotese nula)\n",
      "\n",
      "Teste qui-quadrado para a coluna: LUMINOSITY\n",
      "Sao dependentes (rejeita-se hipotese nula)\n",
      "\n",
      "Teste qui-quadrado para a coluna: AVERAGE_HUMIDITY\n",
      "Sao dependentes (rejeita-se hipotese nula)\n",
      "\n",
      "Teste qui-quadrado para a coluna: AVERAGE_WIND_SPEED\n",
      "Sao dependentes (rejeita-se hipotese nula)\n",
      "\n",
      "Teste qui-quadrado para a coluna: AVERAGE_ATMOSP_PRESSURE\n",
      "Sao dependentes (rejeita-se hipotese nula)\n",
      "\n",
      "Teste qui-quadrado para a coluna: EVENT\n",
      "Sao dependentes (rejeita-se hipotese nula)\n",
      "\n",
      "Teste qui-quadrado para a coluna: DAY\n",
      "Sao dependentes (rejeita-se hipotese nula)\n",
      "\n",
      "Teste qui-quadrado para a coluna: MONTH\n",
      "Sao dependentes (rejeita-se hipotese nula)\n",
      "\n",
      "Teste qui-quadrado para a coluna: WEEK\n",
      "Sao dependentes (rejeita-se hipotese nula)\n",
      "\n",
      "Teste qui-quadrado para a coluna: HOUR\n",
      "Sao dependentes (rejeita-se hipotese nula)\n",
      "\n",
      "Teste qui-quadrado para a coluna: AVERAGE_SPEED\n",
      "Sao independentes (não se rejeita hipotese nula)\n"
     ]
    }
   ],
   "source": [
    "cols = ['AVERAGE_FREE_FLOW_SPEED', 'AVERAGE_TIME_DIFF', 'AVERAGE_FREE_FLOW_TIME',\n",
    "        'AVERAGE_TEMPERATURE', 'LUMINOSITY', 'AVERAGE_HUMIDITY', 'AVERAGE_WIND_SPEED',\n",
    "\t    'AVERAGE_ATMOSP_PRESSURE', 'EVENT', 'DAY', 'MONTH', 'WEEK', 'HOUR', 'AVERAGE_SPEED']\n",
    "\n",
    "def teste_chi2(table, c):\n",
    "    stat, p, dof, expected = chi2_contingency(table)\n",
    "    if p <= (1 - c):\n",
    "        print(\"Sao dependentes (rejeita-se hipotese nula)\")\n",
    "    else:\n",
    "        print(\"Sao independentes (não se rejeita hipotese nula)\")\n",
    "    return expected\n",
    "\n",
    "\n",
    "\n",
    "for col in cols:\n",
    "    print(\"\\nTeste qui-quadrado para a coluna: \" + col)\n",
    "        \n",
    "    valor = teste_chi2(pd.crosstab(df_training_features['AVERAGE_SPEED_DIFF'], df_training_features[col], margins=True), 0.95)"
   ]
  },
  {
   "cell_type": "markdown",
   "metadata": {},
   "source": [
    "### $\\textbf{Correlação}$"
   ]
  },
  {
   "cell_type": "code",
   "execution_count": 82,
   "metadata": {},
   "outputs": [
    {
     "data": {
      "text/plain": [
       "<AxesSubplot:>"
      ]
     },
     "execution_count": 82,
     "metadata": {},
     "output_type": "execute_result"
    },
    {
     "data": {
      "image/png": "[encoded data removed]",
      "text/plain": [
       "<Figure size 1440x1080 with 2 Axes>"
      ]
     },
     "metadata": {
      "needs_background": "light"
     },
     "output_type": "display_data"
    }
   ],
   "source": [
    "plt.figure(figsize=(20,15))\n",
    "sns.heatmap(df_training_features.corr(), vmin = -1, vmax = 1, square = True, annot = True)"
   ]
  },
  {
   "cell_type": "code",
   "execution_count": 83,
   "metadata": {},
   "outputs": [
    {
     "data": {
      "text/plain": [
       "(6812, 16)"
      ]
     },
     "execution_count": 83,
     "metadata": {},
     "output_type": "execute_result"
    }
   ],
   "source": [
    "df_training_features.shape"
   ]
  },
  {
   "cell_type": "markdown",
   "metadata": {},
   "source": [
    "# $\\textbf{Treino do modelo}$"
   ]
  },
  {
   "cell_type": "code",
   "execution_count": 84,
   "metadata": {},
   "outputs": [
    {
     "name": "stdout",
     "output_type": "stream",
     "text": [
      "{'bootstrap': True, 'max_depth': 94, 'max_features': 6, 'n_estimators': 560, 'random_state': 2021}\n",
      "RandomForestClassifier(max_depth=94, max_features=6, n_estimators=560,\n",
      "                       random_state=2021)\n",
      "              precision    recall  f1-score   support\n",
      "\n",
      "           0       0.90      0.90      0.90       465\n",
      "           1       0.70      0.74      0.72       263\n",
      "           2       0.81      0.78      0.79       324\n",
      "           3       0.74      0.79      0.76       211\n",
      "           4       0.95      0.78      0.86       100\n",
      "\n",
      "    accuracy                           0.81      1363\n",
      "   macro avg       0.82      0.80      0.81      1363\n",
      "weighted avg       0.82      0.81      0.82      1363\n",
      "\n",
      "0.814380 accuracy\n"
     ]
    },
    {
     "name": "stderr",
     "output_type": "stream",
     "text": [
      "/home/bruno/anaconda3/envs/env1/lib/python3.8/site-packages/sklearn/utils/deprecation.py:87: FutureWarning: Function plot_confusion_matrix is deprecated; Function `plot_confusion_matrix` is deprecated in 1.0 and will be removed in 1.2. Use one of the class methods: ConfusionMatrixDisplay.from_predictions or ConfusionMatrixDisplay.from_estimator.\n",
      "  warnings.warn(msg, category=FutureWarning)\n"
     ]
    },
    {
     "data": {
      "text/plain": [
       "<sklearn.metrics._plot.confusion_matrix.ConfusionMatrixDisplay at 0x7f78ecb27f70>"
      ]
     },
     "execution_count": 84,
     "metadata": {},
     "output_type": "execute_result"
    },
    {
     "data": {
      "image/png": "[encoded data removed]",
      "text/plain": [
       "<Figure size 432x288 with 2 Axes>"
      ]
     },
     "metadata": {
      "needs_background": "light"
     },
     "output_type": "display_data"
    }
   ],
   "source": [
    "df_training_forest = df_training_features.copy()\n",
    "\n",
    "df_training_forest =  df_training_forest.drop(['AVERAGE_TIME_DIFF'], axis = 1)\n",
    "\n",
    "x = df_training_forest.drop(['AVERAGE_SPEED_DIFF'], axis = 1)\n",
    "y = df_training_forest['AVERAGE_SPEED_DIFF'].to_frame()\n",
    "\n",
    "param_grid = {\n",
    "    'bootstrap': [True],\n",
    "    'max_depth': [94],\n",
    "    'max_features': [6],\n",
    "    'n_estimators': [560],\n",
    "    'random_state': [2021]\n",
    "}\n",
    "\n",
    "rf = RandomForestClassifier()\n",
    "\n",
    "grid = HalvingGridSearchCV(estimator = rf, param_grid = param_grid, cv = 3, n_jobs = -1, factor = 2, refit = True, verbose = 0)\n",
    "\n",
    "x_train, x_test, y_train, y_test = train_test_split(x, np.ravel(y), test_size = 0.2, random_state = 2021)\n",
    "\n",
    "grid.fit(x_train, y_train)\n",
    "\n",
    "print(grid.best_params_)\n",
    "print(grid.best_estimator_)\n",
    "\n",
    "predictions = grid.predict(x_test)\n",
    "\n",
    "print(classification_report(y_test, predictions))\n",
    "\n",
    "print(\"%f accuracy\" %(accuracy_score(y_test, predictions)))\n",
    "\n",
    "plot_confusion_matrix(grid, x_test, y_test)"
   ]
  },
  {
   "cell_type": "markdown",
   "metadata": {},
   "source": [
    "# $\\textbf{Ficheiro de teste e submissão}$"
   ]
  },
  {
   "cell_type": "code",
   "execution_count": 85,
   "metadata": {},
   "outputs": [],
   "source": [
    "df_test = pd.read_csv('../datasets/test_data.csv')"
   ]
  },
  {
   "cell_type": "code",
   "execution_count": 86,
   "metadata": {},
   "outputs": [],
   "source": [
    "for index, values in df_test.iterrows():\n",
    "\n",
    "    df_test.loc[df_test.index[index], 'AVERAGE_SPEED'] = values['AVERAGE_FREE_FLOW_SPEED'] - values['AVERAGE_FREE_FLOW_SPEED'] * values['AVERAGE_FREE_FLOW_TIME'] / (values['AVERAGE_FREE_FLOW_TIME'] + values['AVERAGE_TIME_DIFF'])"
   ]
  },
  {
   "cell_type": "code",
   "execution_count": 87,
   "metadata": {},
   "outputs": [],
   "source": [
    "with open('EncontrosDesportivos.txt', 'r') as f:\n",
    "    aux = f.readlines()\n",
    "    datas = []\n",
    "    \n",
    "    for data in aux:\n",
    "        pair = re.split(r' ', re.sub(r'\\n', '', data))\n",
    "        datas.append((pair[0], pair[1]))\n",
    "\n",
    "    for index, values in df_test.iterrows():\n",
    "        aux = values['record_date'].split()\n",
    "        \n",
    "        if (aux[0], aux[1]) in datas:\n",
    "            df_test.loc[df_test.index[index], 'EVENT'] = 1\n",
    "        else:\n",
    "            df_test.loc[df_test.index[index], 'EVENT'] = 0"
   ]
  },
  {
   "cell_type": "code",
   "execution_count": 88,
   "metadata": {},
   "outputs": [],
   "source": [
    "df_test['LUMINOSITY'] = df_test['LUMINOSITY'].apply(convertLuminosity)\n",
    "\n",
    "df_test['record_date'] = pd.to_datetime(df_test['record_date'])\n",
    "df_test['DAY'] = df_test.record_date.dt.weekday\n",
    "df_test['MONTH'] = df_test.record_date.dt.month\n",
    "df_test['WEEK'] = df_test.record_date.dt.isocalendar().week\n",
    "df_test['HOUR'] = df_test.record_date.dt.hour\n",
    "df_test = df_test.drop(['record_date'], axis = 1)\n",
    "\n",
    "df_test['WEEKEND'] = df_test['DAY'].apply(weekend)\n",
    "\n",
    "df_test = df_test.drop(['city_name', 'AVERAGE_CLOUDINESS', 'AVERAGE_RAIN', 'AVERAGE_PRECIPITATION', 'AVERAGE_TIME_DIFF'], axis = 1)"
   ]
  },
  {
   "cell_type": "code",
   "execution_count": 89,
   "metadata": {},
   "outputs": [
    {
     "data": {
      "text/html": [
       "<div>\n",
       "<style scoped>\n",
       "    .dataframe tbody tr th:only-of-type {\n",
       "        vertical-align: middle;\n",
       "    }\n",
       "\n",
       "    .dataframe tbody tr th {\n",
       "        vertical-align: top;\n",
       "    }\n",
       "\n",
       "    .dataframe thead th {\n",
       "        text-align: right;\n",
       "    }\n",
       "</style>\n",
       "<table border=\"1\" class=\"dataframe\">\n",
       "  <thead>\n",
       "    <tr style=\"text-align: right;\">\n",
       "      <th></th>\n",
       "      <th>AVERAGE_FREE_FLOW_SPEED</th>\n",
       "      <th>AVERAGE_FREE_FLOW_TIME</th>\n",
       "      <th>LUMINOSITY</th>\n",
       "      <th>AVERAGE_TEMPERATURE</th>\n",
       "      <th>AVERAGE_ATMOSP_PRESSURE</th>\n",
       "      <th>AVERAGE_HUMIDITY</th>\n",
       "      <th>AVERAGE_WIND_SPEED</th>\n",
       "      <th>AVERAGE_SPEED</th>\n",
       "      <th>EVENT</th>\n",
       "      <th>DAY</th>\n",
       "      <th>MONTH</th>\n",
       "      <th>WEEK</th>\n",
       "      <th>HOUR</th>\n",
       "      <th>WEEKEND</th>\n",
       "    </tr>\n",
       "  </thead>\n",
       "  <tbody>\n",
       "    <tr>\n",
       "      <th>count</th>\n",
       "      <td>1500.0000</td>\n",
       "      <td>1500.000000</td>\n",
       "      <td>1500.000000</td>\n",
       "      <td>1500.000000</td>\n",
       "      <td>1500.000000</td>\n",
       "      <td>1500.000000</td>\n",
       "      <td>1500.000000</td>\n",
       "      <td>1.500000e+03</td>\n",
       "      <td>1500.000000</td>\n",
       "      <td>1500.000000</td>\n",
       "      <td>1500.000000</td>\n",
       "      <td>1500.000000</td>\n",
       "      <td>1500.000000</td>\n",
       "      <td>1500.000000</td>\n",
       "    </tr>\n",
       "    <tr>\n",
       "      <th>mean</th>\n",
       "      <td>40.8304</td>\n",
       "      <td>81.194333</td>\n",
       "      <td>0.996667</td>\n",
       "      <td>16.104000</td>\n",
       "      <td>1017.457333</td>\n",
       "      <td>80.734000</td>\n",
       "      <td>3.116667</td>\n",
       "      <td>7.687202e+00</td>\n",
       "      <td>0.016667</td>\n",
       "      <td>2.984000</td>\n",
       "      <td>7.105333</td>\n",
       "      <td>29.250000</td>\n",
       "      <td>11.211333</td>\n",
       "      <td>0.284000</td>\n",
       "    </tr>\n",
       "    <tr>\n",
       "      <th>std</th>\n",
       "      <td>4.2396</td>\n",
       "      <td>8.189691</td>\n",
       "      <td>0.985209</td>\n",
       "      <td>5.094293</td>\n",
       "      <td>5.840455</td>\n",
       "      <td>17.729358</td>\n",
       "      <td>2.198699</td>\n",
       "      <td>7.588403e+00</td>\n",
       "      <td>0.128062</td>\n",
       "      <td>1.994257</td>\n",
       "      <td>2.979512</td>\n",
       "      <td>12.768981</td>\n",
       "      <td>6.909305</td>\n",
       "      <td>0.451087</td>\n",
       "    </tr>\n",
       "    <tr>\n",
       "      <th>min</th>\n",
       "      <td>31.0000</td>\n",
       "      <td>48.100000</td>\n",
       "      <td>0.000000</td>\n",
       "      <td>1.000000</td>\n",
       "      <td>985.000000</td>\n",
       "      <td>14.000000</td>\n",
       "      <td>0.000000</td>\n",
       "      <td>-7.105427e-15</td>\n",
       "      <td>0.000000</td>\n",
       "      <td>0.000000</td>\n",
       "      <td>1.000000</td>\n",
       "      <td>3.000000</td>\n",
       "      <td>0.000000</td>\n",
       "      <td>0.000000</td>\n",
       "    </tr>\n",
       "    <tr>\n",
       "      <th>25%</th>\n",
       "      <td>37.5000</td>\n",
       "      <td>75.800000</td>\n",
       "      <td>0.000000</td>\n",
       "      <td>13.000000</td>\n",
       "      <td>1015.000000</td>\n",
       "      <td>72.000000</td>\n",
       "      <td>1.000000</td>\n",
       "      <td>1.264817e+00</td>\n",
       "      <td>0.000000</td>\n",
       "      <td>1.000000</td>\n",
       "      <td>5.000000</td>\n",
       "      <td>20.000000</td>\n",
       "      <td>5.000000</td>\n",
       "      <td>0.000000</td>\n",
       "    </tr>\n",
       "    <tr>\n",
       "      <th>50%</th>\n",
       "      <td>41.0000</td>\n",
       "      <td>82.300000</td>\n",
       "      <td>1.000000</td>\n",
       "      <td>16.000000</td>\n",
       "      <td>1018.000000</td>\n",
       "      <td>86.000000</td>\n",
       "      <td>3.000000</td>\n",
       "      <td>5.260241e+00</td>\n",
       "      <td>0.000000</td>\n",
       "      <td>3.000000</td>\n",
       "      <td>8.000000</td>\n",
       "      <td>32.000000</td>\n",
       "      <td>11.000000</td>\n",
       "      <td>0.000000</td>\n",
       "    </tr>\n",
       "    <tr>\n",
       "      <th>75%</th>\n",
       "      <td>43.9000</td>\n",
       "      <td>87.600000</td>\n",
       "      <td>2.000000</td>\n",
       "      <td>19.000000</td>\n",
       "      <td>1021.000000</td>\n",
       "      <td>93.000000</td>\n",
       "      <td>4.000000</td>\n",
       "      <td>1.232665e+01</td>\n",
       "      <td>0.000000</td>\n",
       "      <td>5.000000</td>\n",
       "      <td>9.000000</td>\n",
       "      <td>39.000000</td>\n",
       "      <td>17.000000</td>\n",
       "      <td>1.000000</td>\n",
       "    </tr>\n",
       "    <tr>\n",
       "      <th>max</th>\n",
       "      <td>56.2000</td>\n",
       "      <td>106.100000</td>\n",
       "      <td>2.000000</td>\n",
       "      <td>32.000000</td>\n",
       "      <td>1033.000000</td>\n",
       "      <td>100.000000</td>\n",
       "      <td>13.000000</td>\n",
       "      <td>3.363346e+01</td>\n",
       "      <td>1.000000</td>\n",
       "      <td>6.000000</td>\n",
       "      <td>12.000000</td>\n",
       "      <td>50.000000</td>\n",
       "      <td>23.000000</td>\n",
       "      <td>1.000000</td>\n",
       "    </tr>\n",
       "  </tbody>\n",
       "</table>\n",
       "</div>"
      ],
      "text/plain": [
       "       AVERAGE_FREE_FLOW_SPEED  AVERAGE_FREE_FLOW_TIME   LUMINOSITY  \\\n",
       "count                1500.0000             1500.000000  1500.000000   \n",
       "mean                   40.8304               81.194333     0.996667   \n",
       "std                     4.2396                8.189691     0.985209   \n",
       "min                    31.0000               48.100000     0.000000   \n",
       "25%                    37.5000               75.800000     0.000000   \n",
       "50%                    41.0000               82.300000     1.000000   \n",
       "75%                    43.9000               87.600000     2.000000   \n",
       "max                    56.2000              106.100000     2.000000   \n",
       "\n",
       "       AVERAGE_TEMPERATURE  AVERAGE_ATMOSP_PRESSURE  AVERAGE_HUMIDITY  \\\n",
       "count          1500.000000              1500.000000       1500.000000   \n",
       "mean             16.104000              1017.457333         80.734000   \n",
       "std               5.094293                 5.840455         17.729358   \n",
       "min               1.000000               985.000000         14.000000   \n",
       "25%              13.000000              1015.000000         72.000000   \n",
       "50%              16.000000              1018.000000         86.000000   \n",
       "75%              19.000000              1021.000000         93.000000   \n",
       "max              32.000000              1033.000000        100.000000   \n",
       "\n",
       "       AVERAGE_WIND_SPEED  AVERAGE_SPEED        EVENT          DAY  \\\n",
       "count         1500.000000   1.500000e+03  1500.000000  1500.000000   \n",
       "mean             3.116667   7.687202e+00     0.016667     2.984000   \n",
       "std              2.198699   7.588403e+00     0.128062     1.994257   \n",
       "min              0.000000  -7.105427e-15     0.000000     0.000000   \n",
       "25%              1.000000   1.264817e+00     0.000000     1.000000   \n",
       "50%              3.000000   5.260241e+00     0.000000     3.000000   \n",
       "75%              4.000000   1.232665e+01     0.000000     5.000000   \n",
       "max             13.000000   3.363346e+01     1.000000     6.000000   \n",
       "\n",
       "             MONTH         WEEK         HOUR      WEEKEND  \n",
       "count  1500.000000  1500.000000  1500.000000  1500.000000  \n",
       "mean      7.105333    29.250000    11.211333     0.284000  \n",
       "std       2.979512    12.768981     6.909305     0.451087  \n",
       "min       1.000000     3.000000     0.000000     0.000000  \n",
       "25%       5.000000    20.000000     5.000000     0.000000  \n",
       "50%       8.000000    32.000000    11.000000     0.000000  \n",
       "75%       9.000000    39.000000    17.000000     1.000000  \n",
       "max      12.000000    50.000000    23.000000     1.000000  "
      ]
     },
     "execution_count": 89,
     "metadata": {},
     "output_type": "execute_result"
    }
   ],
   "source": [
    "df_test.describe()"
   ]
  },
  {
   "cell_type": "code",
   "execution_count": 90,
   "metadata": {},
   "outputs": [
    {
     "data": {
      "text/html": [
       "<div>\n",
       "<style scoped>\n",
       "    .dataframe tbody tr th:only-of-type {\n",
       "        vertical-align: middle;\n",
       "    }\n",
       "\n",
       "    .dataframe tbody tr th {\n",
       "        vertical-align: top;\n",
       "    }\n",
       "\n",
       "    .dataframe thead th {\n",
       "        text-align: right;\n",
       "    }\n",
       "</style>\n",
       "<table border=\"1\" class=\"dataframe\">\n",
       "  <thead>\n",
       "    <tr style=\"text-align: right;\">\n",
       "      <th></th>\n",
       "      <th>AVERAGE_FREE_FLOW_SPEED</th>\n",
       "      <th>AVERAGE_FREE_FLOW_TIME</th>\n",
       "      <th>LUMINOSITY</th>\n",
       "      <th>AVERAGE_TEMPERATURE</th>\n",
       "      <th>AVERAGE_ATMOSP_PRESSURE</th>\n",
       "      <th>AVERAGE_HUMIDITY</th>\n",
       "      <th>AVERAGE_WIND_SPEED</th>\n",
       "      <th>AVERAGE_SPEED</th>\n",
       "      <th>EVENT</th>\n",
       "      <th>DAY</th>\n",
       "      <th>MONTH</th>\n",
       "      <th>WEEK</th>\n",
       "      <th>HOUR</th>\n",
       "      <th>WEEKEND</th>\n",
       "    </tr>\n",
       "  </thead>\n",
       "  <tbody>\n",
       "    <tr>\n",
       "      <th>0</th>\n",
       "      <td>39.2</td>\n",
       "      <td>91.0</td>\n",
       "      <td>0</td>\n",
       "      <td>8.0</td>\n",
       "      <td>1026.0</td>\n",
       "      <td>71.0</td>\n",
       "      <td>1.0</td>\n",
       "      <td>0.000000</td>\n",
       "      <td>0.0</td>\n",
       "      <td>2</td>\n",
       "      <td>2</td>\n",
       "      <td>7</td>\n",
       "      <td>23</td>\n",
       "      <td>0</td>\n",
       "    </tr>\n",
       "    <tr>\n",
       "      <th>1</th>\n",
       "      <td>42.5</td>\n",
       "      <td>76.8</td>\n",
       "      <td>0</td>\n",
       "      <td>11.0</td>\n",
       "      <td>1020.0</td>\n",
       "      <td>93.0</td>\n",
       "      <td>4.0</td>\n",
       "      <td>5.825843</td>\n",
       "      <td>1.0</td>\n",
       "      <td>2</td>\n",
       "      <td>11</td>\n",
       "      <td>48</td>\n",
       "      <td>20</td>\n",
       "      <td>0</td>\n",
       "    </tr>\n",
       "    <tr>\n",
       "      <th>2</th>\n",
       "      <td>45.9</td>\n",
       "      <td>86.3</td>\n",
       "      <td>0</td>\n",
       "      <td>14.0</td>\n",
       "      <td>1017.0</td>\n",
       "      <td>93.0</td>\n",
       "      <td>0.0</td>\n",
       "      <td>0.000000</td>\n",
       "      <td>0.0</td>\n",
       "      <td>1</td>\n",
       "      <td>8</td>\n",
       "      <td>33</td>\n",
       "      <td>5</td>\n",
       "      <td>0</td>\n",
       "    </tr>\n",
       "    <tr>\n",
       "      <th>3</th>\n",
       "      <td>33.2</td>\n",
       "      <td>89.9</td>\n",
       "      <td>2</td>\n",
       "      <td>22.0</td>\n",
       "      <td>1016.0</td>\n",
       "      <td>77.0</td>\n",
       "      <td>4.0</td>\n",
       "      <td>12.121751</td>\n",
       "      <td>0.0</td>\n",
       "      <td>5</td>\n",
       "      <td>7</td>\n",
       "      <td>27</td>\n",
       "      <td>17</td>\n",
       "      <td>1</td>\n",
       "    </tr>\n",
       "    <tr>\n",
       "      <th>4</th>\n",
       "      <td>44.0</td>\n",
       "      <td>85.5</td>\n",
       "      <td>0</td>\n",
       "      <td>12.0</td>\n",
       "      <td>1004.0</td>\n",
       "      <td>100.0</td>\n",
       "      <td>9.0</td>\n",
       "      <td>1.730337</td>\n",
       "      <td>0.0</td>\n",
       "      <td>0</td>\n",
       "      <td>10</td>\n",
       "      <td>42</td>\n",
       "      <td>6</td>\n",
       "      <td>0</td>\n",
       "    </tr>\n",
       "  </tbody>\n",
       "</table>\n",
       "</div>"
      ],
      "text/plain": [
       "   AVERAGE_FREE_FLOW_SPEED  AVERAGE_FREE_FLOW_TIME  LUMINOSITY  \\\n",
       "0                     39.2                    91.0           0   \n",
       "1                     42.5                    76.8           0   \n",
       "2                     45.9                    86.3           0   \n",
       "3                     33.2                    89.9           2   \n",
       "4                     44.0                    85.5           0   \n",
       "\n",
       "   AVERAGE_TEMPERATURE  AVERAGE_ATMOSP_PRESSURE  AVERAGE_HUMIDITY  \\\n",
       "0                  8.0                   1026.0              71.0   \n",
       "1                 11.0                   1020.0              93.0   \n",
       "2                 14.0                   1017.0              93.0   \n",
       "3                 22.0                   1016.0              77.0   \n",
       "4                 12.0                   1004.0             100.0   \n",
       "\n",
       "   AVERAGE_WIND_SPEED  AVERAGE_SPEED  EVENT  DAY  MONTH  WEEK  HOUR  WEEKEND  \n",
       "0                 1.0       0.000000    0.0    2      2     7    23        0  \n",
       "1                 4.0       5.825843    1.0    2     11    48    20        0  \n",
       "2                 0.0       0.000000    0.0    1      8    33     5        0  \n",
       "3                 4.0      12.121751    0.0    5      7    27    17        1  \n",
       "4                 9.0       1.730337    0.0    0     10    42     6        0  "
      ]
     },
     "execution_count": 90,
     "metadata": {},
     "output_type": "execute_result"
    }
   ],
   "source": [
    "df_test.head()"
   ]
  },
  {
   "cell_type": "code",
   "execution_count": 91,
   "metadata": {},
   "outputs": [
    {
     "name": "stdout",
     "output_type": "stream",
     "text": [
      "{'bootstrap': True, 'max_depth': 94, 'max_features': 6, 'n_estimators': 560, 'random_state': 2021}\n",
      "RandomForestClassifier(max_depth=94, max_features=6, n_estimators=560,\n",
      "                       random_state=2021)\n"
     ]
    }
   ],
   "source": [
    "df_training_submission = df_training_features.copy()\n",
    "\n",
    "df_training_submission =  df_training_submission.drop(['AVERAGE_TIME_DIFF'], axis = 1)\n",
    "\n",
    "x = df_training_submission.drop(['AVERAGE_SPEED_DIFF'], axis = 1)\n",
    "y = df_training_submission['AVERAGE_SPEED_DIFF'].to_frame()\n",
    "\n",
    "param_grid = {\n",
    "    'bootstrap': [True],\n",
    "    'max_depth': [94],\n",
    "    'max_features': [6],\n",
    "    'n_estimators': [560],\n",
    "    'random_state': [2021]\n",
    "}\n",
    "\n",
    "rf = RandomForestClassifier()\n",
    "\n",
    "grid = HalvingGridSearchCV(estimator = rf, param_grid = param_grid, cv = 3, n_jobs = -1, factor = 2, refit = True, verbose = 0)\n",
    "\n",
    "grid.fit(x, np.ravel(y))\n",
    "\n",
    "print(grid.best_params_)\n",
    "print(grid.best_estimator_)\n",
    "\n",
    "predictions = grid.predict(df_test)"
   ]
  },
  {
   "cell_type": "code",
   "execution_count": 92,
   "metadata": {},
   "outputs": [
    {
     "name": "stdout",
     "output_type": "stream",
     "text": [
      "Submission file ready!\n"
     ]
    }
   ],
   "source": [
    "with open('../datasets/submission.csv', 'w') as file:\n",
    "    i = 1\n",
    "    file.write('RowId,Speed_Diff\\n')\n",
    "\n",
    "    for elem in predictions:\n",
    "        if elem == 0:\n",
    "            token = 'None'\n",
    "        elif elem == 1:\n",
    "            token = 'Low'\n",
    "        elif elem == 2:\n",
    "            token = 'Medium'\n",
    "        elif elem == 3:\n",
    "            token = 'High'\n",
    "        else:\n",
    "            token = 'Very_High' \n",
    "        file.write(str(i) + ',' + token + '\\n')\n",
    "        i += 1\n",
    "print('Submission file ready!')"
   ]
  },
  {
   "cell_type": "markdown",
   "metadata": {},
   "source": [
    "# $\\textbf{Anexo - Outras tentativas de modelos}$"
   ]
  },
  {
   "cell_type": "markdown",
   "metadata": {},
   "source": [
    "### $\\textbf{SVC}$"
   ]
  },
  {
   "cell_type": "code",
   "execution_count": 123,
   "metadata": {},
   "outputs": [
    {
     "name": "stdout",
     "output_type": "stream",
     "text": [
      "{'C': 10000, 'gamma': 1e-05, 'kernel': 'rbf'}\n",
      "SVC(C=10000, gamma=1e-05, random_state=2021)\n",
      "              precision    recall  f1-score   support\n",
      "\n",
      "           0       0.89      0.91      0.90       465\n",
      "           1       0.67      0.70      0.68       263\n",
      "           2       0.78      0.73      0.75       324\n",
      "           3       0.73      0.76      0.75       211\n",
      "           4       0.89      0.80      0.84       100\n",
      "\n",
      "    accuracy                           0.80      1363\n",
      "   macro avg       0.79      0.78      0.79      1363\n",
      "weighted avg       0.80      0.80      0.80      1363\n",
      "\n",
      "0.796038 accuracy\n"
     ]
    }
   ],
   "source": [
    "df_training_svc = df_training_features.copy()\n",
    "\n",
    "df_training_svc =  df_training_svc.drop(['AVERAGE_TIME_DIFF'], axis = 1)\n",
    "\n",
    "x = df_training_svc.drop(['AVERAGE_SPEED_DIFF'], axis = 1)\n",
    "y = df_training_svc['AVERAGE_SPEED_DIFF'].to_frame()\n",
    "\n",
    "param_grid = [\n",
    "        {'C': [10000], 'gamma': [0.00001], 'kernel': ['rbf']},\n",
    "]\n",
    "\n",
    "x_train, x_test, y_train, y_test = train_test_split(x, np.ravel(y), test_size = 0.2, random_state = 2021)\n",
    "\n",
    "grid = HalvingGridSearchCV(SVC(random_state = 2021), param_grid = param_grid, factor = 2, n_jobs = -1, refit = True, verbose = 0)\n",
    "\n",
    "grid.fit(x_train,y_train)\n",
    "\n",
    "print(grid.best_params_)\n",
    "print(grid.best_estimator_)\n",
    "\n",
    "predictions = grid.predict(x_test)\n",
    "\n",
    "print(classification_report(y_test, predictions))\n",
    "\n",
    "print(\"%f accuracy\" %(accuracy_score(y_test, predictions)))"
   ]
  },
  {
   "cell_type": "markdown",
   "metadata": {},
   "source": [
    "### $\\textbf{XGBRFC}$"
   ]
  },
  {
   "cell_type": "code",
   "execution_count": null,
   "metadata": {},
   "outputs": [],
   "source": [
    "df_training_xgb = df_training_features.copy()\n",
    "\n",
    "df_training_xgb =  df_training_xgb.drop(['AVERAGE_TIME_DIFF', 'WEEK'], axis = 1)\n",
    "\n",
    "x = df_training_xgb.drop(['AVERAGE_SPEED_DIFF'], axis = 1)\n",
    "y = df_training_xgb['AVERAGE_SPEED_DIFF'].to_frame()\n",
    "\n",
    "xgb_model = XGBRFClassifier(use_label_encoder = False, booster = \"gbtree\", objective = \"multi:softmax\", num_class = 5, eval_metric = \"mlogloss\")\n",
    "\n",
    "parameters = {\n",
    "    'max_depth': [3, 4, 5, 6, 7, 8, 9, 10, 11, 12],\n",
    "    'learning_rate': np.arange(0.0001, 0.1, 0.0005),\n",
    "    'colsample_bylevel': np.arange(0.1, 1.0, 0.01),\n",
    "}\n",
    "\n",
    "grid = RandomizedSearchCV(xgb_model, parameters, n_iter = 1, n_jobs = -1, cv = 3, verbose = 0, refit = True)\n",
    "\n",
    "x_train, x_test, y_train, y_test = train_test_split(x, np.ravel(y), test_size = 0.2, random_state = 2021)\n",
    "\n",
    "grid.fit(x_train, y_train)\n",
    "\n",
    "print(grid.best_params_)\n",
    "print(grid.best_estimator_)\n",
    "\n",
    "predictions = grid.predict(x_test)\n",
    "\n",
    "print(classification_report(y_test, predictions))\n",
    "\n",
    "print(\"%f accuracy\" %(accuracy_score(y_test, predictions)))\n",
    "\n",
    "plot_confusion_matrix(grid, x_test, y_test)"
   ]
  },
  {
   "cell_type": "markdown",
   "metadata": {},
   "source": [
    "### $\\textbf{Rede Neuronal}$"
   ]
  },
  {
   "cell_type": "code",
   "execution_count": 101,
   "metadata": {},
   "outputs": [],
   "source": [
    "df_training_neuronal = df_training_features.copy()\n",
    "\n",
    "df_training_neuronal =  df_training_neuronal.drop(['AVERAGE_TIME_DIFF'], axis = 1)\n",
    "\n",
    "x = df_training_neuronal.drop(['AVERAGE_SPEED_DIFF'], axis = 1)\n",
    "y = df_training_neuronal['AVERAGE_SPEED_DIFF'].to_frame()\n",
    "\n",
    "scaler = MinMaxScaler(feature_range=(0, 1))\n",
    "\n",
    "x = df_training_neuronal.drop('AVERAGE_SPEED_DIFF', axis=1)\n",
    "\n",
    "x_scaled = x.copy()\n",
    "x_scaled = scaler.fit_transform(x_scaled)\n",
    "x_scaled = pd.DataFrame(x_scaled)\n",
    "\n",
    "dummy_y = tf.keras.utils.to_categorical(y)"
   ]
  },
  {
   "cell_type": "code",
   "execution_count": 102,
   "metadata": {},
   "outputs": [],
   "source": [
    "def build_model(init, dropout, dense_nparams, learning_rate):\n",
    "    model = Sequential()\n",
    "    model.add(Dense(dense_nparams, activation = 'relu', kernel_initializer = init, input_dim = 14)) \n",
    "    model.add(Dropout(dropout))\n",
    "    model.add(Dense(dense_nparams, kernel_initializer = init, activation = 'relu'))\n",
    "    model.add(Dense(5, kernel_initializer = init, activation = 'softmax'))\n",
    "\n",
    "    model.compile(\n",
    "        loss = 'categorical_crossentropy',\n",
    "        optimizer = tf.optimizers.Adam(learning_rate = learning_rate),\n",
    "        metrics = ['accuracy']\n",
    "    )\n",
    "    \n",
    "    return model"
   ]
  },
  {
   "cell_type": "code",
   "execution_count": 115,
   "metadata": {},
   "outputs": [
    {
     "name": "stderr",
     "output_type": "stream",
     "text": [
      "2022-01-01 22:14:29.419382: I tensorflow/core/platform/cpu_feature_guard.cc:142] This TensorFlow binary is optimized with oneAPI Deep Neural Network Library (oneDNN) to use the following CPU instructions in performance-critical operations:  SSE4.1 SSE4.2 AVX AVX2 FMA\n",
      "To enable them in other operations, rebuild TensorFlow with the appropriate compiler flags.\n",
      "2022-01-01 22:14:29.457399: I tensorflow/core/platform/cpu_feature_guard.cc:142] This TensorFlow binary is optimized with oneAPI Deep Neural Network Library (oneDNN) to use the following CPU instructions in performance-critical operations:  SSE4.1 SSE4.2 AVX AVX2 FMA\n",
      "To enable them in other operations, rebuild TensorFlow with the appropriate compiler flags.\n",
      "2022-01-01 22:14:29.496647: I tensorflow/core/platform/cpu_feature_guard.cc:142] This TensorFlow binary is optimized with oneAPI Deep Neural Network Library (oneDNN) to use the following CPU instructions in performance-critical operations:  SSE4.1 SSE4.2 AVX AVX2 FMA\n",
      "To enable them in other operations, rebuild TensorFlow with the appropriate compiler flags.\n",
      "2022-01-01 22:14:29.516272: I tensorflow/compiler/mlir/mlir_graph_optimization_pass.cc:116] None of the MLIR optimization passes are enabled (registered 2)\n",
      "2022-01-01 22:14:29.535860: I tensorflow/core/platform/profile_utils/cpu_utils.cc:112] CPU Frequency: 2299965000 Hz\n",
      "2022-01-01 22:14:29.548495: I tensorflow/compiler/mlir/mlir_graph_optimization_pass.cc:116] None of the MLIR optimization passes are enabled (registered 2)\n",
      "2022-01-01 22:14:29.548918: I tensorflow/core/platform/profile_utils/cpu_utils.cc:112] CPU Frequency: 2299965000 Hz\n",
      "2022-01-01 22:14:29.598482: I tensorflow/compiler/mlir/mlir_graph_optimization_pass.cc:116] None of the MLIR optimization passes are enabled (registered 2)\n",
      "2022-01-01 22:14:29.598833: I tensorflow/core/platform/profile_utils/cpu_utils.cc:112] CPU Frequency: 2299965000 Hz\n"
     ]
    },
    {
     "name": "stdout",
     "output_type": "stream",
     "text": [
      "{'dense_nparams': 512, 'dropout': 0, 'init': 'normal', 'learning_rate': 0.001}\n",
      "[[408  57   0   0   0]\n",
      " [ 42 195  24   2   0]\n",
      " [  1  37 231  55   0]\n",
      " [  0   2  26 168  15]\n",
      " [  0   0   0  10  90]]\n",
      "              precision    recall  f1-score   support\n",
      "\n",
      "           0       0.90      0.88      0.89       465\n",
      "           1       0.67      0.74      0.70       263\n",
      "           2       0.82      0.71      0.76       324\n",
      "           3       0.71      0.80      0.75       211\n",
      "           4       0.86      0.90      0.88       100\n",
      "\n",
      "    accuracy                           0.80      1363\n",
      "   macro avg       0.79      0.81      0.80      1363\n",
      "weighted avg       0.81      0.80      0.80      1363\n",
      "\n",
      "0.801174 accuracy\n"
     ]
    },
    {
     "name": "stderr",
     "output_type": "stream",
     "text": [
      "/home/bruno/anaconda3/envs/env1/lib/python3.8/site-packages/tensorflow/python/keras/engine/sequential.py:450: UserWarning: `model.predict_classes()` is deprecated and will be removed after 2021-01-01. Please use instead:* `np.argmax(model.predict(x), axis=-1)`,   if your model does multi-class classification   (e.g. if it uses a `softmax` last-layer activation).* `(model.predict(x) > 0.5).astype(\"int32\")`,   if your model does binary classification   (e.g. if it uses a `sigmoid` last-layer activation).\n",
      "  warnings.warn('`model.predict_classes()` is deprecated and '\n"
     ]
    }
   ],
   "source": [
    "x_train, x_test, y_train, y_test = train_test_split(x_scaled, dummy_y, test_size = 0.2, random_state = 2021)\n",
    "\n",
    "param_grid = {\n",
    "    'dense_nparams': [512],\n",
    "    'dropout': [0],\n",
    "    'init': ['normal'],\n",
    "    'learning_rate': [0.001]\n",
    "}\n",
    "\n",
    "clf = KerasClassifier(build_fn = build_model, epochs = 20, batch_size = 20, verbose = 0)\n",
    "\n",
    "grid_search = HalvingGridSearchCV(clf, param_grid, cv = 3, factor = 2, refit = True, n_jobs = -1)\n",
    "\n",
    "grid_search.fit(x_train, y_train)\n",
    "\n",
    "best_model = grid_search.best_estimator_\n",
    "predictions = best_model.predict(x_test)\n",
    "y_test_ = np.argmax(y_test, axis = 1)\n",
    "\n",
    "print(grid_search.best_params_)\n",
    "print(confusion_matrix(y_test_, predictions))\n",
    "print(classification_report(y_test_, predictions))\n",
    "print(\"%f accuracy\" %(accuracy_score(y_test_, predictions)))"
   ]
  }
 ],
 "metadata": {
  "accelerator": "GPU",
  "colab": {
   "collapsed_sections": [],
   "name": "DAA-Trafego-Kaneki.ipynb",
   "provenance": []
  },
  "kernelspec": {
   "display_name": "Python 3",
   "language": "python",
   "name": "python3"
  },
  "language_info": {
   "codemirror_mode": {
    "name": "ipython",
    "version": 3
   },
   "file_extension": ".py",
   "mimetype": "text/x-python",
   "name": "python",
   "nbconvert_exporter": "python",
   "pygments_lexer": "ipython3",
   "version": "3.8.12"
  }
 },
 "nbformat": 4,
 "nbformat_minor": 4
}
